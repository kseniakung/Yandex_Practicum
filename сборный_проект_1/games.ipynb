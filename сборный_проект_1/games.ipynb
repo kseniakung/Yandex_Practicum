{
 "cells": [
  {
   "cell_type": "markdown",
   "id": "2541265e",
   "metadata": {},
   "source": [
    "# Исследование данных о продажах компьютерных игр"
   ]
  },
  {
   "cell_type": "markdown",
   "id": "edd68398",
   "metadata": {},
   "source": [
    "Допустим, мы работаем в интернет-магазине \"Стримчик\", который продает компьютерные игры по всему миру. Из открытых источников доступны исторические данные о продажах игр до 2016 года, оценки пользователей и экспертов, жанры и платформы (например, Xbox или PlayStation). Необходимо выявить определяющие успешность игры закономерности. Это позволит сделать ставку на потенциально популярный продукт и спланировать рекламные кампании на 2017 год."
   ]
  },
  {
   "cell_type": "code",
   "execution_count": 1,
   "id": "a7ffb795",
   "metadata": {},
   "outputs": [],
   "source": [
    "import pandas as pd # загрузим необходимые библиотеки для работы с табличными данными\n",
    "import numpy as np\n",
    "import matplotlib.pyplot as plt \n",
    "from scipy import stats as st"
   ]
  },
  {
   "cell_type": "markdown",
   "id": "daaa68d7",
   "metadata": {},
   "source": [
    "### Откроем файл с данными и изучим общую информацию"
   ]
  },
  {
   "cell_type": "code",
   "execution_count": 2,
   "id": "a96ad72d",
   "metadata": {},
   "outputs": [],
   "source": [
    "try:\n",
    "    df = pd.read_csv('games.csv') # откроем файл\n",
    "except:\n",
    "    df = pd.read_csv('/datasets/games.csv')"
   ]
  },
  {
   "cell_type": "code",
   "execution_count": 3,
   "id": "88faefc4",
   "metadata": {},
   "outputs": [
    {
     "data": {
      "text/html": [
       "<div>\n",
       "<style scoped>\n",
       "    .dataframe tbody tr th:only-of-type {\n",
       "        vertical-align: middle;\n",
       "    }\n",
       "\n",
       "    .dataframe tbody tr th {\n",
       "        vertical-align: top;\n",
       "    }\n",
       "\n",
       "    .dataframe thead th {\n",
       "        text-align: right;\n",
       "    }\n",
       "</style>\n",
       "<table border=\"1\" class=\"dataframe\">\n",
       "  <thead>\n",
       "    <tr style=\"text-align: right;\">\n",
       "      <th></th>\n",
       "      <th>Name</th>\n",
       "      <th>Platform</th>\n",
       "      <th>Year_of_Release</th>\n",
       "      <th>Genre</th>\n",
       "      <th>NA_sales</th>\n",
       "      <th>EU_sales</th>\n",
       "      <th>JP_sales</th>\n",
       "      <th>Other_sales</th>\n",
       "      <th>Critic_Score</th>\n",
       "      <th>User_Score</th>\n",
       "      <th>Rating</th>\n",
       "    </tr>\n",
       "  </thead>\n",
       "  <tbody>\n",
       "    <tr>\n",
       "      <th>0</th>\n",
       "      <td>Wii Sports</td>\n",
       "      <td>Wii</td>\n",
       "      <td>2006.0</td>\n",
       "      <td>Sports</td>\n",
       "      <td>41.36</td>\n",
       "      <td>28.96</td>\n",
       "      <td>3.77</td>\n",
       "      <td>8.45</td>\n",
       "      <td>76.0</td>\n",
       "      <td>8</td>\n",
       "      <td>E</td>\n",
       "    </tr>\n",
       "    <tr>\n",
       "      <th>1</th>\n",
       "      <td>Super Mario Bros.</td>\n",
       "      <td>NES</td>\n",
       "      <td>1985.0</td>\n",
       "      <td>Platform</td>\n",
       "      <td>29.08</td>\n",
       "      <td>3.58</td>\n",
       "      <td>6.81</td>\n",
       "      <td>0.77</td>\n",
       "      <td>NaN</td>\n",
       "      <td>NaN</td>\n",
       "      <td>NaN</td>\n",
       "    </tr>\n",
       "    <tr>\n",
       "      <th>2</th>\n",
       "      <td>Mario Kart Wii</td>\n",
       "      <td>Wii</td>\n",
       "      <td>2008.0</td>\n",
       "      <td>Racing</td>\n",
       "      <td>15.68</td>\n",
       "      <td>12.76</td>\n",
       "      <td>3.79</td>\n",
       "      <td>3.29</td>\n",
       "      <td>82.0</td>\n",
       "      <td>8.3</td>\n",
       "      <td>E</td>\n",
       "    </tr>\n",
       "    <tr>\n",
       "      <th>3</th>\n",
       "      <td>Wii Sports Resort</td>\n",
       "      <td>Wii</td>\n",
       "      <td>2009.0</td>\n",
       "      <td>Sports</td>\n",
       "      <td>15.61</td>\n",
       "      <td>10.93</td>\n",
       "      <td>3.28</td>\n",
       "      <td>2.95</td>\n",
       "      <td>80.0</td>\n",
       "      <td>8</td>\n",
       "      <td>E</td>\n",
       "    </tr>\n",
       "    <tr>\n",
       "      <th>4</th>\n",
       "      <td>Pokemon Red/Pokemon Blue</td>\n",
       "      <td>GB</td>\n",
       "      <td>1996.0</td>\n",
       "      <td>Role-Playing</td>\n",
       "      <td>11.27</td>\n",
       "      <td>8.89</td>\n",
       "      <td>10.22</td>\n",
       "      <td>1.00</td>\n",
       "      <td>NaN</td>\n",
       "      <td>NaN</td>\n",
       "      <td>NaN</td>\n",
       "    </tr>\n",
       "  </tbody>\n",
       "</table>\n",
       "</div>"
      ],
      "text/plain": [
       "                       Name Platform  Year_of_Release         Genre  NA_sales  \\\n",
       "0                Wii Sports      Wii           2006.0        Sports     41.36   \n",
       "1         Super Mario Bros.      NES           1985.0      Platform     29.08   \n",
       "2            Mario Kart Wii      Wii           2008.0        Racing     15.68   \n",
       "3         Wii Sports Resort      Wii           2009.0        Sports     15.61   \n",
       "4  Pokemon Red/Pokemon Blue       GB           1996.0  Role-Playing     11.27   \n",
       "\n",
       "   EU_sales  JP_sales  Other_sales  Critic_Score User_Score Rating  \n",
       "0     28.96      3.77         8.45          76.0          8      E  \n",
       "1      3.58      6.81         0.77           NaN        NaN    NaN  \n",
       "2     12.76      3.79         3.29          82.0        8.3      E  \n",
       "3     10.93      3.28         2.95          80.0          8      E  \n",
       "4      8.89     10.22         1.00           NaN        NaN    NaN  "
      ]
     },
     "execution_count": 3,
     "metadata": {},
     "output_type": "execute_result"
    }
   ],
   "source": [
    "df.head() # выведем первые 5 строк датафрейма на экран"
   ]
  },
  {
   "cell_type": "markdown",
   "id": "f2c577b5",
   "metadata": {},
   "source": [
    "#### Названия столбцов приведем к нижнему регистру"
   ]
  },
  {
   "cell_type": "code",
   "execution_count": 4,
   "id": "283a663b",
   "metadata": {},
   "outputs": [
    {
     "data": {
      "text/plain": [
       "Index(['name', 'platform', 'year_of_release', 'genre', 'na_sales', 'eu_sales',\n",
       "       'jp_sales', 'other_sales', 'critic_score', 'user_score', 'rating'],\n",
       "      dtype='object')"
      ]
     },
     "execution_count": 4,
     "metadata": {},
     "output_type": "execute_result"
    }
   ],
   "source": [
    "df.columns = df.columns.str.lower() \n",
    "df.columns"
   ]
  },
  {
   "cell_type": "code",
   "execution_count": 5,
   "id": "f0e02816",
   "metadata": {},
   "outputs": [
    {
     "name": "stdout",
     "output_type": "stream",
     "text": [
      "<class 'pandas.core.frame.DataFrame'>\n",
      "RangeIndex: 16715 entries, 0 to 16714\n",
      "Data columns (total 11 columns):\n",
      " #   Column           Non-Null Count  Dtype  \n",
      "---  ------           --------------  -----  \n",
      " 0   name             16713 non-null  object \n",
      " 1   platform         16715 non-null  object \n",
      " 2   year_of_release  16446 non-null  float64\n",
      " 3   genre            16713 non-null  object \n",
      " 4   na_sales         16715 non-null  float64\n",
      " 5   eu_sales         16715 non-null  float64\n",
      " 6   jp_sales         16715 non-null  float64\n",
      " 7   other_sales      16715 non-null  float64\n",
      " 8   critic_score     8137 non-null   float64\n",
      " 9   user_score       10014 non-null  object \n",
      " 10  rating           9949 non-null   object \n",
      "dtypes: float64(6), object(5)\n",
      "memory usage: 1.4+ MB\n"
     ]
    }
   ],
   "source": [
    "df.info() # выведем на экран общую информацию"
   ]
  },
  {
   "cell_type": "markdown",
   "id": "2fc1ac09",
   "metadata": {},
   "source": [
    "В данных есть несколько столбцов с пропусками, особенно много пропусков в столбцах с рейтингами. Кроме того, необходимо поменять типы данных в столбцах \"year_of_release\" и \"user_score\"."
   ]
  },
  {
   "cell_type": "markdown",
   "id": "4eae7501",
   "metadata": {},
   "source": [
    "### Подготовим данные к анализу"
   ]
  },
  {
   "cell_type": "markdown",
   "id": "2a31d67a",
   "metadata": {},
   "source": [
    "#### Исследуем столбцы на наличие пропусков"
   ]
  },
  {
   "cell_type": "code",
   "execution_count": 6,
   "id": "aa447551",
   "metadata": {},
   "outputs": [
    {
     "data": {
      "text/html": [
       "<div>\n",
       "<style scoped>\n",
       "    .dataframe tbody tr th:only-of-type {\n",
       "        vertical-align: middle;\n",
       "    }\n",
       "\n",
       "    .dataframe tbody tr th {\n",
       "        vertical-align: top;\n",
       "    }\n",
       "\n",
       "    .dataframe thead th {\n",
       "        text-align: right;\n",
       "    }\n",
       "</style>\n",
       "<table border=\"1\" class=\"dataframe\">\n",
       "  <thead>\n",
       "    <tr style=\"text-align: right;\">\n",
       "      <th></th>\n",
       "      <th>name</th>\n",
       "      <th>platform</th>\n",
       "      <th>year_of_release</th>\n",
       "      <th>genre</th>\n",
       "      <th>na_sales</th>\n",
       "      <th>eu_sales</th>\n",
       "      <th>jp_sales</th>\n",
       "      <th>other_sales</th>\n",
       "      <th>critic_score</th>\n",
       "      <th>user_score</th>\n",
       "      <th>rating</th>\n",
       "    </tr>\n",
       "  </thead>\n",
       "  <tbody>\n",
       "    <tr>\n",
       "      <th>183</th>\n",
       "      <td>Madden NFL 2004</td>\n",
       "      <td>PS2</td>\n",
       "      <td>NaN</td>\n",
       "      <td>Sports</td>\n",
       "      <td>4.26</td>\n",
       "      <td>0.26</td>\n",
       "      <td>0.01</td>\n",
       "      <td>0.71</td>\n",
       "      <td>94.0</td>\n",
       "      <td>8.5</td>\n",
       "      <td>E</td>\n",
       "    </tr>\n",
       "    <tr>\n",
       "      <th>377</th>\n",
       "      <td>FIFA Soccer 2004</td>\n",
       "      <td>PS2</td>\n",
       "      <td>NaN</td>\n",
       "      <td>Sports</td>\n",
       "      <td>0.59</td>\n",
       "      <td>2.36</td>\n",
       "      <td>0.04</td>\n",
       "      <td>0.51</td>\n",
       "      <td>84.0</td>\n",
       "      <td>6.4</td>\n",
       "      <td>E</td>\n",
       "    </tr>\n",
       "    <tr>\n",
       "      <th>456</th>\n",
       "      <td>LEGO Batman: The Videogame</td>\n",
       "      <td>Wii</td>\n",
       "      <td>NaN</td>\n",
       "      <td>Action</td>\n",
       "      <td>1.80</td>\n",
       "      <td>0.97</td>\n",
       "      <td>0.00</td>\n",
       "      <td>0.29</td>\n",
       "      <td>74.0</td>\n",
       "      <td>7.9</td>\n",
       "      <td>E10+</td>\n",
       "    </tr>\n",
       "    <tr>\n",
       "      <th>475</th>\n",
       "      <td>wwe Smackdown vs. Raw 2006</td>\n",
       "      <td>PS2</td>\n",
       "      <td>NaN</td>\n",
       "      <td>Fighting</td>\n",
       "      <td>1.57</td>\n",
       "      <td>1.02</td>\n",
       "      <td>0.00</td>\n",
       "      <td>0.41</td>\n",
       "      <td>NaN</td>\n",
       "      <td>NaN</td>\n",
       "      <td>NaN</td>\n",
       "    </tr>\n",
       "    <tr>\n",
       "      <th>609</th>\n",
       "      <td>Space Invaders</td>\n",
       "      <td>2600</td>\n",
       "      <td>NaN</td>\n",
       "      <td>Shooter</td>\n",
       "      <td>2.36</td>\n",
       "      <td>0.14</td>\n",
       "      <td>0.00</td>\n",
       "      <td>0.03</td>\n",
       "      <td>NaN</td>\n",
       "      <td>NaN</td>\n",
       "      <td>NaN</td>\n",
       "    </tr>\n",
       "    <tr>\n",
       "      <th>...</th>\n",
       "      <td>...</td>\n",
       "      <td>...</td>\n",
       "      <td>...</td>\n",
       "      <td>...</td>\n",
       "      <td>...</td>\n",
       "      <td>...</td>\n",
       "      <td>...</td>\n",
       "      <td>...</td>\n",
       "      <td>...</td>\n",
       "      <td>...</td>\n",
       "      <td>...</td>\n",
       "    </tr>\n",
       "    <tr>\n",
       "      <th>16373</th>\n",
       "      <td>PDC World Championship Darts 2008</td>\n",
       "      <td>PSP</td>\n",
       "      <td>NaN</td>\n",
       "      <td>Sports</td>\n",
       "      <td>0.01</td>\n",
       "      <td>0.00</td>\n",
       "      <td>0.00</td>\n",
       "      <td>0.00</td>\n",
       "      <td>43.0</td>\n",
       "      <td>tbd</td>\n",
       "      <td>E10+</td>\n",
       "    </tr>\n",
       "    <tr>\n",
       "      <th>16405</th>\n",
       "      <td>Freaky Flyers</td>\n",
       "      <td>GC</td>\n",
       "      <td>NaN</td>\n",
       "      <td>Racing</td>\n",
       "      <td>0.01</td>\n",
       "      <td>0.00</td>\n",
       "      <td>0.00</td>\n",
       "      <td>0.00</td>\n",
       "      <td>69.0</td>\n",
       "      <td>6.5</td>\n",
       "      <td>T</td>\n",
       "    </tr>\n",
       "    <tr>\n",
       "      <th>16448</th>\n",
       "      <td>Inversion</td>\n",
       "      <td>PC</td>\n",
       "      <td>NaN</td>\n",
       "      <td>Shooter</td>\n",
       "      <td>0.01</td>\n",
       "      <td>0.00</td>\n",
       "      <td>0.00</td>\n",
       "      <td>0.00</td>\n",
       "      <td>59.0</td>\n",
       "      <td>6.7</td>\n",
       "      <td>M</td>\n",
       "    </tr>\n",
       "    <tr>\n",
       "      <th>16458</th>\n",
       "      <td>Hakuouki: Shinsengumi Kitan</td>\n",
       "      <td>PS3</td>\n",
       "      <td>NaN</td>\n",
       "      <td>Adventure</td>\n",
       "      <td>0.01</td>\n",
       "      <td>0.00</td>\n",
       "      <td>0.00</td>\n",
       "      <td>0.00</td>\n",
       "      <td>NaN</td>\n",
       "      <td>NaN</td>\n",
       "      <td>NaN</td>\n",
       "    </tr>\n",
       "    <tr>\n",
       "      <th>16522</th>\n",
       "      <td>Virtua Quest</td>\n",
       "      <td>GC</td>\n",
       "      <td>NaN</td>\n",
       "      <td>Role-Playing</td>\n",
       "      <td>0.01</td>\n",
       "      <td>0.00</td>\n",
       "      <td>0.00</td>\n",
       "      <td>0.00</td>\n",
       "      <td>55.0</td>\n",
       "      <td>5.5</td>\n",
       "      <td>T</td>\n",
       "    </tr>\n",
       "  </tbody>\n",
       "</table>\n",
       "<p>269 rows × 11 columns</p>\n",
       "</div>"
      ],
      "text/plain": [
       "                                    name platform  year_of_release  \\\n",
       "183                      Madden NFL 2004      PS2              NaN   \n",
       "377                     FIFA Soccer 2004      PS2              NaN   \n",
       "456           LEGO Batman: The Videogame      Wii              NaN   \n",
       "475           wwe Smackdown vs. Raw 2006      PS2              NaN   \n",
       "609                       Space Invaders     2600              NaN   \n",
       "...                                  ...      ...              ...   \n",
       "16373  PDC World Championship Darts 2008      PSP              NaN   \n",
       "16405                      Freaky Flyers       GC              NaN   \n",
       "16448                          Inversion       PC              NaN   \n",
       "16458        Hakuouki: Shinsengumi Kitan      PS3              NaN   \n",
       "16522                       Virtua Quest       GC              NaN   \n",
       "\n",
       "              genre  na_sales  eu_sales  jp_sales  other_sales  critic_score  \\\n",
       "183          Sports      4.26      0.26      0.01         0.71          94.0   \n",
       "377          Sports      0.59      2.36      0.04         0.51          84.0   \n",
       "456          Action      1.80      0.97      0.00         0.29          74.0   \n",
       "475        Fighting      1.57      1.02      0.00         0.41           NaN   \n",
       "609         Shooter      2.36      0.14      0.00         0.03           NaN   \n",
       "...             ...       ...       ...       ...          ...           ...   \n",
       "16373        Sports      0.01      0.00      0.00         0.00          43.0   \n",
       "16405        Racing      0.01      0.00      0.00         0.00          69.0   \n",
       "16448       Shooter      0.01      0.00      0.00         0.00          59.0   \n",
       "16458     Adventure      0.01      0.00      0.00         0.00           NaN   \n",
       "16522  Role-Playing      0.01      0.00      0.00         0.00          55.0   \n",
       "\n",
       "      user_score rating  \n",
       "183          8.5      E  \n",
       "377          6.4      E  \n",
       "456          7.9   E10+  \n",
       "475          NaN    NaN  \n",
       "609          NaN    NaN  \n",
       "...          ...    ...  \n",
       "16373        tbd   E10+  \n",
       "16405        6.5      T  \n",
       "16448        6.7      M  \n",
       "16458        NaN    NaN  \n",
       "16522        5.5      T  \n",
       "\n",
       "[269 rows x 11 columns]"
      ]
     },
     "execution_count": 6,
     "metadata": {},
     "output_type": "execute_result"
    }
   ],
   "source": [
    "df[df['year_of_release'].isna()] # выведем строки с играми, дата релиза которых неизвестна"
   ]
  },
  {
   "cell_type": "code",
   "execution_count": 7,
   "id": "4039d4ed",
   "metadata": {
    "scrolled": true
   },
   "outputs": [
    {
     "data": {
      "text/plain": [
       "array(['Madden NFL 2004', 'FIFA Soccer 2004',\n",
       "       'LEGO Batman: The Videogame', 'wwe Smackdown vs. Raw 2006',\n",
       "       'Space Invaders', 'Rock Band',\n",
       "       \"Frogger's Adventures: Temple of the Frog\",\n",
       "       'LEGO Indiana Jones: The Original Adventures', 'Call of Duty 3',\n",
       "       'Call of Duty: Black Ops', 'Triple Play 99', 'Adventure', 'Combat',\n",
       "       'LEGO Harry Potter: Years 5-7', 'NASCAR Thunder 2003',\n",
       "       'Hitman 2: Silent Assassin', 'Legacy of Kain: Soul Reaver',\n",
       "       'Donkey Kong Land III', 'Air-Sea Battle', 'Suikoden III',\n",
       "       'Wheel of Fortune', 'Yakuza 4', 'Namco Museum', 'Rhythm Heaven',\n",
       "       'The Lord of the Rings: War in the North', 'Madden NFL 07',\n",
       "       'MLB SlugFest 20-03', 'Shaun White Snowboarding',\n",
       "       'PES 2009: Pro Evolution Soccer', 'WarioWare: Twisted!',\n",
       "       'Madden NFL 11', 'Test Drive Unlimited 2',\n",
       "       'The Chronicles of Narnia: The Lion, The Witch and The Wardrobe',\n",
       "       'Monster Hunter 2', 'Metal Gear Solid 2: Substance',\n",
       "       'Advance Wars: Days of Ruin', 'The Golden Compass',\n",
       "       'Madden NFL 06', 'NASCAR: Dirt to Daytona', 'Madden NFL 2002',\n",
       "       'Def Jam: Fight for NY', 'NBA Street Vol. 2', 'Fishing Derby',\n",
       "       'Wet', 'Sonic the Hedgehog', 'Karate', 'Tiger Woods PGA Tour 07',\n",
       "       'Circus Atari',\n",
       "       'The Chronicles of Riddick: Escape from Butcher Bay',\n",
       "       \"Maze Craze: A Game of Cops 'n Robbers\", 'Silent Hill: Homecoming',\n",
       "       'Super Breakout', \"Robert Ludlum's The Bourne Conspiracy\",\n",
       "       'NHL Slapshot', 'TERA', 'NFL GameDay 2003',\n",
       "       'Harvest Moon: Save the Homeland', 'Hangman', 'NBA Live 2003',\n",
       "       \"Cubix Robots for Everyone: Clash 'n' Bash\",\n",
       "       'Dragon Ball Z: Budokai Tenkaichi 2 (JP sales)', 'Tropico 4',\n",
       "       'Tomb Raider (2013)', 'Bejeweled 3', 'Custom Robo',\n",
       "       'Final Fantasy XI', 'Singularity', 'Dragster',\n",
       "       'All-Star Baseball 2005', 'Star Wars Jedi Knight II: Jedi Outcast',\n",
       "       'Slot Machine', 'The Dukes of Hazzard II: Daisy Dukes It Out',\n",
       "       'Harvest Moon: The Tale of Two Towns', 'Shrek the Third',\n",
       "       'Nicktoons: Battle for Volcano Island', 'Haven: Call of the King',\n",
       "       'Unreal Championship 2: The Liandri Conflict', 'Pac-Man Fever',\n",
       "       'The Legend of Zelda: The Minish Cap(weekly JP sales)', 'Indy 500',\n",
       "       'Disgaea 3: Absence of Detention', 'Flag Capture', 'Gun',\n",
       "       'Rock Revolution', 'College Hoops 2K6',\n",
       "       'Jonah Lomu Rugby Challenge', 'Mega Man X Collection',\n",
       "       'BioShock 2', 'Danganronpa: Trigger Happy Havoc', 'Jet X20',\n",
       "       \"Tony Hawk's Downhill Jam\", 'Tribes: Aerial Assault',\n",
       "       'Big Beach Sports 2', 'Yu Yu Hakusho: Dark Tournament',\n",
       "       'Ghostbusters II', 'Breakaway IV', 'Robotech: Battlecry',\n",
       "       'Move Fitness', 'Valkyria Chronicles III: Unrecorded Chronicles',\n",
       "       'DanceDanceRevolution II', 'WRC: FIA World Rally Championship',\n",
       "       'Famista 64', 'Dead Space 3', 'Pet Zombies', 'Star Trek: Legacy',\n",
       "       'Backbreaker', 'Twisted Metal: Small Brawl', 'Otomedius Excellent',\n",
       "       'NBA Starting Five', 'Teen Titans', 'Trauma Team',\n",
       "       \"James Cameron's Dark Angel\", 'Sword of the Samurai',\n",
       "       'Splatterhouse', 'Alone in the Dark: The New Nightmare',\n",
       "       'Vegas Party', 'Jurassic Park: The Game', 'Home Run',\n",
       "       'eJay Clubworld', 'Our House Party!', 'WCW Backstage Assault',\n",
       "       \"Disney's Cinderella: Magical Dreams\", 'Transworld Surf',\n",
       "       'Street Fighter IV', 'Nintendo Puzzle Collection',\n",
       "       'Charm Girls Club: My Fashion Mall', 'Record of Agarest War Zero',\n",
       "       'Rocksmith',\n",
       "       'Super Robot Wars OG Saga: Masou Kishin II - Revelation of Evil God',\n",
       "       'Saru! Get You! Million Monkeys', 'Street Hoops',\n",
       "       'Godzilla: Destroy All Monsters Melee',\n",
       "       'The Daring Game for Girls', 'Major League Baseball 2K6',\n",
       "       'Star Trek: Conquest', 'GiFTPiA', 'Happy Feet Two',\n",
       "       \"Disney's Chicken Little: Ace In Action\",\n",
       "       'Atsumare! Power Pro Kun no DS Koushien',\n",
       "       'My Healthy Cooking Coach', 'Luminous Arc 2 (JP sales)',\n",
       "       'Egg Monster Hero', 'Demon Chaos', 'Samurai Shodown Anthology',\n",
       "       'Action Man-Operation Extreme', 'Super Puzzle Fighter II',\n",
       "       'Charm Girls Club: My Fashion Show', 'Face Racers: Photo Finish',\n",
       "       'Zero: Tsukihami no Kamen', 'The Hidden', 'Get Fit with Mel B',\n",
       "       'Mega Man Battle Network: Operation Shooting Star',\n",
       "       'Smashing Drive', 'Port Royale 3', 'Dream Trigger 3D',\n",
       "       'Dead Island: Riptide', 'Yoostar on MTV', 'Tornado',\n",
       "       \"McFarlane's Evil Prophecy\", 'Drake of the 99 Dragons',\n",
       "       'Build-A-Bear Workshop: Friendship Valley', 'Rayman Arena',\n",
       "       'National Geographic Challenge!', 'Alex Rider: Stormbreaker',\n",
       "       'Chou Soujuu Mecha MG',\n",
       "       'Prinny: Can I Really Be The Hero? (US sales)',\n",
       "       'Combat Elite: WWII Paratroopers', \"Flip's Twisted World\",\n",
       "       'Mobile Ops: The One Year War',\n",
       "       \"Tom Clancy's Rainbow Six: Critical Hour\",\n",
       "       'Jewel Link Chronicles: Mountains of Madness',\n",
       "       'Captain America: Super Soldier', 'Mountain Bike Adrenaline',\n",
       "       'Drill Dozer', 'GRID', 'Tour de France 2011',\n",
       "       'Reader Rabbit 2nd Grade', 'Monster Hunter Frontier Online',\n",
       "       'RollerCoaster Tycoon', 'Battle vs. Chess',\n",
       "       'The History Channel: Great Battles - Medieval',\n",
       "       'Clockwork Empires', 'B.L.U.E.: Legend of Water', 'NHL Hitz Pro',\n",
       "       \"Luxor: Pharaoh's Challenge\", 'Sega Rally 2006',\n",
       "       'Half-Minute Hero 2', 'Housekeeping', 'Major League Baseball 2K8',\n",
       "       'Sabre Wulf', 'Swords', 'Beyond the Labyrinth',\n",
       "       'Bikkuriman Daijiten', 'Majesty 2: The Fantasy Kingdom Sim',\n",
       "       'Fullmetal Alchemist: Brotherhood',\n",
       "       'Samurai Spirits: Tenkaichi Kenkakuden', 'World of Tanks',\n",
       "       'Tom and Jerry in War of the Whiskers', 'Super Duper Sumos',\n",
       "       'The King of Fighters: Maximum Impact - Maniax',\n",
       "       'Combat Wings: The Great Battles of WWII', 'Tube Slider',\n",
       "       'Umineko no Naku Koro ni San: Shinjitsu to Gensou no Yasoukyoku',\n",
       "       'Payout Poker & Casino', 'Wii de Asobu: Metroid Prime',\n",
       "       'Legacy of Ys: Books I & II', 'Saint', 'Steal Princess',\n",
       "       'Mario Tennis', 'Runaway: A Twist of Fate',\n",
       "       \"Yu-Gi-Oh! 5D's Wheelie Breakers (JP sales)\",\n",
       "       \"Cabela's Alaskan Adventure\",\n",
       "       'Writing and Speaking Beautiful Japanese DS', 'Virtua Quest',\n",
       "       \"Shonen Jump's Yu-Gi-Oh! GX Card Almanac\", 'Without Warning',\n",
       "       'PDC World Championship Darts 2008',\n",
       "       'Dinotopia: The Sunstone Odyssey', 'Jet Impulse', 'Dream Dancer',\n",
       "       \"Dance! It's Your Stage\", 'Football Manager 2007',\n",
       "       'Ferrari: The Race Experience', 'Aquaman: Battle for Atlantis',\n",
       "       'Homeworld Remastered Collection', 'Shorts',\n",
       "       'AKB1/48: Idol to Guam de Koishitara...',\n",
       "       'Brothers in Arms: Furious 4', 'Agarest Senki: Re-appearance',\n",
       "       'Freaky Flyers', 'Inversion', 'Hakuouki: Shinsengumi Kitan'],\n",
       "      dtype=object)"
      ]
     },
     "execution_count": 7,
     "metadata": {},
     "output_type": "execute_result"
    }
   ],
   "source": [
    "df[df['year_of_release'].isna()]['name'].unique() # изучим игры с пропусками в дате релиза"
   ]
  },
  {
   "cell_type": "markdown",
   "id": "42586ac4",
   "metadata": {},
   "source": [
    "Изучив игры с пропусками в дате выхода, стало известно, что даты релиза данных игр - более чем 10-летней давности(примерно от 1977 года до 2007). Данный период времени не актуален для нашего анализа. Следовательно, строки с такими играми можно удалить.\\\n",
    "Кроме того, удалим по 2 строки в столбцах 'name' и 'genre'. Строки с играми без названия непригодны к анализу."
   ]
  },
  {
   "cell_type": "code",
   "execution_count": 8,
   "id": "2035160f",
   "metadata": {},
   "outputs": [],
   "source": [
    "df = df.dropna(subset=['year_of_release','name','genre'])"
   ]
  },
  {
   "cell_type": "code",
   "execution_count": 9,
   "id": "0fd8ac83",
   "metadata": {},
   "outputs": [
    {
     "data": {
      "text/plain": [
       "0"
      ]
     },
     "execution_count": 9,
     "metadata": {},
     "output_type": "execute_result"
    }
   ],
   "source": [
    "df['year_of_release'].isna().sum()"
   ]
  },
  {
   "cell_type": "markdown",
   "id": "c52c1693",
   "metadata": {},
   "source": [
    "Перейдем к столбцу 'user_score'. Тип столбца - *object*, из-за того, что в столбце присутствуют значения tbd. Аббревиатура tbd расшифровывается как *to be determined*, то есть *ещё не определен*.Не определен, значит, отсутствует. Вычислить такой рейтинг самостоятельно не получится; удалить такие строки тоже нельзя, так как их достаточно много. Заменим tbd на NaN, тогда мы сможем поменять тип столбца с *object* на *float*.  "
   ]
  },
  {
   "cell_type": "code",
   "execution_count": 10,
   "id": "5bdad933",
   "metadata": {},
   "outputs": [
    {
     "data": {
      "text/html": [
       "<div>\n",
       "<style scoped>\n",
       "    .dataframe tbody tr th:only-of-type {\n",
       "        vertical-align: middle;\n",
       "    }\n",
       "\n",
       "    .dataframe tbody tr th {\n",
       "        vertical-align: top;\n",
       "    }\n",
       "\n",
       "    .dataframe thead th {\n",
       "        text-align: right;\n",
       "    }\n",
       "</style>\n",
       "<table border=\"1\" class=\"dataframe\">\n",
       "  <thead>\n",
       "    <tr style=\"text-align: right;\">\n",
       "      <th></th>\n",
       "      <th>name</th>\n",
       "      <th>platform</th>\n",
       "      <th>year_of_release</th>\n",
       "      <th>genre</th>\n",
       "      <th>na_sales</th>\n",
       "      <th>eu_sales</th>\n",
       "      <th>jp_sales</th>\n",
       "      <th>other_sales</th>\n",
       "      <th>critic_score</th>\n",
       "      <th>user_score</th>\n",
       "      <th>rating</th>\n",
       "    </tr>\n",
       "  </thead>\n",
       "  <tbody>\n",
       "    <tr>\n",
       "      <th>119</th>\n",
       "      <td>Zumba Fitness</td>\n",
       "      <td>Wii</td>\n",
       "      <td>2010.0</td>\n",
       "      <td>Sports</td>\n",
       "      <td>3.45</td>\n",
       "      <td>2.59</td>\n",
       "      <td>0.0</td>\n",
       "      <td>0.66</td>\n",
       "      <td>NaN</td>\n",
       "      <td>tbd</td>\n",
       "      <td>E</td>\n",
       "    </tr>\n",
       "    <tr>\n",
       "      <th>301</th>\n",
       "      <td>Namco Museum: 50th Anniversary</td>\n",
       "      <td>PS2</td>\n",
       "      <td>2005.0</td>\n",
       "      <td>Misc</td>\n",
       "      <td>2.08</td>\n",
       "      <td>1.35</td>\n",
       "      <td>0.0</td>\n",
       "      <td>0.54</td>\n",
       "      <td>61.0</td>\n",
       "      <td>tbd</td>\n",
       "      <td>E10+</td>\n",
       "    </tr>\n",
       "    <tr>\n",
       "      <th>520</th>\n",
       "      <td>Zumba Fitness 2</td>\n",
       "      <td>Wii</td>\n",
       "      <td>2011.0</td>\n",
       "      <td>Sports</td>\n",
       "      <td>1.51</td>\n",
       "      <td>1.03</td>\n",
       "      <td>0.0</td>\n",
       "      <td>0.27</td>\n",
       "      <td>NaN</td>\n",
       "      <td>tbd</td>\n",
       "      <td>T</td>\n",
       "    </tr>\n",
       "    <tr>\n",
       "      <th>645</th>\n",
       "      <td>uDraw Studio</td>\n",
       "      <td>Wii</td>\n",
       "      <td>2010.0</td>\n",
       "      <td>Misc</td>\n",
       "      <td>1.65</td>\n",
       "      <td>0.57</td>\n",
       "      <td>0.0</td>\n",
       "      <td>0.20</td>\n",
       "      <td>71.0</td>\n",
       "      <td>tbd</td>\n",
       "      <td>E</td>\n",
       "    </tr>\n",
       "    <tr>\n",
       "      <th>718</th>\n",
       "      <td>Just Dance Kids</td>\n",
       "      <td>Wii</td>\n",
       "      <td>2010.0</td>\n",
       "      <td>Misc</td>\n",
       "      <td>1.52</td>\n",
       "      <td>0.54</td>\n",
       "      <td>0.0</td>\n",
       "      <td>0.18</td>\n",
       "      <td>NaN</td>\n",
       "      <td>tbd</td>\n",
       "      <td>E</td>\n",
       "    </tr>\n",
       "    <tr>\n",
       "      <th>...</th>\n",
       "      <td>...</td>\n",
       "      <td>...</td>\n",
       "      <td>...</td>\n",
       "      <td>...</td>\n",
       "      <td>...</td>\n",
       "      <td>...</td>\n",
       "      <td>...</td>\n",
       "      <td>...</td>\n",
       "      <td>...</td>\n",
       "      <td>...</td>\n",
       "      <td>...</td>\n",
       "    </tr>\n",
       "    <tr>\n",
       "      <th>16695</th>\n",
       "      <td>Planet Monsters</td>\n",
       "      <td>GBA</td>\n",
       "      <td>2001.0</td>\n",
       "      <td>Action</td>\n",
       "      <td>0.01</td>\n",
       "      <td>0.00</td>\n",
       "      <td>0.0</td>\n",
       "      <td>0.00</td>\n",
       "      <td>67.0</td>\n",
       "      <td>tbd</td>\n",
       "      <td>E</td>\n",
       "    </tr>\n",
       "    <tr>\n",
       "      <th>16697</th>\n",
       "      <td>Bust-A-Move 3000</td>\n",
       "      <td>GC</td>\n",
       "      <td>2003.0</td>\n",
       "      <td>Puzzle</td>\n",
       "      <td>0.01</td>\n",
       "      <td>0.00</td>\n",
       "      <td>0.0</td>\n",
       "      <td>0.00</td>\n",
       "      <td>53.0</td>\n",
       "      <td>tbd</td>\n",
       "      <td>E</td>\n",
       "    </tr>\n",
       "    <tr>\n",
       "      <th>16698</th>\n",
       "      <td>Mega Brain Boost</td>\n",
       "      <td>DS</td>\n",
       "      <td>2008.0</td>\n",
       "      <td>Puzzle</td>\n",
       "      <td>0.01</td>\n",
       "      <td>0.00</td>\n",
       "      <td>0.0</td>\n",
       "      <td>0.00</td>\n",
       "      <td>48.0</td>\n",
       "      <td>tbd</td>\n",
       "      <td>E</td>\n",
       "    </tr>\n",
       "    <tr>\n",
       "      <th>16704</th>\n",
       "      <td>Plushees</td>\n",
       "      <td>DS</td>\n",
       "      <td>2008.0</td>\n",
       "      <td>Simulation</td>\n",
       "      <td>0.01</td>\n",
       "      <td>0.00</td>\n",
       "      <td>0.0</td>\n",
       "      <td>0.00</td>\n",
       "      <td>NaN</td>\n",
       "      <td>tbd</td>\n",
       "      <td>E</td>\n",
       "    </tr>\n",
       "    <tr>\n",
       "      <th>16706</th>\n",
       "      <td>Men in Black II: Alien Escape</td>\n",
       "      <td>GC</td>\n",
       "      <td>2003.0</td>\n",
       "      <td>Shooter</td>\n",
       "      <td>0.01</td>\n",
       "      <td>0.00</td>\n",
       "      <td>0.0</td>\n",
       "      <td>0.00</td>\n",
       "      <td>NaN</td>\n",
       "      <td>tbd</td>\n",
       "      <td>T</td>\n",
       "    </tr>\n",
       "  </tbody>\n",
       "</table>\n",
       "<p>2376 rows × 11 columns</p>\n",
       "</div>"
      ],
      "text/plain": [
       "                                 name platform  year_of_release       genre  \\\n",
       "119                     Zumba Fitness      Wii           2010.0      Sports   \n",
       "301    Namco Museum: 50th Anniversary      PS2           2005.0        Misc   \n",
       "520                   Zumba Fitness 2      Wii           2011.0      Sports   \n",
       "645                      uDraw Studio      Wii           2010.0        Misc   \n",
       "718                   Just Dance Kids      Wii           2010.0        Misc   \n",
       "...                               ...      ...              ...         ...   \n",
       "16695                 Planet Monsters      GBA           2001.0      Action   \n",
       "16697                Bust-A-Move 3000       GC           2003.0      Puzzle   \n",
       "16698                Mega Brain Boost       DS           2008.0      Puzzle   \n",
       "16704                        Plushees       DS           2008.0  Simulation   \n",
       "16706   Men in Black II: Alien Escape       GC           2003.0     Shooter   \n",
       "\n",
       "       na_sales  eu_sales  jp_sales  other_sales  critic_score user_score  \\\n",
       "119        3.45      2.59       0.0         0.66           NaN        tbd   \n",
       "301        2.08      1.35       0.0         0.54          61.0        tbd   \n",
       "520        1.51      1.03       0.0         0.27           NaN        tbd   \n",
       "645        1.65      0.57       0.0         0.20          71.0        tbd   \n",
       "718        1.52      0.54       0.0         0.18           NaN        tbd   \n",
       "...         ...       ...       ...          ...           ...        ...   \n",
       "16695      0.01      0.00       0.0         0.00          67.0        tbd   \n",
       "16697      0.01      0.00       0.0         0.00          53.0        tbd   \n",
       "16698      0.01      0.00       0.0         0.00          48.0        tbd   \n",
       "16704      0.01      0.00       0.0         0.00           NaN        tbd   \n",
       "16706      0.01      0.00       0.0         0.00           NaN        tbd   \n",
       "\n",
       "      rating  \n",
       "119        E  \n",
       "301     E10+  \n",
       "520        T  \n",
       "645        E  \n",
       "718        E  \n",
       "...      ...  \n",
       "16695      E  \n",
       "16697      E  \n",
       "16698      E  \n",
       "16704      E  \n",
       "16706      T  \n",
       "\n",
       "[2376 rows x 11 columns]"
      ]
     },
     "execution_count": 10,
     "metadata": {},
     "output_type": "execute_result"
    }
   ],
   "source": [
    "df[df['user_score']=='tbd'] # посмотрим на строки с аббревиатурой \"tbd\""
   ]
  },
  {
   "cell_type": "code",
   "execution_count": 11,
   "id": "50607ba0",
   "metadata": {},
   "outputs": [],
   "source": [
    "df['user_score'] = df['user_score'].replace('tbd', np.NaN) # заменяем 'tbd' на значения NaN"
   ]
  },
  {
   "cell_type": "code",
   "execution_count": 12,
   "id": "a5f42912",
   "metadata": {},
   "outputs": [
    {
     "data": {
      "text/plain": [
       "array(['0', '0.2', '0.3', '0.5', '0.6', '0.7', '0.9', '1', '1.1', '1.2',\n",
       "       '1.3', '1.4', '1.5', '1.6', '1.7', '1.8', '1.9', '2', '2.1', '2.2',\n",
       "       '2.3', '2.4', '2.5', '2.6', '2.7', '2.8', '2.9', '3', '3.1', '3.2',\n",
       "       '3.3', '3.4', '3.5', '3.6', '3.7', '3.8', '3.9', '4', '4.1', '4.2',\n",
       "       '4.3', '4.4', '4.5', '4.6', '4.7', '4.8', '4.9', '5', '5.1', '5.2',\n",
       "       '5.3', '5.4', '5.5', '5.6', '5.7', '5.8', '5.9', '6', '6.1', '6.2',\n",
       "       '6.3', '6.4', '6.5', '6.6', '6.7', '6.8', '6.9', '7', '7.1', '7.2',\n",
       "       '7.3', '7.4', '7.5', '7.6', '7.7', '7.8', '7.9', '8', '8.1', '8.2',\n",
       "       '8.3', '8.4', '8.5', '8.6', '8.7', '8.8', '8.9', '9', '9.1', '9.2',\n",
       "       '9.3', '9.4', '9.5', '9.6', '9.7', nan], dtype=object)"
      ]
     },
     "execution_count": 12,
     "metadata": {},
     "output_type": "execute_result"
    }
   ],
   "source": [
    "df['user_score'].sort_values().unique() # проверим, осталась ли аббревиатура 'tbd' после замены:"
   ]
  },
  {
   "cell_type": "code",
   "execution_count": 13,
   "id": "9a22b0a8",
   "metadata": {},
   "outputs": [
    {
     "data": {
      "text/plain": [
       "8981"
      ]
     },
     "execution_count": 13,
     "metadata": {},
     "output_type": "execute_result"
    }
   ],
   "source": [
    "df['user_score'].isna().sum() # посчитаем итоговое число пропусков в столбце \"user_score\""
   ]
  },
  {
   "cell_type": "markdown",
   "id": "01d50bc3",
   "metadata": {},
   "source": [
    "Данные пропуски некорректно заполнять средним, это сильно повлияет на общий анализ данных; удалять тоже нельзя: строк с пропусками больше 50%. Данные с оценками пользователей понадобятся нам в шаге проверки гипотез, на том же шаге и удалим строки с пропусками, для корректного выполнения ttest. А на данном этапе оставим столбец без изменений."
   ]
  },
  {
   "cell_type": "markdown",
   "id": "7e09d523",
   "metadata": {},
   "source": [
    "Далее, рассмотрим столбец с наибольшим числом пропусков:\"critic_score\""
   ]
  },
  {
   "cell_type": "code",
   "execution_count": 14,
   "id": "326d8d65",
   "metadata": {},
   "outputs": [
    {
     "data": {
      "text/plain": [
       "array([13., 17., 19., 20., 21., 23., 24., 25., 26., 27., 28., 29., 30.,\n",
       "       31., 32., 33., 34., 35., 36., 37., 38., 39., 40., 41., 42., 43.,\n",
       "       44., 45., 46., 47., 48., 49., 50., 51., 52., 53., 54., 55., 56.,\n",
       "       57., 58., 59., 60., 61., 62., 63., 64., 65., 66., 67., 68., 69.,\n",
       "       70., 71., 72., 73., 74., 75., 76., 77., 78., 79., 80., 81., 82.,\n",
       "       83., 84., 85., 86., 87., 88., 89., 90., 91., 92., 93., 94., 95.,\n",
       "       96., 97., 98., nan])"
      ]
     },
     "execution_count": 14,
     "metadata": {},
     "output_type": "execute_result"
    }
   ],
   "source": [
    "df['critic_score'].sort_values().unique()"
   ]
  },
  {
   "cell_type": "markdown",
   "id": "00a03160",
   "metadata": {},
   "source": [
    "Особенных выделяющихся значений в этом столбце не обнаружено. Строки с пропусками удалять или изменять не станем, их слишком много, заменять средним некорректно."
   ]
  },
  {
   "cell_type": "markdown",
   "id": "a732ef26",
   "metadata": {},
   "source": [
    "Перейдем к столбцу \"rating\"."
   ]
  },
  {
   "cell_type": "code",
   "execution_count": 15,
   "id": "578a6653",
   "metadata": {},
   "outputs": [
    {
     "data": {
      "text/plain": [
       "array(['AO', 'E', 'E10+', 'EC', 'K-A', 'M', 'RP', 'T', nan], dtype=object)"
      ]
     },
     "execution_count": 15,
     "metadata": {},
     "output_type": "execute_result"
    }
   ],
   "source": [
    "df['rating'].sort_values().unique() # выведем на экран все уникальные названия рейтингов игр"
   ]
  },
  {
   "cell_type": "markdown",
   "id": "dca647bc",
   "metadata": {},
   "source": [
    "При исследовании данных видов рейтингов оказалось, что рейтинг \"E\" (everyone-для всех с 6 лет) и рейтинг \"K-A\"(Kids to Adults) - один и тот же рейтинг. Первоначально он назывался \"K-A\", затем название сменилось на \"E\". Заменим в столбце \"rating\" значения \"K-A\" на \"E\"."
   ]
  },
  {
   "cell_type": "code",
   "execution_count": 16,
   "id": "25220d53",
   "metadata": {},
   "outputs": [],
   "source": [
    "df['rating'] = df['rating'].replace('K-A', 'E')"
   ]
  },
  {
   "cell_type": "code",
   "execution_count": 17,
   "id": "4a79f3ff",
   "metadata": {},
   "outputs": [
    {
     "data": {
      "text/plain": [
       "array(['E', nan, 'M', 'T', 'E10+', 'AO', 'EC', 'RP'], dtype=object)"
      ]
     },
     "execution_count": 17,
     "metadata": {},
     "output_type": "execute_result"
    }
   ],
   "source": [
    "df['rating'].unique() # проверим как сработала замена"
   ]
  },
  {
   "cell_type": "markdown",
   "id": "3d517daa",
   "metadata": {},
   "source": [
    "Пропуски в столбце 'rating' заполним 'unknown', чтобы не потерять данные при анализе. На тип данных это не повлияет"
   ]
  },
  {
   "cell_type": "code",
   "execution_count": 18,
   "id": "f99d025b",
   "metadata": {},
   "outputs": [],
   "source": [
    "df['rating'] = df['rating'].fillna('unknown')"
   ]
  },
  {
   "cell_type": "code",
   "execution_count": 19,
   "id": "0726bbfc",
   "metadata": {},
   "outputs": [
    {
     "data": {
      "text/plain": [
       "0"
      ]
     },
     "execution_count": 19,
     "metadata": {},
     "output_type": "execute_result"
    }
   ],
   "source": [
    "df['rating'].isna().sum() # проверим, все ли пропуски заполнились"
   ]
  },
  {
   "cell_type": "code",
   "execution_count": 20,
   "id": "8b2449dc",
   "metadata": {},
   "outputs": [
    {
     "data": {
      "text/plain": [
       "rating\n",
       "AO            1\n",
       "E          3924\n",
       "E10+       1393\n",
       "EC            8\n",
       "M          1536\n",
       "RP            1\n",
       "T          2905\n",
       "unknown    6676\n",
       "Name: name, dtype: int64"
      ]
     },
     "execution_count": 20,
     "metadata": {},
     "output_type": "execute_result"
    }
   ],
   "source": [
    "df.groupby('rating')['name'].count() # посмотрим на частотность использования категорий рейтингов"
   ]
  },
  {
   "cell_type": "code",
   "execution_count": 21,
   "id": "f12deb95",
   "metadata": {},
   "outputs": [],
   "source": [
    "df = df.query('rating not in [\"AO\",\"EC\",\"RP\"]') # удалим категории, представленные незначительным количеством игр"
   ]
  },
  {
   "cell_type": "code",
   "execution_count": 22,
   "id": "96d4d87d",
   "metadata": {},
   "outputs": [
    {
     "data": {
      "text/plain": [
       "rating\n",
       "E          3924\n",
       "E10+       1393\n",
       "M          1536\n",
       "T          2905\n",
       "unknown    6676\n",
       "Name: name, dtype: int64"
      ]
     },
     "execution_count": 22,
     "metadata": {},
     "output_type": "execute_result"
    }
   ],
   "source": [
    "df.groupby('rating')['name'].count() # обновленный список категорий"
   ]
  },
  {
   "cell_type": "code",
   "execution_count": 23,
   "id": "1d44a052",
   "metadata": {},
   "outputs": [
    {
     "data": {
      "text/plain": [
       "Action          3305\n",
       "Sports          2306\n",
       "Misc            1716\n",
       "Role-Playing    1481\n",
       "Shooter         1296\n",
       "Adventure       1291\n",
       "Racing          1226\n",
       "Platform         878\n",
       "Simulation       857\n",
       "Fighting         837\n",
       "Strategy         672\n",
       "Puzzle           569\n",
       "Name: genre, dtype: int64"
      ]
     },
     "execution_count": 23,
     "metadata": {},
     "output_type": "execute_result"
    }
   ],
   "source": [
    "df['genre'].value_counts() # просмотрим столбец с жанрами"
   ]
  },
  {
   "cell_type": "code",
   "execution_count": 24,
   "id": "0f05b0b0",
   "metadata": {},
   "outputs": [
    {
     "data": {
      "text/plain": [
       "PS2     2126\n",
       "DS      2119\n",
       "PS3     1306\n",
       "Wii     1284\n",
       "X360    1232\n",
       "PSP     1193\n",
       "PS      1190\n",
       "PC       954\n",
       "GBA      811\n",
       "XB       802\n",
       "GC       541\n",
       "3DS      512\n",
       "PSV      429\n",
       "PS4      392\n",
       "N64      316\n",
       "XOne     247\n",
       "SNES     239\n",
       "SAT      173\n",
       "WiiU     147\n",
       "2600     116\n",
       "NES       98\n",
       "GB        97\n",
       "DC        52\n",
       "GEN       27\n",
       "NG        12\n",
       "SCD        6\n",
       "WS         6\n",
       "3DO        3\n",
       "TG16       2\n",
       "GG         1\n",
       "PCFX       1\n",
       "Name: platform, dtype: int64"
      ]
     },
     "execution_count": 24,
     "metadata": {},
     "output_type": "execute_result"
    }
   ],
   "source": [
    "df['platform'].value_counts() # просмотрим столбец 'platform'"
   ]
  },
  {
   "cell_type": "markdown",
   "id": "7756ed5a",
   "metadata": {},
   "source": [
    "#### Преобразуем данные в нужные типы"
   ]
  },
  {
   "cell_type": "code",
   "execution_count": 25,
   "id": "c8ab8827",
   "metadata": {},
   "outputs": [],
   "source": [
    "df = df.astype({'year_of_release':'int','user_score':'float64'})"
   ]
  },
  {
   "cell_type": "code",
   "execution_count": 26,
   "id": "ea6df111",
   "metadata": {},
   "outputs": [
    {
     "name": "stdout",
     "output_type": "stream",
     "text": [
      "<class 'pandas.core.frame.DataFrame'>\n",
      "Int64Index: 16434 entries, 0 to 16714\n",
      "Data columns (total 11 columns):\n",
      " #   Column           Non-Null Count  Dtype  \n",
      "---  ------           --------------  -----  \n",
      " 0   name             16434 non-null  object \n",
      " 1   platform         16434 non-null  object \n",
      " 2   year_of_release  16434 non-null  int64  \n",
      " 3   genre            16434 non-null  object \n",
      " 4   na_sales         16434 non-null  float64\n",
      " 5   eu_sales         16434 non-null  float64\n",
      " 6   jp_sales         16434 non-null  float64\n",
      " 7   other_sales      16434 non-null  float64\n",
      " 8   critic_score     7981 non-null   float64\n",
      " 9   user_score       7460 non-null   float64\n",
      " 10  rating           16434 non-null  object \n",
      "dtypes: float64(6), int64(1), object(4)\n",
      "memory usage: 1.5+ MB\n"
     ]
    }
   ],
   "source": [
    "df.info() # проверим, правильно ли поменялись типы данных"
   ]
  },
  {
   "cell_type": "markdown",
   "id": "64414024",
   "metadata": {},
   "source": [
    "#### Проверим данные на наличие дубликатов"
   ]
  },
  {
   "cell_type": "code",
   "execution_count": 27,
   "id": "1073a9f4",
   "metadata": {},
   "outputs": [
    {
     "data": {
      "text/plain": [
       "0"
      ]
     },
     "execution_count": 27,
     "metadata": {},
     "output_type": "execute_result"
    }
   ],
   "source": [
    "df.duplicated().sum() "
   ]
  },
  {
   "cell_type": "markdown",
   "id": "3053c551",
   "metadata": {},
   "source": [
    "#### Посчитаем суммарные продажи во всех регионах и запишем их в отдельный столбец."
   ]
  },
  {
   "cell_type": "code",
   "execution_count": 28,
   "id": "937248ac",
   "metadata": {},
   "outputs": [],
   "source": [
    " # добавим в таблицу столбец с суммарными продажами\n",
    "df['total_sales'] = df[['na_sales','eu_sales','jp_sales', 'other_sales']].sum(axis = 1)"
   ]
  },
  {
   "cell_type": "markdown",
   "id": "f7bbcbb2",
   "metadata": {},
   "source": [
    "### Проведем исследовательский анализ данных"
   ]
  },
  {
   "cell_type": "markdown",
   "id": "3d67de92",
   "metadata": {},
   "source": [
    "#### Построим распределение количества выпущенных игр с 1980 по 2016 гг"
   ]
  },
  {
   "cell_type": "code",
   "execution_count": 29,
   "id": "96a948f3",
   "metadata": {},
   "outputs": [
    {
     "data": {
      "image/png": "[encoded data removed]",
      "text/plain": [
       "<Figure size 864x504 with 1 Axes>"
      ]
     },
     "metadata": {
      "needs_background": "light"
     },
     "output_type": "display_data"
    }
   ],
   "source": [
    "df.pivot_table(index='year_of_release', values='name', aggfunc='count').plot(kind='bar',rot=45, figsize=(12,7));\n",
    "plt.title('Распределение количества выпущенных игр по годам ',fontsize=15)\n",
    "plt.ylabel('Число выпущенных игр', fontsize=14)\n",
    "plt.xlabel('Год релиза', fontsize=14);"
   ]
  },
  {
   "cell_type": "markdown",
   "id": "601924ee",
   "metadata": {},
   "source": [
    "Из графика следует: с 2002 по 2011 гг выпускалось наибольшее количесвто игр, затем число производимых игр пошло на спад. Для нашего анализа необходим временной период, отражающий тенденцию количества производимых игр за последние годы. "
   ]
  },
  {
   "cell_type": "markdown",
   "id": "479da9aa",
   "metadata": {},
   "source": [
    "#### Посмотрим, как менялись продажи по платформам"
   ]
  },
  {
   "cell_type": "code",
   "execution_count": 30,
   "id": "279e0ca4",
   "metadata": {},
   "outputs": [
    {
     "data": {
      "text/plain": [
       "platform\n",
       "PS2     1233.32\n",
       "X360     961.24\n",
       "PS3      931.34\n",
       "Wii      890.52\n",
       "DS       802.13\n",
       "PS       727.58\n",
       "PS4      314.14\n",
       "GBA      312.88\n",
       "PSP      289.53\n",
       "3DS      257.81\n",
       "PC       255.63\n",
       "GB       254.43\n",
       "NES      251.05\n",
       "XB       249.61\n",
       "N64      218.01\n",
       "SNES     200.04\n",
       "GC       196.62\n",
       "XOne     159.32\n",
       "2600      86.48\n",
       "WiiU      82.19\n",
       "PSV       53.81\n",
       "SAT       33.59\n",
       "GEN       28.35\n",
       "DC        15.95\n",
       "SCD        1.86\n",
       "NG         1.44\n",
       "WS         1.42\n",
       "TG16       0.16\n",
       "3DO        0.10\n",
       "GG         0.04\n",
       "PCFX       0.03\n",
       "Name: total_sales, dtype: float64"
      ]
     },
     "execution_count": 30,
     "metadata": {},
     "output_type": "execute_result"
    }
   ],
   "source": [
    "df_platform = df.groupby('platform')['total_sales'].sum().sort_values(ascending=False)\n",
    "df_platform"
   ]
  },
  {
   "cell_type": "code",
   "execution_count": 31,
   "id": "4c2a1f3c",
   "metadata": {},
   "outputs": [],
   "source": [
    "# выделим самые прибыльные платформы\n",
    "df_platform = df.groupby('platform')['total_sales'].sum().sort_values(ascending=False).head(10) "
   ]
  },
  {
   "cell_type": "code",
   "execution_count": 32,
   "id": "829685cb",
   "metadata": {},
   "outputs": [
    {
     "data": {
      "text/html": [
       "<div>\n",
       "<style scoped>\n",
       "    .dataframe tbody tr th:only-of-type {\n",
       "        vertical-align: middle;\n",
       "    }\n",
       "\n",
       "    .dataframe tbody tr th {\n",
       "        vertical-align: top;\n",
       "    }\n",
       "\n",
       "    .dataframe thead th {\n",
       "        text-align: right;\n",
       "    }\n",
       "</style>\n",
       "<table border=\"1\" class=\"dataframe\">\n",
       "  <thead>\n",
       "    <tr style=\"text-align: right;\">\n",
       "      <th>platform</th>\n",
       "      <th>3DS</th>\n",
       "      <th>DS</th>\n",
       "      <th>GBA</th>\n",
       "      <th>PS</th>\n",
       "      <th>PS2</th>\n",
       "      <th>PS3</th>\n",
       "      <th>PS4</th>\n",
       "      <th>PSP</th>\n",
       "      <th>Wii</th>\n",
       "      <th>X360</th>\n",
       "    </tr>\n",
       "    <tr>\n",
       "      <th>year_of_release</th>\n",
       "      <th></th>\n",
       "      <th></th>\n",
       "      <th></th>\n",
       "      <th></th>\n",
       "      <th></th>\n",
       "      <th></th>\n",
       "      <th></th>\n",
       "      <th></th>\n",
       "      <th></th>\n",
       "      <th></th>\n",
       "    </tr>\n",
       "  </thead>\n",
       "  <tbody>\n",
       "    <tr>\n",
       "      <th>1985</th>\n",
       "      <td>NaN</td>\n",
       "      <td>0.02</td>\n",
       "      <td>NaN</td>\n",
       "      <td>NaN</td>\n",
       "      <td>NaN</td>\n",
       "      <td>NaN</td>\n",
       "      <td>NaN</td>\n",
       "      <td>NaN</td>\n",
       "      <td>NaN</td>\n",
       "      <td>NaN</td>\n",
       "    </tr>\n",
       "    <tr>\n",
       "      <th>1994</th>\n",
       "      <td>NaN</td>\n",
       "      <td>NaN</td>\n",
       "      <td>NaN</td>\n",
       "      <td>6.03</td>\n",
       "      <td>NaN</td>\n",
       "      <td>NaN</td>\n",
       "      <td>NaN</td>\n",
       "      <td>NaN</td>\n",
       "      <td>NaN</td>\n",
       "      <td>NaN</td>\n",
       "    </tr>\n",
       "    <tr>\n",
       "      <th>1995</th>\n",
       "      <td>NaN</td>\n",
       "      <td>NaN</td>\n",
       "      <td>NaN</td>\n",
       "      <td>35.96</td>\n",
       "      <td>NaN</td>\n",
       "      <td>NaN</td>\n",
       "      <td>NaN</td>\n",
       "      <td>NaN</td>\n",
       "      <td>NaN</td>\n",
       "      <td>NaN</td>\n",
       "    </tr>\n",
       "    <tr>\n",
       "      <th>1996</th>\n",
       "      <td>NaN</td>\n",
       "      <td>NaN</td>\n",
       "      <td>NaN</td>\n",
       "      <td>94.70</td>\n",
       "      <td>NaN</td>\n",
       "      <td>NaN</td>\n",
       "      <td>NaN</td>\n",
       "      <td>NaN</td>\n",
       "      <td>NaN</td>\n",
       "      <td>NaN</td>\n",
       "    </tr>\n",
       "    <tr>\n",
       "      <th>1997</th>\n",
       "      <td>NaN</td>\n",
       "      <td>NaN</td>\n",
       "      <td>NaN</td>\n",
       "      <td>136.17</td>\n",
       "      <td>NaN</td>\n",
       "      <td>NaN</td>\n",
       "      <td>NaN</td>\n",
       "      <td>NaN</td>\n",
       "      <td>NaN</td>\n",
       "      <td>NaN</td>\n",
       "    </tr>\n",
       "    <tr>\n",
       "      <th>1998</th>\n",
       "      <td>NaN</td>\n",
       "      <td>NaN</td>\n",
       "      <td>NaN</td>\n",
       "      <td>169.49</td>\n",
       "      <td>NaN</td>\n",
       "      <td>NaN</td>\n",
       "      <td>NaN</td>\n",
       "      <td>NaN</td>\n",
       "      <td>NaN</td>\n",
       "      <td>NaN</td>\n",
       "    </tr>\n",
       "    <tr>\n",
       "      <th>1999</th>\n",
       "      <td>NaN</td>\n",
       "      <td>NaN</td>\n",
       "      <td>NaN</td>\n",
       "      <td>144.53</td>\n",
       "      <td>NaN</td>\n",
       "      <td>NaN</td>\n",
       "      <td>NaN</td>\n",
       "      <td>NaN</td>\n",
       "      <td>NaN</td>\n",
       "      <td>NaN</td>\n",
       "    </tr>\n",
       "    <tr>\n",
       "      <th>2000</th>\n",
       "      <td>NaN</td>\n",
       "      <td>NaN</td>\n",
       "      <td>0.07</td>\n",
       "      <td>96.37</td>\n",
       "      <td>39.17</td>\n",
       "      <td>NaN</td>\n",
       "      <td>NaN</td>\n",
       "      <td>NaN</td>\n",
       "      <td>NaN</td>\n",
       "      <td>NaN</td>\n",
       "    </tr>\n",
       "    <tr>\n",
       "      <th>2001</th>\n",
       "      <td>NaN</td>\n",
       "      <td>NaN</td>\n",
       "      <td>61.53</td>\n",
       "      <td>35.59</td>\n",
       "      <td>166.43</td>\n",
       "      <td>NaN</td>\n",
       "      <td>NaN</td>\n",
       "      <td>NaN</td>\n",
       "      <td>NaN</td>\n",
       "      <td>NaN</td>\n",
       "    </tr>\n",
       "    <tr>\n",
       "      <th>2002</th>\n",
       "      <td>NaN</td>\n",
       "      <td>NaN</td>\n",
       "      <td>74.16</td>\n",
       "      <td>6.67</td>\n",
       "      <td>205.38</td>\n",
       "      <td>NaN</td>\n",
       "      <td>NaN</td>\n",
       "      <td>NaN</td>\n",
       "      <td>NaN</td>\n",
       "      <td>NaN</td>\n",
       "    </tr>\n",
       "    <tr>\n",
       "      <th>2003</th>\n",
       "      <td>NaN</td>\n",
       "      <td>NaN</td>\n",
       "      <td>56.67</td>\n",
       "      <td>2.07</td>\n",
       "      <td>184.31</td>\n",
       "      <td>NaN</td>\n",
       "      <td>NaN</td>\n",
       "      <td>NaN</td>\n",
       "      <td>NaN</td>\n",
       "      <td>NaN</td>\n",
       "    </tr>\n",
       "    <tr>\n",
       "      <th>2004</th>\n",
       "      <td>NaN</td>\n",
       "      <td>17.27</td>\n",
       "      <td>77.91</td>\n",
       "      <td>NaN</td>\n",
       "      <td>211.81</td>\n",
       "      <td>NaN</td>\n",
       "      <td>NaN</td>\n",
       "      <td>7.06</td>\n",
       "      <td>NaN</td>\n",
       "      <td>NaN</td>\n",
       "    </tr>\n",
       "    <tr>\n",
       "      <th>2005</th>\n",
       "      <td>NaN</td>\n",
       "      <td>130.14</td>\n",
       "      <td>33.86</td>\n",
       "      <td>NaN</td>\n",
       "      <td>160.42</td>\n",
       "      <td>NaN</td>\n",
       "      <td>NaN</td>\n",
       "      <td>43.84</td>\n",
       "      <td>NaN</td>\n",
       "      <td>8.25</td>\n",
       "    </tr>\n",
       "    <tr>\n",
       "      <th>2006</th>\n",
       "      <td>NaN</td>\n",
       "      <td>119.81</td>\n",
       "      <td>5.28</td>\n",
       "      <td>NaN</td>\n",
       "      <td>103.42</td>\n",
       "      <td>20.96</td>\n",
       "      <td>NaN</td>\n",
       "      <td>55.32</td>\n",
       "      <td>137.15</td>\n",
       "      <td>51.62</td>\n",
       "    </tr>\n",
       "    <tr>\n",
       "      <th>2007</th>\n",
       "      <td>NaN</td>\n",
       "      <td>146.94</td>\n",
       "      <td>3.40</td>\n",
       "      <td>NaN</td>\n",
       "      <td>75.99</td>\n",
       "      <td>73.19</td>\n",
       "      <td>NaN</td>\n",
       "      <td>46.93</td>\n",
       "      <td>152.77</td>\n",
       "      <td>95.41</td>\n",
       "    </tr>\n",
       "    <tr>\n",
       "      <th>2008</th>\n",
       "      <td>NaN</td>\n",
       "      <td>145.31</td>\n",
       "      <td>NaN</td>\n",
       "      <td>NaN</td>\n",
       "      <td>53.90</td>\n",
       "      <td>118.52</td>\n",
       "      <td>NaN</td>\n",
       "      <td>34.55</td>\n",
       "      <td>171.32</td>\n",
       "      <td>135.26</td>\n",
       "    </tr>\n",
       "    <tr>\n",
       "      <th>2009</th>\n",
       "      <td>NaN</td>\n",
       "      <td>119.34</td>\n",
       "      <td>NaN</td>\n",
       "      <td>NaN</td>\n",
       "      <td>26.40</td>\n",
       "      <td>130.93</td>\n",
       "      <td>NaN</td>\n",
       "      <td>37.78</td>\n",
       "      <td>206.97</td>\n",
       "      <td>120.29</td>\n",
       "    </tr>\n",
       "    <tr>\n",
       "      <th>2010</th>\n",
       "      <td>NaN</td>\n",
       "      <td>85.02</td>\n",
       "      <td>NaN</td>\n",
       "      <td>NaN</td>\n",
       "      <td>5.64</td>\n",
       "      <td>142.17</td>\n",
       "      <td>NaN</td>\n",
       "      <td>35.04</td>\n",
       "      <td>127.29</td>\n",
       "      <td>170.03</td>\n",
       "    </tr>\n",
       "    <tr>\n",
       "      <th>2011</th>\n",
       "      <td>63.20</td>\n",
       "      <td>25.73</td>\n",
       "      <td>NaN</td>\n",
       "      <td>NaN</td>\n",
       "      <td>0.45</td>\n",
       "      <td>156.78</td>\n",
       "      <td>NaN</td>\n",
       "      <td>17.82</td>\n",
       "      <td>59.65</td>\n",
       "      <td>143.84</td>\n",
       "    </tr>\n",
       "    <tr>\n",
       "      <th>2012</th>\n",
       "      <td>51.36</td>\n",
       "      <td>11.01</td>\n",
       "      <td>NaN</td>\n",
       "      <td>NaN</td>\n",
       "      <td>NaN</td>\n",
       "      <td>107.36</td>\n",
       "      <td>NaN</td>\n",
       "      <td>7.69</td>\n",
       "      <td>21.71</td>\n",
       "      <td>99.74</td>\n",
       "    </tr>\n",
       "    <tr>\n",
       "      <th>2013</th>\n",
       "      <td>56.57</td>\n",
       "      <td>1.54</td>\n",
       "      <td>NaN</td>\n",
       "      <td>NaN</td>\n",
       "      <td>NaN</td>\n",
       "      <td>113.25</td>\n",
       "      <td>25.99</td>\n",
       "      <td>3.14</td>\n",
       "      <td>8.59</td>\n",
       "      <td>88.58</td>\n",
       "    </tr>\n",
       "    <tr>\n",
       "      <th>2014</th>\n",
       "      <td>43.76</td>\n",
       "      <td>NaN</td>\n",
       "      <td>NaN</td>\n",
       "      <td>NaN</td>\n",
       "      <td>NaN</td>\n",
       "      <td>47.76</td>\n",
       "      <td>100.00</td>\n",
       "      <td>0.24</td>\n",
       "      <td>3.75</td>\n",
       "      <td>34.74</td>\n",
       "    </tr>\n",
       "    <tr>\n",
       "      <th>2015</th>\n",
       "      <td>27.78</td>\n",
       "      <td>NaN</td>\n",
       "      <td>NaN</td>\n",
       "      <td>NaN</td>\n",
       "      <td>NaN</td>\n",
       "      <td>16.82</td>\n",
       "      <td>118.90</td>\n",
       "      <td>0.12</td>\n",
       "      <td>1.14</td>\n",
       "      <td>11.96</td>\n",
       "    </tr>\n",
       "    <tr>\n",
       "      <th>2016</th>\n",
       "      <td>15.14</td>\n",
       "      <td>NaN</td>\n",
       "      <td>NaN</td>\n",
       "      <td>NaN</td>\n",
       "      <td>NaN</td>\n",
       "      <td>3.60</td>\n",
       "      <td>69.25</td>\n",
       "      <td>NaN</td>\n",
       "      <td>0.18</td>\n",
       "      <td>1.52</td>\n",
       "    </tr>\n",
       "  </tbody>\n",
       "</table>\n",
       "</div>"
      ],
      "text/plain": [
       "platform           3DS      DS    GBA      PS     PS2     PS3     PS4    PSP  \\\n",
       "year_of_release                                                                \n",
       "1985               NaN    0.02    NaN     NaN     NaN     NaN     NaN    NaN   \n",
       "1994               NaN     NaN    NaN    6.03     NaN     NaN     NaN    NaN   \n",
       "1995               NaN     NaN    NaN   35.96     NaN     NaN     NaN    NaN   \n",
       "1996               NaN     NaN    NaN   94.70     NaN     NaN     NaN    NaN   \n",
       "1997               NaN     NaN    NaN  136.17     NaN     NaN     NaN    NaN   \n",
       "1998               NaN     NaN    NaN  169.49     NaN     NaN     NaN    NaN   \n",
       "1999               NaN     NaN    NaN  144.53     NaN     NaN     NaN    NaN   \n",
       "2000               NaN     NaN   0.07   96.37   39.17     NaN     NaN    NaN   \n",
       "2001               NaN     NaN  61.53   35.59  166.43     NaN     NaN    NaN   \n",
       "2002               NaN     NaN  74.16    6.67  205.38     NaN     NaN    NaN   \n",
       "2003               NaN     NaN  56.67    2.07  184.31     NaN     NaN    NaN   \n",
       "2004               NaN   17.27  77.91     NaN  211.81     NaN     NaN   7.06   \n",
       "2005               NaN  130.14  33.86     NaN  160.42     NaN     NaN  43.84   \n",
       "2006               NaN  119.81   5.28     NaN  103.42   20.96     NaN  55.32   \n",
       "2007               NaN  146.94   3.40     NaN   75.99   73.19     NaN  46.93   \n",
       "2008               NaN  145.31    NaN     NaN   53.90  118.52     NaN  34.55   \n",
       "2009               NaN  119.34    NaN     NaN   26.40  130.93     NaN  37.78   \n",
       "2010               NaN   85.02    NaN     NaN    5.64  142.17     NaN  35.04   \n",
       "2011             63.20   25.73    NaN     NaN    0.45  156.78     NaN  17.82   \n",
       "2012             51.36   11.01    NaN     NaN     NaN  107.36     NaN   7.69   \n",
       "2013             56.57    1.54    NaN     NaN     NaN  113.25   25.99   3.14   \n",
       "2014             43.76     NaN    NaN     NaN     NaN   47.76  100.00   0.24   \n",
       "2015             27.78     NaN    NaN     NaN     NaN   16.82  118.90   0.12   \n",
       "2016             15.14     NaN    NaN     NaN     NaN    3.60   69.25    NaN   \n",
       "\n",
       "platform            Wii    X360  \n",
       "year_of_release                  \n",
       "1985                NaN     NaN  \n",
       "1994                NaN     NaN  \n",
       "1995                NaN     NaN  \n",
       "1996                NaN     NaN  \n",
       "1997                NaN     NaN  \n",
       "1998                NaN     NaN  \n",
       "1999                NaN     NaN  \n",
       "2000                NaN     NaN  \n",
       "2001                NaN     NaN  \n",
       "2002                NaN     NaN  \n",
       "2003                NaN     NaN  \n",
       "2004                NaN     NaN  \n",
       "2005                NaN    8.25  \n",
       "2006             137.15   51.62  \n",
       "2007             152.77   95.41  \n",
       "2008             171.32  135.26  \n",
       "2009             206.97  120.29  \n",
       "2010             127.29  170.03  \n",
       "2011              59.65  143.84  \n",
       "2012              21.71   99.74  \n",
       "2013               8.59   88.58  \n",
       "2014               3.75   34.74  \n",
       "2015               1.14   11.96  \n",
       "2016               0.18    1.52  "
      ]
     },
     "execution_count": 32,
     "metadata": {},
     "output_type": "execute_result"
    }
   ],
   "source": [
    "df.query('platform in @df_platform.index').pivot_table(\n",
    "    index='year_of_release', columns='platform', values='total_sales', aggfunc='sum')"
   ]
  },
  {
   "cell_type": "markdown",
   "id": "c18e8355",
   "metadata": {},
   "source": [
    "Странный выброс с продажами игр на платформе DS за 1985 год - сама платформа была выпущена в 2004 году. Удалим аномалию. "
   ]
  },
  {
   "cell_type": "code",
   "execution_count": 33,
   "id": "862fbe0b",
   "metadata": {},
   "outputs": [],
   "source": [
    "df = df.loc[~((df['platform']=='DS') & (df['year_of_release']==1985))]"
   ]
  },
  {
   "cell_type": "markdown",
   "id": "4df52f5f",
   "metadata": {},
   "source": [
    "Построим график распределения продаж игр на платформах по годам"
   ]
  },
  {
   "cell_type": "code",
   "execution_count": 34,
   "id": "f7c7974d",
   "metadata": {},
   "outputs": [
    {
     "data": {
      "image/png": "[encoded data removed]",
      "text/plain": [
       "<Figure size 1440x1080 with 1 Axes>"
      ]
     },
     "metadata": {
      "needs_background": "light"
     },
     "output_type": "display_data"
    }
   ],
   "source": [
    "df.query('platform in @df_platform.index').pivot_table(\n",
    "    index='year_of_release', columns='platform', values='total_sales', aggfunc='sum')\\\n",
    ".plot(kind='bar',figsize=(20,15), width=1.5,rot=45)\n",
    "plt.title('Распределение продаж игр на самых популярных платформах по годам', fontsize=17)\n",
    "plt.ylabel('Количество проданных копий,млн ', fontsize=15)\n",
    "plt.xlabel('');"
   ]
  },
  {
   "cell_type": "markdown",
   "id": "cff31bba",
   "metadata": {},
   "source": [
    "Исходя из предыдущих исследований, за актуальный период будем считать данные за **2015 -2016** годы. Данный период характерен тенденцией к спаду производства и продаж видеоигр, а также существованием на рынке определенных игровых платформ."
   ]
  },
  {
   "cell_type": "markdown",
   "id": "889e2397",
   "metadata": {},
   "source": [
    "Составим рейтинг продаж по платформам за 2015-2016 годы и отберем самые продаваемые платформы. "
   ]
  },
  {
   "cell_type": "code",
   "execution_count": 35,
   "id": "83a87e16",
   "metadata": {},
   "outputs": [
    {
     "data": {
      "text/plain": [
       "platform\n",
       "PS4     188.15\n",
       "XOne     86.29\n",
       "3DS      42.92\n",
       "WiiU     20.95\n",
       "PS3      20.42\n",
       "PC       13.77\n",
       "X360     13.48\n",
       "PSV      10.50\n",
       "Name: total_sales, dtype: float64"
      ]
     },
     "execution_count": 35,
     "metadata": {},
     "output_type": "execute_result"
    }
   ],
   "source": [
    "df_good_year = df.query('year_of_release>=2015')\n",
    "df_platform = df_good_year.groupby('platform')['total_sales'].sum().sort_values(ascending=False).head(8) \n",
    "df_platform"
   ]
  },
  {
   "cell_type": "code",
   "execution_count": 36,
   "id": "e04322f4",
   "metadata": {},
   "outputs": [
    {
     "data": {
      "text/html": [
       "<div>\n",
       "<style scoped>\n",
       "    .dataframe tbody tr th:only-of-type {\n",
       "        vertical-align: middle;\n",
       "    }\n",
       "\n",
       "    .dataframe tbody tr th {\n",
       "        vertical-align: top;\n",
       "    }\n",
       "\n",
       "    .dataframe thead th {\n",
       "        text-align: right;\n",
       "    }\n",
       "</style>\n",
       "<table border=\"1\" class=\"dataframe\">\n",
       "  <thead>\n",
       "    <tr style=\"text-align: right;\">\n",
       "      <th>platform</th>\n",
       "      <th>3DS</th>\n",
       "      <th>PC</th>\n",
       "      <th>PS3</th>\n",
       "      <th>PS4</th>\n",
       "      <th>PSV</th>\n",
       "      <th>WiiU</th>\n",
       "      <th>X360</th>\n",
       "      <th>XOne</th>\n",
       "    </tr>\n",
       "    <tr>\n",
       "      <th>year_of_release</th>\n",
       "      <th></th>\n",
       "      <th></th>\n",
       "      <th></th>\n",
       "      <th></th>\n",
       "      <th></th>\n",
       "      <th></th>\n",
       "      <th></th>\n",
       "      <th></th>\n",
       "    </tr>\n",
       "  </thead>\n",
       "  <tbody>\n",
       "    <tr>\n",
       "      <th>1985</th>\n",
       "      <td>NaN</td>\n",
       "      <td>0.04</td>\n",
       "      <td>NaN</td>\n",
       "      <td>NaN</td>\n",
       "      <td>NaN</td>\n",
       "      <td>NaN</td>\n",
       "      <td>NaN</td>\n",
       "      <td>NaN</td>\n",
       "    </tr>\n",
       "    <tr>\n",
       "      <th>1988</th>\n",
       "      <td>NaN</td>\n",
       "      <td>0.03</td>\n",
       "      <td>NaN</td>\n",
       "      <td>NaN</td>\n",
       "      <td>NaN</td>\n",
       "      <td>NaN</td>\n",
       "      <td>NaN</td>\n",
       "      <td>NaN</td>\n",
       "    </tr>\n",
       "    <tr>\n",
       "      <th>1992</th>\n",
       "      <td>NaN</td>\n",
       "      <td>3.03</td>\n",
       "      <td>NaN</td>\n",
       "      <td>NaN</td>\n",
       "      <td>NaN</td>\n",
       "      <td>NaN</td>\n",
       "      <td>NaN</td>\n",
       "      <td>NaN</td>\n",
       "    </tr>\n",
       "    <tr>\n",
       "      <th>1994</th>\n",
       "      <td>NaN</td>\n",
       "      <td>12.87</td>\n",
       "      <td>NaN</td>\n",
       "      <td>NaN</td>\n",
       "      <td>NaN</td>\n",
       "      <td>NaN</td>\n",
       "      <td>NaN</td>\n",
       "      <td>NaN</td>\n",
       "    </tr>\n",
       "    <tr>\n",
       "      <th>1995</th>\n",
       "      <td>NaN</td>\n",
       "      <td>4.22</td>\n",
       "      <td>NaN</td>\n",
       "      <td>NaN</td>\n",
       "      <td>NaN</td>\n",
       "      <td>NaN</td>\n",
       "      <td>NaN</td>\n",
       "      <td>NaN</td>\n",
       "    </tr>\n",
       "    <tr>\n",
       "      <th>1996</th>\n",
       "      <td>NaN</td>\n",
       "      <td>10.58</td>\n",
       "      <td>NaN</td>\n",
       "      <td>NaN</td>\n",
       "      <td>NaN</td>\n",
       "      <td>NaN</td>\n",
       "      <td>NaN</td>\n",
       "      <td>NaN</td>\n",
       "    </tr>\n",
       "    <tr>\n",
       "      <th>1997</th>\n",
       "      <td>NaN</td>\n",
       "      <td>11.27</td>\n",
       "      <td>NaN</td>\n",
       "      <td>NaN</td>\n",
       "      <td>NaN</td>\n",
       "      <td>NaN</td>\n",
       "      <td>NaN</td>\n",
       "      <td>NaN</td>\n",
       "    </tr>\n",
       "    <tr>\n",
       "      <th>1998</th>\n",
       "      <td>NaN</td>\n",
       "      <td>3.26</td>\n",
       "      <td>NaN</td>\n",
       "      <td>NaN</td>\n",
       "      <td>NaN</td>\n",
       "      <td>NaN</td>\n",
       "      <td>NaN</td>\n",
       "      <td>NaN</td>\n",
       "    </tr>\n",
       "    <tr>\n",
       "      <th>1999</th>\n",
       "      <td>NaN</td>\n",
       "      <td>4.74</td>\n",
       "      <td>NaN</td>\n",
       "      <td>NaN</td>\n",
       "      <td>NaN</td>\n",
       "      <td>NaN</td>\n",
       "      <td>NaN</td>\n",
       "      <td>NaN</td>\n",
       "    </tr>\n",
       "    <tr>\n",
       "      <th>2000</th>\n",
       "      <td>NaN</td>\n",
       "      <td>4.66</td>\n",
       "      <td>NaN</td>\n",
       "      <td>NaN</td>\n",
       "      <td>NaN</td>\n",
       "      <td>NaN</td>\n",
       "      <td>NaN</td>\n",
       "      <td>NaN</td>\n",
       "    </tr>\n",
       "    <tr>\n",
       "      <th>2001</th>\n",
       "      <td>NaN</td>\n",
       "      <td>5.47</td>\n",
       "      <td>NaN</td>\n",
       "      <td>NaN</td>\n",
       "      <td>NaN</td>\n",
       "      <td>NaN</td>\n",
       "      <td>NaN</td>\n",
       "      <td>NaN</td>\n",
       "    </tr>\n",
       "    <tr>\n",
       "      <th>2002</th>\n",
       "      <td>NaN</td>\n",
       "      <td>8.57</td>\n",
       "      <td>NaN</td>\n",
       "      <td>NaN</td>\n",
       "      <td>NaN</td>\n",
       "      <td>NaN</td>\n",
       "      <td>NaN</td>\n",
       "      <td>NaN</td>\n",
       "    </tr>\n",
       "    <tr>\n",
       "      <th>2003</th>\n",
       "      <td>NaN</td>\n",
       "      <td>8.84</td>\n",
       "      <td>NaN</td>\n",
       "      <td>NaN</td>\n",
       "      <td>NaN</td>\n",
       "      <td>NaN</td>\n",
       "      <td>NaN</td>\n",
       "      <td>NaN</td>\n",
       "    </tr>\n",
       "    <tr>\n",
       "      <th>2004</th>\n",
       "      <td>NaN</td>\n",
       "      <td>10.39</td>\n",
       "      <td>NaN</td>\n",
       "      <td>NaN</td>\n",
       "      <td>NaN</td>\n",
       "      <td>NaN</td>\n",
       "      <td>NaN</td>\n",
       "      <td>NaN</td>\n",
       "    </tr>\n",
       "    <tr>\n",
       "      <th>2005</th>\n",
       "      <td>NaN</td>\n",
       "      <td>4.37</td>\n",
       "      <td>NaN</td>\n",
       "      <td>NaN</td>\n",
       "      <td>NaN</td>\n",
       "      <td>NaN</td>\n",
       "      <td>8.25</td>\n",
       "      <td>NaN</td>\n",
       "    </tr>\n",
       "    <tr>\n",
       "      <th>2006</th>\n",
       "      <td>NaN</td>\n",
       "      <td>2.85</td>\n",
       "      <td>20.96</td>\n",
       "      <td>NaN</td>\n",
       "      <td>NaN</td>\n",
       "      <td>NaN</td>\n",
       "      <td>51.62</td>\n",
       "      <td>NaN</td>\n",
       "    </tr>\n",
       "    <tr>\n",
       "      <th>2007</th>\n",
       "      <td>NaN</td>\n",
       "      <td>9.28</td>\n",
       "      <td>73.19</td>\n",
       "      <td>NaN</td>\n",
       "      <td>NaN</td>\n",
       "      <td>NaN</td>\n",
       "      <td>95.41</td>\n",
       "      <td>NaN</td>\n",
       "    </tr>\n",
       "    <tr>\n",
       "      <th>2008</th>\n",
       "      <td>NaN</td>\n",
       "      <td>12.42</td>\n",
       "      <td>118.52</td>\n",
       "      <td>NaN</td>\n",
       "      <td>NaN</td>\n",
       "      <td>NaN</td>\n",
       "      <td>135.26</td>\n",
       "      <td>NaN</td>\n",
       "    </tr>\n",
       "    <tr>\n",
       "      <th>2009</th>\n",
       "      <td>NaN</td>\n",
       "      <td>16.91</td>\n",
       "      <td>130.93</td>\n",
       "      <td>NaN</td>\n",
       "      <td>NaN</td>\n",
       "      <td>NaN</td>\n",
       "      <td>120.29</td>\n",
       "      <td>NaN</td>\n",
       "    </tr>\n",
       "    <tr>\n",
       "      <th>2010</th>\n",
       "      <td>NaN</td>\n",
       "      <td>24.19</td>\n",
       "      <td>142.17</td>\n",
       "      <td>NaN</td>\n",
       "      <td>NaN</td>\n",
       "      <td>NaN</td>\n",
       "      <td>170.03</td>\n",
       "      <td>NaN</td>\n",
       "    </tr>\n",
       "    <tr>\n",
       "      <th>2011</th>\n",
       "      <td>63.20</td>\n",
       "      <td>34.99</td>\n",
       "      <td>156.78</td>\n",
       "      <td>NaN</td>\n",
       "      <td>4.63</td>\n",
       "      <td>NaN</td>\n",
       "      <td>143.84</td>\n",
       "      <td>NaN</td>\n",
       "    </tr>\n",
       "    <tr>\n",
       "      <th>2012</th>\n",
       "      <td>51.36</td>\n",
       "      <td>23.22</td>\n",
       "      <td>107.36</td>\n",
       "      <td>NaN</td>\n",
       "      <td>16.19</td>\n",
       "      <td>17.56</td>\n",
       "      <td>99.74</td>\n",
       "      <td>NaN</td>\n",
       "    </tr>\n",
       "    <tr>\n",
       "      <th>2013</th>\n",
       "      <td>56.57</td>\n",
       "      <td>12.38</td>\n",
       "      <td>113.25</td>\n",
       "      <td>25.99</td>\n",
       "      <td>10.59</td>\n",
       "      <td>21.65</td>\n",
       "      <td>88.58</td>\n",
       "      <td>18.96</td>\n",
       "    </tr>\n",
       "    <tr>\n",
       "      <th>2014</th>\n",
       "      <td>43.76</td>\n",
       "      <td>13.28</td>\n",
       "      <td>47.76</td>\n",
       "      <td>100.00</td>\n",
       "      <td>11.90</td>\n",
       "      <td>22.03</td>\n",
       "      <td>34.74</td>\n",
       "      <td>54.07</td>\n",
       "    </tr>\n",
       "    <tr>\n",
       "      <th>2015</th>\n",
       "      <td>27.78</td>\n",
       "      <td>8.52</td>\n",
       "      <td>16.82</td>\n",
       "      <td>118.90</td>\n",
       "      <td>6.25</td>\n",
       "      <td>16.35</td>\n",
       "      <td>11.96</td>\n",
       "      <td>60.14</td>\n",
       "    </tr>\n",
       "    <tr>\n",
       "      <th>2016</th>\n",
       "      <td>15.14</td>\n",
       "      <td>5.25</td>\n",
       "      <td>3.60</td>\n",
       "      <td>69.25</td>\n",
       "      <td>4.25</td>\n",
       "      <td>4.60</td>\n",
       "      <td>1.52</td>\n",
       "      <td>26.15</td>\n",
       "    </tr>\n",
       "  </tbody>\n",
       "</table>\n",
       "</div>"
      ],
      "text/plain": [
       "platform           3DS     PC     PS3     PS4    PSV   WiiU    X360   XOne\n",
       "year_of_release                                                           \n",
       "1985               NaN   0.04     NaN     NaN    NaN    NaN     NaN    NaN\n",
       "1988               NaN   0.03     NaN     NaN    NaN    NaN     NaN    NaN\n",
       "1992               NaN   3.03     NaN     NaN    NaN    NaN     NaN    NaN\n",
       "1994               NaN  12.87     NaN     NaN    NaN    NaN     NaN    NaN\n",
       "1995               NaN   4.22     NaN     NaN    NaN    NaN     NaN    NaN\n",
       "1996               NaN  10.58     NaN     NaN    NaN    NaN     NaN    NaN\n",
       "1997               NaN  11.27     NaN     NaN    NaN    NaN     NaN    NaN\n",
       "1998               NaN   3.26     NaN     NaN    NaN    NaN     NaN    NaN\n",
       "1999               NaN   4.74     NaN     NaN    NaN    NaN     NaN    NaN\n",
       "2000               NaN   4.66     NaN     NaN    NaN    NaN     NaN    NaN\n",
       "2001               NaN   5.47     NaN     NaN    NaN    NaN     NaN    NaN\n",
       "2002               NaN   8.57     NaN     NaN    NaN    NaN     NaN    NaN\n",
       "2003               NaN   8.84     NaN     NaN    NaN    NaN     NaN    NaN\n",
       "2004               NaN  10.39     NaN     NaN    NaN    NaN     NaN    NaN\n",
       "2005               NaN   4.37     NaN     NaN    NaN    NaN    8.25    NaN\n",
       "2006               NaN   2.85   20.96     NaN    NaN    NaN   51.62    NaN\n",
       "2007               NaN   9.28   73.19     NaN    NaN    NaN   95.41    NaN\n",
       "2008               NaN  12.42  118.52     NaN    NaN    NaN  135.26    NaN\n",
       "2009               NaN  16.91  130.93     NaN    NaN    NaN  120.29    NaN\n",
       "2010               NaN  24.19  142.17     NaN    NaN    NaN  170.03    NaN\n",
       "2011             63.20  34.99  156.78     NaN   4.63    NaN  143.84    NaN\n",
       "2012             51.36  23.22  107.36     NaN  16.19  17.56   99.74    NaN\n",
       "2013             56.57  12.38  113.25   25.99  10.59  21.65   88.58  18.96\n",
       "2014             43.76  13.28   47.76  100.00  11.90  22.03   34.74  54.07\n",
       "2015             27.78   8.52   16.82  118.90   6.25  16.35   11.96  60.14\n",
       "2016             15.14   5.25    3.60   69.25   4.25   4.60    1.52  26.15"
      ]
     },
     "execution_count": 36,
     "metadata": {},
     "output_type": "execute_result"
    }
   ],
   "source": [
    "df.query('platform in @df_platform.index').pivot_table(\n",
    "    index='year_of_release', columns='platform', values='total_sales', aggfunc='sum')"
   ]
  },
  {
   "cell_type": "markdown",
   "id": "f6b6f94a",
   "metadata": {},
   "source": [
    "Сводная таблица и график наглядно показывают цикл \"жизни\" платформ. **Средний срок существования платформы составляет 10-12 лет.\n",
    "Срок исчезновения старых и одновременно появления новых платформ составляет 4-6 лет.**"
   ]
  },
  {
   "cell_type": "code",
   "execution_count": 37,
   "id": "5a585c5e",
   "metadata": {},
   "outputs": [
    {
     "data": {
      "text/html": [
       "<div>\n",
       "<style scoped>\n",
       "    .dataframe tbody tr th:only-of-type {\n",
       "        vertical-align: middle;\n",
       "    }\n",
       "\n",
       "    .dataframe tbody tr th {\n",
       "        vertical-align: top;\n",
       "    }\n",
       "\n",
       "    .dataframe thead th {\n",
       "        text-align: right;\n",
       "    }\n",
       "</style>\n",
       "<table border=\"1\" class=\"dataframe\">\n",
       "  <thead>\n",
       "    <tr style=\"text-align: right;\">\n",
       "      <th></th>\n",
       "      <th>3DS</th>\n",
       "      <th>PC</th>\n",
       "      <th>PS3</th>\n",
       "      <th>PS4</th>\n",
       "      <th>PSV</th>\n",
       "      <th>WiiU</th>\n",
       "      <th>X360</th>\n",
       "      <th>XOne</th>\n",
       "    </tr>\n",
       "    <tr>\n",
       "      <th>year_of_release</th>\n",
       "      <th></th>\n",
       "      <th></th>\n",
       "      <th></th>\n",
       "      <th></th>\n",
       "      <th></th>\n",
       "      <th></th>\n",
       "      <th></th>\n",
       "      <th></th>\n",
       "    </tr>\n",
       "  </thead>\n",
       "  <tbody>\n",
       "    <tr>\n",
       "      <th>1985</th>\n",
       "      <td>NaN</td>\n",
       "      <td>0.04</td>\n",
       "      <td>NaN</td>\n",
       "      <td>NaN</td>\n",
       "      <td>NaN</td>\n",
       "      <td>NaN</td>\n",
       "      <td>NaN</td>\n",
       "      <td>NaN</td>\n",
       "    </tr>\n",
       "    <tr>\n",
       "      <th>1988</th>\n",
       "      <td>NaN</td>\n",
       "      <td>0.03</td>\n",
       "      <td>NaN</td>\n",
       "      <td>NaN</td>\n",
       "      <td>NaN</td>\n",
       "      <td>NaN</td>\n",
       "      <td>NaN</td>\n",
       "      <td>NaN</td>\n",
       "    </tr>\n",
       "    <tr>\n",
       "      <th>1992</th>\n",
       "      <td>NaN</td>\n",
       "      <td>3.03</td>\n",
       "      <td>NaN</td>\n",
       "      <td>NaN</td>\n",
       "      <td>NaN</td>\n",
       "      <td>NaN</td>\n",
       "      <td>NaN</td>\n",
       "      <td>NaN</td>\n",
       "    </tr>\n",
       "    <tr>\n",
       "      <th>1994</th>\n",
       "      <td>NaN</td>\n",
       "      <td>12.87</td>\n",
       "      <td>NaN</td>\n",
       "      <td>NaN</td>\n",
       "      <td>NaN</td>\n",
       "      <td>NaN</td>\n",
       "      <td>NaN</td>\n",
       "      <td>NaN</td>\n",
       "    </tr>\n",
       "    <tr>\n",
       "      <th>1995</th>\n",
       "      <td>NaN</td>\n",
       "      <td>4.22</td>\n",
       "      <td>NaN</td>\n",
       "      <td>NaN</td>\n",
       "      <td>NaN</td>\n",
       "      <td>NaN</td>\n",
       "      <td>NaN</td>\n",
       "      <td>NaN</td>\n",
       "    </tr>\n",
       "    <tr>\n",
       "      <th>1996</th>\n",
       "      <td>NaN</td>\n",
       "      <td>10.58</td>\n",
       "      <td>NaN</td>\n",
       "      <td>NaN</td>\n",
       "      <td>NaN</td>\n",
       "      <td>NaN</td>\n",
       "      <td>NaN</td>\n",
       "      <td>NaN</td>\n",
       "    </tr>\n",
       "    <tr>\n",
       "      <th>1997</th>\n",
       "      <td>NaN</td>\n",
       "      <td>11.27</td>\n",
       "      <td>NaN</td>\n",
       "      <td>NaN</td>\n",
       "      <td>NaN</td>\n",
       "      <td>NaN</td>\n",
       "      <td>NaN</td>\n",
       "      <td>NaN</td>\n",
       "    </tr>\n",
       "    <tr>\n",
       "      <th>1998</th>\n",
       "      <td>NaN</td>\n",
       "      <td>3.26</td>\n",
       "      <td>NaN</td>\n",
       "      <td>NaN</td>\n",
       "      <td>NaN</td>\n",
       "      <td>NaN</td>\n",
       "      <td>NaN</td>\n",
       "      <td>NaN</td>\n",
       "    </tr>\n",
       "    <tr>\n",
       "      <th>1999</th>\n",
       "      <td>NaN</td>\n",
       "      <td>4.74</td>\n",
       "      <td>NaN</td>\n",
       "      <td>NaN</td>\n",
       "      <td>NaN</td>\n",
       "      <td>NaN</td>\n",
       "      <td>NaN</td>\n",
       "      <td>NaN</td>\n",
       "    </tr>\n",
       "    <tr>\n",
       "      <th>2000</th>\n",
       "      <td>NaN</td>\n",
       "      <td>4.66</td>\n",
       "      <td>NaN</td>\n",
       "      <td>NaN</td>\n",
       "      <td>NaN</td>\n",
       "      <td>NaN</td>\n",
       "      <td>NaN</td>\n",
       "      <td>NaN</td>\n",
       "    </tr>\n",
       "    <tr>\n",
       "      <th>2001</th>\n",
       "      <td>NaN</td>\n",
       "      <td>5.47</td>\n",
       "      <td>NaN</td>\n",
       "      <td>NaN</td>\n",
       "      <td>NaN</td>\n",
       "      <td>NaN</td>\n",
       "      <td>NaN</td>\n",
       "      <td>NaN</td>\n",
       "    </tr>\n",
       "    <tr>\n",
       "      <th>2002</th>\n",
       "      <td>NaN</td>\n",
       "      <td>8.57</td>\n",
       "      <td>NaN</td>\n",
       "      <td>NaN</td>\n",
       "      <td>NaN</td>\n",
       "      <td>NaN</td>\n",
       "      <td>NaN</td>\n",
       "      <td>NaN</td>\n",
       "    </tr>\n",
       "    <tr>\n",
       "      <th>2003</th>\n",
       "      <td>NaN</td>\n",
       "      <td>8.84</td>\n",
       "      <td>NaN</td>\n",
       "      <td>NaN</td>\n",
       "      <td>NaN</td>\n",
       "      <td>NaN</td>\n",
       "      <td>NaN</td>\n",
       "      <td>NaN</td>\n",
       "    </tr>\n",
       "    <tr>\n",
       "      <th>2004</th>\n",
       "      <td>NaN</td>\n",
       "      <td>10.39</td>\n",
       "      <td>NaN</td>\n",
       "      <td>NaN</td>\n",
       "      <td>NaN</td>\n",
       "      <td>NaN</td>\n",
       "      <td>NaN</td>\n",
       "      <td>NaN</td>\n",
       "    </tr>\n",
       "    <tr>\n",
       "      <th>2005</th>\n",
       "      <td>NaN</td>\n",
       "      <td>4.37</td>\n",
       "      <td>NaN</td>\n",
       "      <td>NaN</td>\n",
       "      <td>NaN</td>\n",
       "      <td>NaN</td>\n",
       "      <td>8.25</td>\n",
       "      <td>NaN</td>\n",
       "    </tr>\n",
       "    <tr>\n",
       "      <th>2006</th>\n",
       "      <td>NaN</td>\n",
       "      <td>2.85</td>\n",
       "      <td>20.96</td>\n",
       "      <td>NaN</td>\n",
       "      <td>NaN</td>\n",
       "      <td>NaN</td>\n",
       "      <td>51.62</td>\n",
       "      <td>NaN</td>\n",
       "    </tr>\n",
       "    <tr>\n",
       "      <th>2007</th>\n",
       "      <td>NaN</td>\n",
       "      <td>9.28</td>\n",
       "      <td>73.19</td>\n",
       "      <td>NaN</td>\n",
       "      <td>NaN</td>\n",
       "      <td>NaN</td>\n",
       "      <td>95.41</td>\n",
       "      <td>NaN</td>\n",
       "    </tr>\n",
       "    <tr>\n",
       "      <th>2008</th>\n",
       "      <td>NaN</td>\n",
       "      <td>12.42</td>\n",
       "      <td>118.52</td>\n",
       "      <td>NaN</td>\n",
       "      <td>NaN</td>\n",
       "      <td>NaN</td>\n",
       "      <td>135.26</td>\n",
       "      <td>NaN</td>\n",
       "    </tr>\n",
       "    <tr>\n",
       "      <th>2009</th>\n",
       "      <td>NaN</td>\n",
       "      <td>16.91</td>\n",
       "      <td>130.93</td>\n",
       "      <td>NaN</td>\n",
       "      <td>NaN</td>\n",
       "      <td>NaN</td>\n",
       "      <td>120.29</td>\n",
       "      <td>NaN</td>\n",
       "    </tr>\n",
       "    <tr>\n",
       "      <th>2010</th>\n",
       "      <td>NaN</td>\n",
       "      <td>24.19</td>\n",
       "      <td>142.17</td>\n",
       "      <td>NaN</td>\n",
       "      <td>NaN</td>\n",
       "      <td>NaN</td>\n",
       "      <td>170.03</td>\n",
       "      <td>NaN</td>\n",
       "    </tr>\n",
       "    <tr>\n",
       "      <th>2011</th>\n",
       "      <td>63.20</td>\n",
       "      <td>34.99</td>\n",
       "      <td>156.78</td>\n",
       "      <td>NaN</td>\n",
       "      <td>4.63</td>\n",
       "      <td>NaN</td>\n",
       "      <td>143.84</td>\n",
       "      <td>NaN</td>\n",
       "    </tr>\n",
       "    <tr>\n",
       "      <th>2012</th>\n",
       "      <td>51.36</td>\n",
       "      <td>23.22</td>\n",
       "      <td>107.36</td>\n",
       "      <td>NaN</td>\n",
       "      <td>16.19</td>\n",
       "      <td>17.56</td>\n",
       "      <td>99.74</td>\n",
       "      <td>NaN</td>\n",
       "    </tr>\n",
       "    <tr>\n",
       "      <th>2013</th>\n",
       "      <td>56.57</td>\n",
       "      <td>12.38</td>\n",
       "      <td>113.25</td>\n",
       "      <td>25.99</td>\n",
       "      <td>10.59</td>\n",
       "      <td>21.65</td>\n",
       "      <td>88.58</td>\n",
       "      <td>18.96</td>\n",
       "    </tr>\n",
       "    <tr>\n",
       "      <th>2014</th>\n",
       "      <td>43.76</td>\n",
       "      <td>13.28</td>\n",
       "      <td>47.76</td>\n",
       "      <td>100.00</td>\n",
       "      <td>11.90</td>\n",
       "      <td>22.03</td>\n",
       "      <td>34.74</td>\n",
       "      <td>54.07</td>\n",
       "    </tr>\n",
       "    <tr>\n",
       "      <th>2015</th>\n",
       "      <td>27.78</td>\n",
       "      <td>8.52</td>\n",
       "      <td>16.82</td>\n",
       "      <td>118.90</td>\n",
       "      <td>6.25</td>\n",
       "      <td>16.35</td>\n",
       "      <td>11.96</td>\n",
       "      <td>60.14</td>\n",
       "    </tr>\n",
       "    <tr>\n",
       "      <th>2016</th>\n",
       "      <td>15.14</td>\n",
       "      <td>5.25</td>\n",
       "      <td>3.60</td>\n",
       "      <td>69.25</td>\n",
       "      <td>4.25</td>\n",
       "      <td>4.60</td>\n",
       "      <td>1.52</td>\n",
       "      <td>26.15</td>\n",
       "    </tr>\n",
       "  </tbody>\n",
       "</table>\n",
       "</div>"
      ],
      "text/plain": [
       "                   3DS     PC     PS3     PS4    PSV   WiiU    X360   XOne\n",
       "year_of_release                                                           \n",
       "1985               NaN   0.04     NaN     NaN    NaN    NaN     NaN    NaN\n",
       "1988               NaN   0.03     NaN     NaN    NaN    NaN     NaN    NaN\n",
       "1992               NaN   3.03     NaN     NaN    NaN    NaN     NaN    NaN\n",
       "1994               NaN  12.87     NaN     NaN    NaN    NaN     NaN    NaN\n",
       "1995               NaN   4.22     NaN     NaN    NaN    NaN     NaN    NaN\n",
       "1996               NaN  10.58     NaN     NaN    NaN    NaN     NaN    NaN\n",
       "1997               NaN  11.27     NaN     NaN    NaN    NaN     NaN    NaN\n",
       "1998               NaN   3.26     NaN     NaN    NaN    NaN     NaN    NaN\n",
       "1999               NaN   4.74     NaN     NaN    NaN    NaN     NaN    NaN\n",
       "2000               NaN   4.66     NaN     NaN    NaN    NaN     NaN    NaN\n",
       "2001               NaN   5.47     NaN     NaN    NaN    NaN     NaN    NaN\n",
       "2002               NaN   8.57     NaN     NaN    NaN    NaN     NaN    NaN\n",
       "2003               NaN   8.84     NaN     NaN    NaN    NaN     NaN    NaN\n",
       "2004               NaN  10.39     NaN     NaN    NaN    NaN     NaN    NaN\n",
       "2005               NaN   4.37     NaN     NaN    NaN    NaN    8.25    NaN\n",
       "2006               NaN   2.85   20.96     NaN    NaN    NaN   51.62    NaN\n",
       "2007               NaN   9.28   73.19     NaN    NaN    NaN   95.41    NaN\n",
       "2008               NaN  12.42  118.52     NaN    NaN    NaN  135.26    NaN\n",
       "2009               NaN  16.91  130.93     NaN    NaN    NaN  120.29    NaN\n",
       "2010               NaN  24.19  142.17     NaN    NaN    NaN  170.03    NaN\n",
       "2011             63.20  34.99  156.78     NaN   4.63    NaN  143.84    NaN\n",
       "2012             51.36  23.22  107.36     NaN  16.19  17.56   99.74    NaN\n",
       "2013             56.57  12.38  113.25   25.99  10.59  21.65   88.58  18.96\n",
       "2014             43.76  13.28   47.76  100.00  11.90  22.03   34.74  54.07\n",
       "2015             27.78   8.52   16.82  118.90   6.25  16.35   11.96  60.14\n",
       "2016             15.14   5.25    3.60   69.25   4.25   4.60    1.52  26.15"
      ]
     },
     "execution_count": 37,
     "metadata": {},
     "output_type": "execute_result"
    }
   ],
   "source": [
    "df_good = df.query('platform in @df_platform.index').pivot_table(\n",
    "    index='year_of_release', columns='platform', values='total_sales', aggfunc='sum')\n",
    "df_good.columns = ['3DS', 'PC', 'PS3', 'PS4', 'PSV', 'WiiU', 'X360', 'XOne']\n",
    "df_good"
   ]
  },
  {
   "cell_type": "code",
   "execution_count": 38,
   "id": "28555fab",
   "metadata": {},
   "outputs": [
    {
     "data": {
      "image/png": "[encoded data removed]",
      "text/plain": [
       "<Figure size 936x504 with 1 Axes>"
      ]
     },
     "metadata": {
      "needs_background": "light"
     },
     "output_type": "display_data"
    }
   ],
   "source": [
    "df_good.query('year_of_release>=2015').plot(kind='bar',rot=0, figsize=(13,7))\n",
    "plt.title('Продажи игр на самых популярных платформах за 2015- 2016гг')\n",
    "plt.ylabel('Количество проданных копий,млн')\n",
    "plt.xlabel('');"
   ]
  },
  {
   "cell_type": "markdown",
   "id": "1ef8d70f",
   "metadata": {},
   "source": [
    "**Вывод:** Потенциально прибыльными платформами в 2017 году будем считать **3DS, PS4, PC и XOne**. Платформам PS3 и X360  в 2016 году исполнилось  11 и 12 лет соответственно, такие платформы находятся в конце своего \"жизненного\" цикла и не будут приносить прибыль в 2017 году. Игры на PC приносят хоть и небольшую прибыль, но продажи стабильны из года в год."
   ]
  },
  {
   "cell_type": "markdown",
   "id": "c0267707",
   "metadata": {},
   "source": [
    "#### Сгруппируем продажи игр по платформам за 2015 и 2016 годы и построим диаграмму размаха."
   ]
  },
  {
   "cell_type": "code",
   "execution_count": 39,
   "id": "4df4a60a",
   "metadata": {},
   "outputs": [
    {
     "data": {
      "text/html": [
       "<div>\n",
       "<style scoped>\n",
       "    .dataframe tbody tr th:only-of-type {\n",
       "        vertical-align: middle;\n",
       "    }\n",
       "\n",
       "    .dataframe tbody tr th {\n",
       "        vertical-align: top;\n",
       "    }\n",
       "\n",
       "    .dataframe thead th {\n",
       "        text-align: right;\n",
       "    }\n",
       "</style>\n",
       "<table border=\"1\" class=\"dataframe\">\n",
       "  <thead>\n",
       "    <tr style=\"text-align: right;\">\n",
       "      <th>platform</th>\n",
       "      <th>3DS</th>\n",
       "      <th>PC</th>\n",
       "      <th>PS3</th>\n",
       "      <th>PS4</th>\n",
       "      <th>PSP</th>\n",
       "      <th>PSV</th>\n",
       "      <th>Wii</th>\n",
       "      <th>WiiU</th>\n",
       "      <th>X360</th>\n",
       "      <th>XOne</th>\n",
       "    </tr>\n",
       "    <tr>\n",
       "      <th>name</th>\n",
       "      <th></th>\n",
       "      <th></th>\n",
       "      <th></th>\n",
       "      <th></th>\n",
       "      <th></th>\n",
       "      <th></th>\n",
       "      <th></th>\n",
       "      <th></th>\n",
       "      <th></th>\n",
       "      <th></th>\n",
       "    </tr>\n",
       "  </thead>\n",
       "  <tbody>\n",
       "    <tr>\n",
       "      <th>Beyblade Burst</th>\n",
       "      <td>0.03</td>\n",
       "      <td>NaN</td>\n",
       "      <td>NaN</td>\n",
       "      <td>NaN</td>\n",
       "      <td>NaN</td>\n",
       "      <td>NaN</td>\n",
       "      <td>NaN</td>\n",
       "      <td>NaN</td>\n",
       "      <td>NaN</td>\n",
       "      <td>NaN</td>\n",
       "    </tr>\n",
       "    <tr>\n",
       "      <th>Fire Emblem Fates</th>\n",
       "      <td>1.67</td>\n",
       "      <td>NaN</td>\n",
       "      <td>NaN</td>\n",
       "      <td>NaN</td>\n",
       "      <td>NaN</td>\n",
       "      <td>NaN</td>\n",
       "      <td>NaN</td>\n",
       "      <td>NaN</td>\n",
       "      <td>NaN</td>\n",
       "      <td>NaN</td>\n",
       "    </tr>\n",
       "    <tr>\n",
       "      <th>Haikyu!! Cross Team Match!</th>\n",
       "      <td>0.04</td>\n",
       "      <td>NaN</td>\n",
       "      <td>NaN</td>\n",
       "      <td>NaN</td>\n",
       "      <td>NaN</td>\n",
       "      <td>NaN</td>\n",
       "      <td>NaN</td>\n",
       "      <td>NaN</td>\n",
       "      <td>NaN</td>\n",
       "      <td>NaN</td>\n",
       "    </tr>\n",
       "    <tr>\n",
       "      <th>12-Sai. Koisuru Diary</th>\n",
       "      <td>0.05</td>\n",
       "      <td>NaN</td>\n",
       "      <td>NaN</td>\n",
       "      <td>NaN</td>\n",
       "      <td>NaN</td>\n",
       "      <td>NaN</td>\n",
       "      <td>NaN</td>\n",
       "      <td>NaN</td>\n",
       "      <td>NaN</td>\n",
       "      <td>NaN</td>\n",
       "    </tr>\n",
       "    <tr>\n",
       "      <th>3DS Classic Collection</th>\n",
       "      <td>0.03</td>\n",
       "      <td>NaN</td>\n",
       "      <td>NaN</td>\n",
       "      <td>NaN</td>\n",
       "      <td>NaN</td>\n",
       "      <td>NaN</td>\n",
       "      <td>NaN</td>\n",
       "      <td>NaN</td>\n",
       "      <td>NaN</td>\n",
       "      <td>NaN</td>\n",
       "    </tr>\n",
       "    <tr>\n",
       "      <th>...</th>\n",
       "      <td>...</td>\n",
       "      <td>...</td>\n",
       "      <td>...</td>\n",
       "      <td>...</td>\n",
       "      <td>...</td>\n",
       "      <td>...</td>\n",
       "      <td>...</td>\n",
       "      <td>...</td>\n",
       "      <td>...</td>\n",
       "      <td>...</td>\n",
       "    </tr>\n",
       "    <tr>\n",
       "      <th>Yuusha Shisu.</th>\n",
       "      <td>NaN</td>\n",
       "      <td>NaN</td>\n",
       "      <td>NaN</td>\n",
       "      <td>NaN</td>\n",
       "      <td>NaN</td>\n",
       "      <td>0.03</td>\n",
       "      <td>NaN</td>\n",
       "      <td>NaN</td>\n",
       "      <td>NaN</td>\n",
       "      <td>NaN</td>\n",
       "    </tr>\n",
       "    <tr>\n",
       "      <th>Zero Escape: Zero Time Dilemma</th>\n",
       "      <td>0.08</td>\n",
       "      <td>NaN</td>\n",
       "      <td>NaN</td>\n",
       "      <td>NaN</td>\n",
       "      <td>NaN</td>\n",
       "      <td>0.06</td>\n",
       "      <td>NaN</td>\n",
       "      <td>NaN</td>\n",
       "      <td>NaN</td>\n",
       "      <td>NaN</td>\n",
       "    </tr>\n",
       "    <tr>\n",
       "      <th>Zettai Kaikyuu Gakuen: Eden with Roses and Phantasm</th>\n",
       "      <td>NaN</td>\n",
       "      <td>NaN</td>\n",
       "      <td>NaN</td>\n",
       "      <td>NaN</td>\n",
       "      <td>NaN</td>\n",
       "      <td>0.01</td>\n",
       "      <td>NaN</td>\n",
       "      <td>NaN</td>\n",
       "      <td>NaN</td>\n",
       "      <td>NaN</td>\n",
       "    </tr>\n",
       "    <tr>\n",
       "      <th>ZombiU</th>\n",
       "      <td>NaN</td>\n",
       "      <td>NaN</td>\n",
       "      <td>NaN</td>\n",
       "      <td>0.06</td>\n",
       "      <td>NaN</td>\n",
       "      <td>NaN</td>\n",
       "      <td>NaN</td>\n",
       "      <td>NaN</td>\n",
       "      <td>NaN</td>\n",
       "      <td>0.01</td>\n",
       "    </tr>\n",
       "    <tr>\n",
       "      <th>Zombie Army Trilogy</th>\n",
       "      <td>NaN</td>\n",
       "      <td>NaN</td>\n",
       "      <td>NaN</td>\n",
       "      <td>0.20</td>\n",
       "      <td>NaN</td>\n",
       "      <td>NaN</td>\n",
       "      <td>NaN</td>\n",
       "      <td>NaN</td>\n",
       "      <td>NaN</td>\n",
       "      <td>0.11</td>\n",
       "    </tr>\n",
       "  </tbody>\n",
       "</table>\n",
       "<p>654 rows × 10 columns</p>\n",
       "</div>"
      ],
      "text/plain": [
       "platform                                             3DS  PC  PS3   PS4  PSP  \\\n",
       "name                                                                           \n",
       " Beyblade Burst                                     0.03 NaN  NaN   NaN  NaN   \n",
       " Fire Emblem Fates                                  1.67 NaN  NaN   NaN  NaN   \n",
       " Haikyu!! Cross Team Match!                         0.04 NaN  NaN   NaN  NaN   \n",
       "12-Sai. Koisuru Diary                               0.05 NaN  NaN   NaN  NaN   \n",
       "3DS Classic Collection                              0.03 NaN  NaN   NaN  NaN   \n",
       "...                                                  ...  ..  ...   ...  ...   \n",
       "Yuusha Shisu.                                        NaN NaN  NaN   NaN  NaN   \n",
       "Zero Escape: Zero Time Dilemma                      0.08 NaN  NaN   NaN  NaN   \n",
       "Zettai Kaikyuu Gakuen: Eden with Roses and Phan...   NaN NaN  NaN   NaN  NaN   \n",
       "ZombiU                                               NaN NaN  NaN  0.06  NaN   \n",
       "Zombie Army Trilogy                                  NaN NaN  NaN  0.20  NaN   \n",
       "\n",
       "platform                                             PSV  Wii  WiiU  X360  \\\n",
       "name                                                                        \n",
       " Beyblade Burst                                      NaN  NaN   NaN   NaN   \n",
       " Fire Emblem Fates                                   NaN  NaN   NaN   NaN   \n",
       " Haikyu!! Cross Team Match!                          NaN  NaN   NaN   NaN   \n",
       "12-Sai. Koisuru Diary                                NaN  NaN   NaN   NaN   \n",
       "3DS Classic Collection                               NaN  NaN   NaN   NaN   \n",
       "...                                                  ...  ...   ...   ...   \n",
       "Yuusha Shisu.                                       0.03  NaN   NaN   NaN   \n",
       "Zero Escape: Zero Time Dilemma                      0.06  NaN   NaN   NaN   \n",
       "Zettai Kaikyuu Gakuen: Eden with Roses and Phan...  0.01  NaN   NaN   NaN   \n",
       "ZombiU                                               NaN  NaN   NaN   NaN   \n",
       "Zombie Army Trilogy                                  NaN  NaN   NaN   NaN   \n",
       "\n",
       "platform                                            XOne  \n",
       "name                                                      \n",
       " Beyblade Burst                                      NaN  \n",
       " Fire Emblem Fates                                   NaN  \n",
       " Haikyu!! Cross Team Match!                          NaN  \n",
       "12-Sai. Koisuru Diary                                NaN  \n",
       "3DS Classic Collection                               NaN  \n",
       "...                                                  ...  \n",
       "Yuusha Shisu.                                        NaN  \n",
       "Zero Escape: Zero Time Dilemma                       NaN  \n",
       "Zettai Kaikyuu Gakuen: Eden with Roses and Phan...   NaN  \n",
       "ZombiU                                              0.01  \n",
       "Zombie Army Trilogy                                 0.11  \n",
       "\n",
       "[654 rows x 10 columns]"
      ]
     },
     "execution_count": 39,
     "metadata": {},
     "output_type": "execute_result"
    }
   ],
   "source": [
    "df_good_year = df.query('year_of_release>=2015')\n",
    "df_good_year.pivot_table(index='name',columns='platform',values='total_sales')"
   ]
  },
  {
   "cell_type": "code",
   "execution_count": 40,
   "id": "466a9d4a",
   "metadata": {},
   "outputs": [
    {
     "data": {
      "image/png": "[encoded data removed]",
      "text/plain": [
       "<Figure size 864x432 with 1 Axes>"
      ]
     },
     "metadata": {
      "needs_background": "light"
     },
     "output_type": "display_data"
    }
   ],
   "source": [
    "df_good_year.pivot_table(index='name',columns='platform',values='total_sales').boxplot(figsize=(12,6))\n",
    "plt.ylabel('Количество проданных копий,млн', fontsize=13)\n",
    "plt.title('Диаграмма размаха продаж игр с разбивкой по платформам',fontsize=15);"
   ]
  },
  {
   "cell_type": "code",
   "execution_count": 41,
   "id": "a94cc784",
   "metadata": {},
   "outputs": [
    {
     "data": {
      "text/html": [
       "<div>\n",
       "<style scoped>\n",
       "    .dataframe tbody tr th:only-of-type {\n",
       "        vertical-align: middle;\n",
       "    }\n",
       "\n",
       "    .dataframe tbody tr th {\n",
       "        vertical-align: top;\n",
       "    }\n",
       "\n",
       "    .dataframe thead th {\n",
       "        text-align: right;\n",
       "    }\n",
       "</style>\n",
       "<table border=\"1\" class=\"dataframe\">\n",
       "  <thead>\n",
       "    <tr style=\"text-align: right;\">\n",
       "      <th>platform</th>\n",
       "      <th>3DS</th>\n",
       "      <th>PC</th>\n",
       "      <th>PS3</th>\n",
       "      <th>PS4</th>\n",
       "      <th>PSP</th>\n",
       "      <th>PSV</th>\n",
       "      <th>Wii</th>\n",
       "      <th>WiiU</th>\n",
       "      <th>X360</th>\n",
       "      <th>XOne</th>\n",
       "    </tr>\n",
       "  </thead>\n",
       "  <tbody>\n",
       "    <tr>\n",
       "      <th>count</th>\n",
       "      <td>132.000000</td>\n",
       "      <td>104.000000</td>\n",
       "      <td>111.000000</td>\n",
       "      <td>301.000000</td>\n",
       "      <td>3.000000</td>\n",
       "      <td>195.000000</td>\n",
       "      <td>5.000000</td>\n",
       "      <td>42.00000</td>\n",
       "      <td>48.000000</td>\n",
       "      <td>167.000000</td>\n",
       "    </tr>\n",
       "    <tr>\n",
       "      <th>mean</th>\n",
       "      <td>0.325152</td>\n",
       "      <td>0.132404</td>\n",
       "      <td>0.183964</td>\n",
       "      <td>0.625083</td>\n",
       "      <td>0.040000</td>\n",
       "      <td>0.053846</td>\n",
       "      <td>0.264000</td>\n",
       "      <td>0.49881</td>\n",
       "      <td>0.280833</td>\n",
       "      <td>0.516707</td>\n",
       "    </tr>\n",
       "    <tr>\n",
       "      <th>std</th>\n",
       "      <td>0.798620</td>\n",
       "      <td>0.209449</td>\n",
       "      <td>0.342696</td>\n",
       "      <td>1.457063</td>\n",
       "      <td>0.034641</td>\n",
       "      <td>0.063669</td>\n",
       "      <td>0.390487</td>\n",
       "      <td>0.85024</td>\n",
       "      <td>0.381207</td>\n",
       "      <td>0.965940</td>\n",
       "    </tr>\n",
       "    <tr>\n",
       "      <th>min</th>\n",
       "      <td>0.010000</td>\n",
       "      <td>0.010000</td>\n",
       "      <td>0.010000</td>\n",
       "      <td>0.010000</td>\n",
       "      <td>0.020000</td>\n",
       "      <td>0.010000</td>\n",
       "      <td>0.010000</td>\n",
       "      <td>0.01000</td>\n",
       "      <td>0.010000</td>\n",
       "      <td>0.010000</td>\n",
       "    </tr>\n",
       "    <tr>\n",
       "      <th>25%</th>\n",
       "      <td>0.030000</td>\n",
       "      <td>0.020000</td>\n",
       "      <td>0.020000</td>\n",
       "      <td>0.050000</td>\n",
       "      <td>0.020000</td>\n",
       "      <td>0.020000</td>\n",
       "      <td>0.030000</td>\n",
       "      <td>0.05000</td>\n",
       "      <td>0.040000</td>\n",
       "      <td>0.035000</td>\n",
       "    </tr>\n",
       "    <tr>\n",
       "      <th>50%</th>\n",
       "      <td>0.090000</td>\n",
       "      <td>0.050000</td>\n",
       "      <td>0.060000</td>\n",
       "      <td>0.120000</td>\n",
       "      <td>0.020000</td>\n",
       "      <td>0.030000</td>\n",
       "      <td>0.150000</td>\n",
       "      <td>0.21500</td>\n",
       "      <td>0.110000</td>\n",
       "      <td>0.130000</td>\n",
       "    </tr>\n",
       "    <tr>\n",
       "      <th>75%</th>\n",
       "      <td>0.232500</td>\n",
       "      <td>0.142500</td>\n",
       "      <td>0.160000</td>\n",
       "      <td>0.420000</td>\n",
       "      <td>0.050000</td>\n",
       "      <td>0.060000</td>\n",
       "      <td>0.180000</td>\n",
       "      <td>0.51750</td>\n",
       "      <td>0.352500</td>\n",
       "      <td>0.555000</td>\n",
       "    </tr>\n",
       "    <tr>\n",
       "      <th>max</th>\n",
       "      <td>7.140000</td>\n",
       "      <td>1.280000</td>\n",
       "      <td>2.700000</td>\n",
       "      <td>14.630000</td>\n",
       "      <td>0.080000</td>\n",
       "      <td>0.410000</td>\n",
       "      <td>0.950000</td>\n",
       "      <td>4.44000</td>\n",
       "      <td>1.700000</td>\n",
       "      <td>7.390000</td>\n",
       "    </tr>\n",
       "  </tbody>\n",
       "</table>\n",
       "</div>"
      ],
      "text/plain": [
       "platform         3DS          PC         PS3         PS4       PSP  \\\n",
       "count     132.000000  104.000000  111.000000  301.000000  3.000000   \n",
       "mean        0.325152    0.132404    0.183964    0.625083  0.040000   \n",
       "std         0.798620    0.209449    0.342696    1.457063  0.034641   \n",
       "min         0.010000    0.010000    0.010000    0.010000  0.020000   \n",
       "25%         0.030000    0.020000    0.020000    0.050000  0.020000   \n",
       "50%         0.090000    0.050000    0.060000    0.120000  0.020000   \n",
       "75%         0.232500    0.142500    0.160000    0.420000  0.050000   \n",
       "max         7.140000    1.280000    2.700000   14.630000  0.080000   \n",
       "\n",
       "platform         PSV       Wii      WiiU       X360        XOne  \n",
       "count     195.000000  5.000000  42.00000  48.000000  167.000000  \n",
       "mean        0.053846  0.264000   0.49881   0.280833    0.516707  \n",
       "std         0.063669  0.390487   0.85024   0.381207    0.965940  \n",
       "min         0.010000  0.010000   0.01000   0.010000    0.010000  \n",
       "25%         0.020000  0.030000   0.05000   0.040000    0.035000  \n",
       "50%         0.030000  0.150000   0.21500   0.110000    0.130000  \n",
       "75%         0.060000  0.180000   0.51750   0.352500    0.555000  \n",
       "max         0.410000  0.950000   4.44000   1.700000    7.390000  "
      ]
     },
     "execution_count": 41,
     "metadata": {},
     "output_type": "execute_result"
    }
   ],
   "source": [
    "df_good_year.pivot_table(index='name',columns='platform',values='total_sales').describe()"
   ]
  },
  {
   "cell_type": "code",
   "execution_count": 42,
   "id": "a689e32c",
   "metadata": {},
   "outputs": [
    {
     "data": {
      "image/png": "[encoded data removed]",
      "text/plain": [
       "<Figure size 864x432 with 1 Axes>"
      ]
     },
     "metadata": {
      "needs_background": "light"
     },
     "output_type": "display_data"
    }
   ],
   "source": [
    "df_good_year.pivot_table(index='name',columns='platform',values='total_sales').boxplot(figsize=(12,6))\n",
    "plt.title('Диаграмма размаха продаж игр с разбивкой по платформам', fontsize=15)\n",
    "plt.ylim(0,1.4);\n",
    "plt.ylabel('Количество проданных копий,млн', fontsize=12);"
   ]
  },
  {
   "cell_type": "markdown",
   "id": "97765325",
   "metadata": {},
   "source": [
    "Видим, что на платформах медианы продаж различаются. Выделим платформы PS4, WiiU, XOne - платформы с наиболее длинным рядом стабильно продающихся игр. "
   ]
  },
  {
   "cell_type": "markdown",
   "id": "f47a883b",
   "metadata": {},
   "source": [
    "#### Посмотрим, как влияют на продажи внутри одной популярной платформы отзывы пользователей и критиков"
   ]
  },
  {
   "cell_type": "markdown",
   "id": "b0341de0",
   "metadata": {},
   "source": [
    "##### Построим диаграмму рассеяния и найдем коэффициент корреляции между оценками критиков, пользователей и продажами игр на платформе PS4 "
   ]
  },
  {
   "cell_type": "code",
   "execution_count": 43,
   "id": "550e3213",
   "metadata": {},
   "outputs": [
    {
     "data": {
      "image/png": "[encoded data removed]",
      "text/plain": [
       "<Figure size 432x288 with 1 Axes>"
      ]
     },
     "metadata": {
      "needs_background": "light"
     },
     "output_type": "display_data"
    }
   ],
   "source": [
    "df_good_year.query('platform==\"PS4\"').plot(x='critic_score', y='total_sales', kind = 'scatter', grid=True, title='')\n",
    "plt.ylabel('Суммарные продажи')\n",
    "plt.xlabel('Оценка критиков');"
   ]
  },
  {
   "cell_type": "code",
   "execution_count": 44,
   "id": "744bc28c",
   "metadata": {},
   "outputs": [
    {
     "data": {
      "image/png": "[encoded data removed]",
      "text/plain": [
       "<Figure size 432x288 with 1 Axes>"
      ]
     },
     "metadata": {
      "needs_background": "light"
     },
     "output_type": "display_data"
    }
   ],
   "source": [
    "df_good_year.query('platform==\"PS4\"').plot(x='user_score', y='total_sales', kind = 'scatter', grid=True, title='')\n",
    "plt.ylabel('Суммарные продажи')\n",
    "plt.xlabel('Оценка пользователей');"
   ]
  },
  {
   "cell_type": "code",
   "execution_count": 45,
   "id": "e995ca26",
   "metadata": {},
   "outputs": [
    {
     "data": {
      "text/plain": [
       "-0.05973845712638215"
      ]
     },
     "execution_count": 45,
     "metadata": {},
     "output_type": "execute_result"
    }
   ],
   "source": [
    "df_good_year[df_good_year['platform']==\"PS4\"]['user_score'].corr(df['total_sales']) "
   ]
  },
  {
   "cell_type": "code",
   "execution_count": 46,
   "id": "e32cd4ec",
   "metadata": {},
   "outputs": [
    {
     "data": {
      "text/plain": [
       "0.3928485555130601"
      ]
     },
     "execution_count": 46,
     "metadata": {},
     "output_type": "execute_result"
    }
   ],
   "source": [
    "df_good_year[df_good_year['platform']==\"PS4\"]['critic_score'].corr(df['total_sales'])"
   ]
  },
  {
   "cell_type": "markdown",
   "id": "750b1ca5",
   "metadata": {},
   "source": [
    "Вывод: оценки пользователей не влияют на продажи игр на данной платформе, корреляция практически нулевая. Либо между оценками пользователей и продажами существует более сложная нелинейная связь.\\\n",
    "Между оценками критиков и продажами существует умеренная линейная зависимость.  "
   ]
  },
  {
   "cell_type": "markdown",
   "id": "9f4f8a5a",
   "metadata": {},
   "source": [
    "##### Сопоставим данные исследования с данными по другим потенциально прибыльным платформам:"
   ]
  },
  {
   "cell_type": "code",
   "execution_count": 47,
   "id": "a464b3af",
   "metadata": {},
   "outputs": [
    {
     "data": {
      "image/png": "[encoded data removed]",
      "text/plain": [
       "<Figure size 1008x432 with 2 Axes>"
      ]
     },
     "metadata": {
      "needs_background": "light"
     },
     "output_type": "display_data"
    },
    {
     "data": {
      "image/png": "[encoded data removed]",
      "text/plain": [
       "<Figure size 1008x432 with 2 Axes>"
      ]
     },
     "metadata": {
      "needs_background": "light"
     },
     "output_type": "display_data"
    },
    {
     "data": {
      "image/png": "[encoded data removed]",
      "text/plain": [
       "<Figure size 1008x432 with 2 Axes>"
      ]
     },
     "metadata": {
      "needs_background": "light"
     },
     "output_type": "display_data"
    }
   ],
   "source": [
    "for name_platform in ['3DS','XOne','PC']:\n",
    "    x_critic = df_good_year[df_good_year['platform']==name_platform]['critic_score']\n",
    "    y_critic = df_good_year[df_good_year['platform']==name_platform]['total_sales']\n",
    "    \n",
    "    x_user = df_good_year[df_good_year['platform']==name_platform]['user_score']\n",
    "    y_user = df_good_year[df_good_year['platform']==name_platform]['total_sales']\n",
    "    \n",
    "    fig = plt.figure(figsize=(14, 6))\n",
    "    \n",
    "    plt.subplot(1, 2, 1)\n",
    "    plt.scatter(x_critic,y_critic)\n",
    "    plt.title('Анализ зависимости продаж на платформе ' + name_platform +'\\n от оценки критиков')\n",
    "    plt.ylabel('Количество проданных копий, млн',fontsize=13)\n",
    "    plt.subplot(1, 2, 2)\n",
    "    plt.scatter(x_user,y_user)\n",
    "    plt.title('Анализ зависимости продаж на платформе ' + name_platform +'\\n от оценки пользователей')\n",
    "    plt.ylabel('Количество проданных копий, млн',fontsize=13)\n",
    "\n",
    "    plt.show()"
   ]
  },
  {
   "cell_type": "code",
   "execution_count": 70,
   "id": "d24f9149",
   "metadata": {},
   "outputs": [
    {
     "name": "stdout",
     "output_type": "stream",
     "text": [
      "3DS : 0.19879627008102982\n",
      "XOne : -0.04146733387366271\n",
      "PC : 0.15038053045029076\n"
     ]
    }
   ],
   "source": [
    "for name in ['3DS','XOne','PC']:\n",
    "    print(name,':',df_good_year[df_good_year['platform']==name]['user_score'].corr(df['total_sales']))"
   ]
  },
  {
   "cell_type": "markdown",
   "id": "6c218cf9",
   "metadata": {},
   "source": [
    "Согласно графикам и коэффициентам корреляции, для всех платформ связи между отзывами пользователей и продажами не наблюдается (малая связь)."
   ]
  },
  {
   "cell_type": "code",
   "execution_count": 71,
   "id": "0cb016b4",
   "metadata": {},
   "outputs": [
    {
     "name": "stdout",
     "output_type": "stream",
     "text": [
      "3DS : 0.17757455046092874\n",
      "XOne : 0.43088874582136805\n",
      "PC : 0.3773317477241351\n"
     ]
    }
   ],
   "source": [
    "for name in ['3DS','XOne','PC']:\n",
    "    print(name,':',df_good_year[df_good_year['platform']==name]['critic_score'].corr(df['total_sales']))"
   ]
  },
  {
   "cell_type": "markdown",
   "id": "9f60be50",
   "metadata": {},
   "source": [
    "По платформам XOne и PC: между отзывами критиков и продажами наблюдается умеренная(средняя) связь. Вероятно, пользователи сильнее прислушиваются к отзывам критиков, нежели к отзывам пользователей. \\\n",
    "По платформе 3DS:связи между отзывами критиков и продажами не наблюдается (малая связь). "
   ]
  },
  {
   "cell_type": "markdown",
   "id": "8cfee46a",
   "metadata": {},
   "source": [
    "#### Посмотрим на распределение игр по жанрам"
   ]
  },
  {
   "cell_type": "code",
   "execution_count": 50,
   "id": "78f2ce85",
   "metadata": {},
   "outputs": [
    {
     "data": {
      "text/plain": [
       "genre\n",
       "Action          3304\n",
       "Sports          2306\n",
       "Misc            1716\n",
       "Role-Playing    1481\n",
       "Shooter         1296\n",
       "Adventure       1291\n",
       "Racing          1226\n",
       "Platform         878\n",
       "Simulation       857\n",
       "Fighting         837\n",
       "Strategy         672\n",
       "Puzzle           569\n",
       "Name: name, dtype: int64"
      ]
     },
     "execution_count": 50,
     "metadata": {},
     "output_type": "execute_result"
    }
   ],
   "source": [
    "df.groupby('genre')['name'].count().sort_values(ascending=False)"
   ]
  },
  {
   "cell_type": "markdown",
   "id": "6a279a95",
   "metadata": {},
   "source": [
    "Самыми распространенными игровыми жанрами являются Action и Sports, наименее распространенными -Strategy и Puzzle."
   ]
  },
  {
   "cell_type": "markdown",
   "id": "027596ca",
   "metadata": {},
   "source": [
    "Проанализируем прибыльность жанров на диаграмме размаха."
   ]
  },
  {
   "cell_type": "code",
   "execution_count": 51,
   "id": "8ab8115a",
   "metadata": {},
   "outputs": [
    {
     "data": {
      "image/png": "[encoded data removed]",
      "text/plain": [
       "<Figure size 864x432 with 1 Axes>"
      ]
     },
     "metadata": {
      "needs_background": "light"
     },
     "output_type": "display_data"
    }
   ],
   "source": [
    "df_good_year.pivot_table(index= df_good_year.index, columns='genre',values='total_sales').boxplot(figsize=(12,6))\n",
    "plt.title('Диаграмма размаха продаж игр с разбивкой по жанрам', fontsize=15)\n",
    "plt.ylabel('Количество проданных копий,млн', fontsize=12);"
   ]
  },
  {
   "cell_type": "code",
   "execution_count": 52,
   "id": "826ce977",
   "metadata": {},
   "outputs": [
    {
     "data": {
      "image/png": "[encoded data removed]",
      "text/plain": [
       "<Figure size 864x432 with 1 Axes>"
      ]
     },
     "metadata": {
      "needs_background": "light"
     },
     "output_type": "display_data"
    }
   ],
   "source": [
    "df_good_year.pivot_table(index= df_good_year.index, columns='genre',values='total_sales').boxplot(figsize=(12,6))\n",
    "plt.ylim(0,2)\n",
    "plt.title('Диаграмма размаха продаж игр с разбивкой по жанрам', fontsize=15)\n",
    "plt.ylabel('Количество проданных копий,млн', fontsize=12);"
   ]
  },
  {
   "cell_type": "code",
   "execution_count": 53,
   "id": "cfabfd37",
   "metadata": {},
   "outputs": [
    {
     "data": {
      "text/html": [
       "<div>\n",
       "<style scoped>\n",
       "    .dataframe tbody tr th:only-of-type {\n",
       "        vertical-align: middle;\n",
       "    }\n",
       "\n",
       "    .dataframe tbody tr th {\n",
       "        vertical-align: top;\n",
       "    }\n",
       "\n",
       "    .dataframe thead th {\n",
       "        text-align: right;\n",
       "    }\n",
       "</style>\n",
       "<table border=\"1\" class=\"dataframe\">\n",
       "  <thead>\n",
       "    <tr style=\"text-align: right;\">\n",
       "      <th>genre</th>\n",
       "      <th>Action</th>\n",
       "      <th>Adventure</th>\n",
       "      <th>Fighting</th>\n",
       "      <th>Misc</th>\n",
       "      <th>Platform</th>\n",
       "      <th>Puzzle</th>\n",
       "      <th>Racing</th>\n",
       "      <th>Role-Playing</th>\n",
       "      <th>Shooter</th>\n",
       "      <th>Simulation</th>\n",
       "      <th>Sports</th>\n",
       "      <th>Strategy</th>\n",
       "    </tr>\n",
       "  </thead>\n",
       "  <tbody>\n",
       "    <tr>\n",
       "      <th>count</th>\n",
       "      <td>431.000000</td>\n",
       "      <td>110.000000</td>\n",
       "      <td>37.000000</td>\n",
       "      <td>71.000000</td>\n",
       "      <td>28.000000</td>\n",
       "      <td>7.000000</td>\n",
       "      <td>42.000000</td>\n",
       "      <td>132.000000</td>\n",
       "      <td>81.000000</td>\n",
       "      <td>33.000000</td>\n",
       "      <td>107.000000</td>\n",
       "      <td>29.000000</td>\n",
       "    </tr>\n",
       "    <tr>\n",
       "      <th>mean</th>\n",
       "      <td>0.236961</td>\n",
       "      <td>0.108909</td>\n",
       "      <td>0.334324</td>\n",
       "      <td>0.199577</td>\n",
       "      <td>0.331429</td>\n",
       "      <td>0.102857</td>\n",
       "      <td>0.258571</td>\n",
       "      <td>0.422879</td>\n",
       "      <td>1.305309</td>\n",
       "      <td>0.228788</td>\n",
       "      <td>0.601215</td>\n",
       "      <td>0.102759</td>\n",
       "    </tr>\n",
       "    <tr>\n",
       "      <th>std</th>\n",
       "      <td>0.525858</td>\n",
       "      <td>0.254260</td>\n",
       "      <td>0.549695</td>\n",
       "      <td>0.286718</td>\n",
       "      <td>0.667387</td>\n",
       "      <td>0.170070</td>\n",
       "      <td>0.497342</td>\n",
       "      <td>1.028082</td>\n",
       "      <td>2.227297</td>\n",
       "      <td>0.531018</td>\n",
       "      <td>1.292693</td>\n",
       "      <td>0.115539</td>\n",
       "    </tr>\n",
       "    <tr>\n",
       "      <th>min</th>\n",
       "      <td>0.010000</td>\n",
       "      <td>0.010000</td>\n",
       "      <td>0.010000</td>\n",
       "      <td>0.010000</td>\n",
       "      <td>0.010000</td>\n",
       "      <td>0.010000</td>\n",
       "      <td>0.010000</td>\n",
       "      <td>0.010000</td>\n",
       "      <td>0.010000</td>\n",
       "      <td>0.010000</td>\n",
       "      <td>0.010000</td>\n",
       "      <td>0.010000</td>\n",
       "    </tr>\n",
       "    <tr>\n",
       "      <th>25%</th>\n",
       "      <td>0.020000</td>\n",
       "      <td>0.020000</td>\n",
       "      <td>0.040000</td>\n",
       "      <td>0.030000</td>\n",
       "      <td>0.057500</td>\n",
       "      <td>0.015000</td>\n",
       "      <td>0.030000</td>\n",
       "      <td>0.040000</td>\n",
       "      <td>0.130000</td>\n",
       "      <td>0.020000</td>\n",
       "      <td>0.045000</td>\n",
       "      <td>0.020000</td>\n",
       "    </tr>\n",
       "    <tr>\n",
       "      <th>50%</th>\n",
       "      <td>0.060000</td>\n",
       "      <td>0.030000</td>\n",
       "      <td>0.090000</td>\n",
       "      <td>0.060000</td>\n",
       "      <td>0.100000</td>\n",
       "      <td>0.030000</td>\n",
       "      <td>0.055000</td>\n",
       "      <td>0.115000</td>\n",
       "      <td>0.380000</td>\n",
       "      <td>0.100000</td>\n",
       "      <td>0.120000</td>\n",
       "      <td>0.050000</td>\n",
       "    </tr>\n",
       "    <tr>\n",
       "      <th>75%</th>\n",
       "      <td>0.190000</td>\n",
       "      <td>0.060000</td>\n",
       "      <td>0.330000</td>\n",
       "      <td>0.290000</td>\n",
       "      <td>0.220000</td>\n",
       "      <td>0.085000</td>\n",
       "      <td>0.215000</td>\n",
       "      <td>0.340000</td>\n",
       "      <td>1.690000</td>\n",
       "      <td>0.220000</td>\n",
       "      <td>0.495000</td>\n",
       "      <td>0.140000</td>\n",
       "    </tr>\n",
       "    <tr>\n",
       "      <th>max</th>\n",
       "      <td>4.620000</td>\n",
       "      <td>1.660000</td>\n",
       "      <td>2.780000</td>\n",
       "      <td>1.580000</td>\n",
       "      <td>3.210000</td>\n",
       "      <td>0.480000</td>\n",
       "      <td>2.420000</td>\n",
       "      <td>7.170000</td>\n",
       "      <td>14.630000</td>\n",
       "      <td>3.050000</td>\n",
       "      <td>8.580000</td>\n",
       "      <td>0.520000</td>\n",
       "    </tr>\n",
       "  </tbody>\n",
       "</table>\n",
       "</div>"
      ],
      "text/plain": [
       "genre      Action   Adventure   Fighting       Misc   Platform    Puzzle  \\\n",
       "count  431.000000  110.000000  37.000000  71.000000  28.000000  7.000000   \n",
       "mean     0.236961    0.108909   0.334324   0.199577   0.331429  0.102857   \n",
       "std      0.525858    0.254260   0.549695   0.286718   0.667387  0.170070   \n",
       "min      0.010000    0.010000   0.010000   0.010000   0.010000  0.010000   \n",
       "25%      0.020000    0.020000   0.040000   0.030000   0.057500  0.015000   \n",
       "50%      0.060000    0.030000   0.090000   0.060000   0.100000  0.030000   \n",
       "75%      0.190000    0.060000   0.330000   0.290000   0.220000  0.085000   \n",
       "max      4.620000    1.660000   2.780000   1.580000   3.210000  0.480000   \n",
       "\n",
       "genre     Racing  Role-Playing    Shooter  Simulation      Sports   Strategy  \n",
       "count  42.000000    132.000000  81.000000   33.000000  107.000000  29.000000  \n",
       "mean    0.258571      0.422879   1.305309    0.228788    0.601215   0.102759  \n",
       "std     0.497342      1.028082   2.227297    0.531018    1.292693   0.115539  \n",
       "min     0.010000      0.010000   0.010000    0.010000    0.010000   0.010000  \n",
       "25%     0.030000      0.040000   0.130000    0.020000    0.045000   0.020000  \n",
       "50%     0.055000      0.115000   0.380000    0.100000    0.120000   0.050000  \n",
       "75%     0.215000      0.340000   1.690000    0.220000    0.495000   0.140000  \n",
       "max     2.420000      7.170000  14.630000    3.050000    8.580000   0.520000  "
      ]
     },
     "execution_count": 53,
     "metadata": {},
     "output_type": "execute_result"
    }
   ],
   "source": [
    "df_good_year.pivot_table(index= df_good_year.index, columns='genre',values='total_sales').describe()"
   ]
  },
  {
   "cell_type": "markdown",
   "id": "dee719db",
   "metadata": {},
   "source": [
    "Вывод: диаграмма размаха по жанру \"Shooter\" особенно выделяется среди диаграмм других жанров. Именно жанр \"Shooter\" имеет наиболее длинный ряд успешно продающихся игр: от 130 000 до 1 690 000 проданных копий, в среднем - 380 000 проданных копий в данном жанре."
   ]
  },
  {
   "cell_type": "markdown",
   "id": "141dfc86",
   "metadata": {},
   "source": [
    "### Составим портрет пользователя каждого региона"
   ]
  },
  {
   "cell_type": "markdown",
   "id": "0dd52f1d",
   "metadata": {},
   "source": [
    "#### Для пользователей каждого региона определим топ-5 самых популярных платформ"
   ]
  },
  {
   "cell_type": "code",
   "execution_count": 54,
   "id": "23c2143d",
   "metadata": {},
   "outputs": [
    {
     "data": {
      "image/png": "[encoded data removed]",
      "text/plain": [
       "<Figure size 1008x432 with 3 Axes>"
      ]
     },
     "metadata": {
      "needs_background": "light"
     },
     "output_type": "display_data"
    }
   ],
   "source": [
    "df_na_sales = df.query('year_of_release>=2015').groupby('platform')['na_sales'].sum().\\\n",
    "sort_values(ascending=False).to_frame().reset_index()\n",
    "df_na_sales['platform'] = df_na_sales['platform'].\\\n",
    "where(df_na_sales['platform'].isin(df_na_sales['platform'].head().tolist()),'Другие')\n",
    "\n",
    "df_eu_sales = df.query('year_of_release>=2015').groupby('platform')['eu_sales'].sum().\\\n",
    "sort_values(ascending=False).to_frame().reset_index()\n",
    "df_eu_sales['platform'] = df_eu_sales['platform'].\\\n",
    "where(df_eu_sales['platform'].isin(df_eu_sales['platform'].head().tolist()),'Другие')\n",
    "\n",
    "df_jp_sales = df.query('year_of_release>=2015').groupby('platform')['jp_sales'].sum().\\\n",
    "sort_values(ascending=False).to_frame().reset_index()\n",
    "df_jp_sales['platform'] = df_jp_sales['platform'].\\\n",
    "where(df_jp_sales['platform'].isin(df_jp_sales['platform'].head().tolist()),'Другие')\n",
    "\n",
    "fig = plt.figure(figsize=(14, 6))\n",
    "fig.suptitle('Сравнение продаж по платформам в каждом из регионов', fontsize=14)\n",
    "\n",
    "\n",
    "plt.subplot(1, 3, 1)\n",
    "plt.bar(df_na_sales['platform'], df_na_sales['na_sales'])\n",
    "plt.title('Северная Америка')\n",
    "plt.ylabel('Количество проданных копий, млн')\n",
    "plt.subplot(1, 3, 2)\n",
    "plt.bar(df_eu_sales['platform'], df_eu_sales['eu_sales'])\n",
    "plt.title('Европа')\n",
    "plt.ylabel('Количество проданных копий, млн')\n",
    "plt.subplot(1, 3, 3)\n",
    "plt.bar(df_jp_sales['platform'], df_jp_sales['jp_sales'])\n",
    "plt.title('Япония')\n",
    "plt.ylabel('Количество проданных копий, млн')\n",
    "\n",
    "plt.show()"
   ]
  },
  {
   "cell_type": "markdown",
   "id": "4cc63463",
   "metadata": {},
   "source": [
    "В Северной Америке самыми популярными являются платформы PS4 и XOne, в Европе - PS4, в Японии предпочитают отечественную Nintendo 3DS."
   ]
  },
  {
   "cell_type": "markdown",
   "id": "a82ffc16",
   "metadata": {},
   "source": [
    "#### Для пользователей каждого региона определим топ-5 самых популярных игровых жанров"
   ]
  },
  {
   "cell_type": "code",
   "execution_count": 55,
   "id": "75c9682f",
   "metadata": {},
   "outputs": [
    {
     "data": {
      "image/png": "[encoded data removed]",
      "text/plain": [
       "<Figure size 1440x504 with 3 Axes>"
      ]
     },
     "metadata": {
      "needs_background": "light"
     },
     "output_type": "display_data"
    }
   ],
   "source": [
    "df_na_sales = df.query('year_of_release>=2015').groupby('genre')['na_sales'].sum().\\\n",
    "sort_values(ascending=False).to_frame().reset_index()\n",
    "df_na_sales['genre'] = df_na_sales['genre'].\\\n",
    "where(df_na_sales['genre'].isin(df_na_sales['genre'].head().tolist()),'Другие')\n",
    "\n",
    "df_eu_sales = df.query('year_of_release>=2015').groupby('genre')['eu_sales'].sum().\\\n",
    "sort_values(ascending=False).to_frame().reset_index()\n",
    "df_eu_sales['genre'] = df_eu_sales['genre'].\\\n",
    "where(df_eu_sales['genre'].isin(df_eu_sales['genre'].head().tolist()),'Другие')\n",
    "\n",
    "df_jp_sales = df.query('year_of_release>=2015').groupby('genre')['jp_sales'].sum().\\\n",
    "sort_values(ascending=False).to_frame().reset_index()\n",
    "df_jp_sales['genre'] = df_jp_sales['genre'].\\\n",
    "where(df_jp_sales['genre'].isin(df_jp_sales['genre'].head().tolist()),'Другие')\n",
    "\n",
    "fig = plt.figure(figsize=(20, 7))\n",
    "fig.suptitle('Сравнение продаж по жанрам в каждом из регионов', fontsize=20)\n",
    "\n",
    "\n",
    "plt.subplot(1, 3, 1)\n",
    "plt.bar(df_na_sales['genre'], df_na_sales['na_sales'])\n",
    "plt.title('Северная Америка',fontsize=15)\n",
    "plt.ylabel('Количество проданных копий, млн',fontsize=13)\n",
    "plt.subplot(1, 3, 2)\n",
    "plt.bar(df_eu_sales['genre'], df_eu_sales['eu_sales'])\n",
    "plt.title('Европа',fontsize=15)\n",
    "plt.ylabel('Количество проданных копий, млн',fontsize=13)\n",
    "plt.subplot(1, 3, 3)\n",
    "plt.bar(df_jp_sales['genre'], df_jp_sales['jp_sales'])\n",
    "plt.title('Япония',fontsize=15)\n",
    "plt.ylabel('Количество проданных копий, млн',fontsize=13)\n",
    "\n",
    "plt.show()"
   ]
  },
  {
   "cell_type": "markdown",
   "id": "08b8ed15",
   "metadata": {},
   "source": [
    "В Северной Америке пользователи предпочитают игры в жанре \"Shooter\", в Европе пользуются популярностью жанры \"Shooter\" и \"Action\", в Японии - \"Action\""
   ]
  },
  {
   "cell_type": "markdown",
   "id": "917bed2f",
   "metadata": {},
   "source": [
    "#### Оценим влияние рейтинга ESRB на продажи в каждом регионе"
   ]
  },
  {
   "cell_type": "code",
   "execution_count": 56,
   "id": "7bf8c8da",
   "metadata": {},
   "outputs": [
    {
     "data": {
      "image/png": "[encoded data removed]",
      "text/plain": [
       "<Figure size 1008x432 with 3 Axes>"
      ]
     },
     "metadata": {
      "needs_background": "light"
     },
     "output_type": "display_data"
    }
   ],
   "source": [
    "df_na_rating = df.query('year_of_release>=2015')\\\n",
    "    .groupby('rating')['na_sales'].sum().sort_values(ascending=False).to_frame().reset_index()\n",
    "df_eu_rating = df.query('year_of_release>=2015')\\\n",
    "    .groupby('rating')['eu_sales'].sum().sort_values(ascending=False).to_frame().reset_index()\n",
    "df_jp_rating = df.query('year_of_release>=2015')\\\n",
    "    .groupby('rating')['jp_sales'].sum().sort_values(ascending=False).to_frame().reset_index()\n",
    "\n",
    "\n",
    "fig = plt.figure(figsize=(14, 6))\n",
    "fig.suptitle('Влияние рейтинга на продажи игр в каждом из регионов', fontsize=15)\n",
    "\n",
    "\n",
    "plt.subplot(1, 3, 1)\n",
    "plt.bar(df_na_rating['rating'], df_na_rating['na_sales'])\n",
    "plt.title('Северная Америка',fontsize=12)\n",
    "plt.ylabel('Количество проданных копий, млн',fontsize=11)\n",
    "plt.subplot(1, 3, 2)\n",
    "plt.bar(df_eu_rating['rating'], df_eu_rating['eu_sales'])\n",
    "plt.title('Европа',fontsize=12)\n",
    "plt.ylabel('Количество проданных копий, млн',fontsize=11)\n",
    "plt.subplot(1, 3, 3)\n",
    "plt.bar(df_jp_rating['rating'], df_jp_rating['jp_sales'])\n",
    "plt.title('Япония',fontsize=12)\n",
    "plt.ylabel('Количество проданных копий, млн',fontsize=11)\n",
    "\n",
    "plt.show()"
   ]
  },
  {
   "cell_type": "markdown",
   "id": "0dc2215c",
   "metadata": {},
   "source": [
    "В Северной Америке и в Европе предпочтения пользователей схожи: и там и там наиболее продаваемы игры с рейтингом ESRB \"М\"(от 17 лет). В Японии действует своя система рейтингов CERO, поэтому для оценки влияния рейтинга игр на прдажи в Японии необходимы дополнительные данные."
   ]
  },
  {
   "cell_type": "markdown",
   "id": "64211167",
   "metadata": {},
   "source": [
    "### Проверка гипотез"
   ]
  },
  {
   "cell_type": "markdown",
   "id": "186d4c75",
   "metadata": {},
   "source": [
    "Проверка гипотезы: средние пользовательские рейтинги платформ Xbox One и PC одинаковые.\n",
    "```\n",
    "H_0: Пользовательский рейтинг платформы Xbox One = пользовательский рейтинг платформы PC \n",
    "H-a: Пользовательский рейтинг платформы Xbox One ≠ пользовательский рейтинг платформы PC \n",
    "alpha = 0.05 - уровень значимости (для проверки наших гипотез считаем такой уровень достаточным)\n",
    "```"
   ]
  },
  {
   "cell_type": "code",
   "execution_count": 57,
   "id": "eba4f517",
   "metadata": {},
   "outputs": [
    {
     "name": "stdout",
     "output_type": "stream",
     "text": [
      "0.14759594013430463\n",
      "Не получилось отвергнуть нулевую гипотезу\n"
     ]
    }
   ],
   "source": [
    "sample_1 = df.query('platform==\"PC\" and year_of_release>=2013')['user_score'].dropna()\n",
    "sample_2 = df.query('platform==\"XOne\" and year_of_release>=2013')['user_score'].dropna()\n",
    "# вызов метода для проверки гипотезы\n",
    "results = st.ttest_ind(\n",
    "    sample_2, \n",
    "    sample_1, equal_var = False) # предполагаем, что дисперсии генеральных совокупностей отличаются\n",
    "alpha = 0.05\n",
    "\n",
    "print(results.pvalue)\n",
    "if results.pvalue < alpha:\n",
    "    print('Отвергаем нулевую гипотезу')\n",
    "else:\n",
    "    print('Не получилось отвергнуть нулевую гипотезу')"
   ]
  },
  {
   "cell_type": "markdown",
   "id": "e1ca1932",
   "metadata": {},
   "source": [
    "Значение p_value, равное 0.14759594013430463 означает, что с вероятностью примерно 14,75% разница между рейтингами по платформам будет случайным результатом. Это достаточно высокая вероятность, поэтому нулевую гипотезу отвергнуть не получится."
   ]
  },
  {
   "cell_type": "markdown",
   "id": "882caeb8",
   "metadata": {},
   "source": [
    "Проверка гипотезы: средние пользовательские рейтинги жанров *Action* и *Sports* разные.\n",
    "```\n",
    "H_0: Пользовательский рейтинг жанра Action = пользовательский рейтинг жанра Sports.\n",
    "H-a: Пользовательский рейтинг жанра Action ≠ пользовательский рейтинг жанра Sports. \n",
    "alpha = 0.05\n",
    "```"
   ]
  },
  {
   "cell_type": "code",
   "execution_count": 59,
   "id": "680f54db",
   "metadata": {},
   "outputs": [
    {
     "name": "stdout",
     "output_type": "stream",
     "text": [
      "5.97163549920592e-10\n",
      "Отвергаем нулевую гипотезу\n"
     ]
    }
   ],
   "source": [
    "sample_1 = df.query('genre==\"Action\" and year_of_release>=2015')['user_score'].dropna()\n",
    "sample_2 = df.query('genre==\"Sports\" and year_of_release>=2015')['user_score'].dropna()\n",
    "# вызов метода для проверки гипотезы\n",
    "results = st.ttest_ind(\n",
    "    sample_2, \n",
    "    sample_1, equal_var = False) # предполагаем, что дисперсии генеральных совокупностей отличаются\n",
    "alpha = 0.05\n",
    "\n",
    "print(results.pvalue)\n",
    "if results.pvalue < alpha:\n",
    "    print('Отвергаем нулевую гипотезу')\n",
    "else:\n",
    "    print('Не получилось отвергнуть нулевую гипотезу')"
   ]
  },
  {
   "cell_type": "markdown",
   "id": "8d82534d",
   "metadata": {},
   "source": [
    "Значение p_value, равное 5.97163549920592e-10 означает, что с очень маленькой вероятностью разница между рейтингами в жанрах \"Action\" и \"Sports\" будет случайным результатом. А, значит, результат статистически значимый. Поэтому, в данном случае, нулевую гипотезу отвергаем в пользу альтернативной."
   ]
  },
  {
   "cell_type": "markdown",
   "id": "ed5afb05",
   "metadata": {},
   "source": [
    "### Общий вывод"
   ]
  },
  {
   "cell_type": "markdown",
   "id": "3afee48c",
   "metadata": {},
   "source": [
    "В процессе исследования была проведена предобработка данных:\n",
    "\n",
    "- названия столбцов приведены к стандартному виду;\n",
    "- изучены данные в столбцах и заполнены пропуски там, где это возможно;\n",
    "- изменены типы данных на типы, соответствующие значениям в столбцах.\n",
    "\n",
    "В результате исследования были получены следующие данные:\n",
    "- потенциально прибыльными платформами в 2017 году будем считать PS4 и XOne в Северной Америке, PS4 в Европе и Nintendo 3DS в Японии\n",
    "- игровой жанр \"Shooter\" имеет наиболее длинный ряд успешно продающихся игр: от 130 000 до 1 690 000 проданных копий, данный жанр наиболее продаваемый в Европе и Северной Америке, в Японии самым популярным является жанр \"Action\" \n",
    "- и в Северной Америке и в Европе самыми популярными играми являются игры с рейтингом ESRB \"M\"(от 17 лет), в Японии своя система рейтингов CERO, по которой необходимы дополнительные данные."
   ]
  },
  {
   "cell_type": "markdown",
   "id": "5b1406d4",
   "metadata": {},
   "source": [
    "# "
   ]
  }
 ],
 "metadata": {
  "ExecuteTimeLog": [
   {
    "duration": 1008,
    "start_time": "2022-11-05T00:01:35.755Z"
   },
   {
    "duration": 121,
    "start_time": "2022-11-05T00:01:36.764Z"
   },
   {
    "duration": 18,
    "start_time": "2022-11-05T00:01:36.886Z"
   },
   {
    "duration": 4,
    "start_time": "2022-11-05T00:01:36.906Z"
   },
   {
    "duration": 16,
    "start_time": "2022-11-05T00:01:36.911Z"
   },
   {
    "duration": 18,
    "start_time": "2022-11-05T00:01:36.929Z"
   },
   {
    "duration": 16,
    "start_time": "2022-11-05T00:01:36.948Z"
   },
   {
    "duration": 7,
    "start_time": "2022-11-05T00:01:36.965Z"
   },
   {
    "duration": 40,
    "start_time": "2022-11-05T00:01:36.973Z"
   },
   {
    "duration": 31259,
    "start_time": "2022-11-05T00:01:37.016Z"
   },
   {
    "duration": 7,
    "start_time": "2022-11-05T00:02:08.277Z"
   },
   {
    "duration": 42,
    "start_time": "2022-11-05T00:02:08.285Z"
   },
   {
    "duration": 5,
    "start_time": "2022-11-05T00:02:08.328Z"
   },
   {
    "duration": 15,
    "start_time": "2022-11-05T00:02:08.334Z"
   },
   {
    "duration": 12,
    "start_time": "2022-11-05T00:02:08.350Z"
   },
   {
    "duration": 6,
    "start_time": "2022-11-05T00:02:08.363Z"
   },
   {
    "duration": 28,
    "start_time": "2022-11-05T00:02:08.370Z"
   },
   {
    "duration": 10,
    "start_time": "2022-11-05T00:02:08.399Z"
   },
   {
    "duration": 18,
    "start_time": "2022-11-05T00:02:08.411Z"
   },
   {
    "duration": 5,
    "start_time": "2022-11-05T00:02:08.431Z"
   },
   {
    "duration": 16,
    "start_time": "2022-11-05T00:02:08.437Z"
   },
   {
    "duration": 11,
    "start_time": "2022-11-05T00:02:08.454Z"
   },
   {
    "duration": 6,
    "start_time": "2022-11-05T00:02:08.467Z"
   },
   {
    "duration": 10,
    "start_time": "2022-11-05T00:02:08.474Z"
   },
   {
    "duration": 25,
    "start_time": "2022-11-05T00:02:08.486Z"
   },
   {
    "duration": 9,
    "start_time": "2022-11-05T00:02:08.512Z"
   },
   {
    "duration": 6,
    "start_time": "2022-11-05T00:02:08.522Z"
   },
   {
    "duration": 6,
    "start_time": "2022-11-05T00:02:08.531Z"
   },
   {
    "duration": 7,
    "start_time": "2022-11-05T00:02:08.539Z"
   },
   {
    "duration": 10,
    "start_time": "2022-11-05T00:02:08.548Z"
   },
   {
    "duration": 16,
    "start_time": "2022-11-05T00:02:08.559Z"
   },
   {
    "duration": 4,
    "start_time": "2022-11-05T00:02:08.576Z"
   },
   {
    "duration": 212,
    "start_time": "2022-11-05T00:02:08.582Z"
   },
   {
    "duration": 13,
    "start_time": "2022-11-05T00:02:08.796Z"
   },
   {
    "duration": 13,
    "start_time": "2022-11-05T00:02:08.810Z"
   },
   {
    "duration": 52,
    "start_time": "2022-11-05T00:02:08.825Z"
   },
   {
    "duration": 689,
    "start_time": "2022-11-05T00:02:08.879Z"
   },
   {
    "duration": 28,
    "start_time": "2022-11-05T00:02:09.569Z"
   },
   {
    "duration": 14,
    "start_time": "2022-11-05T00:02:09.598Z"
   },
   {
    "duration": 10,
    "start_time": "2022-11-05T00:02:09.613Z"
   },
   {
    "duration": 202,
    "start_time": "2022-11-05T00:02:09.624Z"
   },
   {
    "duration": 23,
    "start_time": "2022-11-05T00:02:09.828Z"
   },
   {
    "duration": 169,
    "start_time": "2022-11-05T00:02:09.853Z"
   },
   {
    "duration": 26,
    "start_time": "2022-11-05T00:02:10.024Z"
   },
   {
    "duration": 18,
    "start_time": "2022-11-05T00:02:10.051Z"
   },
   {
    "duration": 186,
    "start_time": "2022-11-05T00:02:10.071Z"
   },
   {
    "duration": 217,
    "start_time": "2022-11-05T00:02:10.259Z"
   },
   {
    "duration": 140,
    "start_time": "2022-11-05T00:02:10.477Z"
   },
   {
    "duration": 9,
    "start_time": "2022-11-05T00:02:10.618Z"
   },
   {
    "duration": 7,
    "start_time": "2022-11-05T00:02:10.628Z"
   },
   {
    "duration": 799,
    "start_time": "2022-11-05T00:02:10.636Z"
   },
   {
    "duration": 9,
    "start_time": "2022-11-05T00:02:11.436Z"
   },
   {
    "duration": 8,
    "start_time": "2022-11-05T00:02:11.446Z"
   },
   {
    "duration": 7,
    "start_time": "2022-11-05T00:02:11.456Z"
   },
   {
    "duration": 11,
    "start_time": "2022-11-05T00:02:11.464Z"
   },
   {
    "duration": 53,
    "start_time": "2022-11-05T00:02:11.477Z"
   },
   {
    "duration": 359,
    "start_time": "2022-11-05T00:02:11.532Z"
   },
   {
    "duration": 22,
    "start_time": "2022-11-05T00:02:11.892Z"
   },
   {
    "duration": 351,
    "start_time": "2022-11-05T00:02:11.915Z"
   },
   {
    "duration": 16,
    "start_time": "2022-11-05T00:02:12.268Z"
   },
   {
    "duration": 436,
    "start_time": "2022-11-05T00:02:12.285Z"
   },
   {
    "duration": 11,
    "start_time": "2022-11-05T00:02:12.722Z"
   },
   {
    "duration": 31,
    "start_time": "2022-11-05T00:02:12.735Z"
   },
   {
    "duration": 1034,
    "start_time": "2022-11-05T00:09:46.121Z"
   },
   {
    "duration": 80,
    "start_time": "2022-11-05T00:09:47.157Z"
   },
   {
    "duration": 18,
    "start_time": "2022-11-05T00:09:47.239Z"
   },
   {
    "duration": 4,
    "start_time": "2022-11-05T00:09:47.258Z"
   },
   {
    "duration": 17,
    "start_time": "2022-11-05T00:09:47.264Z"
   },
   {
    "duration": 37,
    "start_time": "2022-11-05T00:09:47.282Z"
   },
   {
    "duration": 18,
    "start_time": "2022-11-05T00:09:47.320Z"
   },
   {
    "duration": 6,
    "start_time": "2022-11-05T00:09:47.340Z"
   },
   {
    "duration": 34,
    "start_time": "2022-11-05T00:09:47.348Z"
   },
   {
    "duration": 27796,
    "start_time": "2022-11-05T00:09:47.383Z"
   },
   {
    "duration": 6,
    "start_time": "2022-11-05T00:10:15.181Z"
   },
   {
    "duration": 42,
    "start_time": "2022-11-05T00:10:15.188Z"
   },
   {
    "duration": 12,
    "start_time": "2022-11-05T00:10:15.231Z"
   },
   {
    "duration": 23,
    "start_time": "2022-11-05T00:10:15.246Z"
   },
   {
    "duration": 28,
    "start_time": "2022-11-05T00:10:15.270Z"
   },
   {
    "duration": 18,
    "start_time": "2022-11-05T00:10:15.299Z"
   },
   {
    "duration": 38,
    "start_time": "2022-11-05T00:10:15.318Z"
   },
   {
    "duration": 8,
    "start_time": "2022-11-05T00:10:15.357Z"
   },
   {
    "duration": 34,
    "start_time": "2022-11-05T00:10:15.366Z"
   },
   {
    "duration": 12,
    "start_time": "2022-11-05T00:10:15.401Z"
   },
   {
    "duration": 37,
    "start_time": "2022-11-05T00:10:15.414Z"
   },
   {
    "duration": 23,
    "start_time": "2022-11-05T00:10:15.452Z"
   },
   {
    "duration": 57,
    "start_time": "2022-11-05T00:10:15.477Z"
   },
   {
    "duration": 9,
    "start_time": "2022-11-05T00:10:15.536Z"
   },
   {
    "duration": 6,
    "start_time": "2022-11-05T00:10:15.547Z"
   },
   {
    "duration": 6,
    "start_time": "2022-11-05T00:10:15.555Z"
   },
   {
    "duration": 7,
    "start_time": "2022-11-05T00:10:15.562Z"
   },
   {
    "duration": 7,
    "start_time": "2022-11-05T00:10:15.570Z"
   },
   {
    "duration": 14,
    "start_time": "2022-11-05T00:10:15.579Z"
   },
   {
    "duration": 17,
    "start_time": "2022-11-05T00:10:15.594Z"
   },
   {
    "duration": 24,
    "start_time": "2022-11-05T00:10:15.612Z"
   },
   {
    "duration": 4,
    "start_time": "2022-11-05T00:10:15.637Z"
   },
   {
    "duration": 187,
    "start_time": "2022-11-05T00:10:15.642Z"
   },
   {
    "duration": 9,
    "start_time": "2022-11-05T00:10:15.830Z"
   },
   {
    "duration": 7,
    "start_time": "2022-11-05T00:10:15.840Z"
   },
   {
    "duration": 33,
    "start_time": "2022-11-05T00:10:15.849Z"
   },
   {
    "duration": 698,
    "start_time": "2022-11-05T00:10:15.884Z"
   },
   {
    "duration": 34,
    "start_time": "2022-11-05T00:10:16.583Z"
   },
   {
    "duration": 4,
    "start_time": "2022-11-05T00:10:16.619Z"
   },
   {
    "duration": 14,
    "start_time": "2022-11-05T00:10:16.624Z"
   },
   {
    "duration": 188,
    "start_time": "2022-11-05T00:10:16.641Z"
   },
   {
    "duration": 24,
    "start_time": "2022-11-05T00:10:16.831Z"
   },
   {
    "duration": 175,
    "start_time": "2022-11-05T00:10:16.856Z"
   },
   {
    "duration": 25,
    "start_time": "2022-11-05T00:10:17.033Z"
   },
   {
    "duration": 18,
    "start_time": "2022-11-05T00:10:17.059Z"
   },
   {
    "duration": 178,
    "start_time": "2022-11-05T00:10:17.079Z"
   },
   {
    "duration": 204,
    "start_time": "2022-11-05T00:10:17.259Z"
   },
   {
    "duration": 141,
    "start_time": "2022-11-05T00:10:17.465Z"
   },
   {
    "duration": 6,
    "start_time": "2022-11-05T00:10:17.609Z"
   },
   {
    "duration": 8,
    "start_time": "2022-11-05T00:10:17.616Z"
   },
   {
    "duration": 794,
    "start_time": "2022-11-05T00:10:17.625Z"
   },
   {
    "duration": 10,
    "start_time": "2022-11-05T00:10:18.421Z"
   },
   {
    "duration": 10,
    "start_time": "2022-11-05T00:10:18.432Z"
   },
   {
    "duration": 8,
    "start_time": "2022-11-05T00:10:18.444Z"
   },
   {
    "duration": 12,
    "start_time": "2022-11-05T00:10:18.454Z"
   },
   {
    "duration": 57,
    "start_time": "2022-11-05T00:10:18.468Z"
   },
   {
    "duration": 342,
    "start_time": "2022-11-05T00:10:18.526Z"
   },
   {
    "duration": 17,
    "start_time": "2022-11-05T00:10:18.870Z"
   },
   {
    "duration": 365,
    "start_time": "2022-11-05T00:10:18.888Z"
   },
   {
    "duration": 16,
    "start_time": "2022-11-05T00:10:19.255Z"
   },
   {
    "duration": 415,
    "start_time": "2022-11-05T00:10:19.273Z"
   },
   {
    "duration": 23,
    "start_time": "2022-11-05T00:10:19.690Z"
   },
   {
    "duration": 11,
    "start_time": "2022-11-05T00:10:19.715Z"
   },
   {
    "duration": 52,
    "start_time": "2022-11-05T05:57:27.861Z"
   },
   {
    "duration": 1263,
    "start_time": "2022-11-05T05:57:51.114Z"
   },
   {
    "duration": 115,
    "start_time": "2022-11-05T05:57:52.379Z"
   },
   {
    "duration": 19,
    "start_time": "2022-11-05T05:57:52.495Z"
   },
   {
    "duration": 5,
    "start_time": "2022-11-05T05:57:52.516Z"
   },
   {
    "duration": 17,
    "start_time": "2022-11-05T05:57:52.523Z"
   },
   {
    "duration": 22,
    "start_time": "2022-11-05T05:57:52.542Z"
   },
   {
    "duration": 7,
    "start_time": "2022-11-05T05:57:52.565Z"
   },
   {
    "duration": 12,
    "start_time": "2022-11-05T05:57:52.573Z"
   },
   {
    "duration": 4,
    "start_time": "2022-11-05T05:57:52.587Z"
   },
   {
    "duration": 46,
    "start_time": "2022-11-05T05:57:52.594Z"
   },
   {
    "duration": 5,
    "start_time": "2022-11-05T05:57:52.641Z"
   },
   {
    "duration": 12,
    "start_time": "2022-11-05T05:57:52.647Z"
   },
   {
    "duration": 5,
    "start_time": "2022-11-05T05:57:52.661Z"
   },
   {
    "duration": 12,
    "start_time": "2022-11-05T05:57:52.667Z"
   },
   {
    "duration": 12,
    "start_time": "2022-11-05T05:57:52.681Z"
   },
   {
    "duration": 5,
    "start_time": "2022-11-05T05:57:52.695Z"
   },
   {
    "duration": 44,
    "start_time": "2022-11-05T05:57:52.702Z"
   },
   {
    "duration": 7,
    "start_time": "2022-11-05T05:57:52.748Z"
   },
   {
    "duration": 12,
    "start_time": "2022-11-05T05:57:52.756Z"
   },
   {
    "duration": 9,
    "start_time": "2022-11-05T05:57:52.769Z"
   },
   {
    "duration": 9,
    "start_time": "2022-11-05T05:57:52.779Z"
   },
   {
    "duration": 9,
    "start_time": "2022-11-05T05:57:52.790Z"
   },
   {
    "duration": 10,
    "start_time": "2022-11-05T05:57:52.801Z"
   },
   {
    "duration": 33,
    "start_time": "2022-11-05T05:57:52.812Z"
   },
   {
    "duration": 4,
    "start_time": "2022-11-05T05:57:52.846Z"
   },
   {
    "duration": 196,
    "start_time": "2022-11-05T05:57:52.852Z"
   },
   {
    "duration": 7,
    "start_time": "2022-11-05T05:57:53.050Z"
   },
   {
    "duration": 4,
    "start_time": "2022-11-05T05:57:53.061Z"
   },
   {
    "duration": 39,
    "start_time": "2022-11-05T05:57:53.067Z"
   },
   {
    "duration": 700,
    "start_time": "2022-11-05T05:57:53.108Z"
   },
   {
    "duration": 40,
    "start_time": "2022-11-05T05:57:53.809Z"
   },
   {
    "duration": 5,
    "start_time": "2022-11-05T05:57:53.851Z"
   },
   {
    "duration": 15,
    "start_time": "2022-11-05T05:57:53.857Z"
   },
   {
    "duration": 199,
    "start_time": "2022-11-05T05:57:53.874Z"
   },
   {
    "duration": 25,
    "start_time": "2022-11-05T05:57:54.075Z"
   },
   {
    "duration": 174,
    "start_time": "2022-11-05T05:57:54.101Z"
   },
   {
    "duration": 29,
    "start_time": "2022-11-05T05:57:54.277Z"
   },
   {
    "duration": 38,
    "start_time": "2022-11-05T05:57:54.307Z"
   },
   {
    "duration": 163,
    "start_time": "2022-11-05T05:57:54.347Z"
   },
   {
    "duration": 165,
    "start_time": "2022-11-05T05:57:54.511Z"
   },
   {
    "duration": 227,
    "start_time": "2022-11-05T05:57:54.678Z"
   },
   {
    "duration": 8,
    "start_time": "2022-11-05T05:57:54.907Z"
   },
   {
    "duration": 26,
    "start_time": "2022-11-05T05:57:54.916Z"
   },
   {
    "duration": 787,
    "start_time": "2022-11-05T05:57:54.944Z"
   },
   {
    "duration": 12,
    "start_time": "2022-11-05T05:57:55.733Z"
   },
   {
    "duration": 10,
    "start_time": "2022-11-05T05:57:55.747Z"
   },
   {
    "duration": 11,
    "start_time": "2022-11-05T05:57:55.758Z"
   },
   {
    "duration": 6,
    "start_time": "2022-11-05T05:57:55.771Z"
   },
   {
    "duration": 24,
    "start_time": "2022-11-05T05:57:55.779Z"
   },
   {
    "duration": 411,
    "start_time": "2022-11-05T05:57:55.804Z"
   },
   {
    "duration": 26,
    "start_time": "2022-11-05T05:57:56.217Z"
   },
   {
    "duration": 365,
    "start_time": "2022-11-05T05:57:56.245Z"
   },
   {
    "duration": 26,
    "start_time": "2022-11-05T05:57:56.612Z"
   },
   {
    "duration": 398,
    "start_time": "2022-11-05T05:57:56.640Z"
   },
   {
    "duration": 12,
    "start_time": "2022-11-05T05:57:57.040Z"
   },
   {
    "duration": 16,
    "start_time": "2022-11-05T05:57:57.053Z"
   },
   {
    "duration": 15,
    "start_time": "2022-11-05T06:00:53.383Z"
   },
   {
    "duration": 95,
    "start_time": "2022-11-05T06:01:05.274Z"
   },
   {
    "duration": 7,
    "start_time": "2022-11-05T06:01:20.391Z"
   },
   {
    "duration": 31,
    "start_time": "2022-11-05T06:07:36.351Z"
   },
   {
    "duration": 7,
    "start_time": "2022-11-05T06:07:45.342Z"
   },
   {
    "duration": 9,
    "start_time": "2022-11-05T06:08:04.931Z"
   },
   {
    "duration": 8,
    "start_time": "2022-11-05T06:09:38.297Z"
   },
   {
    "duration": 7,
    "start_time": "2022-11-05T06:10:25.987Z"
   },
   {
    "duration": 5,
    "start_time": "2022-11-05T06:14:07.734Z"
   },
   {
    "duration": 5,
    "start_time": "2022-11-05T06:15:14.344Z"
   },
   {
    "duration": 297,
    "start_time": "2022-11-05T06:17:39.661Z"
   },
   {
    "duration": 341,
    "start_time": "2022-11-05T06:17:55.050Z"
   },
   {
    "duration": 345,
    "start_time": "2022-11-05T06:18:19.380Z"
   },
   {
    "duration": 331,
    "start_time": "2022-11-05T06:18:32.395Z"
   },
   {
    "duration": 416,
    "start_time": "2022-11-05T06:18:43.860Z"
   },
   {
    "duration": 333,
    "start_time": "2022-11-05T06:18:54.211Z"
   },
   {
    "duration": 327,
    "start_time": "2022-11-05T06:19:21.955Z"
   },
   {
    "duration": 315,
    "start_time": "2022-11-05T06:19:32.298Z"
   },
   {
    "duration": 314,
    "start_time": "2022-11-05T06:19:39.747Z"
   },
   {
    "duration": 337,
    "start_time": "2022-11-05T06:20:33.528Z"
   },
   {
    "duration": 411,
    "start_time": "2022-11-05T06:21:49.623Z"
   },
   {
    "duration": 348,
    "start_time": "2022-11-05T06:23:19.845Z"
   },
   {
    "duration": 348,
    "start_time": "2022-11-05T06:23:26.348Z"
   },
   {
    "duration": 355,
    "start_time": "2022-11-05T06:23:30.644Z"
   },
   {
    "duration": 390,
    "start_time": "2022-11-05T06:23:44.493Z"
   },
   {
    "duration": 347,
    "start_time": "2022-11-05T06:24:30.298Z"
   },
   {
    "duration": 453,
    "start_time": "2022-11-05T06:24:55.034Z"
   },
   {
    "duration": 339,
    "start_time": "2022-11-05T06:24:59.970Z"
   },
   {
    "duration": 31,
    "start_time": "2022-11-05T06:31:55.223Z"
   },
   {
    "duration": 8,
    "start_time": "2022-11-05T06:32:09.128Z"
   },
   {
    "duration": 8,
    "start_time": "2022-11-05T06:32:27.598Z"
   },
   {
    "duration": 192,
    "start_time": "2022-11-05T06:52:59.559Z"
   },
   {
    "duration": 16,
    "start_time": "2022-11-05T06:53:17.152Z"
   },
   {
    "duration": 10,
    "start_time": "2022-11-05T07:02:18.801Z"
   },
   {
    "duration": 202,
    "start_time": "2022-11-05T07:02:52.448Z"
   },
   {
    "duration": 8,
    "start_time": "2022-11-05T07:03:43.280Z"
   },
   {
    "duration": 894,
    "start_time": "2022-11-05T07:03:47.063Z"
   },
   {
    "duration": 5,
    "start_time": "2022-11-05T07:20:34.429Z"
   },
   {
    "duration": 45,
    "start_time": "2022-11-05T07:20:37.686Z"
   },
   {
    "duration": 6,
    "start_time": "2022-11-05T07:20:55.756Z"
   },
   {
    "duration": 6,
    "start_time": "2022-11-05T07:21:13.940Z"
   },
   {
    "duration": 1145,
    "start_time": "2022-11-05T07:21:19.419Z"
   },
   {
    "duration": 1009,
    "start_time": "2022-11-05T07:21:55.874Z"
   },
   {
    "duration": 1237,
    "start_time": "2022-11-05T07:22:10.578Z"
   },
   {
    "duration": 222,
    "start_time": "2022-11-05T07:22:50.498Z"
   },
   {
    "duration": 38,
    "start_time": "2022-11-05T07:23:03.089Z"
   },
   {
    "duration": 30,
    "start_time": "2022-11-05T07:24:36.783Z"
   },
   {
    "duration": 764,
    "start_time": "2022-11-05T07:26:19.588Z"
   },
   {
    "duration": 841,
    "start_time": "2022-11-05T07:26:40.875Z"
   },
   {
    "duration": 4,
    "start_time": "2022-11-05T07:27:04.578Z"
   },
   {
    "duration": 12,
    "start_time": "2022-11-05T07:27:54.825Z"
   },
   {
    "duration": 241,
    "start_time": "2022-11-05T07:28:07.977Z"
   },
   {
    "duration": 71,
    "start_time": "2022-11-05T07:29:07.360Z"
   },
   {
    "duration": 325,
    "start_time": "2022-11-05T07:29:11.667Z"
   },
   {
    "duration": 1232,
    "start_time": "2022-11-05T07:29:30.183Z"
   },
   {
    "duration": 1072,
    "start_time": "2022-11-05T07:29:37.518Z"
   },
   {
    "duration": 1275,
    "start_time": "2022-11-05T07:29:47.152Z"
   },
   {
    "duration": 1110,
    "start_time": "2022-11-05T07:29:54.566Z"
   },
   {
    "duration": 7,
    "start_time": "2022-11-05T07:30:46.181Z"
   },
   {
    "duration": 1278,
    "start_time": "2022-11-05T07:30:47.892Z"
   },
   {
    "duration": 1203,
    "start_time": "2022-11-05T07:31:16.966Z"
   },
   {
    "duration": 92,
    "start_time": "2022-11-05T07:31:18.171Z"
   },
   {
    "duration": 20,
    "start_time": "2022-11-05T07:31:18.265Z"
   },
   {
    "duration": 8,
    "start_time": "2022-11-05T07:31:18.287Z"
   },
   {
    "duration": 17,
    "start_time": "2022-11-05T07:31:18.297Z"
   },
   {
    "duration": 46,
    "start_time": "2022-11-05T07:31:18.315Z"
   },
   {
    "duration": 7,
    "start_time": "2022-11-05T07:31:18.363Z"
   },
   {
    "duration": 10,
    "start_time": "2022-11-05T07:31:18.372Z"
   },
   {
    "duration": 4,
    "start_time": "2022-11-05T07:31:18.384Z"
   },
   {
    "duration": 48,
    "start_time": "2022-11-05T07:31:18.392Z"
   },
   {
    "duration": 7,
    "start_time": "2022-11-05T07:31:18.442Z"
   },
   {
    "duration": 14,
    "start_time": "2022-11-05T07:31:18.453Z"
   },
   {
    "duration": 4,
    "start_time": "2022-11-05T07:31:18.469Z"
   },
   {
    "duration": 11,
    "start_time": "2022-11-05T07:31:18.475Z"
   },
   {
    "duration": 12,
    "start_time": "2022-11-05T07:31:18.488Z"
   },
   {
    "duration": 39,
    "start_time": "2022-11-05T07:31:18.502Z"
   },
   {
    "duration": 19,
    "start_time": "2022-11-05T07:31:18.543Z"
   },
   {
    "duration": 5,
    "start_time": "2022-11-05T07:31:18.564Z"
   },
   {
    "duration": 7,
    "start_time": "2022-11-05T07:31:18.571Z"
   },
   {
    "duration": 11,
    "start_time": "2022-11-05T07:31:18.580Z"
   },
   {
    "duration": 8,
    "start_time": "2022-11-05T07:31:18.592Z"
   },
   {
    "duration": 9,
    "start_time": "2022-11-05T07:31:18.602Z"
   },
   {
    "duration": 11,
    "start_time": "2022-11-05T07:31:18.640Z"
   },
   {
    "duration": 16,
    "start_time": "2022-11-05T07:31:18.654Z"
   },
   {
    "duration": 6,
    "start_time": "2022-11-05T07:31:18.671Z"
   },
   {
    "duration": 9,
    "start_time": "2022-11-05T07:31:18.679Z"
   },
   {
    "duration": 18,
    "start_time": "2022-11-05T07:31:18.689Z"
   },
   {
    "duration": 35,
    "start_time": "2022-11-05T07:31:18.712Z"
   },
   {
    "duration": 404,
    "start_time": "2022-11-05T07:31:18.750Z"
   },
   {
    "duration": 8,
    "start_time": "2022-11-05T07:31:19.155Z"
   },
   {
    "duration": 10,
    "start_time": "2022-11-05T07:31:19.165Z"
   },
   {
    "duration": 57,
    "start_time": "2022-11-05T07:31:19.176Z"
   },
   {
    "duration": 9,
    "start_time": "2022-11-05T07:31:19.234Z"
   },
   {
    "duration": 1096,
    "start_time": "2022-11-05T07:31:19.246Z"
   },
   {
    "duration": 34,
    "start_time": "2022-11-05T07:31:20.345Z"
   },
   {
    "duration": 3,
    "start_time": "2022-11-05T07:31:20.380Z"
   },
   {
    "duration": 13,
    "start_time": "2022-11-05T07:31:20.385Z"
   },
   {
    "duration": 272,
    "start_time": "2022-11-05T07:31:20.400Z"
   },
   {
    "duration": 27,
    "start_time": "2022-11-05T07:31:20.674Z"
   },
   {
    "duration": 269,
    "start_time": "2022-11-05T07:31:20.703Z"
   },
   {
    "duration": 29,
    "start_time": "2022-11-05T07:31:20.974Z"
   },
   {
    "duration": 37,
    "start_time": "2022-11-05T07:31:21.005Z"
   },
   {
    "duration": 192,
    "start_time": "2022-11-05T07:31:21.045Z"
   },
   {
    "duration": 171,
    "start_time": "2022-11-05T07:31:21.240Z"
   },
   {
    "duration": 169,
    "start_time": "2022-11-05T07:31:21.414Z"
   },
   {
    "duration": 7,
    "start_time": "2022-11-05T07:31:21.585Z"
   },
   {
    "duration": 24,
    "start_time": "2022-11-05T07:31:21.593Z"
   },
   {
    "duration": 940,
    "start_time": "2022-11-05T07:31:21.619Z"
   },
   {
    "duration": 11,
    "start_time": "2022-11-05T07:31:22.561Z"
   },
   {
    "duration": 10,
    "start_time": "2022-11-05T07:31:22.574Z"
   },
   {
    "duration": 10,
    "start_time": "2022-11-05T07:31:22.586Z"
   },
   {
    "duration": 8,
    "start_time": "2022-11-05T07:31:22.598Z"
   },
   {
    "duration": 57,
    "start_time": "2022-11-05T07:31:22.608Z"
   },
   {
    "duration": 370,
    "start_time": "2022-11-05T07:31:22.667Z"
   },
   {
    "duration": 28,
    "start_time": "2022-11-05T07:31:23.040Z"
   },
   {
    "duration": 469,
    "start_time": "2022-11-05T07:31:23.070Z"
   },
   {
    "duration": 21,
    "start_time": "2022-11-05T07:31:23.545Z"
   },
   {
    "duration": 358,
    "start_time": "2022-11-05T07:31:23.568Z"
   },
   {
    "duration": 20,
    "start_time": "2022-11-05T07:31:23.928Z"
   },
   {
    "duration": 13,
    "start_time": "2022-11-05T07:31:23.950Z"
   },
   {
    "duration": 6,
    "start_time": "2022-11-05T07:35:07.561Z"
   },
   {
    "duration": 37,
    "start_time": "2022-11-05T07:35:08.455Z"
   },
   {
    "duration": 8,
    "start_time": "2022-11-05T07:35:15.792Z"
   },
   {
    "duration": 884,
    "start_time": "2022-11-05T07:35:17.392Z"
   },
   {
    "duration": 8,
    "start_time": "2022-11-05T07:35:52.963Z"
   },
   {
    "duration": 39,
    "start_time": "2022-11-05T07:35:54.761Z"
   },
   {
    "duration": 9,
    "start_time": "2022-11-05T07:35:56.830Z"
   },
   {
    "duration": 1223,
    "start_time": "2022-11-05T07:35:58.495Z"
   },
   {
    "duration": 3,
    "start_time": "2022-11-05T07:36:38.007Z"
   },
   {
    "duration": 4,
    "start_time": "2022-11-05T07:38:40.779Z"
   },
   {
    "duration": 12,
    "start_time": "2022-11-05T07:38:44.866Z"
   },
   {
    "duration": 253,
    "start_time": "2022-11-05T07:38:48.011Z"
   },
   {
    "duration": 244,
    "start_time": "2022-11-05T07:39:06.860Z"
   },
   {
    "duration": 29,
    "start_time": "2022-11-05T07:39:27.970Z"
   },
   {
    "duration": 5,
    "start_time": "2022-11-05T07:39:41.322Z"
   },
   {
    "duration": 10,
    "start_time": "2022-11-05T07:39:44.721Z"
   },
   {
    "duration": 187,
    "start_time": "2022-11-05T07:39:53.568Z"
   },
   {
    "duration": 28,
    "start_time": "2022-11-05T07:52:34.462Z"
   },
   {
    "duration": 290,
    "start_time": "2022-11-05T07:53:36.484Z"
   },
   {
    "duration": 174,
    "start_time": "2022-11-05T07:57:47.655Z"
   },
   {
    "duration": 44,
    "start_time": "2022-11-05T09:30:13.637Z"
   },
   {
    "duration": 1226,
    "start_time": "2022-11-05T09:30:26.619Z"
   },
   {
    "duration": 234,
    "start_time": "2022-11-05T09:30:27.847Z"
   },
   {
    "duration": 24,
    "start_time": "2022-11-05T09:30:28.083Z"
   },
   {
    "duration": 6,
    "start_time": "2022-11-05T09:30:28.109Z"
   },
   {
    "duration": 20,
    "start_time": "2022-11-05T09:30:28.117Z"
   },
   {
    "duration": 28,
    "start_time": "2022-11-05T09:30:28.139Z"
   },
   {
    "duration": 36,
    "start_time": "2022-11-05T09:30:28.169Z"
   },
   {
    "duration": 9,
    "start_time": "2022-11-05T09:30:28.207Z"
   },
   {
    "duration": 5,
    "start_time": "2022-11-05T09:30:28.217Z"
   },
   {
    "duration": 24,
    "start_time": "2022-11-05T09:30:28.224Z"
   },
   {
    "duration": 8,
    "start_time": "2022-11-05T09:30:28.250Z"
   },
   {
    "duration": 16,
    "start_time": "2022-11-05T09:30:28.259Z"
   },
   {
    "duration": 5,
    "start_time": "2022-11-05T09:30:28.305Z"
   },
   {
    "duration": 12,
    "start_time": "2022-11-05T09:30:28.312Z"
   },
   {
    "duration": 11,
    "start_time": "2022-11-05T09:30:28.325Z"
   },
   {
    "duration": 5,
    "start_time": "2022-11-05T09:30:28.338Z"
   },
   {
    "duration": 11,
    "start_time": "2022-11-05T09:30:28.345Z"
   },
   {
    "duration": 4,
    "start_time": "2022-11-05T09:30:28.357Z"
   },
   {
    "duration": 45,
    "start_time": "2022-11-05T09:30:28.363Z"
   },
   {
    "duration": 7,
    "start_time": "2022-11-05T09:30:28.410Z"
   },
   {
    "duration": 7,
    "start_time": "2022-11-05T09:30:28.418Z"
   },
   {
    "duration": 7,
    "start_time": "2022-11-05T09:30:28.426Z"
   },
   {
    "duration": 7,
    "start_time": "2022-11-05T09:30:28.435Z"
   },
   {
    "duration": 9,
    "start_time": "2022-11-05T09:30:28.443Z"
   },
   {
    "duration": 6,
    "start_time": "2022-11-05T09:30:28.453Z"
   },
   {
    "duration": 47,
    "start_time": "2022-11-05T09:30:28.460Z"
   },
   {
    "duration": 16,
    "start_time": "2022-11-05T09:30:28.508Z"
   },
   {
    "duration": 5,
    "start_time": "2022-11-05T09:30:28.527Z"
   },
   {
    "duration": 352,
    "start_time": "2022-11-05T09:30:28.533Z"
   },
   {
    "duration": 8,
    "start_time": "2022-11-05T09:30:28.887Z"
   },
   {
    "duration": 12,
    "start_time": "2022-11-05T09:30:28.896Z"
   },
   {
    "duration": 42,
    "start_time": "2022-11-05T09:30:28.910Z"
   },
   {
    "duration": 6,
    "start_time": "2022-11-05T09:30:28.954Z"
   },
   {
    "duration": 911,
    "start_time": "2022-11-05T09:30:28.962Z"
   },
   {
    "duration": 37,
    "start_time": "2022-11-05T09:30:29.875Z"
   },
   {
    "duration": 4,
    "start_time": "2022-11-05T09:30:29.914Z"
   },
   {
    "duration": 10,
    "start_time": "2022-11-05T09:30:29.919Z"
   },
   {
    "duration": 179,
    "start_time": "2022-11-05T09:30:29.931Z"
   },
   {
    "duration": 26,
    "start_time": "2022-11-05T09:30:30.112Z"
   },
   {
    "duration": 307,
    "start_time": "2022-11-05T09:30:30.140Z"
   },
   {
    "duration": 40,
    "start_time": "2022-11-05T09:30:30.449Z"
   },
   {
    "duration": 94,
    "start_time": "2022-11-05T09:30:30.491Z"
   },
   {
    "duration": 0,
    "start_time": "2022-11-05T09:30:30.586Z"
   },
   {
    "duration": 0,
    "start_time": "2022-11-05T09:30:30.587Z"
   },
   {
    "duration": 0,
    "start_time": "2022-11-05T09:30:30.588Z"
   },
   {
    "duration": 0,
    "start_time": "2022-11-05T09:30:30.604Z"
   },
   {
    "duration": 0,
    "start_time": "2022-11-05T09:30:30.606Z"
   },
   {
    "duration": 0,
    "start_time": "2022-11-05T09:30:30.607Z"
   },
   {
    "duration": 0,
    "start_time": "2022-11-05T09:30:30.607Z"
   },
   {
    "duration": 1,
    "start_time": "2022-11-05T09:30:30.608Z"
   },
   {
    "duration": 0,
    "start_time": "2022-11-05T09:30:30.609Z"
   },
   {
    "duration": 0,
    "start_time": "2022-11-05T09:30:30.610Z"
   },
   {
    "duration": 0,
    "start_time": "2022-11-05T09:30:30.611Z"
   },
   {
    "duration": 0,
    "start_time": "2022-11-05T09:30:30.612Z"
   },
   {
    "duration": 0,
    "start_time": "2022-11-05T09:30:30.613Z"
   },
   {
    "duration": 0,
    "start_time": "2022-11-05T09:30:30.614Z"
   },
   {
    "duration": 0,
    "start_time": "2022-11-05T09:30:30.615Z"
   },
   {
    "duration": 0,
    "start_time": "2022-11-05T09:30:30.616Z"
   },
   {
    "duration": 0,
    "start_time": "2022-11-05T09:30:30.617Z"
   },
   {
    "duration": 207,
    "start_time": "2022-11-05T09:31:21.034Z"
   },
   {
    "duration": 215,
    "start_time": "2022-11-05T09:31:39.346Z"
   },
   {
    "duration": 220,
    "start_time": "2022-11-05T09:31:52.009Z"
   },
   {
    "duration": 225,
    "start_time": "2022-11-05T09:31:56.305Z"
   },
   {
    "duration": 73,
    "start_time": "2022-11-05T09:35:56.076Z"
   },
   {
    "duration": 288,
    "start_time": "2022-11-05T09:36:10.219Z"
   },
   {
    "duration": 4,
    "start_time": "2022-11-05T09:39:56.588Z"
   },
   {
    "duration": 5,
    "start_time": "2022-11-05T09:40:02.444Z"
   },
   {
    "duration": 6,
    "start_time": "2022-11-05T09:43:02.520Z"
   },
   {
    "duration": 13,
    "start_time": "2022-11-05T09:46:38.123Z"
   },
   {
    "duration": 313,
    "start_time": "2022-11-05T09:49:35.326Z"
   },
   {
    "duration": 330,
    "start_time": "2022-11-05T09:49:41.494Z"
   },
   {
    "duration": 24,
    "start_time": "2022-11-05T09:53:33.520Z"
   },
   {
    "duration": 212,
    "start_time": "2022-11-05T09:54:08.249Z"
   },
   {
    "duration": 9,
    "start_time": "2022-11-05T10:17:45.107Z"
   },
   {
    "duration": 8,
    "start_time": "2022-11-05T10:18:03.285Z"
   },
   {
    "duration": 11,
    "start_time": "2022-11-05T10:18:15.724Z"
   },
   {
    "duration": 8,
    "start_time": "2022-11-05T10:18:39.178Z"
   },
   {
    "duration": 11,
    "start_time": "2022-11-05T10:18:53.890Z"
   },
   {
    "duration": 13,
    "start_time": "2022-11-05T10:19:08.027Z"
   },
   {
    "duration": 11,
    "start_time": "2022-11-05T10:19:11.376Z"
   },
   {
    "duration": 995,
    "start_time": "2022-11-05T10:19:29.034Z"
   },
   {
    "duration": 81,
    "start_time": "2022-11-05T10:19:30.031Z"
   },
   {
    "duration": 20,
    "start_time": "2022-11-05T10:19:30.113Z"
   },
   {
    "duration": 9,
    "start_time": "2022-11-05T10:19:30.134Z"
   },
   {
    "duration": 22,
    "start_time": "2022-11-05T10:19:30.144Z"
   },
   {
    "duration": 18,
    "start_time": "2022-11-05T10:19:30.167Z"
   },
   {
    "duration": 6,
    "start_time": "2022-11-05T10:19:30.205Z"
   },
   {
    "duration": 11,
    "start_time": "2022-11-05T10:19:30.212Z"
   },
   {
    "duration": 33,
    "start_time": "2022-11-05T10:19:30.224Z"
   },
   {
    "duration": 33,
    "start_time": "2022-11-05T10:19:30.260Z"
   },
   {
    "duration": 8,
    "start_time": "2022-11-05T10:19:30.295Z"
   },
   {
    "duration": 30,
    "start_time": "2022-11-05T10:19:30.304Z"
   },
   {
    "duration": 15,
    "start_time": "2022-11-05T10:19:30.336Z"
   },
   {
    "duration": 17,
    "start_time": "2022-11-05T10:19:30.353Z"
   },
   {
    "duration": 10,
    "start_time": "2022-11-05T10:19:30.371Z"
   },
   {
    "duration": 6,
    "start_time": "2022-11-05T10:19:30.382Z"
   },
   {
    "duration": 11,
    "start_time": "2022-11-05T10:19:30.390Z"
   },
   {
    "duration": 7,
    "start_time": "2022-11-05T10:19:30.402Z"
   },
   {
    "duration": 23,
    "start_time": "2022-11-05T10:19:30.410Z"
   },
   {
    "duration": 21,
    "start_time": "2022-11-05T10:19:30.435Z"
   },
   {
    "duration": 39,
    "start_time": "2022-11-05T10:19:30.458Z"
   },
   {
    "duration": 21,
    "start_time": "2022-11-05T10:19:30.499Z"
   },
   {
    "duration": 24,
    "start_time": "2022-11-05T10:19:30.522Z"
   },
   {
    "duration": 21,
    "start_time": "2022-11-05T10:19:30.548Z"
   },
   {
    "duration": 32,
    "start_time": "2022-11-05T10:19:30.571Z"
   },
   {
    "duration": 32,
    "start_time": "2022-11-05T10:19:30.604Z"
   },
   {
    "duration": 20,
    "start_time": "2022-11-05T10:19:30.638Z"
   },
   {
    "duration": 16,
    "start_time": "2022-11-05T10:19:30.661Z"
   },
   {
    "duration": 349,
    "start_time": "2022-11-05T10:19:30.678Z"
   },
   {
    "duration": 7,
    "start_time": "2022-11-05T10:19:31.029Z"
   },
   {
    "duration": 28,
    "start_time": "2022-11-05T10:19:31.038Z"
   },
   {
    "duration": 53,
    "start_time": "2022-11-05T10:19:31.067Z"
   },
   {
    "duration": 6,
    "start_time": "2022-11-05T10:19:31.122Z"
   },
   {
    "duration": 893,
    "start_time": "2022-11-05T10:19:31.129Z"
   },
   {
    "duration": 26,
    "start_time": "2022-11-05T10:19:32.023Z"
   },
   {
    "duration": 3,
    "start_time": "2022-11-05T10:19:32.051Z"
   },
   {
    "duration": 12,
    "start_time": "2022-11-05T10:19:32.055Z"
   },
   {
    "duration": 184,
    "start_time": "2022-11-05T10:19:32.069Z"
   },
   {
    "duration": 29,
    "start_time": "2022-11-05T10:19:32.254Z"
   },
   {
    "duration": 298,
    "start_time": "2022-11-05T10:19:32.285Z"
   },
   {
    "duration": 49,
    "start_time": "2022-11-05T10:19:32.584Z"
   },
   {
    "duration": 237,
    "start_time": "2022-11-05T10:19:32.634Z"
   },
   {
    "duration": 111,
    "start_time": "2022-11-05T10:19:32.873Z"
   },
   {
    "duration": 0,
    "start_time": "2022-11-05T10:19:32.986Z"
   },
   {
    "duration": 0,
    "start_time": "2022-11-05T10:19:32.987Z"
   },
   {
    "duration": 0,
    "start_time": "2022-11-05T10:19:32.988Z"
   },
   {
    "duration": 0,
    "start_time": "2022-11-05T10:19:32.989Z"
   },
   {
    "duration": 0,
    "start_time": "2022-11-05T10:19:32.991Z"
   },
   {
    "duration": 0,
    "start_time": "2022-11-05T10:19:32.992Z"
   },
   {
    "duration": 0,
    "start_time": "2022-11-05T10:19:33.005Z"
   },
   {
    "duration": 0,
    "start_time": "2022-11-05T10:19:33.007Z"
   },
   {
    "duration": 0,
    "start_time": "2022-11-05T10:19:33.008Z"
   },
   {
    "duration": 0,
    "start_time": "2022-11-05T10:19:33.009Z"
   },
   {
    "duration": 0,
    "start_time": "2022-11-05T10:19:33.011Z"
   },
   {
    "duration": 0,
    "start_time": "2022-11-05T10:19:33.012Z"
   },
   {
    "duration": 0,
    "start_time": "2022-11-05T10:19:33.013Z"
   },
   {
    "duration": 0,
    "start_time": "2022-11-05T10:19:33.014Z"
   },
   {
    "duration": 0,
    "start_time": "2022-11-05T10:19:33.015Z"
   },
   {
    "duration": 0,
    "start_time": "2022-11-05T10:19:33.016Z"
   },
   {
    "duration": 1063,
    "start_time": "2022-11-05T10:20:37.168Z"
   },
   {
    "duration": 90,
    "start_time": "2022-11-05T10:20:38.233Z"
   },
   {
    "duration": 21,
    "start_time": "2022-11-05T10:20:38.325Z"
   },
   {
    "duration": 4,
    "start_time": "2022-11-05T10:20:38.348Z"
   },
   {
    "duration": 20,
    "start_time": "2022-11-05T10:20:38.354Z"
   },
   {
    "duration": 42,
    "start_time": "2022-11-05T10:20:38.375Z"
   },
   {
    "duration": 7,
    "start_time": "2022-11-05T10:20:38.419Z"
   },
   {
    "duration": 9,
    "start_time": "2022-11-05T10:20:38.428Z"
   },
   {
    "duration": 7,
    "start_time": "2022-11-05T10:20:38.438Z"
   },
   {
    "duration": 23,
    "start_time": "2022-11-05T10:20:38.447Z"
   },
   {
    "duration": 4,
    "start_time": "2022-11-05T10:20:38.505Z"
   },
   {
    "duration": 12,
    "start_time": "2022-11-05T10:20:38.511Z"
   },
   {
    "duration": 5,
    "start_time": "2022-11-05T10:20:38.525Z"
   },
   {
    "duration": 14,
    "start_time": "2022-11-05T10:20:38.531Z"
   },
   {
    "duration": 9,
    "start_time": "2022-11-05T10:20:38.547Z"
   },
   {
    "duration": 6,
    "start_time": "2022-11-05T10:20:38.558Z"
   },
   {
    "duration": 6,
    "start_time": "2022-11-05T10:20:38.565Z"
   },
   {
    "duration": 36,
    "start_time": "2022-11-05T10:20:38.572Z"
   },
   {
    "duration": 8,
    "start_time": "2022-11-05T10:20:38.609Z"
   },
   {
    "duration": 7,
    "start_time": "2022-11-05T10:20:38.619Z"
   },
   {
    "duration": 10,
    "start_time": "2022-11-05T10:20:38.628Z"
   },
   {
    "duration": 11,
    "start_time": "2022-11-05T10:20:38.639Z"
   },
   {
    "duration": 6,
    "start_time": "2022-11-05T10:20:38.651Z"
   },
   {
    "duration": 8,
    "start_time": "2022-11-05T10:20:38.658Z"
   },
   {
    "duration": 40,
    "start_time": "2022-11-05T10:20:38.667Z"
   },
   {
    "duration": 16,
    "start_time": "2022-11-05T10:20:38.708Z"
   },
   {
    "duration": 12,
    "start_time": "2022-11-05T10:20:38.726Z"
   },
   {
    "duration": 4,
    "start_time": "2022-11-05T10:20:38.741Z"
   },
   {
    "duration": 352,
    "start_time": "2022-11-05T10:20:38.746Z"
   },
   {
    "duration": 10,
    "start_time": "2022-11-05T10:20:39.100Z"
   },
   {
    "duration": 29,
    "start_time": "2022-11-05T10:20:39.112Z"
   },
   {
    "duration": 50,
    "start_time": "2022-11-05T10:20:39.143Z"
   },
   {
    "duration": 12,
    "start_time": "2022-11-05T10:20:39.195Z"
   },
   {
    "duration": 903,
    "start_time": "2022-11-05T10:20:39.208Z"
   },
   {
    "duration": 29,
    "start_time": "2022-11-05T10:20:40.113Z"
   },
   {
    "duration": 4,
    "start_time": "2022-11-05T10:20:40.143Z"
   },
   {
    "duration": 11,
    "start_time": "2022-11-05T10:20:40.149Z"
   },
   {
    "duration": 207,
    "start_time": "2022-11-05T10:20:40.162Z"
   },
   {
    "duration": 35,
    "start_time": "2022-11-05T10:20:40.371Z"
   },
   {
    "duration": 283,
    "start_time": "2022-11-05T10:20:40.407Z"
   },
   {
    "duration": 50,
    "start_time": "2022-11-05T10:20:40.692Z"
   },
   {
    "duration": 226,
    "start_time": "2022-11-05T10:20:40.743Z"
   },
   {
    "duration": 129,
    "start_time": "2022-11-05T10:20:40.970Z"
   },
   {
    "duration": 129,
    "start_time": "2022-11-05T10:20:41.100Z"
   },
   {
    "duration": 8,
    "start_time": "2022-11-05T10:20:41.231Z"
   },
   {
    "duration": 10,
    "start_time": "2022-11-05T10:20:41.241Z"
   },
   {
    "duration": 111,
    "start_time": "2022-11-05T10:20:41.252Z"
   },
   {
    "duration": 0,
    "start_time": "2022-11-05T10:20:41.364Z"
   },
   {
    "duration": 0,
    "start_time": "2022-11-05T10:20:41.366Z"
   },
   {
    "duration": 0,
    "start_time": "2022-11-05T10:20:41.367Z"
   },
   {
    "duration": 0,
    "start_time": "2022-11-05T10:20:41.368Z"
   },
   {
    "duration": 0,
    "start_time": "2022-11-05T10:20:41.369Z"
   },
   {
    "duration": 0,
    "start_time": "2022-11-05T10:20:41.370Z"
   },
   {
    "duration": 0,
    "start_time": "2022-11-05T10:20:41.370Z"
   },
   {
    "duration": 0,
    "start_time": "2022-11-05T10:20:41.372Z"
   },
   {
    "duration": 0,
    "start_time": "2022-11-05T10:20:41.372Z"
   },
   {
    "duration": 0,
    "start_time": "2022-11-05T10:20:41.373Z"
   },
   {
    "duration": 0,
    "start_time": "2022-11-05T10:20:41.374Z"
   },
   {
    "duration": 0,
    "start_time": "2022-11-05T10:20:41.375Z"
   },
   {
    "duration": 1220,
    "start_time": "2022-11-05T10:21:36.241Z"
   },
   {
    "duration": 626,
    "start_time": "2022-11-05T10:23:11.279Z"
   },
   {
    "duration": 9,
    "start_time": "2022-11-05T10:23:32.270Z"
   },
   {
    "duration": 16,
    "start_time": "2022-11-05T10:23:53.068Z"
   },
   {
    "duration": 6,
    "start_time": "2022-11-05T10:28:28.984Z"
   },
   {
    "duration": 49,
    "start_time": "2022-11-05T10:28:30.367Z"
   },
   {
    "duration": 1355,
    "start_time": "2022-11-05T10:29:04.219Z"
   },
   {
    "duration": 1611,
    "start_time": "2022-11-05T10:29:24.268Z"
   },
   {
    "duration": 1514,
    "start_time": "2022-11-05T10:29:31.877Z"
   },
   {
    "duration": 1690,
    "start_time": "2022-11-05T10:29:40.652Z"
   },
   {
    "duration": 1517,
    "start_time": "2022-11-05T10:29:51.443Z"
   },
   {
    "duration": 34,
    "start_time": "2022-11-05T10:30:28.915Z"
   },
   {
    "duration": 16,
    "start_time": "2022-11-05T10:31:02.947Z"
   },
   {
    "duration": 77,
    "start_time": "2022-11-05T10:31:27.042Z"
   },
   {
    "duration": 4,
    "start_time": "2022-11-05T10:31:35.578Z"
   },
   {
    "duration": 28,
    "start_time": "2022-11-05T10:31:47.320Z"
   },
   {
    "duration": 4,
    "start_time": "2022-11-05T10:32:18.656Z"
   },
   {
    "duration": 3,
    "start_time": "2022-11-05T10:32:28.208Z"
   },
   {
    "duration": 10,
    "start_time": "2022-11-05T10:32:32.632Z"
   },
   {
    "duration": 180,
    "start_time": "2022-11-05T10:32:35.927Z"
   },
   {
    "duration": 168,
    "start_time": "2022-11-05T10:32:49.783Z"
   },
   {
    "duration": 4,
    "start_time": "2022-11-05T10:33:38.759Z"
   },
   {
    "duration": 50,
    "start_time": "2022-11-05T10:33:41.919Z"
   },
   {
    "duration": 6,
    "start_time": "2022-11-05T10:33:51.990Z"
   },
   {
    "duration": 85,
    "start_time": "2022-11-05T10:33:53.183Z"
   },
   {
    "duration": 12,
    "start_time": "2022-11-05T10:36:27.218Z"
   },
   {
    "duration": 49,
    "start_time": "2022-11-05T10:36:47.443Z"
   },
   {
    "duration": 8,
    "start_time": "2022-11-05T10:36:53.168Z"
   },
   {
    "duration": 803,
    "start_time": "2022-11-05T10:36:55.352Z"
   },
   {
    "duration": 1055,
    "start_time": "2022-11-05T10:37:36.403Z"
   },
   {
    "duration": 90,
    "start_time": "2022-11-05T10:37:37.460Z"
   },
   {
    "duration": 23,
    "start_time": "2022-11-05T10:37:37.551Z"
   },
   {
    "duration": 5,
    "start_time": "2022-11-05T10:37:37.577Z"
   },
   {
    "duration": 22,
    "start_time": "2022-11-05T10:37:37.584Z"
   },
   {
    "duration": 21,
    "start_time": "2022-11-05T10:37:37.608Z"
   },
   {
    "duration": 5,
    "start_time": "2022-11-05T10:37:37.631Z"
   },
   {
    "duration": 9,
    "start_time": "2022-11-05T10:37:37.638Z"
   },
   {
    "duration": 5,
    "start_time": "2022-11-05T10:37:37.648Z"
   },
   {
    "duration": 60,
    "start_time": "2022-11-05T10:37:37.657Z"
   },
   {
    "duration": 6,
    "start_time": "2022-11-05T10:37:37.719Z"
   },
   {
    "duration": 12,
    "start_time": "2022-11-05T10:37:37.727Z"
   },
   {
    "duration": 5,
    "start_time": "2022-11-05T10:37:37.741Z"
   },
   {
    "duration": 8,
    "start_time": "2022-11-05T10:37:37.747Z"
   },
   {
    "duration": 9,
    "start_time": "2022-11-05T10:37:37.757Z"
   },
   {
    "duration": 5,
    "start_time": "2022-11-05T10:37:37.805Z"
   },
   {
    "duration": 7,
    "start_time": "2022-11-05T10:37:37.812Z"
   },
   {
    "duration": 6,
    "start_time": "2022-11-05T10:37:37.820Z"
   },
   {
    "duration": 6,
    "start_time": "2022-11-05T10:37:37.828Z"
   },
   {
    "duration": 8,
    "start_time": "2022-11-05T10:37:37.836Z"
   },
   {
    "duration": 9,
    "start_time": "2022-11-05T10:37:37.846Z"
   },
   {
    "duration": 52,
    "start_time": "2022-11-05T10:37:37.856Z"
   },
   {
    "duration": 6,
    "start_time": "2022-11-05T10:37:37.909Z"
   },
   {
    "duration": 11,
    "start_time": "2022-11-05T10:37:37.916Z"
   },
   {
    "duration": 12,
    "start_time": "2022-11-05T10:37:37.928Z"
   },
   {
    "duration": 14,
    "start_time": "2022-11-05T10:37:37.942Z"
   },
   {
    "duration": 48,
    "start_time": "2022-11-05T10:37:37.958Z"
   },
   {
    "duration": 6,
    "start_time": "2022-11-05T10:37:38.012Z"
   },
   {
    "duration": 367,
    "start_time": "2022-11-05T10:37:38.020Z"
   },
   {
    "duration": 20,
    "start_time": "2022-11-05T10:37:38.388Z"
   },
   {
    "duration": 45,
    "start_time": "2022-11-05T10:37:38.410Z"
   },
   {
    "duration": 5,
    "start_time": "2022-11-05T10:37:38.457Z"
   },
   {
    "duration": 706,
    "start_time": "2022-11-05T10:37:38.464Z"
   },
   {
    "duration": 35,
    "start_time": "2022-11-05T10:37:39.171Z"
   },
   {
    "duration": 4,
    "start_time": "2022-11-05T10:37:39.208Z"
   },
   {
    "duration": 17,
    "start_time": "2022-11-05T10:37:39.213Z"
   },
   {
    "duration": 188,
    "start_time": "2022-11-05T10:37:39.231Z"
   },
   {
    "duration": 26,
    "start_time": "2022-11-05T10:37:39.421Z"
   },
   {
    "duration": 322,
    "start_time": "2022-11-05T10:37:39.448Z"
   },
   {
    "duration": 51,
    "start_time": "2022-11-05T10:37:39.772Z"
   },
   {
    "duration": 229,
    "start_time": "2022-11-05T10:37:39.824Z"
   },
   {
    "duration": 145,
    "start_time": "2022-11-05T10:37:40.056Z"
   },
   {
    "duration": 141,
    "start_time": "2022-11-05T10:37:40.206Z"
   },
   {
    "duration": 8,
    "start_time": "2022-11-05T10:37:40.349Z"
   },
   {
    "duration": 7,
    "start_time": "2022-11-05T10:37:40.359Z"
   },
   {
    "duration": 552,
    "start_time": "2022-11-05T10:37:40.368Z"
   },
   {
    "duration": 8,
    "start_time": "2022-11-05T10:37:40.922Z"
   },
   {
    "duration": 8,
    "start_time": "2022-11-05T10:37:40.932Z"
   },
   {
    "duration": 9,
    "start_time": "2022-11-05T10:37:40.941Z"
   },
   {
    "duration": 8,
    "start_time": "2022-11-05T10:37:40.952Z"
   },
   {
    "duration": 66,
    "start_time": "2022-11-05T10:37:40.961Z"
   },
   {
    "duration": 331,
    "start_time": "2022-11-05T10:37:41.029Z"
   },
   {
    "duration": 16,
    "start_time": "2022-11-05T10:37:41.361Z"
   },
   {
    "duration": 452,
    "start_time": "2022-11-05T10:37:41.378Z"
   },
   {
    "duration": 17,
    "start_time": "2022-11-05T10:37:41.831Z"
   },
   {
    "duration": 319,
    "start_time": "2022-11-05T10:37:41.849Z"
   },
   {
    "duration": 10,
    "start_time": "2022-11-05T10:37:42.170Z"
   },
   {
    "duration": 25,
    "start_time": "2022-11-05T10:37:42.182Z"
   },
   {
    "duration": 1012,
    "start_time": "2022-11-05T10:38:10.309Z"
   },
   {
    "duration": 84,
    "start_time": "2022-11-05T10:38:11.323Z"
   },
   {
    "duration": 17,
    "start_time": "2022-11-05T10:38:11.408Z"
   },
   {
    "duration": 4,
    "start_time": "2022-11-05T10:38:11.427Z"
   },
   {
    "duration": 16,
    "start_time": "2022-11-05T10:38:11.432Z"
   },
   {
    "duration": 19,
    "start_time": "2022-11-05T10:38:11.449Z"
   },
   {
    "duration": 37,
    "start_time": "2022-11-05T10:38:11.469Z"
   },
   {
    "duration": 9,
    "start_time": "2022-11-05T10:38:11.507Z"
   },
   {
    "duration": 4,
    "start_time": "2022-11-05T10:38:11.517Z"
   },
   {
    "duration": 20,
    "start_time": "2022-11-05T10:38:11.524Z"
   },
   {
    "duration": 4,
    "start_time": "2022-11-05T10:38:11.545Z"
   },
   {
    "duration": 59,
    "start_time": "2022-11-05T10:38:11.550Z"
   },
   {
    "duration": 6,
    "start_time": "2022-11-05T10:38:11.610Z"
   },
   {
    "duration": 13,
    "start_time": "2022-11-05T10:38:11.617Z"
   },
   {
    "duration": 11,
    "start_time": "2022-11-05T10:38:11.632Z"
   },
   {
    "duration": 9,
    "start_time": "2022-11-05T10:38:11.644Z"
   },
   {
    "duration": 10,
    "start_time": "2022-11-05T10:38:11.655Z"
   },
   {
    "duration": 38,
    "start_time": "2022-11-05T10:38:11.667Z"
   },
   {
    "duration": 6,
    "start_time": "2022-11-05T10:38:11.707Z"
   },
   {
    "duration": 9,
    "start_time": "2022-11-05T10:38:11.715Z"
   },
   {
    "duration": 7,
    "start_time": "2022-11-05T10:38:11.726Z"
   },
   {
    "duration": 17,
    "start_time": "2022-11-05T10:38:11.735Z"
   },
   {
    "duration": 6,
    "start_time": "2022-11-05T10:38:11.753Z"
   },
   {
    "duration": 9,
    "start_time": "2022-11-05T10:38:11.760Z"
   },
   {
    "duration": 43,
    "start_time": "2022-11-05T10:38:11.771Z"
   },
   {
    "duration": 13,
    "start_time": "2022-11-05T10:38:11.815Z"
   },
   {
    "duration": 14,
    "start_time": "2022-11-05T10:38:11.829Z"
   },
   {
    "duration": 5,
    "start_time": "2022-11-05T10:38:11.847Z"
   },
   {
    "duration": 357,
    "start_time": "2022-11-05T10:38:11.854Z"
   },
   {
    "duration": 12,
    "start_time": "2022-11-05T10:38:12.213Z"
   },
   {
    "duration": 71,
    "start_time": "2022-11-05T10:38:12.227Z"
   },
   {
    "duration": 6,
    "start_time": "2022-11-05T10:38:12.299Z"
   },
   {
    "duration": 700,
    "start_time": "2022-11-05T10:38:12.307Z"
   },
   {
    "duration": 24,
    "start_time": "2022-11-05T10:38:13.008Z"
   },
   {
    "duration": 2,
    "start_time": "2022-11-05T10:38:13.034Z"
   },
   {
    "duration": 12,
    "start_time": "2022-11-05T10:38:13.038Z"
   },
   {
    "duration": 187,
    "start_time": "2022-11-05T10:38:13.052Z"
   },
   {
    "duration": 26,
    "start_time": "2022-11-05T10:38:13.240Z"
   },
   {
    "duration": 297,
    "start_time": "2022-11-05T10:38:13.267Z"
   },
   {
    "duration": 49,
    "start_time": "2022-11-05T10:38:13.566Z"
   },
   {
    "duration": 219,
    "start_time": "2022-11-05T10:38:13.617Z"
   },
   {
    "duration": 142,
    "start_time": "2022-11-05T10:38:13.838Z"
   },
   {
    "duration": 129,
    "start_time": "2022-11-05T10:38:13.982Z"
   },
   {
    "duration": 6,
    "start_time": "2022-11-05T10:38:14.113Z"
   },
   {
    "duration": 7,
    "start_time": "2022-11-05T10:38:14.120Z"
   },
   {
    "duration": 586,
    "start_time": "2022-11-05T10:38:14.128Z"
   },
   {
    "duration": 7,
    "start_time": "2022-11-05T10:38:14.716Z"
   },
   {
    "duration": 12,
    "start_time": "2022-11-05T10:38:14.724Z"
   },
   {
    "duration": 15,
    "start_time": "2022-11-05T10:38:14.737Z"
   },
   {
    "duration": 17,
    "start_time": "2022-11-05T10:38:14.754Z"
   },
   {
    "duration": 47,
    "start_time": "2022-11-05T10:38:14.772Z"
   },
   {
    "duration": 316,
    "start_time": "2022-11-05T10:38:14.821Z"
   },
   {
    "duration": 15,
    "start_time": "2022-11-05T10:38:15.138Z"
   },
   {
    "duration": 409,
    "start_time": "2022-11-05T10:38:15.155Z"
   },
   {
    "duration": 15,
    "start_time": "2022-11-05T10:38:15.565Z"
   },
   {
    "duration": 326,
    "start_time": "2022-11-05T10:38:15.581Z"
   },
   {
    "duration": 12,
    "start_time": "2022-11-05T10:38:15.909Z"
   },
   {
    "duration": 20,
    "start_time": "2022-11-05T10:38:15.923Z"
   },
   {
    "duration": 8,
    "start_time": "2022-11-05T10:40:39.147Z"
   },
   {
    "duration": 11,
    "start_time": "2022-11-05T10:40:57.523Z"
   },
   {
    "duration": 30,
    "start_time": "2022-11-05T10:41:13.664Z"
   },
   {
    "duration": 7,
    "start_time": "2022-11-05T10:41:26.555Z"
   },
   {
    "duration": 35,
    "start_time": "2022-11-05T10:41:27.787Z"
   },
   {
    "duration": 9,
    "start_time": "2022-11-05T10:42:02.593Z"
   },
   {
    "duration": 5,
    "start_time": "2022-11-05T10:42:29.897Z"
   },
   {
    "duration": 35,
    "start_time": "2022-11-05T10:42:30.841Z"
   },
   {
    "duration": 1044,
    "start_time": "2022-11-05T10:42:52.925Z"
   },
   {
    "duration": 81,
    "start_time": "2022-11-05T10:42:53.971Z"
   },
   {
    "duration": 20,
    "start_time": "2022-11-05T10:42:54.054Z"
   },
   {
    "duration": 8,
    "start_time": "2022-11-05T10:42:54.077Z"
   },
   {
    "duration": 15,
    "start_time": "2022-11-05T10:42:54.087Z"
   },
   {
    "duration": 21,
    "start_time": "2022-11-05T10:42:54.105Z"
   },
   {
    "duration": 10,
    "start_time": "2022-11-05T10:42:54.128Z"
   },
   {
    "duration": 10,
    "start_time": "2022-11-05T10:42:54.139Z"
   },
   {
    "duration": 6,
    "start_time": "2022-11-05T10:42:54.150Z"
   },
   {
    "duration": 62,
    "start_time": "2022-11-05T10:42:54.159Z"
   },
   {
    "duration": 6,
    "start_time": "2022-11-05T10:42:54.223Z"
   },
   {
    "duration": 13,
    "start_time": "2022-11-05T10:42:54.231Z"
   },
   {
    "duration": 7,
    "start_time": "2022-11-05T10:42:54.246Z"
   },
   {
    "duration": 13,
    "start_time": "2022-11-05T10:42:54.255Z"
   },
   {
    "duration": 40,
    "start_time": "2022-11-05T10:42:54.270Z"
   },
   {
    "duration": 4,
    "start_time": "2022-11-05T10:42:54.312Z"
   },
   {
    "duration": 7,
    "start_time": "2022-11-05T10:42:54.318Z"
   },
   {
    "duration": 9,
    "start_time": "2022-11-05T10:42:54.326Z"
   },
   {
    "duration": 8,
    "start_time": "2022-11-05T10:42:54.336Z"
   },
   {
    "duration": 8,
    "start_time": "2022-11-05T10:42:54.346Z"
   },
   {
    "duration": 49,
    "start_time": "2022-11-05T10:42:54.356Z"
   },
   {
    "duration": 7,
    "start_time": "2022-11-05T10:42:54.407Z"
   },
   {
    "duration": 6,
    "start_time": "2022-11-05T10:42:54.416Z"
   },
   {
    "duration": 9,
    "start_time": "2022-11-05T10:42:54.423Z"
   },
   {
    "duration": 10,
    "start_time": "2022-11-05T10:42:54.434Z"
   },
   {
    "duration": 11,
    "start_time": "2022-11-05T10:42:54.445Z"
   },
   {
    "duration": 54,
    "start_time": "2022-11-05T10:42:54.458Z"
   },
   {
    "duration": 5,
    "start_time": "2022-11-05T10:42:54.515Z"
   },
   {
    "duration": 348,
    "start_time": "2022-11-05T10:42:54.522Z"
   },
   {
    "duration": 8,
    "start_time": "2022-11-05T10:42:54.872Z"
   },
   {
    "duration": 34,
    "start_time": "2022-11-05T10:42:54.881Z"
   },
   {
    "duration": 34,
    "start_time": "2022-11-05T10:42:54.916Z"
   },
   {
    "duration": 8,
    "start_time": "2022-11-05T10:42:54.952Z"
   },
   {
    "duration": 30,
    "start_time": "2022-11-05T10:42:54.961Z"
   },
   {
    "duration": 17,
    "start_time": "2022-11-05T10:42:54.992Z"
   },
   {
    "duration": 695,
    "start_time": "2022-11-05T10:42:55.010Z"
   },
   {
    "duration": 26,
    "start_time": "2022-11-05T10:42:55.706Z"
   },
   {
    "duration": 3,
    "start_time": "2022-11-05T10:42:55.734Z"
   },
   {
    "duration": 12,
    "start_time": "2022-11-05T10:42:55.738Z"
   },
   {
    "duration": 200,
    "start_time": "2022-11-05T10:42:55.752Z"
   },
   {
    "duration": 25,
    "start_time": "2022-11-05T10:42:55.954Z"
   },
   {
    "duration": 308,
    "start_time": "2022-11-05T10:42:55.981Z"
   },
   {
    "duration": 62,
    "start_time": "2022-11-05T10:42:56.291Z"
   },
   {
    "duration": 240,
    "start_time": "2022-11-05T10:42:56.355Z"
   },
   {
    "duration": 133,
    "start_time": "2022-11-05T10:42:56.597Z"
   },
   {
    "duration": 133,
    "start_time": "2022-11-05T10:42:56.732Z"
   },
   {
    "duration": 6,
    "start_time": "2022-11-05T10:42:56.866Z"
   },
   {
    "duration": 8,
    "start_time": "2022-11-05T10:42:56.874Z"
   },
   {
    "duration": 604,
    "start_time": "2022-11-05T10:42:56.884Z"
   },
   {
    "duration": 18,
    "start_time": "2022-11-05T10:42:57.490Z"
   },
   {
    "duration": 10,
    "start_time": "2022-11-05T10:42:57.510Z"
   },
   {
    "duration": 17,
    "start_time": "2022-11-05T10:42:57.522Z"
   },
   {
    "duration": 9,
    "start_time": "2022-11-05T10:42:57.541Z"
   },
   {
    "duration": 54,
    "start_time": "2022-11-05T10:42:57.552Z"
   },
   {
    "duration": 341,
    "start_time": "2022-11-05T10:42:57.608Z"
   },
   {
    "duration": 18,
    "start_time": "2022-11-05T10:42:57.951Z"
   },
   {
    "duration": 445,
    "start_time": "2022-11-05T10:42:57.970Z"
   },
   {
    "duration": 20,
    "start_time": "2022-11-05T10:42:58.417Z"
   },
   {
    "duration": 318,
    "start_time": "2022-11-05T10:42:58.439Z"
   },
   {
    "duration": 11,
    "start_time": "2022-11-05T10:42:58.759Z"
   },
   {
    "duration": 11,
    "start_time": "2022-11-05T10:42:58.771Z"
   },
   {
    "duration": 6,
    "start_time": "2022-11-05T10:43:38.628Z"
   },
   {
    "duration": 6,
    "start_time": "2022-11-05T10:44:32.283Z"
   },
   {
    "duration": 630,
    "start_time": "2022-11-05T10:45:18.904Z"
   },
   {
    "duration": 9,
    "start_time": "2022-11-05T10:47:25.916Z"
   },
   {
    "duration": 30,
    "start_time": "2022-11-05T10:47:31.222Z"
   },
   {
    "duration": 821,
    "start_time": "2022-11-05T10:47:36.812Z"
   },
   {
    "duration": 367,
    "start_time": "2022-11-05T10:49:53.890Z"
   },
   {
    "duration": 24,
    "start_time": "2022-11-05T10:50:03.865Z"
   },
   {
    "duration": 15,
    "start_time": "2022-11-05T10:51:10.345Z"
   },
   {
    "duration": 15,
    "start_time": "2022-11-05T10:51:31.472Z"
   },
   {
    "duration": 15,
    "start_time": "2022-11-05T10:51:56.454Z"
   },
   {
    "duration": 21,
    "start_time": "2022-11-05T10:52:03.743Z"
   },
   {
    "duration": 23,
    "start_time": "2022-11-05T10:52:13.342Z"
   },
   {
    "duration": 200,
    "start_time": "2022-11-05T10:52:25.701Z"
   },
   {
    "duration": 0,
    "start_time": "2022-11-05T10:57:34.743Z"
   },
   {
    "duration": 1197,
    "start_time": "2022-11-05T10:58:04.188Z"
   },
   {
    "duration": 68,
    "start_time": "2022-11-05T11:00:15.915Z"
   },
   {
    "duration": 32,
    "start_time": "2022-11-05T11:01:21.504Z"
   },
   {
    "duration": 37,
    "start_time": "2022-11-05T11:02:14.193Z"
   },
   {
    "duration": 616,
    "start_time": "2022-11-05T11:02:25.478Z"
   },
   {
    "duration": 420,
    "start_time": "2022-11-05T11:03:09.933Z"
   },
   {
    "duration": 483,
    "start_time": "2022-11-05T11:03:28.220Z"
   },
   {
    "duration": 444,
    "start_time": "2022-11-05T11:03:40.796Z"
   },
   {
    "duration": 512,
    "start_time": "2022-11-05T11:04:11.595Z"
   },
   {
    "duration": 539,
    "start_time": "2022-11-05T11:04:17.227Z"
   },
   {
    "duration": 1299,
    "start_time": "2022-11-05T11:09:12.781Z"
   },
   {
    "duration": 24,
    "start_time": "2022-11-05T11:09:51.467Z"
   },
   {
    "duration": 13,
    "start_time": "2022-11-05T11:11:37.807Z"
   },
   {
    "duration": 12,
    "start_time": "2022-11-05T11:13:35.533Z"
   },
   {
    "duration": 46,
    "start_time": "2022-11-05T20:44:36.148Z"
   },
   {
    "duration": 1276,
    "start_time": "2022-11-05T20:44:43.195Z"
   },
   {
    "duration": 119,
    "start_time": "2022-11-05T20:44:44.475Z"
   },
   {
    "duration": 20,
    "start_time": "2022-11-05T20:44:44.595Z"
   },
   {
    "duration": 5,
    "start_time": "2022-11-05T20:44:44.617Z"
   },
   {
    "duration": 15,
    "start_time": "2022-11-05T20:44:44.623Z"
   },
   {
    "duration": 18,
    "start_time": "2022-11-05T20:44:44.639Z"
   },
   {
    "duration": 7,
    "start_time": "2022-11-05T20:44:44.658Z"
   },
   {
    "duration": 11,
    "start_time": "2022-11-05T20:44:44.666Z"
   },
   {
    "duration": 5,
    "start_time": "2022-11-05T20:44:44.678Z"
   },
   {
    "duration": 46,
    "start_time": "2022-11-05T20:44:44.685Z"
   },
   {
    "duration": 4,
    "start_time": "2022-11-05T20:44:44.733Z"
   },
   {
    "duration": 12,
    "start_time": "2022-11-05T20:44:44.739Z"
   },
   {
    "duration": 4,
    "start_time": "2022-11-05T20:44:44.753Z"
   },
   {
    "duration": 7,
    "start_time": "2022-11-05T20:44:44.758Z"
   },
   {
    "duration": 9,
    "start_time": "2022-11-05T20:44:44.767Z"
   },
   {
    "duration": 3,
    "start_time": "2022-11-05T20:44:44.777Z"
   },
   {
    "duration": 41,
    "start_time": "2022-11-05T20:44:44.782Z"
   },
   {
    "duration": 7,
    "start_time": "2022-11-05T20:44:44.824Z"
   },
   {
    "duration": 8,
    "start_time": "2022-11-05T20:44:44.832Z"
   },
   {
    "duration": 9,
    "start_time": "2022-11-05T20:44:44.841Z"
   },
   {
    "duration": 8,
    "start_time": "2022-11-05T20:44:44.851Z"
   },
   {
    "duration": 8,
    "start_time": "2022-11-05T20:44:44.861Z"
   },
   {
    "duration": 7,
    "start_time": "2022-11-05T20:44:44.870Z"
   },
   {
    "duration": 7,
    "start_time": "2022-11-05T20:44:44.879Z"
   },
   {
    "duration": 10,
    "start_time": "2022-11-05T20:44:44.922Z"
   },
   {
    "duration": 12,
    "start_time": "2022-11-05T20:44:44.934Z"
   },
   {
    "duration": 11,
    "start_time": "2022-11-05T20:44:44.948Z"
   },
   {
    "duration": 5,
    "start_time": "2022-11-05T20:44:44.962Z"
   },
   {
    "duration": 391,
    "start_time": "2022-11-05T20:44:44.969Z"
   },
   {
    "duration": 7,
    "start_time": "2022-11-05T20:44:45.362Z"
   },
   {
    "duration": 34,
    "start_time": "2022-11-05T20:44:45.371Z"
   },
   {
    "duration": 32,
    "start_time": "2022-11-05T20:44:45.407Z"
   },
   {
    "duration": 5,
    "start_time": "2022-11-05T20:44:45.441Z"
   },
   {
    "duration": 681,
    "start_time": "2022-11-05T20:44:45.447Z"
   },
   {
    "duration": 9,
    "start_time": "2022-11-05T20:44:46.130Z"
   },
   {
    "duration": 29,
    "start_time": "2022-11-05T20:44:46.141Z"
   },
   {
    "duration": 283,
    "start_time": "2022-11-05T20:44:46.171Z"
   },
   {
    "duration": 0,
    "start_time": "2022-11-05T20:44:46.456Z"
   },
   {
    "duration": 0,
    "start_time": "2022-11-05T20:44:46.457Z"
   },
   {
    "duration": 0,
    "start_time": "2022-11-05T20:44:46.459Z"
   },
   {
    "duration": 0,
    "start_time": "2022-11-05T20:44:46.459Z"
   },
   {
    "duration": 0,
    "start_time": "2022-11-05T20:44:46.461Z"
   },
   {
    "duration": 0,
    "start_time": "2022-11-05T20:44:46.461Z"
   },
   {
    "duration": 0,
    "start_time": "2022-11-05T20:44:46.462Z"
   },
   {
    "duration": 0,
    "start_time": "2022-11-05T20:44:46.463Z"
   },
   {
    "duration": 0,
    "start_time": "2022-11-05T20:44:46.465Z"
   },
   {
    "duration": 0,
    "start_time": "2022-11-05T20:44:46.466Z"
   },
   {
    "duration": 0,
    "start_time": "2022-11-05T20:44:46.466Z"
   },
   {
    "duration": 0,
    "start_time": "2022-11-05T20:44:46.468Z"
   },
   {
    "duration": 0,
    "start_time": "2022-11-05T20:44:46.469Z"
   },
   {
    "duration": 0,
    "start_time": "2022-11-05T20:44:46.470Z"
   },
   {
    "duration": 0,
    "start_time": "2022-11-05T20:44:46.471Z"
   },
   {
    "duration": 0,
    "start_time": "2022-11-05T20:44:46.472Z"
   },
   {
    "duration": 0,
    "start_time": "2022-11-05T20:44:46.473Z"
   },
   {
    "duration": 0,
    "start_time": "2022-11-05T20:44:46.474Z"
   },
   {
    "duration": 0,
    "start_time": "2022-11-05T20:44:46.475Z"
   },
   {
    "duration": 0,
    "start_time": "2022-11-05T20:44:46.476Z"
   },
   {
    "duration": 0,
    "start_time": "2022-11-05T20:44:46.477Z"
   },
   {
    "duration": 0,
    "start_time": "2022-11-05T20:44:46.478Z"
   },
   {
    "duration": 15,
    "start_time": "2022-11-05T20:46:44.363Z"
   },
   {
    "duration": 16,
    "start_time": "2022-11-05T20:46:59.121Z"
   },
   {
    "duration": 28,
    "start_time": "2022-11-05T20:47:09.113Z"
   },
   {
    "duration": 1022,
    "start_time": "2022-11-05T20:50:12.244Z"
   },
   {
    "duration": 67,
    "start_time": "2022-11-05T20:50:13.268Z"
   },
   {
    "duration": 19,
    "start_time": "2022-11-05T20:50:13.336Z"
   },
   {
    "duration": 4,
    "start_time": "2022-11-05T20:50:13.357Z"
   },
   {
    "duration": 30,
    "start_time": "2022-11-05T20:50:13.363Z"
   },
   {
    "duration": 20,
    "start_time": "2022-11-05T20:50:13.394Z"
   },
   {
    "duration": 10,
    "start_time": "2022-11-05T20:50:13.416Z"
   },
   {
    "duration": 9,
    "start_time": "2022-11-05T20:50:13.428Z"
   },
   {
    "duration": 5,
    "start_time": "2022-11-05T20:50:13.439Z"
   },
   {
    "duration": 19,
    "start_time": "2022-11-05T20:50:13.447Z"
   },
   {
    "duration": 6,
    "start_time": "2022-11-05T20:50:13.468Z"
   },
   {
    "duration": 15,
    "start_time": "2022-11-05T20:50:13.476Z"
   },
   {
    "duration": 33,
    "start_time": "2022-11-05T20:50:13.492Z"
   },
   {
    "duration": 8,
    "start_time": "2022-11-05T20:50:13.526Z"
   },
   {
    "duration": 9,
    "start_time": "2022-11-05T20:50:13.535Z"
   },
   {
    "duration": 4,
    "start_time": "2022-11-05T20:50:13.545Z"
   },
   {
    "duration": 8,
    "start_time": "2022-11-05T20:50:13.550Z"
   },
   {
    "duration": 5,
    "start_time": "2022-11-05T20:50:13.559Z"
   },
   {
    "duration": 7,
    "start_time": "2022-11-05T20:50:13.565Z"
   },
   {
    "duration": 9,
    "start_time": "2022-11-05T20:50:13.573Z"
   },
   {
    "duration": 43,
    "start_time": "2022-11-05T20:50:13.584Z"
   },
   {
    "duration": 7,
    "start_time": "2022-11-05T20:50:13.629Z"
   },
   {
    "duration": 7,
    "start_time": "2022-11-05T20:50:13.637Z"
   },
   {
    "duration": 9,
    "start_time": "2022-11-05T20:50:13.645Z"
   },
   {
    "duration": 9,
    "start_time": "2022-11-05T20:50:13.655Z"
   },
   {
    "duration": 13,
    "start_time": "2022-11-05T20:50:13.665Z"
   },
   {
    "duration": 47,
    "start_time": "2022-11-05T20:50:13.679Z"
   },
   {
    "duration": 5,
    "start_time": "2022-11-05T20:50:13.731Z"
   },
   {
    "duration": 333,
    "start_time": "2022-11-05T20:50:13.737Z"
   },
   {
    "duration": 8,
    "start_time": "2022-11-05T20:50:14.071Z"
   },
   {
    "duration": 6,
    "start_time": "2022-11-05T20:50:14.080Z"
   },
   {
    "duration": 46,
    "start_time": "2022-11-05T20:50:14.087Z"
   },
   {
    "duration": 5,
    "start_time": "2022-11-05T20:50:14.135Z"
   },
   {
    "duration": 640,
    "start_time": "2022-11-05T20:50:14.141Z"
   },
   {
    "duration": 10,
    "start_time": "2022-11-05T20:50:14.783Z"
   },
   {
    "duration": 41,
    "start_time": "2022-11-05T20:50:14.794Z"
   },
   {
    "duration": 27,
    "start_time": "2022-11-05T20:50:14.836Z"
   },
   {
    "duration": 392,
    "start_time": "2022-11-05T20:50:14.865Z"
   },
   {
    "duration": 26,
    "start_time": "2022-11-05T20:50:15.258Z"
   },
   {
    "duration": 304,
    "start_time": "2022-11-05T20:50:15.285Z"
   },
   {
    "duration": 46,
    "start_time": "2022-11-05T20:50:15.591Z"
   },
   {
    "duration": 237,
    "start_time": "2022-11-05T20:50:15.639Z"
   },
   {
    "duration": 126,
    "start_time": "2022-11-05T20:50:15.877Z"
   },
   {
    "duration": 132,
    "start_time": "2022-11-05T20:50:16.004Z"
   },
   {
    "duration": 6,
    "start_time": "2022-11-05T20:50:16.138Z"
   },
   {
    "duration": 8,
    "start_time": "2022-11-05T20:50:16.145Z"
   },
   {
    "duration": 1262,
    "start_time": "2022-11-05T20:50:16.154Z"
   },
   {
    "duration": 14,
    "start_time": "2022-11-05T20:50:17.417Z"
   },
   {
    "duration": 11,
    "start_time": "2022-11-05T20:50:17.433Z"
   },
   {
    "duration": 7,
    "start_time": "2022-11-05T20:50:17.445Z"
   },
   {
    "duration": 7,
    "start_time": "2022-11-05T20:50:17.454Z"
   },
   {
    "duration": 21,
    "start_time": "2022-11-05T20:50:17.463Z"
   },
   {
    "duration": 407,
    "start_time": "2022-11-05T20:50:17.522Z"
   },
   {
    "duration": 16,
    "start_time": "2022-11-05T20:50:17.931Z"
   },
   {
    "duration": 348,
    "start_time": "2022-11-05T20:50:17.949Z"
   },
   {
    "duration": 16,
    "start_time": "2022-11-05T20:50:18.299Z"
   },
   {
    "duration": 315,
    "start_time": "2022-11-05T20:50:18.322Z"
   },
   {
    "duration": 12,
    "start_time": "2022-11-05T20:50:18.639Z"
   },
   {
    "duration": 11,
    "start_time": "2022-11-05T20:50:18.653Z"
   },
   {
    "duration": 200,
    "start_time": "2022-11-05T20:51:11.258Z"
   },
   {
    "duration": 198,
    "start_time": "2022-11-05T20:51:25.259Z"
   },
   {
    "duration": 205,
    "start_time": "2022-11-05T20:51:33.669Z"
   },
   {
    "duration": 65,
    "start_time": "2022-11-05T21:00:24.276Z"
   },
   {
    "duration": 403,
    "start_time": "2022-11-05T21:00:30.449Z"
   },
   {
    "duration": 127,
    "start_time": "2022-11-05T21:06:14.478Z"
   },
   {
    "duration": 95,
    "start_time": "2022-11-05T21:08:21.802Z"
   },
   {
    "duration": 8,
    "start_time": "2022-11-05T21:08:28.178Z"
   },
   {
    "duration": 8,
    "start_time": "2022-11-05T21:09:43.864Z"
   },
   {
    "duration": 243,
    "start_time": "2022-11-05T21:09:55.927Z"
   },
   {
    "duration": 247,
    "start_time": "2022-11-05T21:10:23.338Z"
   },
   {
    "duration": 235,
    "start_time": "2022-11-05T21:10:34.009Z"
   },
   {
    "duration": 248,
    "start_time": "2022-11-05T21:11:43.619Z"
   },
   {
    "duration": 327,
    "start_time": "2022-11-05T21:12:06.158Z"
   },
   {
    "duration": 246,
    "start_time": "2022-11-05T21:12:23.913Z"
   },
   {
    "duration": 238,
    "start_time": "2022-11-05T21:16:22.230Z"
   },
   {
    "duration": 249,
    "start_time": "2022-11-05T21:17:50.301Z"
   },
   {
    "duration": 276,
    "start_time": "2022-11-05T21:18:04.951Z"
   },
   {
    "duration": 318,
    "start_time": "2022-11-05T21:18:15.093Z"
   },
   {
    "duration": 268,
    "start_time": "2022-11-05T21:18:50.314Z"
   },
   {
    "duration": 250,
    "start_time": "2022-11-05T21:19:15.825Z"
   },
   {
    "duration": 42,
    "start_time": "2022-11-05T21:24:40.475Z"
   },
   {
    "duration": 307,
    "start_time": "2022-11-05T21:28:27.486Z"
   },
   {
    "duration": 23,
    "start_time": "2022-11-05T21:28:33.757Z"
   },
   {
    "duration": 16,
    "start_time": "2022-11-05T21:28:57.377Z"
   },
   {
    "duration": 348,
    "start_time": "2022-11-05T21:29:02.957Z"
   },
   {
    "duration": 16,
    "start_time": "2022-11-05T21:29:08.461Z"
   },
   {
    "duration": 401,
    "start_time": "2022-11-05T21:29:13.117Z"
   },
   {
    "duration": 17,
    "start_time": "2022-11-05T21:31:42.200Z"
   },
   {
    "duration": 16,
    "start_time": "2022-11-05T21:38:11.166Z"
   },
   {
    "duration": 17,
    "start_time": "2022-11-05T21:41:16.388Z"
   },
   {
    "duration": 12,
    "start_time": "2022-11-05T21:43:04.935Z"
   },
   {
    "duration": 17,
    "start_time": "2022-11-05T21:45:23.224Z"
   },
   {
    "duration": 47,
    "start_time": "2022-11-05T21:46:03.565Z"
   },
   {
    "duration": 55,
    "start_time": "2022-11-05T21:46:23.645Z"
   },
   {
    "duration": 38,
    "start_time": "2022-11-05T21:47:43.561Z"
   },
   {
    "duration": 14,
    "start_time": "2022-11-05T21:47:48.715Z"
   },
   {
    "duration": 13,
    "start_time": "2022-11-05T21:48:14.121Z"
   },
   {
    "duration": 14,
    "start_time": "2022-11-05T21:48:32.239Z"
   },
   {
    "duration": 18,
    "start_time": "2022-11-05T21:48:55.840Z"
   },
   {
    "duration": 649,
    "start_time": "2022-11-05T21:49:32.876Z"
   },
   {
    "duration": 16,
    "start_time": "2022-11-05T21:49:52.417Z"
   },
   {
    "duration": 19,
    "start_time": "2022-11-05T21:50:03.856Z"
   },
   {
    "duration": 15,
    "start_time": "2022-11-05T21:51:14.301Z"
   },
   {
    "duration": 18,
    "start_time": "2022-11-05T21:51:39.017Z"
   },
   {
    "duration": 25,
    "start_time": "2022-11-05T21:52:06.006Z"
   },
   {
    "duration": 15,
    "start_time": "2022-11-05T21:52:40.638Z"
   },
   {
    "duration": 13,
    "start_time": "2022-11-05T21:52:51.667Z"
   },
   {
    "duration": 51,
    "start_time": "2022-11-05T21:52:58.116Z"
   },
   {
    "duration": 21,
    "start_time": "2022-11-05T21:53:02.209Z"
   },
   {
    "duration": 21,
    "start_time": "2022-11-05T21:53:27.980Z"
   },
   {
    "duration": 14,
    "start_time": "2022-11-05T21:54:12.702Z"
   },
   {
    "duration": 19,
    "start_time": "2022-11-05T21:54:22.682Z"
   },
   {
    "duration": 17,
    "start_time": "2022-11-05T21:56:40.685Z"
   },
   {
    "duration": 745,
    "start_time": "2022-11-05T22:09:20.045Z"
   },
   {
    "duration": 16,
    "start_time": "2022-11-05T22:09:34.485Z"
   },
   {
    "duration": 18,
    "start_time": "2022-11-05T22:10:03.572Z"
   },
   {
    "duration": 19,
    "start_time": "2022-11-05T22:10:23.063Z"
   },
   {
    "duration": 16,
    "start_time": "2022-11-05T22:10:55.774Z"
   },
   {
    "duration": 16,
    "start_time": "2022-11-05T22:11:16.962Z"
   },
   {
    "duration": 19,
    "start_time": "2022-11-05T22:11:35.028Z"
   },
   {
    "duration": 17,
    "start_time": "2022-11-05T22:12:32.790Z"
   },
   {
    "duration": 18,
    "start_time": "2022-11-05T22:14:17.710Z"
   },
   {
    "duration": 14,
    "start_time": "2022-11-05T22:14:33.606Z"
   },
   {
    "duration": 14,
    "start_time": "2022-11-05T22:15:13.427Z"
   },
   {
    "duration": 14,
    "start_time": "2022-11-05T22:16:50.314Z"
   },
   {
    "duration": 14,
    "start_time": "2022-11-05T22:17:10.004Z"
   },
   {
    "duration": 15,
    "start_time": "2022-11-05T22:17:32.600Z"
   },
   {
    "duration": 69,
    "start_time": "2022-11-05T22:17:39.359Z"
   },
   {
    "duration": 16,
    "start_time": "2022-11-05T22:18:00.459Z"
   },
   {
    "duration": 16,
    "start_time": "2022-11-05T22:18:21.209Z"
   },
   {
    "duration": 14,
    "start_time": "2022-11-05T22:18:29.757Z"
   },
   {
    "duration": 13,
    "start_time": "2022-11-05T22:18:50.411Z"
   },
   {
    "duration": 15,
    "start_time": "2022-11-05T22:19:02.884Z"
   },
   {
    "duration": 41,
    "start_time": "2022-11-05T22:25:59.402Z"
   },
   {
    "duration": 687,
    "start_time": "2022-11-05T22:26:05.780Z"
   },
   {
    "duration": 20,
    "start_time": "2022-11-05T22:26:40.517Z"
   },
   {
    "duration": 19,
    "start_time": "2022-11-05T22:27:43.299Z"
   },
   {
    "duration": 17,
    "start_time": "2022-11-05T22:28:45.870Z"
   },
   {
    "duration": 27,
    "start_time": "2022-11-05T22:29:32.978Z"
   },
   {
    "duration": 365,
    "start_time": "2022-11-05T22:29:51.464Z"
   },
   {
    "duration": 55,
    "start_time": "2022-11-05T22:32:24.269Z"
   },
   {
    "duration": 22,
    "start_time": "2022-11-05T22:32:48.155Z"
   },
   {
    "duration": 426,
    "start_time": "2022-11-05T22:32:58.874Z"
   },
   {
    "duration": 359,
    "start_time": "2022-11-05T22:33:38.196Z"
   },
   {
    "duration": 393,
    "start_time": "2022-11-05T22:34:28.507Z"
   },
   {
    "duration": 30,
    "start_time": "2022-11-05T22:35:19.100Z"
   },
   {
    "duration": 456,
    "start_time": "2022-11-05T22:35:34.469Z"
   },
   {
    "duration": 362,
    "start_time": "2022-11-05T22:35:54.128Z"
   },
   {
    "duration": 293,
    "start_time": "2022-11-05T22:48:03.377Z"
   },
   {
    "duration": 93,
    "start_time": "2022-11-05T22:48:57.180Z"
   },
   {
    "duration": 85,
    "start_time": "2022-11-05T22:49:19.857Z"
   },
   {
    "duration": 358,
    "start_time": "2022-11-05T22:49:27.706Z"
   },
   {
    "duration": 293,
    "start_time": "2022-11-05T22:50:17.012Z"
   },
   {
    "duration": 46,
    "start_time": "2022-11-06T06:26:54.086Z"
   },
   {
    "duration": 1358,
    "start_time": "2022-11-06T06:27:00.993Z"
   },
   {
    "duration": 255,
    "start_time": "2022-11-06T06:27:02.353Z"
   },
   {
    "duration": 20,
    "start_time": "2022-11-06T06:27:02.609Z"
   },
   {
    "duration": 4,
    "start_time": "2022-11-06T06:27:02.631Z"
   },
   {
    "duration": 27,
    "start_time": "2022-11-06T06:27:02.637Z"
   },
   {
    "duration": 22,
    "start_time": "2022-11-06T06:27:02.666Z"
   },
   {
    "duration": 9,
    "start_time": "2022-11-06T06:27:02.690Z"
   },
   {
    "duration": 13,
    "start_time": "2022-11-06T06:27:02.701Z"
   },
   {
    "duration": 6,
    "start_time": "2022-11-06T06:27:02.716Z"
   },
   {
    "duration": 31,
    "start_time": "2022-11-06T06:27:02.725Z"
   },
   {
    "duration": 33,
    "start_time": "2022-11-06T06:27:02.758Z"
   },
   {
    "duration": 17,
    "start_time": "2022-11-06T06:27:02.794Z"
   },
   {
    "duration": 7,
    "start_time": "2022-11-06T06:27:02.813Z"
   },
   {
    "duration": 13,
    "start_time": "2022-11-06T06:27:02.821Z"
   },
   {
    "duration": 11,
    "start_time": "2022-11-06T06:27:02.836Z"
   },
   {
    "duration": 5,
    "start_time": "2022-11-06T06:27:02.849Z"
   },
   {
    "duration": 36,
    "start_time": "2022-11-06T06:27:02.856Z"
   },
   {
    "duration": 8,
    "start_time": "2022-11-06T06:27:02.894Z"
   },
   {
    "duration": 7,
    "start_time": "2022-11-06T06:27:02.903Z"
   },
   {
    "duration": 10,
    "start_time": "2022-11-06T06:27:02.912Z"
   },
   {
    "duration": 7,
    "start_time": "2022-11-06T06:27:02.924Z"
   },
   {
    "duration": 8,
    "start_time": "2022-11-06T06:27:02.932Z"
   },
   {
    "duration": 11,
    "start_time": "2022-11-06T06:27:02.941Z"
   },
   {
    "duration": 40,
    "start_time": "2022-11-06T06:27:02.954Z"
   },
   {
    "duration": 20,
    "start_time": "2022-11-06T06:27:02.995Z"
   },
   {
    "duration": 13,
    "start_time": "2022-11-06T06:27:03.017Z"
   },
   {
    "duration": 15,
    "start_time": "2022-11-06T06:27:03.032Z"
   },
   {
    "duration": 7,
    "start_time": "2022-11-06T06:27:03.052Z"
   },
   {
    "duration": 365,
    "start_time": "2022-11-06T06:27:03.060Z"
   },
   {
    "duration": 8,
    "start_time": "2022-11-06T06:27:03.427Z"
   },
   {
    "duration": 5,
    "start_time": "2022-11-06T06:27:03.436Z"
   },
   {
    "duration": 52,
    "start_time": "2022-11-06T06:27:03.442Z"
   },
   {
    "duration": 6,
    "start_time": "2022-11-06T06:27:03.496Z"
   },
   {
    "duration": 705,
    "start_time": "2022-11-06T06:27:03.503Z"
   },
   {
    "duration": 10,
    "start_time": "2022-11-06T06:27:04.210Z"
   },
   {
    "duration": 32,
    "start_time": "2022-11-06T06:27:04.222Z"
   },
   {
    "duration": 57,
    "start_time": "2022-11-06T06:27:04.256Z"
   },
   {
    "duration": 254,
    "start_time": "2022-11-06T06:27:04.315Z"
   },
   {
    "duration": 46,
    "start_time": "2022-11-06T06:27:04.571Z"
   },
   {
    "duration": 256,
    "start_time": "2022-11-06T06:27:04.619Z"
   },
   {
    "duration": 59,
    "start_time": "2022-11-06T06:27:04.876Z"
   },
   {
    "duration": 318,
    "start_time": "2022-11-06T06:27:04.936Z"
   },
   {
    "duration": 138,
    "start_time": "2022-11-06T06:27:05.256Z"
   },
   {
    "duration": 144,
    "start_time": "2022-11-06T06:27:05.396Z"
   },
   {
    "duration": 7,
    "start_time": "2022-11-06T06:27:05.541Z"
   },
   {
    "duration": 14,
    "start_time": "2022-11-06T06:27:05.550Z"
   },
   {
    "duration": 1407,
    "start_time": "2022-11-06T06:27:05.565Z"
   },
   {
    "duration": 27,
    "start_time": "2022-11-06T06:27:06.974Z"
   },
   {
    "duration": 14,
    "start_time": "2022-11-06T06:27:07.004Z"
   },
   {
    "duration": 8,
    "start_time": "2022-11-06T06:27:07.020Z"
   },
   {
    "duration": 292,
    "start_time": "2022-11-06T06:27:07.029Z"
   },
   {
    "duration": 371,
    "start_time": "2022-11-06T06:27:07.322Z"
   },
   {
    "duration": 49,
    "start_time": "2022-11-06T06:27:07.694Z"
   },
   {
    "duration": 387,
    "start_time": "2022-11-06T06:27:07.744Z"
   },
   {
    "duration": 0,
    "start_time": "2022-11-06T06:27:08.133Z"
   },
   {
    "duration": 0,
    "start_time": "2022-11-06T06:27:08.134Z"
   },
   {
    "duration": 0,
    "start_time": "2022-11-06T06:27:08.135Z"
   },
   {
    "duration": 0,
    "start_time": "2022-11-06T06:27:08.136Z"
   },
   {
    "duration": 0,
    "start_time": "2022-11-06T06:27:08.138Z"
   },
   {
    "duration": 0,
    "start_time": "2022-11-06T06:27:08.139Z"
   },
   {
    "duration": 0,
    "start_time": "2022-11-06T06:27:08.140Z"
   },
   {
    "duration": 299,
    "start_time": "2022-11-06T06:29:42.508Z"
   },
   {
    "duration": 20,
    "start_time": "2022-11-06T06:32:12.519Z"
   },
   {
    "duration": 19,
    "start_time": "2022-11-06T06:32:27.747Z"
   },
   {
    "duration": 20,
    "start_time": "2022-11-06T06:40:17.288Z"
   },
   {
    "duration": 25,
    "start_time": "2022-11-06T06:40:30.381Z"
   },
   {
    "duration": 44,
    "start_time": "2022-11-06T06:42:38.707Z"
   },
   {
    "duration": 23,
    "start_time": "2022-11-06T06:43:37.465Z"
   },
   {
    "duration": 3,
    "start_time": "2022-11-06T06:44:50.582Z"
   },
   {
    "duration": 24,
    "start_time": "2022-11-06T06:45:05.385Z"
   },
   {
    "duration": 25,
    "start_time": "2022-11-06T06:46:18.544Z"
   },
   {
    "duration": 106,
    "start_time": "2022-11-06T06:46:45.065Z"
   },
   {
    "duration": 26,
    "start_time": "2022-11-06T06:48:26.515Z"
   },
   {
    "duration": 30,
    "start_time": "2022-11-06T06:50:06.955Z"
   },
   {
    "duration": 27,
    "start_time": "2022-11-06T06:50:46.765Z"
   },
   {
    "duration": 24,
    "start_time": "2022-11-06T06:57:19.077Z"
   },
   {
    "duration": 70,
    "start_time": "2022-11-06T06:59:17.317Z"
   },
   {
    "duration": 21,
    "start_time": "2022-11-06T06:59:24.856Z"
   },
   {
    "duration": 4,
    "start_time": "2022-11-06T07:00:50.480Z"
   },
   {
    "duration": 22,
    "start_time": "2022-11-06T07:01:07.304Z"
   },
   {
    "duration": 72,
    "start_time": "2022-11-06T07:01:46.259Z"
   },
   {
    "duration": 19,
    "start_time": "2022-11-06T07:01:53.437Z"
   },
   {
    "duration": 71,
    "start_time": "2022-11-06T07:04:11.053Z"
   },
   {
    "duration": 316,
    "start_time": "2022-11-06T07:04:27.485Z"
   },
   {
    "duration": 376,
    "start_time": "2022-11-06T07:04:55.026Z"
   },
   {
    "duration": 332,
    "start_time": "2022-11-06T07:06:59.850Z"
   },
   {
    "duration": 314,
    "start_time": "2022-11-06T07:07:11.960Z"
   },
   {
    "duration": 89,
    "start_time": "2022-11-06T07:12:35.969Z"
   },
   {
    "duration": 72,
    "start_time": "2022-11-06T07:12:47.063Z"
   },
   {
    "duration": 312,
    "start_time": "2022-11-06T07:12:59.064Z"
   },
   {
    "duration": 21,
    "start_time": "2022-11-06T07:15:52.687Z"
   },
   {
    "duration": 28,
    "start_time": "2022-11-06T07:20:25.574Z"
   },
   {
    "duration": 80,
    "start_time": "2022-11-06T07:22:13.772Z"
   },
   {
    "duration": 77,
    "start_time": "2022-11-06T07:23:22.204Z"
   },
   {
    "duration": 88,
    "start_time": "2022-11-06T07:23:44.754Z"
   },
   {
    "duration": 73,
    "start_time": "2022-11-06T07:23:55.454Z"
   },
   {
    "duration": 13,
    "start_time": "2022-11-06T07:24:10.663Z"
   },
   {
    "duration": 13,
    "start_time": "2022-11-06T07:24:32.105Z"
   },
   {
    "duration": 13,
    "start_time": "2022-11-06T07:25:12.980Z"
   },
   {
    "duration": 17,
    "start_time": "2022-11-06T07:25:46.493Z"
   },
   {
    "duration": 17,
    "start_time": "2022-11-06T07:26:04.172Z"
   },
   {
    "duration": 29,
    "start_time": "2022-11-06T07:27:33.797Z"
   },
   {
    "duration": 37,
    "start_time": "2022-11-06T07:28:27.750Z"
   },
   {
    "duration": 129,
    "start_time": "2022-11-06T07:29:18.188Z"
   },
   {
    "duration": 145,
    "start_time": "2022-11-06T07:30:31.350Z"
   },
   {
    "duration": 124,
    "start_time": "2022-11-06T07:31:14.044Z"
   },
   {
    "duration": 124,
    "start_time": "2022-11-06T07:33:10.911Z"
   },
   {
    "duration": 18,
    "start_time": "2022-11-06T07:33:23.189Z"
   },
   {
    "duration": 17,
    "start_time": "2022-11-06T07:33:32.008Z"
   },
   {
    "duration": 31,
    "start_time": "2022-11-06T07:42:30.992Z"
   },
   {
    "duration": 30,
    "start_time": "2022-11-06T07:42:54.724Z"
   },
   {
    "duration": 23,
    "start_time": "2022-11-06T07:43:21.866Z"
   },
   {
    "duration": 151,
    "start_time": "2022-11-06T07:44:37.733Z"
   },
   {
    "duration": 21,
    "start_time": "2022-11-06T07:47:03.981Z"
   },
   {
    "duration": 20,
    "start_time": "2022-11-06T07:47:34.698Z"
   },
   {
    "duration": 143,
    "start_time": "2022-11-06T07:51:41.451Z"
   },
   {
    "duration": 1348,
    "start_time": "2022-11-06T07:53:14.124Z"
   },
   {
    "duration": 383,
    "start_time": "2022-11-06T07:53:48.543Z"
   },
   {
    "duration": 298,
    "start_time": "2022-11-06T07:54:43.424Z"
   },
   {
    "duration": 312,
    "start_time": "2022-11-06T07:55:05.582Z"
   },
   {
    "duration": 289,
    "start_time": "2022-11-06T07:55:54.770Z"
   },
   {
    "duration": 274,
    "start_time": "2022-11-06T07:56:07.188Z"
   },
   {
    "duration": 313,
    "start_time": "2022-11-06T07:56:17.594Z"
   },
   {
    "duration": 395,
    "start_time": "2022-11-06T07:59:32.468Z"
   },
   {
    "duration": 319,
    "start_time": "2022-11-06T07:59:39.797Z"
   },
   {
    "duration": 303,
    "start_time": "2022-11-06T07:59:46.961Z"
   },
   {
    "duration": 330,
    "start_time": "2022-11-06T08:00:58.805Z"
   },
   {
    "duration": 340,
    "start_time": "2022-11-06T08:01:12.926Z"
   },
   {
    "duration": 28,
    "start_time": "2022-11-06T08:04:03.013Z"
   },
   {
    "duration": 450,
    "start_time": "2022-11-06T08:04:26.242Z"
   },
   {
    "duration": 296,
    "start_time": "2022-11-06T08:05:15.536Z"
   },
   {
    "duration": 302,
    "start_time": "2022-11-06T08:06:07.942Z"
   },
   {
    "duration": 290,
    "start_time": "2022-11-06T08:06:12.863Z"
   },
   {
    "duration": 307,
    "start_time": "2022-11-06T08:06:18.350Z"
   },
   {
    "duration": 378,
    "start_time": "2022-11-06T08:06:24.823Z"
   },
   {
    "duration": 347,
    "start_time": "2022-11-06T08:11:03.686Z"
   },
   {
    "duration": 386,
    "start_time": "2022-11-06T08:14:06.353Z"
   },
   {
    "duration": 361,
    "start_time": "2022-11-06T08:15:44.186Z"
   },
   {
    "duration": 332,
    "start_time": "2022-11-06T08:22:28.818Z"
   },
   {
    "duration": 314,
    "start_time": "2022-11-06T08:22:54.051Z"
   },
   {
    "duration": 472,
    "start_time": "2022-11-06T08:23:56.307Z"
   },
   {
    "duration": 327,
    "start_time": "2022-11-06T08:26:14.744Z"
   },
   {
    "duration": 344,
    "start_time": "2022-11-06T08:27:13.798Z"
   },
   {
    "duration": 364,
    "start_time": "2022-11-06T08:27:38.139Z"
   },
   {
    "duration": 349,
    "start_time": "2022-11-06T08:27:45.205Z"
   },
   {
    "duration": 431,
    "start_time": "2022-11-06T08:29:45.465Z"
   },
   {
    "duration": 345,
    "start_time": "2022-11-06T08:41:32.379Z"
   },
   {
    "duration": 356,
    "start_time": "2022-11-06T08:46:21.575Z"
   },
   {
    "duration": 34,
    "start_time": "2022-11-06T08:47:44.367Z"
   },
   {
    "duration": 137,
    "start_time": "2022-11-06T08:48:03.650Z"
   },
   {
    "duration": 375,
    "start_time": "2022-11-06T08:48:13.724Z"
   },
   {
    "duration": 397,
    "start_time": "2022-11-06T08:48:29.267Z"
   },
   {
    "duration": 476,
    "start_time": "2022-11-06T08:48:43.192Z"
   },
   {
    "duration": 359,
    "start_time": "2022-11-06T08:48:55.057Z"
   },
   {
    "duration": 366,
    "start_time": "2022-11-06T08:49:25.364Z"
   },
   {
    "duration": 382,
    "start_time": "2022-11-06T08:49:45.290Z"
   },
   {
    "duration": 369,
    "start_time": "2022-11-06T08:49:51.317Z"
   },
   {
    "duration": 371,
    "start_time": "2022-11-06T08:49:57.699Z"
   },
   {
    "duration": 489,
    "start_time": "2022-11-06T08:50:18.581Z"
   },
   {
    "duration": 481,
    "start_time": "2022-11-06T08:50:35.056Z"
   },
   {
    "duration": 375,
    "start_time": "2022-11-06T08:50:50.821Z"
   },
   {
    "duration": 20,
    "start_time": "2022-11-06T08:51:38.744Z"
   },
   {
    "duration": 378,
    "start_time": "2022-11-06T08:51:42.729Z"
   },
   {
    "duration": 1280,
    "start_time": "2022-11-06T09:09:37.847Z"
   },
   {
    "duration": 1302,
    "start_time": "2022-11-06T09:10:33.410Z"
   },
   {
    "duration": 311,
    "start_time": "2022-11-06T09:10:55.567Z"
   },
   {
    "duration": 218,
    "start_time": "2022-11-06T09:11:24.583Z"
   },
   {
    "duration": 1314,
    "start_time": "2022-11-06T09:12:26.240Z"
   },
   {
    "duration": 327,
    "start_time": "2022-11-06T09:12:54.210Z"
   },
   {
    "duration": 353,
    "start_time": "2022-11-06T09:13:01.840Z"
   },
   {
    "duration": 314,
    "start_time": "2022-11-06T09:13:30.353Z"
   },
   {
    "duration": 314,
    "start_time": "2022-11-06T09:13:59.750Z"
   },
   {
    "duration": 411,
    "start_time": "2022-11-06T09:14:15.052Z"
   },
   {
    "duration": 281,
    "start_time": "2022-11-06T09:14:33.353Z"
   },
   {
    "duration": 348,
    "start_time": "2022-11-06T09:14:46.343Z"
   },
   {
    "duration": 322,
    "start_time": "2022-11-06T09:15:00.610Z"
   },
   {
    "duration": 284,
    "start_time": "2022-11-06T09:15:23.639Z"
   },
   {
    "duration": 178,
    "start_time": "2022-11-06T09:26:02.602Z"
   },
   {
    "duration": 100,
    "start_time": "2022-11-06T09:28:36.569Z"
   },
   {
    "duration": 74,
    "start_time": "2022-11-06T09:29:17.571Z"
   },
   {
    "duration": 374,
    "start_time": "2022-11-06T09:29:38.042Z"
   },
   {
    "duration": 1257,
    "start_time": "2022-11-06T09:30:02.971Z"
   },
   {
    "duration": 1293,
    "start_time": "2022-11-06T09:31:03.022Z"
   },
   {
    "duration": 1448,
    "start_time": "2022-11-06T09:31:41.910Z"
   },
   {
    "duration": 1251,
    "start_time": "2022-11-06T09:31:49.646Z"
   },
   {
    "duration": 732,
    "start_time": "2022-11-06T09:37:20.628Z"
   },
   {
    "duration": 1411,
    "start_time": "2022-11-06T09:37:30.181Z"
   },
   {
    "duration": 527,
    "start_time": "2022-11-06T09:37:50.026Z"
   },
   {
    "duration": 11,
    "start_time": "2022-11-06T09:38:13.876Z"
   },
   {
    "duration": 8,
    "start_time": "2022-11-06T09:38:27.745Z"
   },
   {
    "duration": 9,
    "start_time": "2022-11-06T09:49:28.989Z"
   },
   {
    "duration": 14,
    "start_time": "2022-11-06T09:51:24.640Z"
   },
   {
    "duration": 14,
    "start_time": "2022-11-06T09:54:45.377Z"
   },
   {
    "duration": 17,
    "start_time": "2022-11-06T10:02:55.383Z"
   },
   {
    "duration": 1081,
    "start_time": "2022-11-06T10:27:28.154Z"
   },
   {
    "duration": 87,
    "start_time": "2022-11-06T10:27:29.237Z"
   },
   {
    "duration": 19,
    "start_time": "2022-11-06T10:27:29.326Z"
   },
   {
    "duration": 5,
    "start_time": "2022-11-06T10:27:29.347Z"
   },
   {
    "duration": 16,
    "start_time": "2022-11-06T10:27:29.354Z"
   },
   {
    "duration": 35,
    "start_time": "2022-11-06T10:27:29.372Z"
   },
   {
    "duration": 8,
    "start_time": "2022-11-06T10:27:29.408Z"
   },
   {
    "duration": 10,
    "start_time": "2022-11-06T10:27:29.417Z"
   },
   {
    "duration": 5,
    "start_time": "2022-11-06T10:27:29.429Z"
   },
   {
    "duration": 25,
    "start_time": "2022-11-06T10:27:29.436Z"
   },
   {
    "duration": 31,
    "start_time": "2022-11-06T10:27:29.462Z"
   },
   {
    "duration": 12,
    "start_time": "2022-11-06T10:27:29.495Z"
   },
   {
    "duration": 5,
    "start_time": "2022-11-06T10:27:29.508Z"
   },
   {
    "duration": 7,
    "start_time": "2022-11-06T10:27:29.515Z"
   },
   {
    "duration": 9,
    "start_time": "2022-11-06T10:27:29.524Z"
   },
   {
    "duration": 4,
    "start_time": "2022-11-06T10:27:29.535Z"
   },
   {
    "duration": 7,
    "start_time": "2022-11-06T10:27:29.540Z"
   },
   {
    "duration": 43,
    "start_time": "2022-11-06T10:27:29.548Z"
   },
   {
    "duration": 5,
    "start_time": "2022-11-06T10:27:29.592Z"
   },
   {
    "duration": 10,
    "start_time": "2022-11-06T10:27:29.599Z"
   },
   {
    "duration": 10,
    "start_time": "2022-11-06T10:27:29.611Z"
   },
   {
    "duration": 9,
    "start_time": "2022-11-06T10:27:29.623Z"
   },
   {
    "duration": 10,
    "start_time": "2022-11-06T10:27:29.636Z"
   },
   {
    "duration": 10,
    "start_time": "2022-11-06T10:27:29.647Z"
   },
   {
    "duration": 44,
    "start_time": "2022-11-06T10:27:29.659Z"
   },
   {
    "duration": 19,
    "start_time": "2022-11-06T10:27:29.705Z"
   },
   {
    "duration": 18,
    "start_time": "2022-11-06T10:27:29.726Z"
   },
   {
    "duration": 6,
    "start_time": "2022-11-06T10:27:29.750Z"
   },
   {
    "duration": 416,
    "start_time": "2022-11-06T10:27:29.758Z"
   },
   {
    "duration": 17,
    "start_time": "2022-11-06T10:27:30.175Z"
   },
   {
    "duration": 10,
    "start_time": "2022-11-06T10:27:30.193Z"
   },
   {
    "duration": 42,
    "start_time": "2022-11-06T10:27:30.204Z"
   },
   {
    "duration": 6,
    "start_time": "2022-11-06T10:27:30.248Z"
   },
   {
    "duration": 722,
    "start_time": "2022-11-06T10:27:30.255Z"
   },
   {
    "duration": 18,
    "start_time": "2022-11-06T10:27:30.979Z"
   },
   {
    "duration": 33,
    "start_time": "2022-11-06T10:27:30.999Z"
   },
   {
    "duration": 32,
    "start_time": "2022-11-06T10:27:31.034Z"
   },
   {
    "duration": 254,
    "start_time": "2022-11-06T10:27:31.068Z"
   },
   {
    "duration": 28,
    "start_time": "2022-11-06T10:27:31.324Z"
   },
   {
    "duration": 276,
    "start_time": "2022-11-06T10:27:31.354Z"
   },
   {
    "duration": 41,
    "start_time": "2022-11-06T10:27:31.632Z"
   },
   {
    "duration": 331,
    "start_time": "2022-11-06T10:27:31.674Z"
   },
   {
    "duration": 142,
    "start_time": "2022-11-06T10:27:32.006Z"
   },
   {
    "duration": 144,
    "start_time": "2022-11-06T10:27:32.150Z"
   },
   {
    "duration": 7,
    "start_time": "2022-11-06T10:27:32.296Z"
   },
   {
    "duration": 7,
    "start_time": "2022-11-06T10:27:32.304Z"
   },
   {
    "duration": 536,
    "start_time": "2022-11-06T10:27:32.312Z"
   },
   {
    "duration": 8,
    "start_time": "2022-11-06T10:27:32.849Z"
   },
   {
    "duration": 17,
    "start_time": "2022-11-06T10:27:32.859Z"
   },
   {
    "duration": 18,
    "start_time": "2022-11-06T10:27:32.877Z"
   },
   {
    "duration": 272,
    "start_time": "2022-11-06T10:27:32.897Z"
   },
   {
    "duration": 274,
    "start_time": "2022-11-06T10:27:33.171Z"
   },
   {
    "duration": 60,
    "start_time": "2022-11-06T10:27:33.447Z"
   },
   {
    "duration": 441,
    "start_time": "2022-11-06T10:27:33.508Z"
   },
   {
    "duration": 388,
    "start_time": "2022-11-06T10:27:33.950Z"
   },
   {
    "duration": 325,
    "start_time": "2022-11-06T10:27:34.340Z"
   },
   {
    "duration": 12,
    "start_time": "2022-11-06T10:27:34.667Z"
   },
   {
    "duration": 15,
    "start_time": "2022-11-06T10:27:34.692Z"
   },
   {
    "duration": 1840,
    "start_time": "2022-11-06T20:25:58.041Z"
   },
   {
    "duration": 192,
    "start_time": "2022-11-06T20:25:59.883Z"
   },
   {
    "duration": 65,
    "start_time": "2022-11-06T20:26:00.077Z"
   },
   {
    "duration": 5,
    "start_time": "2022-11-06T20:26:00.143Z"
   },
   {
    "duration": 21,
    "start_time": "2022-11-06T20:26:00.151Z"
   },
   {
    "duration": 81,
    "start_time": "2022-11-06T20:26:00.173Z"
   },
   {
    "duration": 7,
    "start_time": "2022-11-06T20:26:00.256Z"
   },
   {
    "duration": 14,
    "start_time": "2022-11-06T20:26:00.264Z"
   },
   {
    "duration": 62,
    "start_time": "2022-11-06T20:26:00.280Z"
   },
   {
    "duration": 27,
    "start_time": "2022-11-06T20:26:00.344Z"
   },
   {
    "duration": 65,
    "start_time": "2022-11-06T20:26:00.373Z"
   },
   {
    "duration": 25,
    "start_time": "2022-11-06T20:26:00.440Z"
   },
   {
    "duration": 16,
    "start_time": "2022-11-06T20:26:00.467Z"
   },
   {
    "duration": 10,
    "start_time": "2022-11-06T20:26:00.540Z"
   },
   {
    "duration": 39,
    "start_time": "2022-11-06T20:26:00.552Z"
   },
   {
    "duration": 47,
    "start_time": "2022-11-06T20:26:00.593Z"
   },
   {
    "duration": 7,
    "start_time": "2022-11-06T20:26:00.641Z"
   },
   {
    "duration": 18,
    "start_time": "2022-11-06T20:26:00.650Z"
   },
   {
    "duration": 70,
    "start_time": "2022-11-06T20:26:00.670Z"
   },
   {
    "duration": 23,
    "start_time": "2022-11-06T20:26:00.742Z"
   },
   {
    "duration": 17,
    "start_time": "2022-11-06T20:26:00.767Z"
   },
   {
    "duration": 56,
    "start_time": "2022-11-06T20:26:00.785Z"
   },
   {
    "duration": 18,
    "start_time": "2022-11-06T20:26:00.843Z"
   },
   {
    "duration": 18,
    "start_time": "2022-11-06T20:26:00.863Z"
   },
   {
    "duration": 58,
    "start_time": "2022-11-06T20:26:00.883Z"
   },
   {
    "duration": 16,
    "start_time": "2022-11-06T20:26:00.943Z"
   },
   {
    "duration": 13,
    "start_time": "2022-11-06T20:26:00.961Z"
   },
   {
    "duration": 64,
    "start_time": "2022-11-06T20:26:00.976Z"
   },
   {
    "duration": 722,
    "start_time": "2022-11-06T20:26:01.042Z"
   },
   {
    "duration": 8,
    "start_time": "2022-11-06T20:26:01.766Z"
   },
   {
    "duration": 64,
    "start_time": "2022-11-06T20:26:01.775Z"
   },
   {
    "duration": 37,
    "start_time": "2022-11-06T20:26:01.840Z"
   },
   {
    "duration": 64,
    "start_time": "2022-11-06T20:26:01.879Z"
   },
   {
    "duration": 1444,
    "start_time": "2022-11-06T20:26:01.944Z"
   },
   {
    "duration": 10,
    "start_time": "2022-11-06T20:26:03.439Z"
   },
   {
    "duration": 97,
    "start_time": "2022-11-06T20:26:03.451Z"
   },
   {
    "duration": 94,
    "start_time": "2022-11-06T20:26:03.550Z"
   },
   {
    "duration": 608,
    "start_time": "2022-11-06T20:26:03.646Z"
   },
   {
    "duration": 108,
    "start_time": "2022-11-06T20:26:04.257Z"
   },
   {
    "duration": 512,
    "start_time": "2022-11-06T20:26:04.366Z"
   },
   {
    "duration": 97,
    "start_time": "2022-11-06T20:26:04.881Z"
   },
   {
    "duration": 368,
    "start_time": "2022-11-06T20:26:04.980Z"
   },
   {
    "duration": 150,
    "start_time": "2022-11-06T20:26:05.350Z"
   },
   {
    "duration": 137,
    "start_time": "2022-11-06T20:26:05.501Z"
   },
   {
    "duration": 6,
    "start_time": "2022-11-06T20:26:05.640Z"
   },
   {
    "duration": 11,
    "start_time": "2022-11-06T20:26:05.647Z"
   },
   {
    "duration": 517,
    "start_time": "2022-11-06T20:26:05.660Z"
   },
   {
    "duration": 7,
    "start_time": "2022-11-06T20:26:06.178Z"
   },
   {
    "duration": 8,
    "start_time": "2022-11-06T20:26:06.187Z"
   },
   {
    "duration": 7,
    "start_time": "2022-11-06T20:26:06.196Z"
   },
   {
    "duration": 280,
    "start_time": "2022-11-06T20:26:06.205Z"
   },
   {
    "duration": 295,
    "start_time": "2022-11-06T20:26:06.487Z"
   },
   {
    "duration": 58,
    "start_time": "2022-11-06T20:26:06.783Z"
   },
   {
    "duration": 494,
    "start_time": "2022-11-06T20:26:06.843Z"
   },
   {
    "duration": 403,
    "start_time": "2022-11-06T20:26:07.339Z"
   },
   {
    "duration": 297,
    "start_time": "2022-11-06T20:26:07.743Z"
   },
   {
    "duration": 12,
    "start_time": "2022-11-06T20:26:08.042Z"
   },
   {
    "duration": 32,
    "start_time": "2022-11-06T20:26:08.055Z"
   },
   {
    "duration": 1017,
    "start_time": "2022-11-06T22:00:05.690Z"
   },
   {
    "duration": 78,
    "start_time": "2022-11-06T22:00:06.710Z"
   },
   {
    "duration": 20,
    "start_time": "2022-11-06T22:00:06.790Z"
   },
   {
    "duration": 4,
    "start_time": "2022-11-06T22:00:06.812Z"
   },
   {
    "duration": 15,
    "start_time": "2022-11-06T22:00:06.818Z"
   },
   {
    "duration": 21,
    "start_time": "2022-11-06T22:00:06.835Z"
   },
   {
    "duration": 7,
    "start_time": "2022-11-06T22:00:06.858Z"
   },
   {
    "duration": 14,
    "start_time": "2022-11-06T22:00:06.867Z"
   },
   {
    "duration": 7,
    "start_time": "2022-11-06T22:00:06.882Z"
   },
   {
    "duration": 48,
    "start_time": "2022-11-06T22:00:06.892Z"
   },
   {
    "duration": 72,
    "start_time": "2022-11-06T22:00:06.942Z"
   },
   {
    "duration": 38,
    "start_time": "2022-11-06T22:00:07.016Z"
   },
   {
    "duration": 39,
    "start_time": "2022-11-06T22:00:07.056Z"
   },
   {
    "duration": 30,
    "start_time": "2022-11-06T22:00:07.096Z"
   },
   {
    "duration": 38,
    "start_time": "2022-11-06T22:00:07.139Z"
   },
   {
    "duration": 5,
    "start_time": "2022-11-06T22:00:07.179Z"
   },
   {
    "duration": 16,
    "start_time": "2022-11-06T22:00:07.187Z"
   },
   {
    "duration": 39,
    "start_time": "2022-11-06T22:00:07.205Z"
   },
   {
    "duration": 36,
    "start_time": "2022-11-06T22:00:07.246Z"
   },
   {
    "duration": 24,
    "start_time": "2022-11-06T22:00:07.284Z"
   },
   {
    "duration": 39,
    "start_time": "2022-11-06T22:00:07.310Z"
   },
   {
    "duration": 23,
    "start_time": "2022-11-06T22:00:07.351Z"
   },
   {
    "duration": 28,
    "start_time": "2022-11-06T22:00:07.376Z"
   },
   {
    "duration": 19,
    "start_time": "2022-11-06T22:00:07.405Z"
   },
   {
    "duration": 23,
    "start_time": "2022-11-06T22:00:07.426Z"
   },
   {
    "duration": 30,
    "start_time": "2022-11-06T22:00:07.451Z"
   },
   {
    "duration": 37,
    "start_time": "2022-11-06T22:00:07.483Z"
   },
   {
    "duration": 10,
    "start_time": "2022-11-06T22:00:07.524Z"
   },
   {
    "duration": 382,
    "start_time": "2022-11-06T22:00:07.535Z"
   },
   {
    "duration": 9,
    "start_time": "2022-11-06T22:00:07.919Z"
   },
   {
    "duration": 10,
    "start_time": "2022-11-06T22:00:07.939Z"
   },
   {
    "duration": 69,
    "start_time": "2022-11-06T22:00:07.951Z"
   },
   {
    "duration": 8,
    "start_time": "2022-11-06T22:00:08.022Z"
   },
   {
    "duration": 724,
    "start_time": "2022-11-06T22:00:08.031Z"
   },
   {
    "duration": 10,
    "start_time": "2022-11-06T22:00:08.758Z"
   },
   {
    "duration": 44,
    "start_time": "2022-11-06T22:00:08.770Z"
   },
   {
    "duration": 47,
    "start_time": "2022-11-06T22:00:08.816Z"
   },
   {
    "duration": 249,
    "start_time": "2022-11-06T22:00:08.864Z"
   },
   {
    "duration": 31,
    "start_time": "2022-11-06T22:00:09.115Z"
   },
   {
    "duration": 250,
    "start_time": "2022-11-06T22:00:09.148Z"
   },
   {
    "duration": 51,
    "start_time": "2022-11-06T22:00:09.400Z"
   },
   {
    "duration": 332,
    "start_time": "2022-11-06T22:00:09.452Z"
   },
   {
    "duration": 147,
    "start_time": "2022-11-06T22:00:09.785Z"
   },
   {
    "duration": 147,
    "start_time": "2022-11-06T22:00:09.937Z"
   },
   {
    "duration": 7,
    "start_time": "2022-11-06T22:00:10.085Z"
   },
   {
    "duration": 29,
    "start_time": "2022-11-06T22:00:10.093Z"
   },
   {
    "duration": 553,
    "start_time": "2022-11-06T22:00:10.124Z"
   },
   {
    "duration": 8,
    "start_time": "2022-11-06T22:00:10.679Z"
   },
   {
    "duration": 26,
    "start_time": "2022-11-06T22:00:10.689Z"
   },
   {
    "duration": 22,
    "start_time": "2022-11-06T22:00:10.717Z"
   },
   {
    "duration": 283,
    "start_time": "2022-11-06T22:00:10.741Z"
   },
   {
    "duration": 292,
    "start_time": "2022-11-06T22:00:11.026Z"
   },
   {
    "duration": 56,
    "start_time": "2022-11-06T22:00:11.320Z"
   },
   {
    "duration": 468,
    "start_time": "2022-11-06T22:00:11.378Z"
   },
   {
    "duration": 396,
    "start_time": "2022-11-06T22:00:11.847Z"
   },
   {
    "duration": 315,
    "start_time": "2022-11-06T22:00:12.245Z"
   },
   {
    "duration": 14,
    "start_time": "2022-11-06T22:00:12.561Z"
   },
   {
    "duration": 19,
    "start_time": "2022-11-06T22:00:12.577Z"
   },
   {
    "duration": 58,
    "start_time": "2022-11-06T22:00:12.598Z"
   },
   {
    "duration": 3,
    "start_time": "2022-11-06T22:00:12.658Z"
   },
   {
    "duration": 30,
    "start_time": "2022-11-06T22:00:12.663Z"
   },
   {
    "duration": 17,
    "start_time": "2022-11-06T22:00:12.695Z"
   },
   {
    "duration": 18,
    "start_time": "2022-11-06T22:00:12.714Z"
   },
   {
    "duration": 24,
    "start_time": "2022-11-06T22:00:12.733Z"
   },
   {
    "duration": 13,
    "start_time": "2022-11-06T22:00:12.759Z"
   },
   {
    "duration": 641,
    "start_time": "2022-11-06T22:00:12.774Z"
   },
   {
    "duration": 571,
    "start_time": "2022-11-06T22:00:13.417Z"
   },
   {
    "duration": 635,
    "start_time": "2022-11-06T22:00:13.990Z"
   },
   {
    "duration": 1090,
    "start_time": "2022-11-06T22:17:02.567Z"
   },
   {
    "duration": 75,
    "start_time": "2022-11-06T22:17:03.659Z"
   },
   {
    "duration": 18,
    "start_time": "2022-11-06T22:17:03.735Z"
   },
   {
    "duration": 5,
    "start_time": "2022-11-06T22:17:03.756Z"
   },
   {
    "duration": 14,
    "start_time": "2022-11-06T22:17:03.763Z"
   },
   {
    "duration": 20,
    "start_time": "2022-11-06T22:17:03.779Z"
   },
   {
    "duration": 40,
    "start_time": "2022-11-06T22:17:03.800Z"
   },
   {
    "duration": 10,
    "start_time": "2022-11-06T22:17:03.842Z"
   },
   {
    "duration": 5,
    "start_time": "2022-11-06T22:17:03.853Z"
   },
   {
    "duration": 21,
    "start_time": "2022-11-06T22:17:03.861Z"
   },
   {
    "duration": 5,
    "start_time": "2022-11-06T22:17:03.884Z"
   },
   {
    "duration": 11,
    "start_time": "2022-11-06T22:17:03.891Z"
   },
   {
    "duration": 35,
    "start_time": "2022-11-06T22:17:03.904Z"
   },
   {
    "duration": 9,
    "start_time": "2022-11-06T22:17:03.941Z"
   },
   {
    "duration": 11,
    "start_time": "2022-11-06T22:17:03.951Z"
   },
   {
    "duration": 4,
    "start_time": "2022-11-06T22:17:03.964Z"
   },
   {
    "duration": 7,
    "start_time": "2022-11-06T22:17:03.970Z"
   },
   {
    "duration": 8,
    "start_time": "2022-11-06T22:17:03.978Z"
   },
   {
    "duration": 8,
    "start_time": "2022-11-06T22:17:03.988Z"
   },
   {
    "duration": 47,
    "start_time": "2022-11-06T22:17:03.998Z"
   },
   {
    "duration": 8,
    "start_time": "2022-11-06T22:17:04.047Z"
   },
   {
    "duration": 11,
    "start_time": "2022-11-06T22:17:04.056Z"
   },
   {
    "duration": 7,
    "start_time": "2022-11-06T22:17:04.068Z"
   },
   {
    "duration": 12,
    "start_time": "2022-11-06T22:17:04.077Z"
   },
   {
    "duration": 10,
    "start_time": "2022-11-06T22:17:04.091Z"
   },
   {
    "duration": 43,
    "start_time": "2022-11-06T22:17:04.103Z"
   },
   {
    "duration": 15,
    "start_time": "2022-11-06T22:17:04.148Z"
   },
   {
    "duration": 5,
    "start_time": "2022-11-06T22:17:04.168Z"
   },
   {
    "duration": 402,
    "start_time": "2022-11-06T22:17:04.175Z"
   },
   {
    "duration": 8,
    "start_time": "2022-11-06T22:17:04.579Z"
   },
   {
    "duration": 6,
    "start_time": "2022-11-06T22:17:04.589Z"
   },
   {
    "duration": 52,
    "start_time": "2022-11-06T22:17:04.597Z"
   },
   {
    "duration": 7,
    "start_time": "2022-11-06T22:17:04.651Z"
   },
   {
    "duration": 732,
    "start_time": "2022-11-06T22:17:04.660Z"
   },
   {
    "duration": 10,
    "start_time": "2022-11-06T22:17:05.394Z"
   },
   {
    "duration": 47,
    "start_time": "2022-11-06T22:17:05.405Z"
   },
   {
    "duration": 30,
    "start_time": "2022-11-06T22:17:05.454Z"
   },
   {
    "duration": 243,
    "start_time": "2022-11-06T22:17:05.486Z"
   },
   {
    "duration": 33,
    "start_time": "2022-11-06T22:17:05.731Z"
   },
   {
    "duration": 265,
    "start_time": "2022-11-06T22:17:05.766Z"
   },
   {
    "duration": 48,
    "start_time": "2022-11-06T22:17:06.032Z"
   },
   {
    "duration": 324,
    "start_time": "2022-11-06T22:17:06.082Z"
   },
   {
    "duration": 149,
    "start_time": "2022-11-06T22:17:06.408Z"
   },
   {
    "duration": 146,
    "start_time": "2022-11-06T22:17:06.559Z"
   },
   {
    "duration": 7,
    "start_time": "2022-11-06T22:17:06.708Z"
   },
   {
    "duration": 10,
    "start_time": "2022-11-06T22:17:06.716Z"
   },
   {
    "duration": 632,
    "start_time": "2022-11-06T22:17:06.739Z"
   },
   {
    "duration": 10,
    "start_time": "2022-11-06T22:17:07.373Z"
   },
   {
    "duration": 18,
    "start_time": "2022-11-06T22:17:07.386Z"
   },
   {
    "duration": 13,
    "start_time": "2022-11-06T22:17:07.406Z"
   },
   {
    "duration": 280,
    "start_time": "2022-11-06T22:17:07.442Z"
   },
   {
    "duration": 324,
    "start_time": "2022-11-06T22:17:07.723Z"
   },
   {
    "duration": 47,
    "start_time": "2022-11-06T22:17:08.049Z"
   },
   {
    "duration": 489,
    "start_time": "2022-11-06T22:17:08.098Z"
   },
   {
    "duration": 438,
    "start_time": "2022-11-06T22:17:08.588Z"
   },
   {
    "duration": 332,
    "start_time": "2022-11-06T22:17:09.028Z"
   },
   {
    "duration": 12,
    "start_time": "2022-11-06T22:17:09.362Z"
   },
   {
    "duration": 12,
    "start_time": "2022-11-06T22:17:09.375Z"
   },
   {
    "duration": 61,
    "start_time": "2022-11-06T22:17:09.389Z"
   },
   {
    "duration": 4,
    "start_time": "2022-11-06T22:17:09.451Z"
   },
   {
    "duration": 13,
    "start_time": "2022-11-06T22:17:09.457Z"
   },
   {
    "duration": 8,
    "start_time": "2022-11-06T22:17:09.472Z"
   },
   {
    "duration": 5,
    "start_time": "2022-11-06T22:17:09.482Z"
   },
   {
    "duration": 8,
    "start_time": "2022-11-06T22:17:09.489Z"
   },
   {
    "duration": 9,
    "start_time": "2022-11-06T22:17:09.499Z"
   },
   {
    "duration": 698,
    "start_time": "2022-11-06T22:17:09.509Z"
   },
   {
    "duration": 661,
    "start_time": "2022-11-06T22:17:10.209Z"
   },
   {
    "duration": 628,
    "start_time": "2022-11-06T22:17:10.871Z"
   },
   {
    "duration": 7,
    "start_time": "2022-11-06T22:21:05.435Z"
   },
   {
    "duration": 46,
    "start_time": "2022-11-06T22:31:20.871Z"
   },
   {
    "duration": 1286,
    "start_time": "2022-11-06T22:31:27.346Z"
   },
   {
    "duration": 133,
    "start_time": "2022-11-06T22:31:28.634Z"
   },
   {
    "duration": 21,
    "start_time": "2022-11-06T22:31:28.769Z"
   },
   {
    "duration": 5,
    "start_time": "2022-11-06T22:31:28.792Z"
   },
   {
    "duration": 17,
    "start_time": "2022-11-06T22:31:28.799Z"
   },
   {
    "duration": 20,
    "start_time": "2022-11-06T22:31:28.818Z"
   },
   {
    "duration": 6,
    "start_time": "2022-11-06T22:31:28.839Z"
   },
   {
    "duration": 32,
    "start_time": "2022-11-06T22:31:28.847Z"
   },
   {
    "duration": 4,
    "start_time": "2022-11-06T22:31:28.881Z"
   },
   {
    "duration": 22,
    "start_time": "2022-11-06T22:31:28.887Z"
   },
   {
    "duration": 4,
    "start_time": "2022-11-06T22:31:28.910Z"
   },
   {
    "duration": 12,
    "start_time": "2022-11-06T22:31:28.916Z"
   },
   {
    "duration": 5,
    "start_time": "2022-11-06T22:31:28.929Z"
   },
   {
    "duration": 8,
    "start_time": "2022-11-06T22:31:28.935Z"
   },
   {
    "duration": 40,
    "start_time": "2022-11-06T22:31:28.944Z"
   },
   {
    "duration": 4,
    "start_time": "2022-11-06T22:31:28.985Z"
   },
   {
    "duration": 8,
    "start_time": "2022-11-06T22:31:28.990Z"
   },
   {
    "duration": 7,
    "start_time": "2022-11-06T22:31:28.999Z"
   },
   {
    "duration": 11,
    "start_time": "2022-11-06T22:31:29.008Z"
   },
   {
    "duration": 10,
    "start_time": "2022-11-06T22:31:29.020Z"
   },
   {
    "duration": 7,
    "start_time": "2022-11-06T22:31:29.031Z"
   },
   {
    "duration": 8,
    "start_time": "2022-11-06T22:31:29.039Z"
   },
   {
    "duration": 5,
    "start_time": "2022-11-06T22:31:29.048Z"
   },
   {
    "duration": 5,
    "start_time": "2022-11-06T22:31:29.077Z"
   },
   {
    "duration": 9,
    "start_time": "2022-11-06T22:31:29.084Z"
   },
   {
    "duration": 11,
    "start_time": "2022-11-06T22:31:29.094Z"
   },
   {
    "duration": 11,
    "start_time": "2022-11-06T22:31:29.107Z"
   },
   {
    "duration": 4,
    "start_time": "2022-11-06T22:31:29.123Z"
   },
   {
    "duration": 367,
    "start_time": "2022-11-06T22:31:29.129Z"
   },
   {
    "duration": 9,
    "start_time": "2022-11-06T22:31:29.498Z"
   },
   {
    "duration": 9,
    "start_time": "2022-11-06T22:31:29.509Z"
   },
   {
    "duration": 46,
    "start_time": "2022-11-06T22:31:29.519Z"
   },
   {
    "duration": 6,
    "start_time": "2022-11-06T22:31:29.576Z"
   },
   {
    "duration": 691,
    "start_time": "2022-11-06T22:31:29.584Z"
   },
   {
    "duration": 11,
    "start_time": "2022-11-06T22:31:30.277Z"
   },
   {
    "duration": 57,
    "start_time": "2022-11-06T22:31:30.290Z"
   },
   {
    "duration": 32,
    "start_time": "2022-11-06T22:31:30.349Z"
   },
   {
    "duration": 224,
    "start_time": "2022-11-06T22:31:30.383Z"
   },
   {
    "duration": 28,
    "start_time": "2022-11-06T22:31:30.609Z"
   },
   {
    "duration": 270,
    "start_time": "2022-11-06T22:31:30.639Z"
   },
   {
    "duration": 45,
    "start_time": "2022-11-06T22:31:30.911Z"
   },
   {
    "duration": 331,
    "start_time": "2022-11-06T22:31:30.958Z"
   },
   {
    "duration": 138,
    "start_time": "2022-11-06T22:31:31.291Z"
   },
   {
    "duration": 147,
    "start_time": "2022-11-06T22:31:31.431Z"
   },
   {
    "duration": 6,
    "start_time": "2022-11-06T22:31:31.580Z"
   },
   {
    "duration": 23,
    "start_time": "2022-11-06T22:31:31.588Z"
   },
   {
    "duration": 771,
    "start_time": "2022-11-06T22:31:31.613Z"
   },
   {
    "duration": 9,
    "start_time": "2022-11-06T22:31:32.386Z"
   },
   {
    "duration": 14,
    "start_time": "2022-11-06T22:31:32.396Z"
   },
   {
    "duration": 8,
    "start_time": "2022-11-06T22:31:32.412Z"
   },
   {
    "duration": 297,
    "start_time": "2022-11-06T22:31:32.422Z"
   },
   {
    "duration": 276,
    "start_time": "2022-11-06T22:31:32.722Z"
   },
   {
    "duration": 132,
    "start_time": "2022-11-06T22:31:33.000Z"
   },
   {
    "duration": 323,
    "start_time": "2022-11-06T22:31:33.134Z"
   },
   {
    "duration": 352,
    "start_time": "2022-11-06T22:31:33.458Z"
   },
   {
    "duration": 285,
    "start_time": "2022-11-06T22:31:33.811Z"
   },
   {
    "duration": 11,
    "start_time": "2022-11-06T22:31:34.098Z"
   },
   {
    "duration": 7,
    "start_time": "2022-11-06T22:31:34.110Z"
   },
   {
    "duration": 14,
    "start_time": "2022-11-06T22:31:34.119Z"
   },
   {
    "duration": 52,
    "start_time": "2022-11-06T22:31:34.135Z"
   },
   {
    "duration": 3,
    "start_time": "2022-11-06T22:31:34.189Z"
   },
   {
    "duration": 12,
    "start_time": "2022-11-06T22:31:34.194Z"
   },
   {
    "duration": 6,
    "start_time": "2022-11-06T22:31:34.207Z"
   },
   {
    "duration": 7,
    "start_time": "2022-11-06T22:31:34.215Z"
   },
   {
    "duration": 6,
    "start_time": "2022-11-06T22:31:34.224Z"
   },
   {
    "duration": 7,
    "start_time": "2022-11-06T22:31:34.232Z"
   },
   {
    "duration": 655,
    "start_time": "2022-11-06T22:31:34.241Z"
   },
   {
    "duration": 628,
    "start_time": "2022-11-06T22:31:34.898Z"
   },
   {
    "duration": 659,
    "start_time": "2022-11-06T22:31:35.528Z"
   },
   {
    "duration": 12,
    "start_time": "2022-11-06T22:32:05.691Z"
   },
   {
    "duration": 10,
    "start_time": "2022-11-06T22:32:11.551Z"
   }
  ],
  "kernelspec": {
   "display_name": "Python 3 (ipykernel)",
   "language": "python",
   "name": "python3"
  },
  "language_info": {
   "codemirror_mode": {
    "name": "ipython",
    "version": 3
   },
   "file_extension": ".py",
   "mimetype": "text/x-python",
   "name": "python",
   "nbconvert_exporter": "python",
   "pygments_lexer": "ipython3",
   "version": "3.9.12"
  },
  "toc": {
   "base_numbering": 1,
   "nav_menu": {},
   "number_sections": true,
   "sideBar": true,
   "skip_h1_title": true,
   "title_cell": "Table of Contents",
   "title_sidebar": "Contents",
   "toc_cell": false,
   "toc_position": {
    "height": "1095px",
    "left": "432px",
    "top": "395.125px",
    "width": "165px"
   },
   "toc_section_display": true,
   "toc_window_display": true
  }
 },
 "nbformat": 4,
 "nbformat_minor": 5
}
