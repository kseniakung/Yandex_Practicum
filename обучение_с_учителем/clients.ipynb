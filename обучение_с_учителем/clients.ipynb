{
 "cells": [
  {
   "cell_type": "markdown",
   "id": "c7ddf3f0",
   "metadata": {},
   "source": [
    "# Прогноз оттока клиентов"
   ]
  },
  {
   "cell_type": "markdown",
   "id": "c78489ee",
   "metadata": {},
   "source": [
    " Из «Бета-Банка» стали уходить клиенты. Каждый месяц. Немного, но заметно. Банковские маркетологи посчитали: сохранять текущих клиентов дешевле, чем привлекать новых.\\\n",
    "Нужно спрогнозировать, уйдёт клиент из банка в ближайшее время или нет. Нам предоставлены исторические данные о поведении клиентов и расторжении договоров с банком.\\\n",
    "Необходимо построить модель с предельно большим значением F1-меры. Для успешной сдачи проекта нужно довести метрику до 0.59"
   ]
  },
  {
   "cell_type": "markdown",
   "id": "282f14ba",
   "metadata": {},
   "source": [
    "**Признаки**\n",
    "- RowNumber — индекс строки в данных\n",
    "- CustomerId — уникальный идентификатор клиента\n",
    "- Surname — фамилия\n",
    "- CreditScore — кредитный рейтинг\n",
    "- Geography — страна проживания\n",
    "- Gender — пол\n",
    "- Age — возраст\n",
    "- Tenure — сколько лет человек является клиентом банка\n",
    "- Balance — баланс на счёте\n",
    "- NumOfProducts — количество продуктов банка, используемых клиентом\n",
    "- HasCrCard — наличие кредитной карты\n",
    "- IsActiveMember — активность клиента\n",
    "- EstimatedSalary — предполагаемая зарплата\n",
    "\n",
    "**Целевой признак**\n",
    "- Exited — факт ухода клиента"
   ]
  },
  {
   "cell_type": "markdown",
   "id": "0e99ea78",
   "metadata": {},
   "source": [
    "## Анализ данных"
   ]
  },
  {
   "cell_type": "code",
   "execution_count": 1,
   "id": "b7520354",
   "metadata": {},
   "outputs": [
    {
     "name": "stdout",
     "output_type": "stream",
     "text": [
      "Requirement already satisfied: imbalanced-learn in /opt/conda/lib/python3.9/site-packages (0.9.1)\n",
      "Requirement already satisfied: joblib>=1.0.0 in /opt/conda/lib/python3.9/site-packages (from imbalanced-learn) (1.1.0)\n",
      "Requirement already satisfied: scikit-learn>=1.1.0 in /opt/conda/lib/python3.9/site-packages (from imbalanced-learn) (1.1.3)\n",
      "Requirement already satisfied: numpy>=1.17.3 in /opt/conda/lib/python3.9/site-packages (from imbalanced-learn) (1.21.1)\n",
      "Requirement already satisfied: scipy>=1.3.2 in /opt/conda/lib/python3.9/site-packages (from imbalanced-learn) (1.9.1)\n",
      "Requirement already satisfied: threadpoolctl>=2.0.0 in /opt/conda/lib/python3.9/site-packages (from imbalanced-learn) (3.1.0)\n",
      "Note: you may need to restart the kernel to use updated packages.\n"
     ]
    }
   ],
   "source": [
    " pip install imbalanced-learn -U"
   ]
  },
  {
   "cell_type": "code",
   "execution_count": 2,
   "id": "2f4f50c5",
   "metadata": {},
   "outputs": [],
   "source": [
    "import matplotlib.pyplot as plt\n",
    "import numpy as np\n",
    "import pandas as pd\n",
    "import seaborn as sns\n",
    "\n",
    "from imblearn.over_sampling import SMOTE\n",
    "from imblearn.under_sampling import RandomUnderSampler\n",
    "\n",
    "from sklearn.dummy import DummyClassifier\n",
    "from sklearn.ensemble import RandomForestClassifier\n",
    "from sklearn.linear_model import LogisticRegression\n",
    "from sklearn.model_selection import GridSearchCV, train_test_split\n",
    "from sklearn.metrics import accuracy_score, classification_report, f1_score, precision_score, recall_score, roc_curve, roc_auc_score  \n",
    "from sklearn.preprocessing import StandardScaler, OneHotEncoder\n",
    "from sklearn.tree import DecisionTreeClassifier\n",
    "from sklearn.utils import shuffle"
   ]
  },
  {
   "cell_type": "code",
   "execution_count": 3,
   "id": "2e20e578",
   "metadata": {},
   "outputs": [],
   "source": [
    "try:\n",
    "    df = pd.read_csv('Churn.csv')  # загрузим датасет \n",
    "except:\n",
    "    df = pd.read_csv('/datasets/Churn.csv')"
   ]
  },
  {
   "cell_type": "code",
   "execution_count": 4,
   "id": "2bcae041",
   "metadata": {},
   "outputs": [
    {
     "data": {
      "text/html": [
       "<div>\n",
       "<style scoped>\n",
       "    .dataframe tbody tr th:only-of-type {\n",
       "        vertical-align: middle;\n",
       "    }\n",
       "\n",
       "    .dataframe tbody tr th {\n",
       "        vertical-align: top;\n",
       "    }\n",
       "\n",
       "    .dataframe thead th {\n",
       "        text-align: right;\n",
       "    }\n",
       "</style>\n",
       "<table border=\"1\" class=\"dataframe\">\n",
       "  <thead>\n",
       "    <tr style=\"text-align: right;\">\n",
       "      <th></th>\n",
       "      <th>RowNumber</th>\n",
       "      <th>CustomerId</th>\n",
       "      <th>Surname</th>\n",
       "      <th>CreditScore</th>\n",
       "      <th>Geography</th>\n",
       "      <th>Gender</th>\n",
       "      <th>Age</th>\n",
       "      <th>Tenure</th>\n",
       "      <th>Balance</th>\n",
       "      <th>NumOfProducts</th>\n",
       "      <th>HasCrCard</th>\n",
       "      <th>IsActiveMember</th>\n",
       "      <th>EstimatedSalary</th>\n",
       "      <th>Exited</th>\n",
       "    </tr>\n",
       "  </thead>\n",
       "  <tbody>\n",
       "    <tr>\n",
       "      <th>0</th>\n",
       "      <td>1</td>\n",
       "      <td>15634602</td>\n",
       "      <td>Hargrave</td>\n",
       "      <td>619</td>\n",
       "      <td>France</td>\n",
       "      <td>Female</td>\n",
       "      <td>42</td>\n",
       "      <td>2.0</td>\n",
       "      <td>0.00</td>\n",
       "      <td>1</td>\n",
       "      <td>1</td>\n",
       "      <td>1</td>\n",
       "      <td>101348.88</td>\n",
       "      <td>1</td>\n",
       "    </tr>\n",
       "    <tr>\n",
       "      <th>1</th>\n",
       "      <td>2</td>\n",
       "      <td>15647311</td>\n",
       "      <td>Hill</td>\n",
       "      <td>608</td>\n",
       "      <td>Spain</td>\n",
       "      <td>Female</td>\n",
       "      <td>41</td>\n",
       "      <td>1.0</td>\n",
       "      <td>83807.86</td>\n",
       "      <td>1</td>\n",
       "      <td>0</td>\n",
       "      <td>1</td>\n",
       "      <td>112542.58</td>\n",
       "      <td>0</td>\n",
       "    </tr>\n",
       "    <tr>\n",
       "      <th>2</th>\n",
       "      <td>3</td>\n",
       "      <td>15619304</td>\n",
       "      <td>Onio</td>\n",
       "      <td>502</td>\n",
       "      <td>France</td>\n",
       "      <td>Female</td>\n",
       "      <td>42</td>\n",
       "      <td>8.0</td>\n",
       "      <td>159660.80</td>\n",
       "      <td>3</td>\n",
       "      <td>1</td>\n",
       "      <td>0</td>\n",
       "      <td>113931.57</td>\n",
       "      <td>1</td>\n",
       "    </tr>\n",
       "    <tr>\n",
       "      <th>3</th>\n",
       "      <td>4</td>\n",
       "      <td>15701354</td>\n",
       "      <td>Boni</td>\n",
       "      <td>699</td>\n",
       "      <td>France</td>\n",
       "      <td>Female</td>\n",
       "      <td>39</td>\n",
       "      <td>1.0</td>\n",
       "      <td>0.00</td>\n",
       "      <td>2</td>\n",
       "      <td>0</td>\n",
       "      <td>0</td>\n",
       "      <td>93826.63</td>\n",
       "      <td>0</td>\n",
       "    </tr>\n",
       "    <tr>\n",
       "      <th>4</th>\n",
       "      <td>5</td>\n",
       "      <td>15737888</td>\n",
       "      <td>Mitchell</td>\n",
       "      <td>850</td>\n",
       "      <td>Spain</td>\n",
       "      <td>Female</td>\n",
       "      <td>43</td>\n",
       "      <td>2.0</td>\n",
       "      <td>125510.82</td>\n",
       "      <td>1</td>\n",
       "      <td>1</td>\n",
       "      <td>1</td>\n",
       "      <td>79084.10</td>\n",
       "      <td>0</td>\n",
       "    </tr>\n",
       "  </tbody>\n",
       "</table>\n",
       "</div>"
      ],
      "text/plain": [
       "   RowNumber  CustomerId   Surname  CreditScore Geography  Gender  Age  \\\n",
       "0          1    15634602  Hargrave          619    France  Female   42   \n",
       "1          2    15647311      Hill          608     Spain  Female   41   \n",
       "2          3    15619304      Onio          502    France  Female   42   \n",
       "3          4    15701354      Boni          699    France  Female   39   \n",
       "4          5    15737888  Mitchell          850     Spain  Female   43   \n",
       "\n",
       "   Tenure    Balance  NumOfProducts  HasCrCard  IsActiveMember  \\\n",
       "0     2.0       0.00              1          1               1   \n",
       "1     1.0   83807.86              1          0               1   \n",
       "2     8.0  159660.80              3          1               0   \n",
       "3     1.0       0.00              2          0               0   \n",
       "4     2.0  125510.82              1          1               1   \n",
       "\n",
       "   EstimatedSalary  Exited  \n",
       "0        101348.88       1  \n",
       "1        112542.58       0  \n",
       "2        113931.57       1  \n",
       "3         93826.63       0  \n",
       "4         79084.10       0  "
      ]
     },
     "execution_count": 4,
     "metadata": {},
     "output_type": "execute_result"
    }
   ],
   "source": [
    "df.head()  # выведем на экран первые 5 строк для ознакомления"
   ]
  },
  {
   "cell_type": "code",
   "execution_count": 5,
   "id": "8fe71a06",
   "metadata": {},
   "outputs": [
    {
     "name": "stdout",
     "output_type": "stream",
     "text": [
      "<class 'pandas.core.frame.DataFrame'>\n",
      "RangeIndex: 10000 entries, 0 to 9999\n",
      "Data columns (total 14 columns):\n",
      " #   Column           Non-Null Count  Dtype  \n",
      "---  ------           --------------  -----  \n",
      " 0   RowNumber        10000 non-null  int64  \n",
      " 1   CustomerId       10000 non-null  int64  \n",
      " 2   Surname          10000 non-null  object \n",
      " 3   CreditScore      10000 non-null  int64  \n",
      " 4   Geography        10000 non-null  object \n",
      " 5   Gender           10000 non-null  object \n",
      " 6   Age              10000 non-null  int64  \n",
      " 7   Tenure           9091 non-null   float64\n",
      " 8   Balance          10000 non-null  float64\n",
      " 9   NumOfProducts    10000 non-null  int64  \n",
      " 10  HasCrCard        10000 non-null  int64  \n",
      " 11  IsActiveMember   10000 non-null  int64  \n",
      " 12  EstimatedSalary  10000 non-null  float64\n",
      " 13  Exited           10000 non-null  int64  \n",
      "dtypes: float64(3), int64(8), object(3)\n",
      "memory usage: 1.1+ MB\n"
     ]
    }
   ],
   "source": [
    "df.info()  # посмотрим на типы данных и количество пропусков "
   ]
  },
  {
   "cell_type": "code",
   "execution_count": 6,
   "id": "8a59c4fe",
   "metadata": {},
   "outputs": [
    {
     "data": {
      "image/png": "[encoded data removed]",
      "text/plain": [
       "<Figure size 936x936 with 12 Axes>"
      ]
     },
     "metadata": {
      "needs_background": "light"
     },
     "output_type": "display_data"
    }
   ],
   "source": [
    "df.hist(figsize=(13,13));"
   ]
  },
  {
   "cell_type": "code",
   "execution_count": 7,
   "id": "ac522de1",
   "metadata": {},
   "outputs": [
    {
     "data": {
      "image/png": "[encoded data removed]",
      "text/plain": [
       "<Figure size 576x576 with 1 Axes>"
      ]
     },
     "metadata": {
      "needs_background": "light"
     },
     "output_type": "display_data"
    }
   ],
   "source": [
    "plt.figure(figsize=(8,8))\n",
    "sns.scatterplot(x='Balance', y='EstimatedSalary', hue='Exited', data=df)\n",
    "plt.title(\"Геометрия признаков в зависимости от принадлежности к классам\");"
   ]
  },
  {
   "cell_type": "code",
   "execution_count": 8,
   "id": "da4cf07a",
   "metadata": {},
   "outputs": [
    {
     "data": {
      "text/plain": [
       "0    7963\n",
       "1    2037\n",
       "Name: Exited, dtype: int64"
      ]
     },
     "execution_count": 8,
     "metadata": {},
     "output_type": "execute_result"
    }
   ],
   "source": [
    "df['Exited'].value_counts() #  посмотрим на соотношение классов в целевом признаке"
   ]
  },
  {
   "cell_type": "markdown",
   "id": "5fdeddeb",
   "metadata": {},
   "source": [
    "Имеем датасет с 10000 объектов, 13-ю признаками, из них 3 - категориальные; в столбце 'Tenure' имеется 909 пропусков.\\\n",
    "Целевой признак имеет два значения: 0 - клиент остался, 1 - клиент ушел. Перед нами стоит **задача бинарной классификации.**"
   ]
  },
  {
   "cell_type": "markdown",
   "id": "f16110a4",
   "metadata": {},
   "source": [
    "Соотношение классов целевого признака примерно 1:4, имеется дисбаланс классов. Исходя из последнего графика можно предположить, что логистическая регрессия в данной задаче даст наихудший результат, так как признаки не поддаются разделению гиперплоскостью."
   ]
  },
  {
   "cell_type": "markdown",
   "id": "66e2e178",
   "metadata": {},
   "source": [
    "Переименуем столбцы в соответствии со snake_case:"
   ]
  },
  {
   "cell_type": "code",
   "execution_count": 9,
   "id": "8ccfb193",
   "metadata": {},
   "outputs": [],
   "source": [
    "df.columns = ['row_number', 'customer_id', 'surname', 'credit_score', 'geography',\n",
    "       'gender', 'age', 'tenure', 'balance', 'num_of_products', 'has_cr_card',\n",
    "       'is_active_member', 'estimated_salary', 'exited']"
   ]
  },
  {
   "cell_type": "code",
   "execution_count": 10,
   "id": "ad157d48",
   "metadata": {},
   "outputs": [
    {
     "data": {
      "image/png": "[encoded data removed]",
      "text/plain": [
       "<Figure size 720x720 with 2 Axes>"
      ]
     },
     "metadata": {
      "needs_background": "light"
     },
     "output_type": "display_data"
    }
   ],
   "source": [
    "coor_matrix = df.corr()  # посмотрим на матрицу корреляции признаков \n",
    "plt.figure(figsize=(10,10))\n",
    "sns.heatmap(coor_matrix, annot=True);"
   ]
  },
  {
   "cell_type": "markdown",
   "id": "77dc1687",
   "metadata": {},
   "source": [
    "Между признаками выявлена слабая и умеренная(между *'num_of_products'* и *'balance'*) корреляция. Мультиколлинеарности не выявлено, все признаки оставляем."
   ]
  },
  {
   "cell_type": "code",
   "execution_count": 11,
   "id": "d895a3b9",
   "metadata": {},
   "outputs": [
    {
     "data": {
      "text/plain": [
       "France     5014\n",
       "Germany    2509\n",
       "Spain      2477\n",
       "Name: geography, dtype: int64"
      ]
     },
     "execution_count": 11,
     "metadata": {},
     "output_type": "execute_result"
    }
   ],
   "source": [
    "df['geography'].value_counts()  # уникальные значения столбца 'geography'"
   ]
  },
  {
   "cell_type": "code",
   "execution_count": 12,
   "id": "17bce45e",
   "metadata": {},
   "outputs": [
    {
     "data": {
      "text/plain": [
       "array([ 0.,  1.,  2.,  3.,  4.,  5.,  6.,  7.,  8.,  9., 10., nan])"
      ]
     },
     "execution_count": 12,
     "metadata": {},
     "output_type": "execute_result"
    }
   ],
   "source": [
    "df['tenure'].sort_values().unique() #  уникальные значения столбца с пропусками 'tenure'"
   ]
  },
  {
   "cell_type": "code",
   "execution_count": 13,
   "id": "60ed7fef",
   "metadata": {},
   "outputs": [
    {
     "data": {
      "text/plain": [
       "array([18, 19, 20, 21, 22, 23, 24, 25, 26, 27, 28, 29, 30, 31, 32, 33, 34,\n",
       "       35, 36, 37, 38, 39, 40, 41, 42, 43, 44, 45, 46, 47, 48, 49, 50, 51,\n",
       "       52, 53, 54, 55, 56, 57, 58, 59, 60, 61, 62, 63, 64, 65, 66, 67, 68,\n",
       "       69, 70, 71, 72, 73, 74, 75, 76, 77, 78, 79, 80, 81, 82, 83, 84, 85,\n",
       "       88, 92])"
      ]
     },
     "execution_count": 13,
     "metadata": {},
     "output_type": "execute_result"
    }
   ],
   "source": [
    "df['age'].sort_values().unique() # посмотрим на возраст, нет ли ошибок в данных"
   ]
  },
  {
   "cell_type": "code",
   "execution_count": 14,
   "id": "a48bd479",
   "metadata": {},
   "outputs": [
    {
     "data": {
      "text/plain": [
       "0"
      ]
     },
     "execution_count": 14,
     "metadata": {},
     "output_type": "execute_result"
    }
   ],
   "source": [
    "df.duplicated().sum() # проверка на дубликаты"
   ]
  },
  {
   "cell_type": "markdown",
   "id": "85f13de5",
   "metadata": {},
   "source": [
    " Перед обучением модели необходимо избавиться от пропусков в столбце 'tenure'. \n",
    "Удалим пропуски, чтобы не искажать данные, так как достоверно восстановить их нельзя. В нашем датасете пропусков не больше 10%:"
   ]
  },
  {
   "cell_type": "code",
   "execution_count": 15,
   "id": "75307ed3",
   "metadata": {},
   "outputs": [
    {
     "name": "stdout",
     "output_type": "stream",
     "text": [
      "Процент пропусков: 9.09 %\n"
     ]
    }
   ],
   "source": [
    "print('Процент пропусков:', df['tenure'].isna().sum()/df.shape[0]*100,'%' )"
   ]
  },
  {
   "cell_type": "code",
   "execution_count": 16,
   "id": "5057b18e",
   "metadata": {},
   "outputs": [
    {
     "name": "stdout",
     "output_type": "stream",
     "text": [
      "<class 'pandas.core.frame.DataFrame'>\n",
      "Int64Index: 9091 entries, 0 to 9998\n",
      "Data columns (total 14 columns):\n",
      " #   Column            Non-Null Count  Dtype  \n",
      "---  ------            --------------  -----  \n",
      " 0   row_number        9091 non-null   int64  \n",
      " 1   customer_id       9091 non-null   int64  \n",
      " 2   surname           9091 non-null   object \n",
      " 3   credit_score      9091 non-null   int64  \n",
      " 4   geography         9091 non-null   object \n",
      " 5   gender            9091 non-null   object \n",
      " 6   age               9091 non-null   int64  \n",
      " 7   tenure            9091 non-null   float64\n",
      " 8   balance           9091 non-null   float64\n",
      " 9   num_of_products   9091 non-null   int64  \n",
      " 10  has_cr_card       9091 non-null   int64  \n",
      " 11  is_active_member  9091 non-null   int64  \n",
      " 12  estimated_salary  9091 non-null   float64\n",
      " 13  exited            9091 non-null   int64  \n",
      "dtypes: float64(3), int64(8), object(3)\n",
      "memory usage: 1.0+ MB\n"
     ]
    }
   ],
   "source": [
    "df_drop = df.dropna()\n",
    "df_drop.info()"
   ]
  },
  {
   "cell_type": "markdown",
   "id": "d4febc5a",
   "metadata": {},
   "source": [
    "## Подготовка признаков для обучения модели"
   ]
  },
  {
   "cell_type": "markdown",
   "id": "259a8e57",
   "metadata": {},
   "source": [
    "#### 1. Определим признаки, необходимые для обучения модели"
   ]
  },
  {
   "cell_type": "markdown",
   "id": "fd41d184",
   "metadata": {},
   "source": [
    "Из набора признаков удалим *'row_number'*,*'customer_id'* и *'surname'*. Это уникальные идентификационные данные, которые не помогут модели в принятии решений классификации. Также, из набора признаков удалим целевой признак *'exited'*."
   ]
  },
  {
   "cell_type": "code",
   "execution_count": 17,
   "id": "08316506",
   "metadata": {},
   "outputs": [],
   "source": [
    "features = df_drop.drop(['row_number','customer_id','surname','exited'],axis=1)\n",
    "target = df_drop['exited']"
   ]
  },
  {
   "cell_type": "markdown",
   "id": "27a623be",
   "metadata": {},
   "source": [
    "#### 2. Разделим датасет на тренировочную, валидационную и тестовую выборки"
   ]
  },
  {
   "cell_type": "code",
   "execution_count": 18,
   "id": "e9b81882",
   "metadata": {},
   "outputs": [],
   "source": [
    "features_all, features_test, target_all, target_test = train_test_split(\n",
    "        features, target, test_size=0.2, random_state=123\n",
    "    )"
   ]
  },
  {
   "cell_type": "code",
   "execution_count": 19,
   "id": "bec6bd77",
   "metadata": {},
   "outputs": [
    {
     "name": "stdout",
     "output_type": "stream",
     "text": [
      "Размер тренировочной выборки:(5454, 10)\n",
      "Размер валидационной выборки:(1818, 10)\n",
      "Размер тестовой выборки:(1819, 10)\n"
     ]
    }
   ],
   "source": [
    "features_train, features_valid, target_train, target_valid = train_test_split(\n",
    "        features_all, target_all, test_size=0.25, random_state=123\n",
    ")  # разделение тренировочной выборки на тренировочную и валидационную\n",
    "\n",
    "print(f'Размер тренировочной выборки:{features_train.shape}') \n",
    "print(f'Размер валидационной выборки:{features_valid.shape}')\n",
    "print(f'Размер тестовой выборки:{features_test.shape}')"
   ]
  },
  {
   "cell_type": "markdown",
   "id": "66abb022",
   "metadata": {},
   "source": [
    "#### 3. Масштабируем признаки для корректной работы алгоритма"
   ]
  },
  {
   "cell_type": "code",
   "execution_count": 20,
   "id": "0f45a044",
   "metadata": {},
   "outputs": [],
   "source": [
    "def scaler(features_train, features_valid, features_test):  # функция масштабирования признаков\n",
    "    scaler = StandardScaler()\n",
    "    scaler.fit(features_train) \n",
    "    features_train_scaled = scaler.transform(features_train)\n",
    "    features_valid_scaled = scaler.transform(features_valid)\n",
    "    features_test_scaled = scaler.transform(features_test)\n",
    "    return features_train_scaled, features_valid_scaled, features_test_scaled"
   ]
  },
  {
   "cell_type": "code",
   "execution_count": 21,
   "id": "c8f73434",
   "metadata": {},
   "outputs": [
    {
     "data": {
      "text/html": [
       "<div>\n",
       "<style scoped>\n",
       "    .dataframe tbody tr th:only-of-type {\n",
       "        vertical-align: middle;\n",
       "    }\n",
       "\n",
       "    .dataframe tbody tr th {\n",
       "        vertical-align: top;\n",
       "    }\n",
       "\n",
       "    .dataframe thead th {\n",
       "        text-align: right;\n",
       "    }\n",
       "</style>\n",
       "<table border=\"1\" class=\"dataframe\">\n",
       "  <thead>\n",
       "    <tr style=\"text-align: right;\">\n",
       "      <th></th>\n",
       "      <th>credit_score</th>\n",
       "      <th>geography</th>\n",
       "      <th>gender</th>\n",
       "      <th>age</th>\n",
       "      <th>tenure</th>\n",
       "      <th>balance</th>\n",
       "      <th>num_of_products</th>\n",
       "      <th>has_cr_card</th>\n",
       "      <th>is_active_member</th>\n",
       "      <th>estimated_salary</th>\n",
       "    </tr>\n",
       "  </thead>\n",
       "  <tbody>\n",
       "    <tr>\n",
       "      <th>5400</th>\n",
       "      <td>0.838488</td>\n",
       "      <td>France</td>\n",
       "      <td>Female</td>\n",
       "      <td>-0.843042</td>\n",
       "      <td>-0.000758</td>\n",
       "      <td>-1.222660</td>\n",
       "      <td>2</td>\n",
       "      <td>1</td>\n",
       "      <td>0</td>\n",
       "      <td>1.545552</td>\n",
       "    </tr>\n",
       "    <tr>\n",
       "      <th>1767</th>\n",
       "      <td>1.693581</td>\n",
       "      <td>France</td>\n",
       "      <td>Female</td>\n",
       "      <td>0.852020</td>\n",
       "      <td>0.688238</td>\n",
       "      <td>-1.222660</td>\n",
       "      <td>2</td>\n",
       "      <td>1</td>\n",
       "      <td>1</td>\n",
       "      <td>0.560133</td>\n",
       "    </tr>\n",
       "    <tr>\n",
       "      <th>2847</th>\n",
       "      <td>-1.242579</td>\n",
       "      <td>Spain</td>\n",
       "      <td>Male</td>\n",
       "      <td>-0.089681</td>\n",
       "      <td>0.688238</td>\n",
       "      <td>0.371065</td>\n",
       "      <td>2</td>\n",
       "      <td>1</td>\n",
       "      <td>0</td>\n",
       "      <td>-0.181020</td>\n",
       "    </tr>\n",
       "    <tr>\n",
       "      <th>1475</th>\n",
       "      <td>-0.160836</td>\n",
       "      <td>France</td>\n",
       "      <td>Male</td>\n",
       "      <td>-1.219722</td>\n",
       "      <td>1.032736</td>\n",
       "      <td>-1.222660</td>\n",
       "      <td>1</td>\n",
       "      <td>1</td>\n",
       "      <td>0</td>\n",
       "      <td>-1.372303</td>\n",
       "    </tr>\n",
       "    <tr>\n",
       "      <th>9265</th>\n",
       "      <td>0.261559</td>\n",
       "      <td>France</td>\n",
       "      <td>Female</td>\n",
       "      <td>-0.089681</td>\n",
       "      <td>-1.378750</td>\n",
       "      <td>0.437699</td>\n",
       "      <td>1</td>\n",
       "      <td>0</td>\n",
       "      <td>0</td>\n",
       "      <td>-1.366948</td>\n",
       "    </tr>\n",
       "    <tr>\n",
       "      <th>...</th>\n",
       "      <td>...</td>\n",
       "      <td>...</td>\n",
       "      <td>...</td>\n",
       "      <td>...</td>\n",
       "      <td>...</td>\n",
       "      <td>...</td>\n",
       "      <td>...</td>\n",
       "      <td>...</td>\n",
       "      <td>...</td>\n",
       "      <td>...</td>\n",
       "    </tr>\n",
       "    <tr>\n",
       "      <th>6622</th>\n",
       "      <td>-0.933510</td>\n",
       "      <td>France</td>\n",
       "      <td>Female</td>\n",
       "      <td>0.381170</td>\n",
       "      <td>-1.378750</td>\n",
       "      <td>-1.222660</td>\n",
       "      <td>1</td>\n",
       "      <td>0</td>\n",
       "      <td>1</td>\n",
       "      <td>-0.244011</td>\n",
       "    </tr>\n",
       "    <tr>\n",
       "      <th>1998</th>\n",
       "      <td>-0.480208</td>\n",
       "      <td>France</td>\n",
       "      <td>Male</td>\n",
       "      <td>0.381170</td>\n",
       "      <td>-0.000758</td>\n",
       "      <td>0.817716</td>\n",
       "      <td>1</td>\n",
       "      <td>1</td>\n",
       "      <td>1</td>\n",
       "      <td>-1.411915</td>\n",
       "    </tr>\n",
       "    <tr>\n",
       "      <th>9868</th>\n",
       "      <td>0.704558</td>\n",
       "      <td>France</td>\n",
       "      <td>Female</td>\n",
       "      <td>0.381170</td>\n",
       "      <td>-1.723247</td>\n",
       "      <td>0.264132</td>\n",
       "      <td>1</td>\n",
       "      <td>1</td>\n",
       "      <td>0</td>\n",
       "      <td>1.163378</td>\n",
       "    </tr>\n",
       "    <tr>\n",
       "      <th>5144</th>\n",
       "      <td>-1.695881</td>\n",
       "      <td>France</td>\n",
       "      <td>Female</td>\n",
       "      <td>-1.313892</td>\n",
       "      <td>-0.689754</td>\n",
       "      <td>0.923759</td>\n",
       "      <td>1</td>\n",
       "      <td>1</td>\n",
       "      <td>1</td>\n",
       "      <td>0.219175</td>\n",
       "    </tr>\n",
       "    <tr>\n",
       "      <th>5945</th>\n",
       "      <td>0.683954</td>\n",
       "      <td>France</td>\n",
       "      <td>Female</td>\n",
       "      <td>0.098659</td>\n",
       "      <td>-0.689754</td>\n",
       "      <td>-1.222660</td>\n",
       "      <td>2</td>\n",
       "      <td>0</td>\n",
       "      <td>1</td>\n",
       "      <td>1.164792</td>\n",
       "    </tr>\n",
       "  </tbody>\n",
       "</table>\n",
       "<p>5454 rows × 10 columns</p>\n",
       "</div>"
      ],
      "text/plain": [
       "      credit_score geography  gender       age    tenure   balance  \\\n",
       "5400      0.838488    France  Female -0.843042 -0.000758 -1.222660   \n",
       "1767      1.693581    France  Female  0.852020  0.688238 -1.222660   \n",
       "2847     -1.242579     Spain    Male -0.089681  0.688238  0.371065   \n",
       "1475     -0.160836    France    Male -1.219722  1.032736 -1.222660   \n",
       "9265      0.261559    France  Female -0.089681 -1.378750  0.437699   \n",
       "...            ...       ...     ...       ...       ...       ...   \n",
       "6622     -0.933510    France  Female  0.381170 -1.378750 -1.222660   \n",
       "1998     -0.480208    France    Male  0.381170 -0.000758  0.817716   \n",
       "9868      0.704558    France  Female  0.381170 -1.723247  0.264132   \n",
       "5144     -1.695881    France  Female -1.313892 -0.689754  0.923759   \n",
       "5945      0.683954    France  Female  0.098659 -0.689754 -1.222660   \n",
       "\n",
       "      num_of_products  has_cr_card  is_active_member  estimated_salary  \n",
       "5400                2            1                 0          1.545552  \n",
       "1767                2            1                 1          0.560133  \n",
       "2847                2            1                 0         -0.181020  \n",
       "1475                1            1                 0         -1.372303  \n",
       "9265                1            0                 0         -1.366948  \n",
       "...               ...          ...               ...               ...  \n",
       "6622                1            0                 1         -0.244011  \n",
       "1998                1            1                 1         -1.411915  \n",
       "9868                1            1                 0          1.163378  \n",
       "5144                1            1                 1          0.219175  \n",
       "5945                2            0                 1          1.164792  \n",
       "\n",
       "[5454 rows x 10 columns]"
      ]
     },
     "execution_count": 21,
     "metadata": {},
     "output_type": "execute_result"
    }
   ],
   "source": [
    "  # отбор столбцов для масштабирования\n",
    "columns = ['credit_score', 'age', 'tenure', 'balance', 'estimated_salary']\n",
    "features_train[columns], features_valid[columns], features_test[columns] = scaler(\n",
    "    features_train[columns], features_valid[columns], features_test[columns]\n",
    ")  # применение функции масштабирования\n",
    "features_train"
   ]
  },
  {
   "cell_type": "markdown",
   "id": "744e156e",
   "metadata": {},
   "source": [
    "#### 4. OHE-кодирование категориальных признаков"
   ]
  },
  {
   "cell_type": "markdown",
   "id": "5438023f",
   "metadata": {},
   "source": [
    "Для работы моделей классификации категориальные признаки необходимо перевести в числовые. Воспользуемся методом прямого кодирования(One-Hot Encoding). Данный метод лучше всего подходит для линейных моделей.  При этом появляются новые зависимые столбцы. В функции укажем drop='first', чтобы избавиться от лишних зависимых столбцов. "
   ]
  },
  {
   "cell_type": "code",
   "execution_count": 22,
   "id": "e720ff77",
   "metadata": {},
   "outputs": [],
   "source": [
    "enc = OneHotEncoder(drop='first')\n",
    "enc.fit(features_train[['geography','gender']]) \n",
    "features_train_enc = pd.DataFrame(enc.transform(features_train[['geography','gender']]).toarray())\n",
    "features_valid_enc = pd.DataFrame(enc.transform(features_valid[['geography','gender']]).toarray())\n",
    "features_test_enc = pd.DataFrame(enc.transform(features_test[['geography','gender']]).toarray())\n",
    "\n",
    "features_train_enc.columns = ['geography_germany','geography_spain', 'gender_male']\n",
    "features_valid_enc.columns = ['geography_germany','geography_spain', 'gender_male']\n",
    "features_test_enc.columns = ['geography_germany','geography_spain', 'gender_male']"
   ]
  },
  {
   "cell_type": "code",
   "execution_count": 23,
   "id": "6702ba9c",
   "metadata": {},
   "outputs": [],
   "source": [
    "features_train = features_train.drop(columns=['geography','gender']).reset_index(drop=True)\n",
    "features_valid = features_valid.drop(columns=['geography','gender']).reset_index(drop=True)\n",
    "features_test = features_test.drop(columns=['geography','gender']).reset_index(drop=True)"
   ]
  },
  {
   "cell_type": "code",
   "execution_count": 24,
   "id": "f2a4409b",
   "metadata": {},
   "outputs": [
    {
     "data": {
      "text/html": [
       "<div>\n",
       "<style scoped>\n",
       "    .dataframe tbody tr th:only-of-type {\n",
       "        vertical-align: middle;\n",
       "    }\n",
       "\n",
       "    .dataframe tbody tr th {\n",
       "        vertical-align: top;\n",
       "    }\n",
       "\n",
       "    .dataframe thead th {\n",
       "        text-align: right;\n",
       "    }\n",
       "</style>\n",
       "<table border=\"1\" class=\"dataframe\">\n",
       "  <thead>\n",
       "    <tr style=\"text-align: right;\">\n",
       "      <th></th>\n",
       "      <th>geography_germany</th>\n",
       "      <th>geography_spain</th>\n",
       "      <th>gender_male</th>\n",
       "    </tr>\n",
       "  </thead>\n",
       "  <tbody>\n",
       "    <tr>\n",
       "      <th>0</th>\n",
       "      <td>1.0</td>\n",
       "      <td>0.0</td>\n",
       "      <td>1.0</td>\n",
       "    </tr>\n",
       "    <tr>\n",
       "      <th>1</th>\n",
       "      <td>0.0</td>\n",
       "      <td>0.0</td>\n",
       "      <td>1.0</td>\n",
       "    </tr>\n",
       "    <tr>\n",
       "      <th>2</th>\n",
       "      <td>1.0</td>\n",
       "      <td>0.0</td>\n",
       "      <td>0.0</td>\n",
       "    </tr>\n",
       "    <tr>\n",
       "      <th>3</th>\n",
       "      <td>0.0</td>\n",
       "      <td>1.0</td>\n",
       "      <td>1.0</td>\n",
       "    </tr>\n",
       "    <tr>\n",
       "      <th>4</th>\n",
       "      <td>0.0</td>\n",
       "      <td>1.0</td>\n",
       "      <td>1.0</td>\n",
       "    </tr>\n",
       "    <tr>\n",
       "      <th>...</th>\n",
       "      <td>...</td>\n",
       "      <td>...</td>\n",
       "      <td>...</td>\n",
       "    </tr>\n",
       "    <tr>\n",
       "      <th>1814</th>\n",
       "      <td>0.0</td>\n",
       "      <td>0.0</td>\n",
       "      <td>0.0</td>\n",
       "    </tr>\n",
       "    <tr>\n",
       "      <th>1815</th>\n",
       "      <td>1.0</td>\n",
       "      <td>0.0</td>\n",
       "      <td>0.0</td>\n",
       "    </tr>\n",
       "    <tr>\n",
       "      <th>1816</th>\n",
       "      <td>0.0</td>\n",
       "      <td>1.0</td>\n",
       "      <td>1.0</td>\n",
       "    </tr>\n",
       "    <tr>\n",
       "      <th>1817</th>\n",
       "      <td>0.0</td>\n",
       "      <td>0.0</td>\n",
       "      <td>0.0</td>\n",
       "    </tr>\n",
       "    <tr>\n",
       "      <th>1818</th>\n",
       "      <td>0.0</td>\n",
       "      <td>1.0</td>\n",
       "      <td>1.0</td>\n",
       "    </tr>\n",
       "  </tbody>\n",
       "</table>\n",
       "<p>1819 rows × 3 columns</p>\n",
       "</div>"
      ],
      "text/plain": [
       "      geography_germany  geography_spain  gender_male\n",
       "0                   1.0              0.0          1.0\n",
       "1                   0.0              0.0          1.0\n",
       "2                   1.0              0.0          0.0\n",
       "3                   0.0              1.0          1.0\n",
       "4                   0.0              1.0          1.0\n",
       "...                 ...              ...          ...\n",
       "1814                0.0              0.0          0.0\n",
       "1815                1.0              0.0          0.0\n",
       "1816                0.0              1.0          1.0\n",
       "1817                0.0              0.0          0.0\n",
       "1818                0.0              1.0          1.0\n",
       "\n",
       "[1819 rows x 3 columns]"
      ]
     },
     "execution_count": 24,
     "metadata": {},
     "output_type": "execute_result"
    }
   ],
   "source": [
    "features_test_enc"
   ]
  },
  {
   "cell_type": "code",
   "execution_count": 25,
   "id": "557ee4a7",
   "metadata": {},
   "outputs": [
    {
     "data": {
      "text/html": [
       "<div>\n",
       "<style scoped>\n",
       "    .dataframe tbody tr th:only-of-type {\n",
       "        vertical-align: middle;\n",
       "    }\n",
       "\n",
       "    .dataframe tbody tr th {\n",
       "        vertical-align: top;\n",
       "    }\n",
       "\n",
       "    .dataframe thead th {\n",
       "        text-align: right;\n",
       "    }\n",
       "</style>\n",
       "<table border=\"1\" class=\"dataframe\">\n",
       "  <thead>\n",
       "    <tr style=\"text-align: right;\">\n",
       "      <th></th>\n",
       "      <th>credit_score</th>\n",
       "      <th>age</th>\n",
       "      <th>tenure</th>\n",
       "      <th>balance</th>\n",
       "      <th>num_of_products</th>\n",
       "      <th>has_cr_card</th>\n",
       "      <th>is_active_member</th>\n",
       "      <th>estimated_salary</th>\n",
       "      <th>geography_germany</th>\n",
       "      <th>geography_spain</th>\n",
       "      <th>gender_male</th>\n",
       "    </tr>\n",
       "  </thead>\n",
       "  <tbody>\n",
       "    <tr>\n",
       "      <th>0</th>\n",
       "      <td>0.838488</td>\n",
       "      <td>-0.843042</td>\n",
       "      <td>-0.000758</td>\n",
       "      <td>-1.222660</td>\n",
       "      <td>2</td>\n",
       "      <td>1</td>\n",
       "      <td>0</td>\n",
       "      <td>1.545552</td>\n",
       "      <td>0.0</td>\n",
       "      <td>0.0</td>\n",
       "      <td>0.0</td>\n",
       "    </tr>\n",
       "    <tr>\n",
       "      <th>1</th>\n",
       "      <td>1.693581</td>\n",
       "      <td>0.852020</td>\n",
       "      <td>0.688238</td>\n",
       "      <td>-1.222660</td>\n",
       "      <td>2</td>\n",
       "      <td>1</td>\n",
       "      <td>1</td>\n",
       "      <td>0.560133</td>\n",
       "      <td>0.0</td>\n",
       "      <td>0.0</td>\n",
       "      <td>0.0</td>\n",
       "    </tr>\n",
       "    <tr>\n",
       "      <th>2</th>\n",
       "      <td>-1.242579</td>\n",
       "      <td>-0.089681</td>\n",
       "      <td>0.688238</td>\n",
       "      <td>0.371065</td>\n",
       "      <td>2</td>\n",
       "      <td>1</td>\n",
       "      <td>0</td>\n",
       "      <td>-0.181020</td>\n",
       "      <td>0.0</td>\n",
       "      <td>1.0</td>\n",
       "      <td>1.0</td>\n",
       "    </tr>\n",
       "    <tr>\n",
       "      <th>3</th>\n",
       "      <td>-0.160836</td>\n",
       "      <td>-1.219722</td>\n",
       "      <td>1.032736</td>\n",
       "      <td>-1.222660</td>\n",
       "      <td>1</td>\n",
       "      <td>1</td>\n",
       "      <td>0</td>\n",
       "      <td>-1.372303</td>\n",
       "      <td>0.0</td>\n",
       "      <td>0.0</td>\n",
       "      <td>1.0</td>\n",
       "    </tr>\n",
       "    <tr>\n",
       "      <th>4</th>\n",
       "      <td>0.261559</td>\n",
       "      <td>-0.089681</td>\n",
       "      <td>-1.378750</td>\n",
       "      <td>0.437699</td>\n",
       "      <td>1</td>\n",
       "      <td>0</td>\n",
       "      <td>0</td>\n",
       "      <td>-1.366948</td>\n",
       "      <td>0.0</td>\n",
       "      <td>0.0</td>\n",
       "      <td>0.0</td>\n",
       "    </tr>\n",
       "    <tr>\n",
       "      <th>...</th>\n",
       "      <td>...</td>\n",
       "      <td>...</td>\n",
       "      <td>...</td>\n",
       "      <td>...</td>\n",
       "      <td>...</td>\n",
       "      <td>...</td>\n",
       "      <td>...</td>\n",
       "      <td>...</td>\n",
       "      <td>...</td>\n",
       "      <td>...</td>\n",
       "      <td>...</td>\n",
       "    </tr>\n",
       "    <tr>\n",
       "      <th>5449</th>\n",
       "      <td>-0.933510</td>\n",
       "      <td>0.381170</td>\n",
       "      <td>-1.378750</td>\n",
       "      <td>-1.222660</td>\n",
       "      <td>1</td>\n",
       "      <td>0</td>\n",
       "      <td>1</td>\n",
       "      <td>-0.244011</td>\n",
       "      <td>0.0</td>\n",
       "      <td>0.0</td>\n",
       "      <td>0.0</td>\n",
       "    </tr>\n",
       "    <tr>\n",
       "      <th>5450</th>\n",
       "      <td>-0.480208</td>\n",
       "      <td>0.381170</td>\n",
       "      <td>-0.000758</td>\n",
       "      <td>0.817716</td>\n",
       "      <td>1</td>\n",
       "      <td>1</td>\n",
       "      <td>1</td>\n",
       "      <td>-1.411915</td>\n",
       "      <td>0.0</td>\n",
       "      <td>0.0</td>\n",
       "      <td>1.0</td>\n",
       "    </tr>\n",
       "    <tr>\n",
       "      <th>5451</th>\n",
       "      <td>0.704558</td>\n",
       "      <td>0.381170</td>\n",
       "      <td>-1.723247</td>\n",
       "      <td>0.264132</td>\n",
       "      <td>1</td>\n",
       "      <td>1</td>\n",
       "      <td>0</td>\n",
       "      <td>1.163378</td>\n",
       "      <td>0.0</td>\n",
       "      <td>0.0</td>\n",
       "      <td>0.0</td>\n",
       "    </tr>\n",
       "    <tr>\n",
       "      <th>5452</th>\n",
       "      <td>-1.695881</td>\n",
       "      <td>-1.313892</td>\n",
       "      <td>-0.689754</td>\n",
       "      <td>0.923759</td>\n",
       "      <td>1</td>\n",
       "      <td>1</td>\n",
       "      <td>1</td>\n",
       "      <td>0.219175</td>\n",
       "      <td>0.0</td>\n",
       "      <td>0.0</td>\n",
       "      <td>0.0</td>\n",
       "    </tr>\n",
       "    <tr>\n",
       "      <th>5453</th>\n",
       "      <td>0.683954</td>\n",
       "      <td>0.098659</td>\n",
       "      <td>-0.689754</td>\n",
       "      <td>-1.222660</td>\n",
       "      <td>2</td>\n",
       "      <td>0</td>\n",
       "      <td>1</td>\n",
       "      <td>1.164792</td>\n",
       "      <td>0.0</td>\n",
       "      <td>0.0</td>\n",
       "      <td>0.0</td>\n",
       "    </tr>\n",
       "  </tbody>\n",
       "</table>\n",
       "<p>5454 rows × 11 columns</p>\n",
       "</div>"
      ],
      "text/plain": [
       "      credit_score       age    tenure   balance  num_of_products  \\\n",
       "0         0.838488 -0.843042 -0.000758 -1.222660                2   \n",
       "1         1.693581  0.852020  0.688238 -1.222660                2   \n",
       "2        -1.242579 -0.089681  0.688238  0.371065                2   \n",
       "3        -0.160836 -1.219722  1.032736 -1.222660                1   \n",
       "4         0.261559 -0.089681 -1.378750  0.437699                1   \n",
       "...            ...       ...       ...       ...              ...   \n",
       "5449     -0.933510  0.381170 -1.378750 -1.222660                1   \n",
       "5450     -0.480208  0.381170 -0.000758  0.817716                1   \n",
       "5451      0.704558  0.381170 -1.723247  0.264132                1   \n",
       "5452     -1.695881 -1.313892 -0.689754  0.923759                1   \n",
       "5453      0.683954  0.098659 -0.689754 -1.222660                2   \n",
       "\n",
       "      has_cr_card  is_active_member  estimated_salary  geography_germany  \\\n",
       "0               1                 0          1.545552                0.0   \n",
       "1               1                 1          0.560133                0.0   \n",
       "2               1                 0         -0.181020                0.0   \n",
       "3               1                 0         -1.372303                0.0   \n",
       "4               0                 0         -1.366948                0.0   \n",
       "...           ...               ...               ...                ...   \n",
       "5449            0                 1         -0.244011                0.0   \n",
       "5450            1                 1         -1.411915                0.0   \n",
       "5451            1                 0          1.163378                0.0   \n",
       "5452            1                 1          0.219175                0.0   \n",
       "5453            0                 1          1.164792                0.0   \n",
       "\n",
       "      geography_spain  gender_male  \n",
       "0                 0.0          0.0  \n",
       "1                 0.0          0.0  \n",
       "2                 1.0          1.0  \n",
       "3                 0.0          1.0  \n",
       "4                 0.0          0.0  \n",
       "...               ...          ...  \n",
       "5449              0.0          0.0  \n",
       "5450              0.0          1.0  \n",
       "5451              0.0          0.0  \n",
       "5452              0.0          0.0  \n",
       "5453              0.0          0.0  \n",
       "\n",
       "[5454 rows x 11 columns]"
      ]
     },
     "execution_count": 25,
     "metadata": {},
     "output_type": "execute_result"
    }
   ],
   "source": [
    "features_train = features_train.join(features_train_enc)\n",
    "features_valid = features_valid.join(features_valid_enc)\n",
    "features_test = features_test.join(features_test_enc)\n",
    "features_train"
   ]
  },
  {
   "cell_type": "code",
   "execution_count": 26,
   "id": "e1347291",
   "metadata": {},
   "outputs": [
    {
     "name": "stdout",
     "output_type": "stream",
     "text": [
      "Размер тренировочной выборки:(5454, 11)\n",
      "Размер валидационной выборки:(1818, 11)\n",
      "Размер тестовой выборки:(1819, 11)\n"
     ]
    }
   ],
   "source": [
    "print(f'Размер тренировочной выборки:{features_train.shape}') \n",
    "print(f'Размер валидационной выборки:{features_valid.shape}')\n",
    "print(f'Размер тестовой выборки:{features_test.shape}')"
   ]
  },
  {
   "cell_type": "markdown",
   "id": "11d27707",
   "metadata": {},
   "source": [
    "##   Анализ моделей без учета дисбаланса классов"
   ]
  },
  {
   "cell_type": "code",
   "execution_count": 27,
   "id": "1054aec6",
   "metadata": {},
   "outputs": [],
   "source": [
    "def model_auc(model, features_valid, target_valid):  # функция для вычисления roc_auc_score\n",
    "    probabilities_valid = model.predict_proba(features_valid)\n",
    "    probabilities_one_valid = probabilities_valid[:, 1]\n",
    "    return roc_auc_score(target_valid, probabilities_one_valid)"
   ]
  },
  {
   "cell_type": "code",
   "execution_count": 28,
   "id": "82f774dc",
   "metadata": {},
   "outputs": [],
   "source": [
    "def model_fitting(features_train, target_train, features_valid, model):  # функция обучения модели\n",
    "    model = model(random_state=123)\n",
    "    model.fit(features_train, target_train)\n",
    "    predict = model.predict(features_valid)\n",
    "    report = classification_report(target_valid, predict)\n",
    "    auc = model_auc(model, features_valid, target_valid)\n",
    "    print(report)\n",
    "    return (f'Метрика roc_auc_score: {auc}')"
   ]
  },
  {
   "cell_type": "code",
   "execution_count": 29,
   "id": "136d1528",
   "metadata": {},
   "outputs": [
    {
     "name": "stdout",
     "output_type": "stream",
     "text": [
      "              precision    recall  f1-score   support\n",
      "\n",
      "           0       0.83      0.95      0.89      1462\n",
      "           1       0.48      0.18      0.26       356\n",
      "\n",
      "    accuracy                           0.80      1818\n",
      "   macro avg       0.65      0.56      0.57      1818\n",
      "weighted avg       0.76      0.80      0.76      1818\n",
      "\n",
      "Метрика roc_auc_score: 0.750812723835288\n"
     ]
    }
   ],
   "source": [
    "print(model_fitting(features_train, target_train, features_valid, LogisticRegression)) # модель \"Логистическая регрессия\""
   ]
  },
  {
   "cell_type": "code",
   "execution_count": 30,
   "id": "1166afd5",
   "metadata": {},
   "outputs": [
    {
     "name": "stdout",
     "output_type": "stream",
     "text": [
      "              precision    recall  f1-score   support\n",
      "\n",
      "           0       0.87      0.87      0.87      1462\n",
      "           1       0.47      0.46      0.47       356\n",
      "\n",
      "    accuracy                           0.79      1818\n",
      "   macro avg       0.67      0.67      0.67      1818\n",
      "weighted avg       0.79      0.79      0.79      1818\n",
      "\n",
      "Метрика roc_auc_score: 0.667409582071658\n"
     ]
    }
   ],
   "source": [
    "print(model_fitting(features_train, target_train, features_valid, DecisionTreeClassifier))  # модель \"Дерево решений\""
   ]
  },
  {
   "cell_type": "code",
   "execution_count": 31,
   "id": "9deedee3",
   "metadata": {},
   "outputs": [
    {
     "name": "stdout",
     "output_type": "stream",
     "text": [
      "              precision    recall  f1-score   support\n",
      "\n",
      "           0       0.87      0.97      0.92      1462\n",
      "           1       0.76      0.41      0.54       356\n",
      "\n",
      "    accuracy                           0.86      1818\n",
      "   macro avg       0.82      0.69      0.73      1818\n",
      "weighted avg       0.85      0.86      0.84      1818\n",
      "\n",
      "Метрика roc_auc_score: 0.8360968505510383\n"
     ]
    }
   ],
   "source": [
    "print(model_fitting(features_train, target_train, features_valid, RandomForestClassifier))  # модель \"Случайный лес\""
   ]
  },
  {
   "cell_type": "markdown",
   "id": "815d9eec",
   "metadata": {},
   "source": [
    " **Вывод.** Лучшая модель в данном исследовании - модель RandomForestClassifier(пока самая обычная, без подбора гиперпараметров) с метриками по классу 1: precision - 0,76, recall - 0,41, f1-score -  0,54. roc_auc_score -  0.8360968505510383"
   ]
  },
  {
   "cell_type": "markdown",
   "id": "0edcc40a",
   "metadata": {},
   "source": [
    "#### 3. Подбор гиперпараметров для модели случайного леса"
   ]
  },
  {
   "cell_type": "markdown",
   "id": "e2b8553b",
   "metadata": {},
   "source": [
    "Лучшей моделью в предыдущих исследованиях стала модель RandomForestClassifier. Подберем для нее оптимальные гиперпараметры."
   ]
  },
  {
   "cell_type": "code",
   "execution_count": 32,
   "id": "4e3d7570",
   "metadata": {},
   "outputs": [
    {
     "name": "stdout",
     "output_type": "stream",
     "text": [
      "F1-мера наилучшей модели на валидационной выборке: 0.5471014492753623\n",
      "Параметры лучшей модели: число деревьев - 50 глубина дерева - 15\n",
      "roc_auc_score: 0.8293971625755083\n",
      "CPU times: user 16.4 s, sys: 62.6 ms, total: 16.5 s\n",
      "Wall time: 16.5 s\n"
     ]
    }
   ],
   "source": [
    "%%time \n",
    "best_model = None\n",
    "best_result = 0\n",
    "for est in range(10, 61, 10):\n",
    "    for depth in range (1, 16):\n",
    "        model = RandomForestClassifier(random_state=123, n_estimators=est,max_depth=depth) \n",
    "        model.fit(features_train,target_train) \n",
    "        pred = model.predict(features_valid)\n",
    "        result = f1_score(target_valid, pred)\n",
    "        if result > best_result:\n",
    "            best_model = model \n",
    "            best_result = result\n",
    "            best_est = est\n",
    "            best_depth = depth\n",
    "roc = model_auc(best_model, features_valid, target_valid)       \n",
    "print(\"F1-мера наилучшей модели на валидационной выборке:\", best_result)\n",
    "print(\"Параметры лучшей модели:\", \"число деревьев -\", best_est, \"глубина дерева -\", best_depth)\n",
    "print(\"roc_auc_score:\",roc)"
   ]
  },
  {
   "cell_type": "markdown",
   "id": "c57580bc",
   "metadata": {},
   "source": [
    " **Вывод.** Возьмем за наилучшую модель классификатора - RandomForestClassifier с параметрами max_depth=15, n_estimators=50 и метриками f1_score = 0.5471014492753623 и roc_auc_score = 0.8293971625755083"
   ]
  },
  {
   "cell_type": "markdown",
   "id": "10c75865",
   "metadata": {},
   "source": [
    "##   Анализ моделей с балансировкой классов и выбор наилучшей"
   ]
  },
  {
   "cell_type": "markdown",
   "id": "4ee38ec6",
   "metadata": {},
   "source": [
    "### 1. Взвешивание классов"
   ]
  },
  {
   "cell_type": "code",
   "execution_count": 33,
   "id": "d9403d5d",
   "metadata": {},
   "outputs": [],
   "source": [
    "def model_weight(features_train, target_train, features_valid, model):  # функция обучения модели c взвешенными классами\n",
    "    model = model(class_weight=\"balanced\", random_state=123)\n",
    "    model.fit(features_train, target_train)\n",
    "    predict = model.predict(features_valid)\n",
    "    report = classification_report(target_valid, predict)\n",
    "    auc = model_auc(model, features_valid, target_valid)\n",
    "    print(report)\n",
    "    return (f'Метрика roc_auc_score: {auc}')"
   ]
  },
  {
   "cell_type": "code",
   "execution_count": 34,
   "id": "cb45b995",
   "metadata": {},
   "outputs": [
    {
     "name": "stdout",
     "output_type": "stream",
     "text": [
      "              precision    recall  f1-score   support\n",
      "\n",
      "           0       0.90      0.71      0.79      1462\n",
      "           1       0.36      0.69      0.47       356\n",
      "\n",
      "    accuracy                           0.70      1818\n",
      "   macro avg       0.63      0.70      0.63      1818\n",
      "weighted avg       0.80      0.70      0.73      1818\n",
      "\n",
      "Метрика roc_auc_score: 0.7523670821869382\n"
     ]
    }
   ],
   "source": [
    "print(model_weight(features_train, target_train, features_valid, LogisticRegression))  # модель \"Логистическая регрессия\""
   ]
  },
  {
   "cell_type": "code",
   "execution_count": 35,
   "id": "4bd97d7d",
   "metadata": {},
   "outputs": [
    {
     "name": "stdout",
     "output_type": "stream",
     "text": [
      "              precision    recall  f1-score   support\n",
      "\n",
      "           0       0.86      0.88      0.87      1462\n",
      "           1       0.45      0.42      0.43       356\n",
      "\n",
      "    accuracy                           0.79      1818\n",
      "   macro avg       0.66      0.65      0.65      1818\n",
      "weighted avg       0.78      0.79      0.78      1818\n",
      "\n",
      "Метрика roc_auc_score: 0.6473681581333866\n"
     ]
    }
   ],
   "source": [
    "print(model_weight(features_train, target_train, features_valid, DecisionTreeClassifier))  # модель \"Дерево решений\""
   ]
  },
  {
   "cell_type": "code",
   "execution_count": 36,
   "id": "7910fb77",
   "metadata": {},
   "outputs": [
    {
     "name": "stdout",
     "output_type": "stream",
     "text": [
      "              precision    recall  f1-score   support\n",
      "\n",
      "           0       0.87      0.97      0.92      1462\n",
      "           1       0.78      0.39      0.52       356\n",
      "\n",
      "    accuracy                           0.86      1818\n",
      "   macro avg       0.82      0.68      0.72      1818\n",
      "weighted avg       0.85      0.86      0.84      1818\n",
      "\n",
      "Метрика roc_auc_score: 0.8356799213022025\n"
     ]
    }
   ],
   "source": [
    "print(model_weight(features_train, target_train, features_valid, RandomForestClassifier))  # модель \"Случайный лес\""
   ]
  },
  {
   "cell_type": "code",
   "execution_count": 37,
   "id": "f6c51a1c",
   "metadata": {},
   "outputs": [
    {
     "name": "stdout",
     "output_type": "stream",
     "text": [
      "F1-мера наилучшей модели на валидационной выборке: 0.6021180030257185\n",
      "Параметры лучшей модели: число деревьев - 80 глубина дерева - 11\n",
      "roc_auc_score: 0.8464797337801072\n",
      "CPU times: user 41.7 s, sys: 262 ms, total: 42 s\n",
      "Wall time: 42.1 s\n"
     ]
    }
   ],
   "source": [
    "%%time \n",
    "best_model = None\n",
    "best_result = 0\n",
    "for est in range(10, 101, 10):\n",
    "    for depth in range (1, 16):\n",
    "        model_weight = RandomForestClassifier(class_weight='balanced',random_state=123, n_estimators=est,max_depth=depth) \n",
    "        model_weight.fit(features_train, target_train) \n",
    "        pred = model_weight.predict(features_valid)\n",
    "        result = f1_score(target_valid, pred)\n",
    "        if result > best_result:\n",
    "            best_model_weight = model_weight \n",
    "            best_result = result\n",
    "            best_est = est\n",
    "            best_depth = depth\n",
    "roc = model_auc(best_model_weight, features_valid, target_valid)       \n",
    "print(\"F1-мера наилучшей модели на валидационной выборке:\", best_result)\n",
    "print(\"Параметры лучшей модели:\", \"число деревьев -\", best_est, \"глубина дерева -\", best_depth)\n",
    "print(\"roc_auc_score:\",roc)"
   ]
  },
  {
   "cell_type": "markdown",
   "id": "77a9788d",
   "metadata": {},
   "source": [
    "**Вывод** По сравнению с предыдущими моделями, в данных моделях мы учли дисбаланс классов с помощью указания параметра class_weight=\"balanced\". F1-мера стала выше. \n",
    "\n",
    "Наилучшая медель - RandomForestClassifier(max_depth=11, n_estimators=80), f1_score лучшей модели: 0.6021180030257185, roc_auc_score: 0.8464797337801072"
   ]
  },
  {
   "cell_type": "markdown",
   "id": "60517b66",
   "metadata": {},
   "source": [
    "### 2. Уменьшение выборки"
   ]
  },
  {
   "cell_type": "code",
   "execution_count": 38,
   "id": "b42ecf76",
   "metadata": {},
   "outputs": [
    {
     "name": "stdout",
     "output_type": "stream",
     "text": [
      "(2208, 11)\n",
      "(2208,)\n"
     ]
    }
   ],
   "source": [
    "rus = RandomUnderSampler(random_state=123)\n",
    "features_downsampled, target_downsampled = rus.fit_resample(features_train,target_train)\n",
    "print(features_downsampled.shape)\n",
    "print(target_downsampled.shape)"
   ]
  },
  {
   "cell_type": "code",
   "execution_count": 39,
   "id": "3596a5c8",
   "metadata": {},
   "outputs": [
    {
     "name": "stdout",
     "output_type": "stream",
     "text": [
      "              precision    recall  f1-score   support\n",
      "\n",
      "           0       0.90      0.71      0.79      1462\n",
      "           1       0.36      0.69      0.47       356\n",
      "\n",
      "    accuracy                           0.70      1818\n",
      "   macro avg       0.63      0.70      0.63      1818\n",
      "weighted avg       0.80      0.70      0.73      1818\n",
      "\n",
      "Метрика roc_auc_score: 0.7502862786086475\n"
     ]
    }
   ],
   "source": [
    " # модель \"Логистическая регрессия\"\n",
    "print(model_fitting(features_downsampled, target_downsampled, features_valid, LogisticRegression)) "
   ]
  },
  {
   "cell_type": "code",
   "execution_count": 40,
   "id": "ff89f6c4",
   "metadata": {},
   "outputs": [
    {
     "name": "stdout",
     "output_type": "stream",
     "text": [
      "              precision    recall  f1-score   support\n",
      "\n",
      "           0       0.90      0.69      0.78      1462\n",
      "           1       0.35      0.70      0.47       356\n",
      "\n",
      "    accuracy                           0.69      1818\n",
      "   macro avg       0.63      0.69      0.62      1818\n",
      "weighted avg       0.79      0.69      0.72      1818\n",
      "\n",
      "Метрика roc_auc_score: 0.6909958652915046\n"
     ]
    }
   ],
   "source": [
    "# модель \"Дерево решений\"\n",
    "print(model_fitting(features_downsampled, target_downsampled, features_valid, DecisionTreeClassifier))"
   ]
  },
  {
   "cell_type": "code",
   "execution_count": 41,
   "id": "9120ffb9",
   "metadata": {},
   "outputs": [
    {
     "name": "stdout",
     "output_type": "stream",
     "text": [
      "              precision    recall  f1-score   support\n",
      "\n",
      "           0       0.92      0.77      0.84      1462\n",
      "           1       0.43      0.73      0.54       356\n",
      "\n",
      "    accuracy                           0.76      1818\n",
      "   macro avg       0.68      0.75      0.69      1818\n",
      "weighted avg       0.83      0.76      0.78      1818\n",
      "\n",
      "Метрика roc_auc_score: 0.8361400805422771\n"
     ]
    }
   ],
   "source": [
    "# модель \"Случайный лес\"\n",
    "print(model_fitting(features_downsampled, target_downsampled, features_valid, RandomForestClassifier))"
   ]
  },
  {
   "cell_type": "markdown",
   "id": "022619e8",
   "metadata": {},
   "source": [
    "Подберем гиперпараметры для модели случайного леса:"
   ]
  },
  {
   "cell_type": "code",
   "execution_count": 42,
   "id": "652822c5",
   "metadata": {},
   "outputs": [
    {
     "name": "stdout",
     "output_type": "stream",
     "text": [
      "F1-мера наилучшей модели на валидационной выборке: 0.5600858369098712\n",
      "Параметры лучшей модели: число деревьев - 30 глубина дерева - 9\n",
      "roc_auc_score: 0.8352399360580397\n",
      "CPU times: user 24.9 s, sys: 104 ms, total: 25 s\n",
      "Wall time: 25 s\n"
     ]
    }
   ],
   "source": [
    "%%time \n",
    "best_model = None\n",
    "best_result = 0\n",
    "for est in range(10, 101, 10):\n",
    "    for depth in range (1, 16):\n",
    "        model = RandomForestClassifier(random_state=123, n_estimators=est,max_depth=depth) \n",
    "        model.fit(features_downsampled,target_downsampled) \n",
    "        pred = model.predict(features_valid)\n",
    "        result = f1_score(target_valid, pred)\n",
    "        if result > best_result:\n",
    "            best_model = model \n",
    "            best_result = result\n",
    "            best_est = est\n",
    "            best_depth = depth\n",
    "roc = model_auc(best_model, features_valid, target_valid)       \n",
    "print(\"F1-мера наилучшей модели на валидационной выборке:\", best_result)\n",
    "print(\"Параметры лучшей модели:\", \"число деревьев -\", best_est, \"глубина дерева -\", best_depth)\n",
    "print(\"roc_auc_score:\",roc)"
   ]
  },
  {
   "cell_type": "markdown",
   "id": "b1aa7b75",
   "metadata": {},
   "source": [
    "**Вывод**  В данном методе балансировки классов лучшая модель:\n",
    "RandomForestClassifier(max_depth=9, n_estimators=30), f1_score лучшей модели: 0.5600858369098712, roc_auc_score: 0.8352399360580397"
   ]
  },
  {
   "cell_type": "markdown",
   "id": "1fa88841",
   "metadata": {},
   "source": [
    "### 3. Увеличение выборки"
   ]
  },
  {
   "cell_type": "code",
   "execution_count": 43,
   "id": "2f6b2e42",
   "metadata": {},
   "outputs": [
    {
     "name": "stdout",
     "output_type": "stream",
     "text": [
      "(8700, 11)\n",
      "(8700,)\n"
     ]
    }
   ],
   "source": [
    "smote = SMOTE()\n",
    "features_upsampled, target_upsampled = smote.fit_resample(features_train,target_train)\n",
    "print(features_upsampled.shape)\n",
    "print(target_upsampled.shape)"
   ]
  },
  {
   "cell_type": "code",
   "execution_count": 44,
   "id": "6323478d",
   "metadata": {},
   "outputs": [
    {
     "name": "stdout",
     "output_type": "stream",
     "text": [
      "              precision    recall  f1-score   support\n",
      "\n",
      "           0       0.90      0.73      0.81      1462\n",
      "           1       0.37      0.66      0.48       356\n",
      "\n",
      "    accuracy                           0.72      1818\n",
      "   macro avg       0.64      0.70      0.64      1818\n",
      "weighted avg       0.80      0.72      0.74      1818\n",
      "\n",
      "Метрика roc_auc_score: 0.7542480671390583\n"
     ]
    }
   ],
   "source": [
    " # модель \"Логистическая регрессия\"\n",
    "print(model_fitting(features_upsampled, target_upsampled, features_valid, LogisticRegression))"
   ]
  },
  {
   "cell_type": "code",
   "execution_count": 45,
   "id": "9975ffc1",
   "metadata": {},
   "outputs": [
    {
     "name": "stdout",
     "output_type": "stream",
     "text": [
      "              precision    recall  f1-score   support\n",
      "\n",
      "           0       0.88      0.85      0.87      1462\n",
      "           1       0.46      0.54      0.50       356\n",
      "\n",
      "    accuracy                           0.79      1818\n",
      "   macro avg       0.67      0.69      0.68      1818\n",
      "weighted avg       0.80      0.79      0.79      1818\n",
      "\n",
      "Метрика roc_auc_score: 0.6923350343534331\n"
     ]
    }
   ],
   "source": [
    "# модель \"Дерево решений\"\n",
    "print(model_fitting(features_upsampled, target_upsampled, features_valid, DecisionTreeClassifier))"
   ]
  },
  {
   "cell_type": "code",
   "execution_count": 46,
   "id": "fd6fe0f6",
   "metadata": {},
   "outputs": [
    {
     "name": "stdout",
     "output_type": "stream",
     "text": [
      "              precision    recall  f1-score   support\n",
      "\n",
      "           0       0.89      0.91      0.90      1462\n",
      "           1       0.59      0.53      0.55       356\n",
      "\n",
      "    accuracy                           0.83      1818\n",
      "   macro avg       0.74      0.72      0.73      1818\n",
      "weighted avg       0.83      0.83      0.83      1818\n",
      "\n",
      "Метрика roc_auc_score: 0.8365262684640095\n"
     ]
    }
   ],
   "source": [
    "# модель \"Случайный лес\"\n",
    "print(model_fitting(features_upsampled, target_upsampled, features_valid, RandomForestClassifier))"
   ]
  },
  {
   "cell_type": "markdown",
   "id": "ff92f124",
   "metadata": {},
   "source": [
    "Подберем гиперпараметры для модели случайного леса:"
   ]
  },
  {
   "cell_type": "code",
   "execution_count": 47,
   "id": "42863239",
   "metadata": {},
   "outputs": [
    {
     "name": "stdout",
     "output_type": "stream",
     "text": [
      "F1-мера наилучшей модели на валидационной выборке: 0.5870393900889455\n",
      "Параметры лучшей модели: число деревьев - 30 глубина дерева - 8\n",
      "roc_auc_score: 0.8414708187952474\n",
      "CPU times: user 25.5 s, sys: 108 ms, total: 25.6 s\n",
      "Wall time: 25.8 s\n"
     ]
    }
   ],
   "source": [
    "%%time\n",
    "best_model = None\n",
    "best_result = 0\n",
    "for est in range(10, 61, 10):\n",
    "    for depth in range (1, 16):\n",
    "        model = RandomForestClassifier(random_state=12, n_estimators=est,max_depth=depth) \n",
    "        model.fit(features_upsampled,target_upsampled) \n",
    "        pred = model.predict(features_valid)\n",
    "        result = f1_score(target_valid, pred)\n",
    "        if result > best_result:\n",
    "            best_model_up = model \n",
    "            best_result = result\n",
    "            best_est = est\n",
    "            best_depth = depth\n",
    "roc = model_auc(best_model_up, features_valid, target_valid)       \n",
    "print(\"F1-мера наилучшей модели на валидационной выборке:\", best_result)\n",
    "print(\"Параметры лучшей модели:\", \"число деревьев -\", best_est, \"глубина дерева -\", best_depth)\n",
    "print(\"roc_auc_score:\",roc)"
   ]
  },
  {
   "cell_type": "markdown",
   "id": "9d77f043",
   "metadata": {},
   "source": [
    "**Вывод**  Лучшая модель - модель случайного леса RandomForestClassifier с параметрами: максимальная глубина дерева = 8, число деревьев = 30. Метрики:\n",
    "- F1-мера лучшей модели: 0.5944584382871536,\n",
    "- roc_auc_score: 0.8449858974161916"
   ]
  },
  {
   "cell_type": "markdown",
   "id": "5e7bb652",
   "metadata": {},
   "source": [
    "## Тестирование лучшей модели"
   ]
  },
  {
   "cell_type": "markdown",
   "id": "9fe9bfe4",
   "metadata": {},
   "source": [
    "В результате исследования мы получили лучшую модель с самой высокой F1-мерой выше 0,59 на валидационной выборке:\n",
    "- модель \"Случайный лес\" с балансированием классов методом взвешивания классов: F1-мера = 0.6021180030257185;\n",
    " \n",
    "Проверим  модель на тестовой выборке."
   ]
  },
  {
   "cell_type": "code",
   "execution_count": 48,
   "id": "ebe5a5f0",
   "metadata": {},
   "outputs": [
    {
     "name": "stdout",
     "output_type": "stream",
     "text": [
      "Метрика F1-мера на тестовой выборке: 0.597544338335607\n",
      "              precision    recall  f1-score   support\n",
      "\n",
      "           0       0.88      0.92      0.90      1425\n",
      "           1       0.65      0.56      0.60       394\n",
      "\n",
      "    accuracy                           0.84      1819\n",
      "   macro avg       0.76      0.74      0.75      1819\n",
      "weighted avg       0.83      0.84      0.83      1819\n",
      "\n",
      "roc_auc_score: 0.851967227713955\n"
     ]
    }
   ],
   "source": [
    "print('Метрика F1-мера на тестовой выборке:', f1_score(target_test, best_model_weight.predict(features_test)))\n",
    "print(classification_report(target_test, best_model_weight.predict(features_test)))\n",
    "print(\"roc_auc_score:\",model_auc(best_model_weight, features_test, target_test))"
   ]
  },
  {
   "cell_type": "code",
   "execution_count": 49,
   "id": "b91ad2de",
   "metadata": {},
   "outputs": [
    {
     "data": {
      "image/png": "[encoded data removed]",
      "text/plain": [
       "<Figure size 432x288 with 1 Axes>"
      ]
     },
     "metadata": {
      "needs_background": "light"
     },
     "output_type": "display_data"
    },
    {
     "name": "stdout",
     "output_type": "stream",
     "text": [
      "Значение метрики AUC-ROC: 0.851967227713955\n"
     ]
    }
   ],
   "source": [
    "probabilities_test = best_model_weight.predict_proba(features_test)\n",
    "probabilities_one_test = probabilities_test[:, 1]\n",
    "\n",
    "fpr, tpr, thresholds = roc_curve(target_test, probabilities_one_test)\n",
    "\n",
    "plt.figure()\n",
    "\n",
    "\n",
    "plt.plot(fpr, tpr)\n",
    "\n",
    "plt.plot([0, 1], [0, 1], linestyle='--')\n",
    "\n",
    "plt.xlabel('False Positive Rate')\n",
    "plt.ylabel('True Positive Rate')\n",
    "plt.ylim([0.0, 1.0])\n",
    "plt.xlim([0.0, 1.0])\n",
    "plt.title('ROC-кривая')\n",
    "\n",
    "\n",
    "plt.show()\n",
    "auc_roc = roc_auc_score(target_test, probabilities_one_test)\n",
    "print(\"Значение метрики AUC-ROC:\", auc_roc)"
   ]
  },
  {
   "cell_type": "markdown",
   "id": "a7947873",
   "metadata": {},
   "source": [
    "**Вывод.** Наша модель справилась с тестированием: F1-мера на тестовой выборке:  0.597544338335607, AUC-ROC: 0.851967227713955."
   ]
  },
  {
   "cell_type": "markdown",
   "id": "fbc35c18",
   "metadata": {},
   "source": [
    "## Проверка модели на адекватность"
   ]
  },
  {
   "cell_type": "markdown",
   "id": "11d154f7",
   "metadata": {},
   "source": [
    "Для проверки модели на адекватность сравним предсказания нашей модели с предсказаниями Dummy-классификатора,который делает прогнозы,используя простые правила."
   ]
  },
  {
   "cell_type": "code",
   "execution_count": 50,
   "id": "da6b2f13",
   "metadata": {},
   "outputs": [
    {
     "name": "stdout",
     "output_type": "stream",
     "text": [
      "Точность модели dummy: 0.7833974711379879\n",
      "Точность нашей модели: 0.8378229796591534\n",
      "AUC-ROC модели dummy: 0.5\n",
      "AUC-ROC нашей модели: 0.851967227713955\n"
     ]
    }
   ],
   "source": [
    "dummy_model =  DummyClassifier(strategy=\"most_frequent\") # предсказывает наиболее частый класс\n",
    "dummy_model.fit(features_train, target_train)\n",
    "dummy_predictions = dummy_model.predict(features_test)\n",
    "dummy_result = accuracy_score(target_test, dummy_predictions)\n",
    "probabilities = dummy_model.predict_proba(features_test)\n",
    "probabilities_one = probabilities[:, 1]\n",
    "\n",
    "print ('Точность модели dummy:', dummy_result)\n",
    "print ('Точность нашей модели:', best_model_weight.score(features_test, target_test))\n",
    "print('AUC-ROC модели dummy:', roc_auc_score(target_test, probabilities_one))\n",
    "print('AUC-ROC нашей модели:', model_auc(best_model_weight, features_test, target_test))"
   ]
  },
  {
   "cell_type": "markdown",
   "id": "6343693d",
   "metadata": {},
   "source": [
    "Точность нашей модели выше результатов дамми-классификатора. Это говорит о том, что наша модель прошла проверку на адекватность."
   ]
  },
  {
   "cell_type": "markdown",
   "id": "c0ece664",
   "metadata": {},
   "source": [
    "## Вывод"
   ]
  },
  {
   "cell_type": "markdown",
   "id": "3fc1d732",
   "metadata": {},
   "source": [
    "В результате работы была построена модель, выполняющая задачу классификации, предсказывающая факт ухода клиента из банка.\n",
    "\n",
    "В первую очередь было проведено исследование данных, анализ признаков: на дубликаты, на наличие пропусков, на наличие мультиколлинеарности, на наличие дисбаланса. Затем, данные были масштабированы, категориальные признаки приведены к числовым значениям. Поиск лучшей модели осуществлялся как на сбалансированных данных, так и при дисбалансе. \n",
    "\n",
    "В процессе исследования была получена наилучшая модель классификации - модель \"Случайный лес\" **RandomForestClassifier с параметрами: максимальная глубина дерева - 11, число деревьев - 80.**. Модель показала наилучшие результаты при учете дисбаланса методом  взвешивания классов.\n",
    "\n",
    "**Метрики лучшей модели RandomForestClassifier:**\n",
    "- F1-мера на тестовой выборке: 0.597544338335607\n",
    "- Значение метрики AUC-ROC на тестовой выборке: 0.851967227713955\n",
    "\n",
    "Модель была проверена на вменяемость: по сравнению со случайными предсказаниями, наша модель показала более точный результат. Это говорит о том, что наша модель прошла проверку на адекватность."
   ]
  },
  {
   "cell_type": "code",
   "execution_count": null,
   "id": "5dca6644",
   "metadata": {},
   "outputs": [],
   "source": []
  }
 ],
 "metadata": {
  "ExecuteTimeLog": [
   {
    "duration": 1408,
    "start_time": "2022-12-06T16:00:07.980Z"
   },
   {
    "duration": 76,
    "start_time": "2022-12-06T16:00:09.391Z"
   },
   {
    "duration": 16,
    "start_time": "2022-12-06T16:00:09.469Z"
   },
   {
    "duration": 19,
    "start_time": "2022-12-06T16:00:09.487Z"
   },
   {
    "duration": 1267,
    "start_time": "2022-12-06T16:00:09.507Z"
   },
   {
    "duration": 438,
    "start_time": "2022-12-06T16:00:10.778Z"
   },
   {
    "duration": 6,
    "start_time": "2022-12-06T16:00:11.217Z"
   },
   {
    "duration": 10,
    "start_time": "2022-12-06T16:00:11.224Z"
   },
   {
    "duration": 1011,
    "start_time": "2022-12-06T16:00:11.235Z"
   },
   {
    "duration": 6,
    "start_time": "2022-12-06T16:00:12.248Z"
   },
   {
    "duration": 10,
    "start_time": "2022-12-06T16:00:12.255Z"
   },
   {
    "duration": 15,
    "start_time": "2022-12-06T16:00:12.267Z"
   },
   {
    "duration": 15,
    "start_time": "2022-12-06T16:00:12.283Z"
   },
   {
    "duration": 4,
    "start_time": "2022-12-06T16:00:12.299Z"
   },
   {
    "duration": 21,
    "start_time": "2022-12-06T16:00:12.304Z"
   },
   {
    "duration": 4,
    "start_time": "2022-12-06T16:00:12.327Z"
   },
   {
    "duration": 5,
    "start_time": "2022-12-06T16:00:12.332Z"
   },
   {
    "duration": 43,
    "start_time": "2022-12-06T16:00:12.339Z"
   },
   {
    "duration": 7,
    "start_time": "2022-12-06T16:00:12.384Z"
   },
   {
    "duration": 33,
    "start_time": "2022-12-06T16:00:12.393Z"
   },
   {
    "duration": 7,
    "start_time": "2022-12-06T16:00:12.428Z"
   },
   {
    "duration": 4,
    "start_time": "2022-12-06T16:00:12.436Z"
   },
   {
    "duration": 6,
    "start_time": "2022-12-06T16:00:12.441Z"
   },
   {
    "duration": 235,
    "start_time": "2022-12-06T16:00:12.449Z"
   },
   {
    "duration": 211,
    "start_time": "2022-12-06T16:00:12.686Z"
   },
   {
    "duration": 689,
    "start_time": "2022-12-06T16:00:12.899Z"
   },
   {
    "duration": 22,
    "start_time": "2022-12-06T16:00:13.590Z"
   },
   {
    "duration": 8,
    "start_time": "2022-12-06T16:00:13.615Z"
   },
   {
    "duration": 742,
    "start_time": "2022-12-06T16:00:13.624Z"
   },
   {
    "duration": 29870,
    "start_time": "2022-12-06T16:00:14.368Z"
   },
   {
    "duration": 5,
    "start_time": "2022-12-06T16:00:44.240Z"
   },
   {
    "duration": 240,
    "start_time": "2022-12-06T16:00:44.246Z"
   },
   {
    "duration": 210,
    "start_time": "2022-12-06T16:00:44.487Z"
   },
   {
    "duration": 30966,
    "start_time": "2022-12-06T16:00:44.698Z"
   },
   {
    "duration": 12,
    "start_time": "2022-12-06T16:01:15.666Z"
   },
   {
    "duration": 16,
    "start_time": "2022-12-06T16:01:15.680Z"
   },
   {
    "duration": 187,
    "start_time": "2022-12-06T16:01:15.698Z"
   },
   {
    "duration": 203,
    "start_time": "2022-12-06T16:01:15.886Z"
   },
   {
    "duration": 434,
    "start_time": "2022-12-06T16:01:16.091Z"
   },
   {
    "duration": 9051,
    "start_time": "2022-12-06T16:01:16.527Z"
   },
   {
    "duration": 4,
    "start_time": "2022-12-06T16:01:25.580Z"
   },
   {
    "duration": 19,
    "start_time": "2022-12-06T16:01:25.586Z"
   },
   {
    "duration": 279,
    "start_time": "2022-12-06T16:01:25.606Z"
   },
   {
    "duration": 219,
    "start_time": "2022-12-06T16:01:25.887Z"
   },
   {
    "duration": 905,
    "start_time": "2022-12-06T16:01:26.108Z"
   },
   {
    "duration": 18505,
    "start_time": "2022-12-06T16:01:27.015Z"
   },
   {
    "duration": 338,
    "start_time": "2022-12-06T16:01:45.522Z"
   },
   {
    "duration": 343,
    "start_time": "2022-12-06T16:01:45.862Z"
   },
   {
    "duration": 140,
    "start_time": "2022-12-06T16:01:46.207Z"
   },
   {
    "duration": 75,
    "start_time": "2022-12-06T16:01:46.349Z"
   },
   {
    "duration": 7710,
    "start_time": "2022-12-08T09:09:06.934Z"
   },
   {
    "duration": 1566,
    "start_time": "2022-12-08T09:09:14.648Z"
   },
   {
    "duration": 118,
    "start_time": "2022-12-08T09:09:16.216Z"
   },
   {
    "duration": 18,
    "start_time": "2022-12-08T09:09:16.336Z"
   },
   {
    "duration": 14,
    "start_time": "2022-12-08T09:09:16.357Z"
   },
   {
    "duration": 1393,
    "start_time": "2022-12-08T09:09:16.373Z"
   },
   {
    "duration": 496,
    "start_time": "2022-12-08T09:09:17.768Z"
   },
   {
    "duration": 5,
    "start_time": "2022-12-08T09:09:18.266Z"
   },
   {
    "duration": 22,
    "start_time": "2022-12-08T09:09:18.273Z"
   },
   {
    "duration": 1213,
    "start_time": "2022-12-08T09:09:18.297Z"
   },
   {
    "duration": 6,
    "start_time": "2022-12-08T09:09:19.512Z"
   },
   {
    "duration": 15,
    "start_time": "2022-12-08T09:09:19.520Z"
   },
   {
    "duration": 10,
    "start_time": "2022-12-08T09:09:19.536Z"
   },
   {
    "duration": 13,
    "start_time": "2022-12-08T09:09:19.558Z"
   },
   {
    "duration": 13,
    "start_time": "2022-12-08T09:09:19.573Z"
   },
   {
    "duration": 25,
    "start_time": "2022-12-08T09:09:19.588Z"
   },
   {
    "duration": 5,
    "start_time": "2022-12-08T09:09:19.615Z"
   },
   {
    "duration": 20,
    "start_time": "2022-12-08T09:09:19.622Z"
   },
   {
    "duration": 14,
    "start_time": "2022-12-08T09:09:19.644Z"
   },
   {
    "duration": 8,
    "start_time": "2022-12-08T09:09:19.659Z"
   },
   {
    "duration": 47,
    "start_time": "2022-12-08T09:09:19.668Z"
   },
   {
    "duration": 18,
    "start_time": "2022-12-08T09:09:19.717Z"
   },
   {
    "duration": 19,
    "start_time": "2022-12-08T09:09:19.737Z"
   },
   {
    "duration": 12,
    "start_time": "2022-12-08T09:09:19.758Z"
   },
   {
    "duration": 32,
    "start_time": "2022-12-08T09:09:19.772Z"
   },
   {
    "duration": 4,
    "start_time": "2022-12-08T09:09:19.805Z"
   },
   {
    "duration": 9,
    "start_time": "2022-12-08T09:09:19.810Z"
   },
   {
    "duration": 19,
    "start_time": "2022-12-08T09:09:19.821Z"
   },
   {
    "duration": 322,
    "start_time": "2022-12-08T09:09:19.842Z"
   },
   {
    "duration": 128,
    "start_time": "2022-12-08T09:09:20.254Z"
   },
   {
    "duration": 749,
    "start_time": "2022-12-08T09:09:20.383Z"
   },
   {
    "duration": 15275,
    "start_time": "2022-12-08T09:09:21.134Z"
   },
   {
    "duration": 4,
    "start_time": "2022-12-08T09:09:36.411Z"
   },
   {
    "duration": 250,
    "start_time": "2022-12-08T09:09:36.417Z"
   },
   {
    "duration": 126,
    "start_time": "2022-12-08T09:09:36.757Z"
   },
   {
    "duration": 764,
    "start_time": "2022-12-08T09:09:36.885Z"
   },
   {
    "duration": 40044,
    "start_time": "2022-12-08T09:09:37.651Z"
   },
   {
    "duration": 11,
    "start_time": "2022-12-08T09:10:17.697Z"
   },
   {
    "duration": 169,
    "start_time": "2022-12-08T09:10:17.709Z"
   },
   {
    "duration": 135,
    "start_time": "2022-12-08T09:10:17.956Z"
   },
   {
    "duration": 430,
    "start_time": "2022-12-08T09:10:18.096Z"
   },
   {
    "duration": 23806,
    "start_time": "2022-12-08T09:10:18.528Z"
   },
   {
    "duration": 38,
    "start_time": "2022-12-08T09:10:42.336Z"
   },
   {
    "duration": 283,
    "start_time": "2022-12-08T09:10:42.376Z"
   },
   {
    "duration": 226,
    "start_time": "2022-12-08T09:10:42.661Z"
   },
   {
    "duration": 1192,
    "start_time": "2022-12-08T09:10:42.889Z"
   },
   {
    "duration": 24027,
    "start_time": "2022-12-08T09:10:44.083Z"
   },
   {
    "duration": 118,
    "start_time": "2022-12-08T09:11:08.112Z"
   },
   {
    "duration": 47,
    "start_time": "2022-12-08T09:11:08.232Z"
   },
   {
    "duration": 145,
    "start_time": "2022-12-08T09:11:08.282Z"
   },
   {
    "duration": 44,
    "start_time": "2022-12-08T09:11:08.429Z"
   },
   {
    "duration": 64,
    "start_time": "2022-12-08T11:22:26.844Z"
   },
   {
    "duration": 7183,
    "start_time": "2022-12-08T11:22:47.270Z"
   },
   {
    "duration": 1527,
    "start_time": "2022-12-08T11:22:54.455Z"
   },
   {
    "duration": 112,
    "start_time": "2022-12-08T11:22:55.984Z"
   },
   {
    "duration": 19,
    "start_time": "2022-12-08T11:22:56.099Z"
   },
   {
    "duration": 15,
    "start_time": "2022-12-08T11:22:56.120Z"
   },
   {
    "duration": 1430,
    "start_time": "2022-12-08T11:22:56.137Z"
   },
   {
    "duration": 524,
    "start_time": "2022-12-08T11:22:57.568Z"
   },
   {
    "duration": 7,
    "start_time": "2022-12-08T11:22:58.094Z"
   },
   {
    "duration": 6,
    "start_time": "2022-12-08T11:22:58.103Z"
   },
   {
    "duration": 1251,
    "start_time": "2022-12-08T11:22:58.112Z"
   },
   {
    "duration": 13,
    "start_time": "2022-12-08T11:22:59.365Z"
   },
   {
    "duration": 7,
    "start_time": "2022-12-08T11:22:59.380Z"
   },
   {
    "duration": 9,
    "start_time": "2022-12-08T11:22:59.389Z"
   },
   {
    "duration": 16,
    "start_time": "2022-12-08T11:22:59.400Z"
   },
   {
    "duration": 5,
    "start_time": "2022-12-08T11:22:59.418Z"
   },
   {
    "duration": 61,
    "start_time": "2022-12-08T11:22:59.425Z"
   },
   {
    "duration": 5,
    "start_time": "2022-12-08T11:22:59.488Z"
   },
   {
    "duration": 10,
    "start_time": "2022-12-08T11:22:59.495Z"
   },
   {
    "duration": 9,
    "start_time": "2022-12-08T11:22:59.507Z"
   },
   {
    "duration": 4,
    "start_time": "2022-12-08T11:22:59.518Z"
   },
   {
    "duration": 62,
    "start_time": "2022-12-08T11:22:59.523Z"
   },
   {
    "duration": 17,
    "start_time": "2022-12-08T11:22:59.588Z"
   },
   {
    "duration": 5,
    "start_time": "2022-12-08T11:22:59.607Z"
   },
   {
    "duration": 14,
    "start_time": "2022-12-08T11:22:59.614Z"
   },
   {
    "duration": 48,
    "start_time": "2022-12-08T11:22:59.630Z"
   },
   {
    "duration": 4,
    "start_time": "2022-12-08T11:22:59.680Z"
   },
   {
    "duration": 12,
    "start_time": "2022-12-08T11:22:59.685Z"
   },
   {
    "duration": 7,
    "start_time": "2022-12-08T11:22:59.701Z"
   },
   {
    "duration": 181,
    "start_time": "2022-12-08T11:22:59.710Z"
   },
   {
    "duration": 226,
    "start_time": "2022-12-08T11:22:59.893Z"
   },
   {
    "duration": 774,
    "start_time": "2022-12-08T11:23:00.121Z"
   },
   {
    "duration": 15599,
    "start_time": "2022-12-08T11:23:00.897Z"
   },
   {
    "duration": 4,
    "start_time": "2022-12-08T11:23:16.498Z"
   },
   {
    "duration": 377,
    "start_time": "2022-12-08T11:23:16.503Z"
   },
   {
    "duration": 130,
    "start_time": "2022-12-08T11:23:16.882Z"
   },
   {
    "duration": 766,
    "start_time": "2022-12-08T11:23:17.014Z"
   },
   {
    "duration": 41230,
    "start_time": "2022-12-08T11:23:17.782Z"
   },
   {
    "duration": 10,
    "start_time": "2022-12-08T11:23:59.014Z"
   },
   {
    "duration": 373,
    "start_time": "2022-12-08T11:23:59.026Z"
   },
   {
    "duration": 195,
    "start_time": "2022-12-08T11:23:59.401Z"
   },
   {
    "duration": 492,
    "start_time": "2022-12-08T11:23:59.598Z"
   },
   {
    "duration": 25099,
    "start_time": "2022-12-08T11:24:00.092Z"
   },
   {
    "duration": 44,
    "start_time": "2022-12-08T11:24:25.196Z"
   },
   {
    "duration": 639,
    "start_time": "2022-12-08T11:24:25.242Z"
   },
   {
    "duration": 144,
    "start_time": "2022-12-08T11:24:25.886Z"
   },
   {
    "duration": 1255,
    "start_time": "2022-12-08T11:24:26.032Z"
   },
   {
    "duration": 25239,
    "start_time": "2022-12-08T11:24:27.292Z"
   },
   {
    "duration": 124,
    "start_time": "2022-12-08T11:24:52.533Z"
   },
   {
    "duration": 157,
    "start_time": "2022-12-08T11:24:52.659Z"
   },
   {
    "duration": 35,
    "start_time": "2022-12-08T11:24:52.818Z"
   },
   {
    "duration": 88,
    "start_time": "2022-12-08T11:28:00.584Z"
   },
   {
    "duration": 2483,
    "start_time": "2022-12-08T11:34:38.837Z"
   },
   {
    "duration": 1332,
    "start_time": "2022-12-08T11:34:41.323Z"
   },
   {
    "duration": 77,
    "start_time": "2022-12-08T11:34:42.657Z"
   },
   {
    "duration": 18,
    "start_time": "2022-12-08T11:34:42.736Z"
   },
   {
    "duration": 14,
    "start_time": "2022-12-08T11:34:42.756Z"
   },
   {
    "duration": 1621,
    "start_time": "2022-12-08T11:34:42.772Z"
   },
   {
    "duration": 541,
    "start_time": "2022-12-08T11:34:44.399Z"
   },
   {
    "duration": 8,
    "start_time": "2022-12-08T11:34:44.942Z"
   },
   {
    "duration": 8,
    "start_time": "2022-12-08T11:34:44.952Z"
   },
   {
    "duration": 1180,
    "start_time": "2022-12-08T11:34:44.964Z"
   },
   {
    "duration": 9,
    "start_time": "2022-12-08T11:34:46.145Z"
   },
   {
    "duration": 34,
    "start_time": "2022-12-08T11:34:46.157Z"
   },
   {
    "duration": 7,
    "start_time": "2022-12-08T11:34:46.194Z"
   },
   {
    "duration": 18,
    "start_time": "2022-12-08T11:34:46.203Z"
   },
   {
    "duration": 5,
    "start_time": "2022-12-08T11:34:46.223Z"
   },
   {
    "duration": 25,
    "start_time": "2022-12-08T11:34:46.229Z"
   },
   {
    "duration": 4,
    "start_time": "2022-12-08T11:34:46.256Z"
   },
   {
    "duration": 32,
    "start_time": "2022-12-08T11:34:46.262Z"
   },
   {
    "duration": 11,
    "start_time": "2022-12-08T11:34:46.296Z"
   },
   {
    "duration": 11,
    "start_time": "2022-12-08T11:34:46.308Z"
   },
   {
    "duration": 53,
    "start_time": "2022-12-08T11:34:46.321Z"
   },
   {
    "duration": 27,
    "start_time": "2022-12-08T11:34:46.378Z"
   },
   {
    "duration": 10,
    "start_time": "2022-12-08T11:34:46.408Z"
   },
   {
    "duration": 18,
    "start_time": "2022-12-08T11:34:46.419Z"
   },
   {
    "duration": 54,
    "start_time": "2022-12-08T11:34:46.439Z"
   },
   {
    "duration": 4,
    "start_time": "2022-12-08T11:34:46.496Z"
   },
   {
    "duration": 7,
    "start_time": "2022-12-08T11:34:46.502Z"
   },
   {
    "duration": 25,
    "start_time": "2022-12-08T11:34:46.513Z"
   },
   {
    "duration": 254,
    "start_time": "2022-12-08T11:34:46.540Z"
   },
   {
    "duration": 186,
    "start_time": "2022-12-08T11:34:46.795Z"
   },
   {
    "duration": 860,
    "start_time": "2022-12-08T11:34:46.982Z"
   },
   {
    "duration": 16194,
    "start_time": "2022-12-08T11:34:47.844Z"
   },
   {
    "duration": 4,
    "start_time": "2022-12-08T11:35:04.041Z"
   },
   {
    "duration": 431,
    "start_time": "2022-12-08T11:35:04.047Z"
   },
   {
    "duration": 131,
    "start_time": "2022-12-08T11:35:04.482Z"
   },
   {
    "duration": 798,
    "start_time": "2022-12-08T11:35:04.615Z"
   },
   {
    "duration": 41749,
    "start_time": "2022-12-08T11:35:05.415Z"
   },
   {
    "duration": 22,
    "start_time": "2022-12-08T11:35:47.166Z"
   },
   {
    "duration": 199,
    "start_time": "2022-12-08T11:35:47.192Z"
   },
   {
    "duration": 124,
    "start_time": "2022-12-08T11:35:47.396Z"
   },
   {
    "duration": 443,
    "start_time": "2022-12-08T11:35:47.523Z"
   },
   {
    "duration": 25261,
    "start_time": "2022-12-08T11:35:47.968Z"
   },
   {
    "duration": 65,
    "start_time": "2022-12-08T11:36:13.231Z"
   },
   {
    "duration": 701,
    "start_time": "2022-12-08T11:36:13.298Z"
   },
   {
    "duration": 131,
    "start_time": "2022-12-08T11:36:14.003Z"
   },
   {
    "duration": 1307,
    "start_time": "2022-12-08T11:36:14.136Z"
   },
   {
    "duration": 25669,
    "start_time": "2022-12-08T11:36:15.445Z"
   },
   {
    "duration": 137,
    "start_time": "2022-12-08T11:36:41.116Z"
   },
   {
    "duration": 190,
    "start_time": "2022-12-08T11:36:41.256Z"
   },
   {
    "duration": 96,
    "start_time": "2022-12-08T11:36:41.447Z"
   },
   {
    "duration": 2694,
    "start_time": "2022-12-08T14:34:03.686Z"
   },
   {
    "duration": 1279,
    "start_time": "2022-12-08T14:34:06.383Z"
   },
   {
    "duration": 63,
    "start_time": "2022-12-08T14:34:07.664Z"
   },
   {
    "duration": 17,
    "start_time": "2022-12-08T14:34:07.729Z"
   },
   {
    "duration": 52,
    "start_time": "2022-12-08T14:34:07.748Z"
   },
   {
    "duration": 1427,
    "start_time": "2022-12-08T14:34:07.803Z"
   },
   {
    "duration": 510,
    "start_time": "2022-12-08T14:34:09.233Z"
   },
   {
    "duration": 7,
    "start_time": "2022-12-08T14:34:09.754Z"
   },
   {
    "duration": 11,
    "start_time": "2022-12-08T14:34:09.763Z"
   },
   {
    "duration": 1201,
    "start_time": "2022-12-08T14:34:09.777Z"
   },
   {
    "duration": 8,
    "start_time": "2022-12-08T14:34:10.980Z"
   },
   {
    "duration": 26,
    "start_time": "2022-12-08T14:34:10.990Z"
   },
   {
    "duration": 23,
    "start_time": "2022-12-08T14:34:11.018Z"
   },
   {
    "duration": 29,
    "start_time": "2022-12-08T14:34:11.043Z"
   },
   {
    "duration": 6,
    "start_time": "2022-12-08T14:34:11.074Z"
   },
   {
    "duration": 27,
    "start_time": "2022-12-08T14:34:11.082Z"
   },
   {
    "duration": 6,
    "start_time": "2022-12-08T14:34:11.111Z"
   },
   {
    "duration": 16,
    "start_time": "2022-12-08T14:34:11.119Z"
   },
   {
    "duration": 16,
    "start_time": "2022-12-08T14:34:11.137Z"
   },
   {
    "duration": 11,
    "start_time": "2022-12-08T14:34:11.156Z"
   },
   {
    "duration": 75,
    "start_time": "2022-12-08T14:34:11.170Z"
   },
   {
    "duration": 17,
    "start_time": "2022-12-08T14:34:11.246Z"
   },
   {
    "duration": 7,
    "start_time": "2022-12-08T14:34:11.265Z"
   },
   {
    "duration": 36,
    "start_time": "2022-12-08T14:34:11.273Z"
   },
   {
    "duration": 72,
    "start_time": "2022-12-08T14:34:11.311Z"
   },
   {
    "duration": 37,
    "start_time": "2022-12-08T14:34:11.385Z"
   },
   {
    "duration": 14,
    "start_time": "2022-12-08T14:34:11.425Z"
   },
   {
    "duration": 38,
    "start_time": "2022-12-08T14:34:11.443Z"
   },
   {
    "duration": 179,
    "start_time": "2022-12-08T14:34:11.482Z"
   },
   {
    "duration": 230,
    "start_time": "2022-12-08T14:34:11.663Z"
   },
   {
    "duration": 763,
    "start_time": "2022-12-08T14:34:11.895Z"
   },
   {
    "duration": 16495,
    "start_time": "2022-12-08T14:34:12.661Z"
   },
   {
    "duration": 4,
    "start_time": "2022-12-08T14:34:29.159Z"
   },
   {
    "duration": 201,
    "start_time": "2022-12-08T14:34:29.165Z"
   },
   {
    "duration": 219,
    "start_time": "2022-12-08T14:34:29.368Z"
   },
   {
    "duration": 788,
    "start_time": "2022-12-08T14:34:29.589Z"
   },
   {
    "duration": 42057,
    "start_time": "2022-12-08T14:34:30.380Z"
   },
   {
    "duration": 21,
    "start_time": "2022-12-08T14:35:12.438Z"
   },
   {
    "duration": 199,
    "start_time": "2022-12-08T14:35:12.461Z"
   },
   {
    "duration": 115,
    "start_time": "2022-12-08T14:35:12.663Z"
   },
   {
    "duration": 498,
    "start_time": "2022-12-08T14:35:12.780Z"
   },
   {
    "duration": 25023,
    "start_time": "2022-12-08T14:35:13.280Z"
   },
   {
    "duration": 36,
    "start_time": "2022-12-08T14:35:38.306Z"
   },
   {
    "duration": 700,
    "start_time": "2022-12-08T14:35:38.355Z"
   },
   {
    "duration": 153,
    "start_time": "2022-12-08T14:35:39.058Z"
   },
   {
    "duration": 1241,
    "start_time": "2022-12-08T14:35:39.213Z"
   },
   {
    "duration": 25801,
    "start_time": "2022-12-08T14:35:40.457Z"
   },
   {
    "duration": 127,
    "start_time": "2022-12-08T14:36:06.260Z"
   },
   {
    "duration": 170,
    "start_time": "2022-12-08T14:36:06.389Z"
   },
   {
    "duration": 81,
    "start_time": "2022-12-08T14:36:06.561Z"
   }
  ],
  "kernelspec": {
   "display_name": "Python 3 (ipykernel)",
   "language": "python",
   "name": "python3"
  },
  "language_info": {
   "codemirror_mode": {
    "name": "ipython",
    "version": 3
   },
   "file_extension": ".py",
   "mimetype": "text/x-python",
   "name": "python",
   "nbconvert_exporter": "python",
   "pygments_lexer": "ipython3",
   "version": "3.9.12"
  },
  "toc": {
   "base_numbering": 1,
   "nav_menu": {},
   "number_sections": true,
   "sideBar": true,
   "skip_h1_title": true,
   "title_cell": "Table of Contents",
   "title_sidebar": "Contents",
   "toc_cell": false,
   "toc_position": {},
   "toc_section_display": true,
   "toc_window_display": false
  }
 },
 "nbformat": 4,
 "nbformat_minor": 5
}
